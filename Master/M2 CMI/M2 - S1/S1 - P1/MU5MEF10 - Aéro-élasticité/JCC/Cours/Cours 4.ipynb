{
 "cells": [
  {
   "cell_type": "code",
   "execution_count": 1,
   "metadata": {},
   "outputs": [],
   "source": [
    "from IPython.display import HTML"
   ]
  },
  {
   "cell_type": "code",
   "execution_count": 2,
   "metadata": {},
   "outputs": [
    {
     "data": {
      "text/html": [
       "<script>\n",
       "code_show=true; \n",
       "function code_toggle() {\n",
       " if (code_show){\n",
       " $('div.input').hide();\n",
       " } else {\n",
       " $('div.input').show();\n",
       " }\n",
       " code_show = !code_show\n",
       "} \n",
       "$( document ).ready(code_toggle);\n",
       "</script>\n",
       "The raw code for this IPython notebook is by default hidden for easier reading.\n",
       "To toggle on/off the raw code, click <a href=\"javascript:code_toggle()\">here</a>."
      ],
      "text/plain": [
       "<IPython.core.display.HTML object>"
      ]
     },
     "execution_count": 2,
     "metadata": {},
     "output_type": "execute_result"
    }
   ],
   "source": [
    "HTML('''<script>\n",
    "code_show=true; \n",
    "function code_toggle() {\n",
    " if (code_show){\n",
    " $('div.input').hide();\n",
    " } else {\n",
    " $('div.input').show();\n",
    " }\n",
    " code_show = !code_show\n",
    "} \n",
    "$( document ).ready(code_toggle);\n",
    "</script>\n",
    "The raw code for this IPython notebook is by default hidden for easier reading.\n",
    "To toggle on/off the raw code, click <a href=\"javascript:code_toggle()\">here</a>.''')"
   ]
  },
  {
   "cell_type": "markdown",
   "metadata": {},
   "source": [
    "-------\n",
    "_Faculté des Sciences de Sorbonne Université & Arts et Métiers ParisTech: Master 2 SPI - Model and numerical simulation in aeroeslasticity_ (2021-2022)\n",
    "\n",
    "## Class Note 4: Theodorsen's unsteady aerodynamic operator\n",
    "\n",
    "The aim of this notebook is to present one of the most popular theory used to model **incompressible harmonic\n",
    "unsteady flows** due to PAPA motion, namely the **Theordorsen's potential solution**. \n",
    "\n",
    "------------------------\n",
    "\n",
    "_Jean-Camille Chassaing, Sorbonne Université , released 10. Oct.  2021 (v5b)_\n",
    "\n",
    "http://www.dalembert.upmc.fr/home/chassaing\n",
    "\n",
    "\n",
    "-------"
   ]
  },
  {
   "cell_type": "code",
   "execution_count": 3,
   "metadata": {},
   "outputs": [],
   "source": [
    "import numpy as np\n",
    "from IPython.display import Image\n",
    "from scipy.optimize  import fsolve\n",
    "from pylab           import *\n",
    "from scipy import special\n",
    "import matplotlib.pyplot as plt\n",
    "%matplotlib inline"
   ]
  },
  {
   "cell_type": "markdown",
   "metadata": {},
   "source": [
    "-------\n",
    "\n",
    "## Introduction - Framework\n",
    "\n",
    "$\\bullet$ As seen previously, considering steady aerodynamics $L(\\alpha,\\rho_\\infty,M_\\infty)$ in the flutter solution gives unacceptable results for efficient design of flutter margin.\n",
    "\n",
    "$\\bullet$ Therefore taking into account for inertial and  unsteady effects $L(\\alpha,\\dot\\alpha,\\ddot\\alpha,h,\\dot h,\\ddot h,\\rho_\\infty,M_\\infty)$\n",
    "is of crucial importance to accurately predict the flutter speed of lifting surface. \n",
    "\n",
    "$\\bullet$ However, obtaining an analytical solution of the aerodynamic forces acting on a wing performing an arbitrary movement is not an easy task.  \n",
    "\n",
    "$\\bullet$ One approach to raise this difficulty is to assume that unstable forces can be modeled by a **harmonic motion**."
   ]
  },
  {
   "cell_type": "markdown",
   "metadata": {},
   "source": [
    "## Problem statement\n",
    "\n",
    "Let us start from the dynamic equation of motion written using generalized coordinates without taking into account for structural viscous damping (see Class Note 3)\n",
    "$$  \\mathbf{M_S} \\ddot{\\mathbf{q}} + \\mathbf{K_S} \\mathbf{q} = \\mathbf{F_{aero}(\\ddot{\\mathbf{q}},\\dot{\\mathbf{q}},\\mathbf{q})}\n",
    "$$\n",
    "\n",
    "Now we considerer the particular case where the displacements of the elastically moving airfoil\n",
    "are  described by **harmonic oscillations**. Therefore, the generalised coordinates are defined by\n",
    "$$ \\mathbf q = \\mathbf{\\bar q} ~\\text {exp}(i\\omega t) $$\n",
    "\n",
    "with $\\omega$ the circular frequency of the aeroelastic motion, the aerodynamic forces will be sough in the following form (associated to coordinates behavior just above) \n",
    "$$ \\mathbf F_{aero} = \\mathbf{\\bar F_{aero}}  ~\\text {exp}(i\\omega t) \\qquad $$\n",
    "\n",
    "and the aeroelastic governing are expressed in the frequency domain as \n",
    "\n",
    "$$  \\left( -\\omega^2 \\mathbf{M_S} + \\mathbf{K_S} \\right) \\mathbf{\\bar q}(i\\omega) = \\mathbf{\\bar F_{aero}}(i\\omega)\n",
    "$$\n",
    "\n",
    "As seen in previous application notebooks the harmonic aerodynamic forces can be derived in the context of steady assumption but resulting in strong limitation in term of operating reduced frequency range. \n",
    "\n",
    "In the next section the fully **unsteady  PAPA operator** (**Faero and q not in phase**) from _T.T.  Theodorsen[3]_ is presented. This aerodynamic model is derived from the **potential** flow solution for harmonic motion of a flat plate and was intensivelly employed to compute the flutter determinant of practical PAPA configuration of interest."
   ]
  },
  {
   "cell_type": "markdown",
   "metadata": {},
   "source": [
    "## 1 Reduced frequency\n",
    "\n",
    "The reduced frequency $k$ is a non-dimensional parameter which compares the number of pulsation $\\omega$ \n",
    "of the structure during the time required by the airflow to travel accross the semi-chord $b$ \n",
    "$$ k = \\frac{\\omega b}{U_\\infty} $$\n",
    "\n",
    "* For steady flows: $k=0$.\n",
    "\n",
    "* As a consequence, changing the reduced frequency will directlly affect the unsteady lift and moment of a harmonically oscillating airfoil."
   ]
  },
  {
   "cell_type": "markdown",
   "metadata": {},
   "source": [
    "## 2 Theodorsen's unsteady flow operator"
   ]
  },
  {
   "cell_type": "markdown",
   "metadata": {},
   "source": [
    "### 2.1 Assumptions and  Theodorsen solution\n",
    "\n",
    "By extending the potential  theory to unsteady flows, Theodorsen [3] derived in 1935, an analytical expression for the aerodynamic forces acting on a **harmonically** oscillating **thin airfoil** with **small** amplitudes in an **incompressible** flow\n",
    "\n",
    "\n",
    "\\begin{eqnarray}\n",
    "    L(t) &=& \\underbrace{\\pi \\rho_\\infty b^2 (\\ddot h + U_\\infty \\dot \\alpha - a_hb \\ddot\\alpha)}_{L_{\\Gamma=0}: \\text {non-circulatory part}}\n",
    "                + \\underbrace{2\\pi \\rho_\\infty U_\\infty b C(k)\n",
    "            \\left[ \\dot h +U_\\infty \\alpha + b\\left( \\frac{1}{2}-a_h\\right)\\dot\\alpha \\right]}_{L_{\\Gamma\\ne 0}: \\text {circulatory part}}\n",
    "             \\\\\n",
    "    M_{A}(t) &=& -\\pi\\rho_\\infty b^3\n",
    "        \\left[ \\frac{1}{2} \\ddot h + U\n",
    "       \\dot \\alpha +b\\left( \\frac{1}{8} -\\frac{a_h}{2}\\right)\\ddot\\alpha\n",
    "        \\right]    \n",
    " \\end{eqnarray} \n",
    " \n",
    "with b the coord, we look for $U_{\\infty}$ at which flutter occurs, C(k) a commplex function depending on the reduced frequency (see above section). Then once given these parameters in addition to h, etc, one can solve the problem (L(t), Ma) at this forced movement.\n",
    " \n",
    "The expression for the lift is constructed as the solution of the **circulatory** term due to the **vorticity** in the flow plus a **non-circulatory** term corresponding to **added mass effects**.\n",
    "The later corresponds to the change in force and moment due to the acceleration of the displaced  mass of air due to the airfoil motion. The construction of the problem works as for problems with superposition : we superpose different flow to build a more complex (and more accurate) framework.\n",
    "\n",
    "In hindsight, one can look at the formula when steady (derivatives terms null) to get the value C(0) here. We check previous theory."
   ]
  },
  {
   "cell_type": "markdown",
   "metadata": {},
   "source": [
    "### 1.2.2 Governing equation and boundary conditions\n",
    "\n",
    "Equations (2) correspond to the mathematical solution of the following problem of fluid mechanics:\n",
    "\n",
    "Assuming $u=U_\\infty + u'$ and $u', w' << U_\\infty$, we seek the solution of the **Laplace** equation for the  **potential perturbation** $\\phi '$ (defined by $\\underline \\nabla \\phi '= \\vec u'$)\n",
    "$$ \\nabla^2 \\phi '=0$$ \n",
    "\n",
    "**with two boundary conditions :**\n",
    "\n",
    "**1) Impermeability** (or _slip condition_): the flow cannot cross the solid boundary \n",
    "\n",
    "The non-circulatory term $L_{\\Gamma=0}$  satisfies the boundary condition of the oscillating airfoil\n",
    "by distributing **sources** on the upper side of the airfoil and **sinks** on the lower size.\n",
    "This is achieved using **conformal transformation** of the flat plate into a circle in the complex plane.\n",
    "The strength of the source/sink distributions is defined by the  motion of the airfoil.\n",
    "\n",
    "The **instantaneous position** is obtained from geometrical considerations \n",
    " \\begin{eqnarray}   z_a(x,t) = -h -\\alpha (x-a_h b) ~~ \\Leftarrow ~~ \\underline{z}_a = -h\\underline{e}_2 + (x - a_h b(cos(\\alpha)\\underline{e}_1 - sin(\\alpha))\\underline{e}_2    \\end{eqnarray}\n",
    "\n",
    "Then, the **upwash velocity** of the airfoil $w_{a}$ reads \n",
    "\n",
    "\\begin{eqnarray}\n",
    "w_{a}(x,z=z_a,t) & = & \\left.\\frac{\\partial\\phi '}{\\partial t}\\right|_{z=z_a}~=~\\frac{\\partial z_{a}}{\\partial t}+U\n",
    " \\frac{\\partial z_{a}}{\\partial x} \\end{eqnarray}\n",
    " \n",
    "**2) Kutta condition**: The velocity at the trailing edge must be equal to zero.\n",
    "\n",
    "The circulatory term $L_{\\Gamma\\ne0}$ must satisfy the Kutta condition at the trailing edge.\n",
    "To this end, a bounded **vorticity** distribution is imposed on the wall surface and the **wake** is modeled usin a free vorticity distribution.\n",
    "\n",
    "**Pressure difference on the airfoil** : Use of the unsteady linearized Bernoulli  equations\n",
    "$$ \\Delta p'  = p_u' -p_l'= -2 \\rho_\\infty \\left( \\frac{\\partial \\phi '}{\\partial t} + U_\\infty \\frac{\\partial \\phi '}{\\partial x}  \\right) $$\n",
    "\n",
    "**Unsteady lift and moment:** \n",
    " \\begin{eqnarray}\n",
    " L(t) = 2b\\int_0^1 \\Delta p'(x) dx;~ M_{E}(t) = 4b^2 \\int_0^1 (x-x_{E}) \\Delta p'(x) dx\n",
    " \\end{eqnarray}"
   ]
  },
  {
   "cell_type": "markdown",
   "metadata": {},
   "source": [
    "### 2.3 Theodorsen lift deficiency function C(k)\n",
    "\n",
    "We remark the function $C(k)$ in the circulatory term of the lift $L_{\\Gamma\\ne0}$.\n",
    "This function is called the **lift deficiency function** (or circulatory function) and depends to the reduced frequency $k$ only.\n",
    "\n",
    "From a physical point of view, $C(k)$ models the changes in amplitude and phase of the quasi-steady forces according to the wake effects.\n",
    "\n",
    "\n",
    "\n",
    "The exact expression for $C(k)$, which is  a complex valued function, was established by Theodorsen as [3]\n",
    "\\begin{eqnarray} \n",
    "   C(k) = \\frac{H_1^{(2)}(k)}{H_1^{(2)}(k) + i H_0^{(2)}(k)}  = F + i G\\label{eq_Ck}  \n",
    " \\end{eqnarray}\n",
    "where $H_n^{(2)}(k)$ denotes  **Hankel function of second kind of order 2**, with $H_n^{(2)}(k) = J_n(k) - i Y_n(k)$ and $J_n(k)$ et $Y_n(k)$ are the **Bessel functions  of $1^{\\text{st}}$ and $2^{\\text{nd}}$ kind**\n",
    "respectively."
   ]
  },
  {
   "cell_type": "code",
   "execution_count": 4,
   "metadata": {},
   "outputs": [],
   "source": [
    "def Ctheo_exact(k):\n",
    "    \"\"\"Exact expression of the Theodorsen lift function [3]\"\"\"\n",
    "    ic  = np.csingle(1j)\n",
    "    J1  = special.j1(k)\n",
    "    J0  = special.j0(k)\n",
    "    Y1  = special.y1(k)\n",
    "    Y0  = special.y0(k)\n",
    "    C   = (J1-ic*Y1)/(J1-ic*Y1+ic*(J0-ic*Y0))\n",
    "    return C"
   ]
  },
  {
   "cell_type": "markdown",
   "metadata": {},
   "source": [
    "**Plot of the Theodorsen function**"
   ]
  },
  {
   "cell_type": "code",
   "execution_count": 5,
   "metadata": {},
   "outputs": [
    {
     "data": {
      "image/png": "[encoded data removed]",
      "text/plain": [
       "<Figure size 576x576 with 3 Axes>"
      ]
     },
     "metadata": {
      "needs_background": "light"
     },
     "output_type": "display_data"
    }
   ],
   "source": [
    "nsize = 100\n",
    "k_range = np.linspace(0.01, 3, num=nsize) # reduced frequcency\n",
    "\n",
    "y1 = np.zeros((nsize), dtype=complex)\n",
    "\n",
    "y1[:] = Ctheo_exact(k_range[:])\n",
    "\n",
    "fig1 = plt.figure(figsize=(8,8))\n",
    "plt.subplot(3, 1, 1)\n",
    "F_data = np.zeros((4), dtype=float)\n",
    "G_data = np.zeros((4), dtype=float)\n",
    "\n",
    "k_red  = np.array([0.004,  0.047, 0.157, 0.942])\n",
    "F_data [:]= np.real(Ctheo_exact(k_red[:]))\n",
    "G_data [:]= np.imag(Ctheo_exact(k_red[:]))\n",
    "\n",
    "#fig1 = plt.figure(figsize=(8,4))\n",
    "#plt.plot(np.real(y1[:]),np.imag(y1[:]) ,'r--',color=\"red\",label=\"Exact\")\n",
    "plt.scatter(F_data[:],G_data[:], marker='o', s=100, linewidths=0.5, c=k_red, cmap=plt.cm.coolwarm)\n",
    "\n",
    "txt0 = 'k='+str(k_red[0]); txt1 = 'k='+str(k_red[1]); txt2 = 'k='+str(k_red[2]); txt3 = 'k='+str(k_red[3])\n",
    "plt.annotate(txt0, xy=(F_data[0], G_data[0]), xytext=(F_data[0]-0.02, G_data[0]-0.015))\n",
    "plt.annotate(txt1, xy=(F_data[1], G_data[1]), xytext=(F_data[1]-0.02, G_data[1]-0.02))\n",
    "plt.annotate(txt2, xy=(F_data[2], G_data[2]), xytext=(F_data[2]-0.02, G_data[2]+0.01))\n",
    "plt.annotate(txt3, xy=(F_data[3], G_data[3]), xytext=(F_data[3]+0.01, G_data[3]+0.005))\n",
    "plt.plot(np.real(y1[:]),np.imag(y1[:]) ,'.',color=\"red\",label=\"Exact\")\n",
    "plt.xlabel('$F$')\n",
    "plt.ylabel('$G$')\n",
    "plt.title('Theodorsen Lift Deficiency function $C(k)$')\n",
    "plt.grid(True)\n",
    "plt.legend(loc=\"lower right\", frameon=True)\n",
    "\n",
    "plt.subplot(3, 1, 2)\n",
    "plt.scatter(k_red[:],F_data[:], marker='o', s=100, linewidths=0.5, c=k_red, cmap=plt.cm.coolwarm)\n",
    "plt.plot(k_range[:],np.real(y1[:]) ,'.',color=\"red\",label=\"Exact\")\n",
    "plt.xlabel('Reduced frequency $k$')\n",
    "plt.ylabel('$F$')\n",
    "plt.grid(True)\n",
    "plt.legend(loc=\"upper right\", frameon=True)\n",
    "\n",
    "plt.subplot(3, 1, 3)\n",
    "plt.scatter(k_red[:],G_data[:], marker='o', s=100, linewidths=0.5, c=k_red, cmap=plt.cm.coolwarm)\n",
    "plt.plot(k_range[:],np.imag(y1[:]) ,'.',color=\"red\",label=\"Exact\")\n",
    "# Alternative output\n",
    "#t = k_range\n",
    "#plt.scatter(k_range[:],np.imag(y1[:]),c=t, cmap='viridis',s=40, marker='.')\n",
    "#plt.colorbar()\n",
    "#plt.plot(k_range[:],np.imag(y1[:]) ,'-',color=\"black\",label=\"Exact\",alpha=0.5)\n",
    "plt.xlabel('Reduced frequency $k$')\n",
    "plt.ylabel('G')\n",
    "plt.grid(True)\n",
    "plt.legend(loc=\"lower right\", frameon=True)\n",
    "plt.tight_layout()\n",
    "\n",
    "plt.show()\n",
    "#fig1.savefig('./figures/Theo_func.png')\n",
    "#fig1.savefig('./figures/Theo_func.eps')\n",
    "#fig1.savefig('./figures/Theo_func.pdf')"
   ]
  },
  {
   "cell_type": "markdown",
   "metadata": {},
   "source": [
    "The lower k, the more stationnary we are, and the higher k, the more unsteady.\n",
    "\n",
    "We check :\n",
    "* at k = 0 : F=1 --> we get L(t) = steady = real value\n",
    "\n",
    "F = real part\n",
    "\n",
    "G = imaginary part (it stands for the de phasing Faero/q)"
   ]
  },
  {
   "cell_type": "markdown",
   "metadata": {},
   "source": [
    "$k < 0.05$ : we remain quasi-stationnary ($G\\approx 0$, $F\\approx 1$)"
   ]
  },
  {
   "cell_type": "markdown",
   "metadata": {},
   "source": [
    "**Question:** Comment the cases $C(k\\rightarrow 0)$ and $C(k\\rightarrow \\infty)$.\n"
   ]
  },
  {
   "cell_type": "markdown",
   "metadata": {},
   "source": [
    "### 2.4 Aerodynamic Moment\n",
    "\n",
    "The circulatory and non-circulatory terms for the aerodynamic moment about the elastic axis reads \n",
    "\n",
    "$$\\displaystyle M_{E}(t) =\n",
    "      \\overbrace{\\pi\\rho_\\infty b^2\n",
    "      \\left[ a_h b \\ddot h -U_\\infty b \\left(\\frac{1}{2}-a_h\\right) \\dot\\alpha\n",
    "            - b^2\\left( \\frac{1}{8} +a_h^2 \\right) \\ddot\\alpha \\right]}^{M_{\\Gamma=0}} \\\\\n",
    "            \\qquad +\\underbrace{2\\pi\\rho_\\infty U_\\infty b^2 \\left(\\frac{1}{2}+a_h\\right) C(k)\n",
    "           {\\left[\\dot h +U_\\infty \\alpha + b\\left( \\frac{1}{2}-a_h\\right)\\dot\\alpha\n",
    "          \\right]}}_{M_\\Gamma\\ne 0}  \\qquad (4)$$\n",
    "          \n",
    "_Tips_ : In Class Note 2, we have shown that the moments of aerodynamic forces about the aerodynamic center (A) and about the elastic center are related by $ M_E = M_{A} + b   \\left(   a_h + \\frac{1}{2} \\right) L $.\n",
    "Inserting the expressions of $L$ and $M_A$  given by Eqs. (6,7) leads to Eq. (14).\n",
    "\n",
    "The final non-dimensional expression of the generalized aerodynamics force can then be easily obtained using Eq. (6a) of Class Note 2: $$\\displaystyle \\mathbf{F_{aero}}(\\mathbf{q, \\dot{q}, \\ddot{q}}) = \\begin{bmatrix}  \\frac{-L}{mb} \\\\ \\frac{M_E}{mb^2} \\end{bmatrix}  $$"
   ]
  },
  {
   "cell_type": "markdown",
   "metadata": {},
   "source": [
    "## 2. Unsteady aerodynamic derivatives under harmonic motion\n",
    "\n",
    "Now we consider the particular case where the displacements of the elastically moving airfoil\n",
    "is  described by **harmonic oscillations**. Therefore, the generalised coordinates are defined by\n",
    "$$ \\mathbf q = \\mathbf{\\bar q} ~\\text {exp}(i\\omega t) $$\n",
    "\n",
    "with $\\omega$ the circular frequency of the aeroelastic motion, the aerodynamic forces will be sough in the following form \n",
    "$$ \\mathbf F_{aero} = \\mathbf{\\bar F_{aero}}  ~\\text {exp}(i\\omega t) $$\n",
    "\n",
    "We want to know these forces given displacement q ??\n",
    "\n",
    "\n",
    "### 2.1 Unsteady aerodynamic derivatives under harmonic motion\n",
    "\n",
    "Inserting the harmonic perturbation (Eq. 15) in the expression of $L(t)$ and $M_E(t)$ modeled by the Theodorsen theory  gives\n",
    "\n",
    "$$\\displaystyle \\mathbf{\\bar F_{aero}}(\\mathbf{\\bar q}) = \\begin{bmatrix}  \\frac{-\\bar L}{mb} \\\\ \\frac{\\bar M_E}{mb^2} \\end{bmatrix}  $$\n",
    "\n",
    "where the amplitudes $\\bar L(k)$ and $\\bar M_{E}(k)$ can we written under the general form\n",
    "\n",
    "\n",
    "\\begin{eqnarray}\n",
    "    \\bar L(k) &=& \\rho_\\infty  U_\\infty^2  b \\left[ \\left(\\mathcal L_\\xi + ik \\mathcal L_{\\dot \\xi} \\right) \\bar \\xi  \n",
    "     + \\left(\\mathcal L_\\alpha + ik \\mathcal L_{\\dot \\alpha} \\right) \\bar \\alpha \\right]   \\\\\n",
    "    \\bar M_E(k) &=& \\rho_\\infty  U_\\infty^2  b^2 \\left[ \\left(\\mathcal M_\\xi + ik \\mathcal M_{\\dot \\xi} \\right) \\bar \\xi  \n",
    "     + \\left(\\mathcal M_\\alpha + ik \\mathcal M_{\\dot \\alpha} \\right) \\bar \\alpha \\right]     \n",
    " \\end{eqnarray} \n",
    " \n",
    "The eight non-dimensional coefficients $\\mathcal L_{\\xi,\\dot \\xi,\\alpha,\\dot\\alpha}$ and $\\mathcal M_{\\xi,\\dot \\xi,\\alpha,\\dot\\alpha}$\n",
    " which are functions of the reduced frequency, $C(k)$ and $a_h$ are called the **harmonic aerodynamic derivatives** .\n",
    "These coefficients are obtained i) inserting Eq. (15) into Eqs (1) & (4) and ii) by identification with  Eq. (18-19) \n",
    "  \n",
    "\\begin{eqnarray}\n",
    " \\mathcal L_\\xi &=& -\\pi k \\left( k + 2G \\right),   \\qquad \\mathcal L_{\\dot \\xi} = 2\\pi F \\\\\n",
    "  \\mathcal L_\\alpha &=& \\pi \\left[ a_h k^2 + 2F  - k(1-2a_h)G \\right] \\\\\n",
    "  \\mathcal L_{\\dot \\alpha} &=& \\pi \\left[  1 + (1-2 a_h)F + 2G/k \\right]\\\\\n",
    "  \\mathcal M_\\xi       &=& -\\pi k \\left[k a_h + (2a_h+1)G \\right]   \\\\\n",
    "  \\mathcal M_{\\dot\\xi} & =& \\pi (1+2a_h)F     \\\\\n",
    "  \\mathcal M_\\alpha    &=& \\pi  \\left[  k^2 ( 1/8 +a_h^2) + (2a_h+1)F - k(1/2-2a_h^2)G \\right] \\\\\n",
    "  \\mathcal M_{\\dot\\alpha}    &=& \\pi  \\left[  (a_h-1/2) + F (1/2-2a_h^2) +  (2a_h+1) G/k\\right] \n",
    "\\end{eqnarray} \n"
   ]
  },
  {
   "cell_type": "markdown",
   "metadata": {},
   "source": [
    "Finally, the expression of the time-harmonic aerodynamic forces derived from the Therodosen's unsteady potentiel flow theory take the following matricial form \n",
    "\n",
    "$$ \\displaystyle \\mathbf{\\bar F_{aero}}(k) = \\omega^2  \\underbrace{ \\left[ \\mathbf{ K_{theo}}(k) + ik \\mathbf{D_{theo}}(k)\\right]  }_{\\mathbf{ A_{theo}}(k)}   \\mathbf{\\bar q}$$ \n",
    "\n",
    "where the unsteady aerodynamic derivatives are described by matrices $\\mathbf{ K_{theo}} \\in  \\mathbb R^{2\\times2}$\n",
    "and $\\mathbf{ D_{theo}} \\in  \\mathbb R^{2\\times2}$ whose expressions are directly obtained by inserting Eq. (18) in Eq. (17) and noting that $\\rho_\\infty U_\\infty^2/m = \\omega^2/(\\pi\\mu k^2)$ :"
   ]
  },
  {
   "cell_type": "markdown",
   "metadata": {},
   "source": [
    "$$\\displaystyle \n",
    "\\mathbf{K_{theo}}(k) = \\frac{1}{\\pi \\mu k^2}\n",
    " \\left[\n",
    " \\begin{matrix}\n",
    "         -\\mathcal{L}_{\\xi}  &   -\\mathcal{L}_{\\alpha} \\\\\n",
    "          \\mathcal{M}_{\\xi}  &    \\mathcal{M}_{\\alpha}  \\\\\n",
    "       \\end{matrix}\n",
    "      \\right]     \n",
    " \\text {and  }  \\quad \n",
    " \\mathbf{D_{theo}}(k) = \\frac{1}{\\pi \\mu k^2}\n",
    " \\left[\n",
    " \\begin{matrix}\n",
    "         -\\mathcal{L}_{\\dot \\xi}  &   -\\mathcal{L}_{\\dot \\alpha} \\\\\n",
    "          \\mathcal{M}_{\\dot \\xi}  &    \\mathcal{M}_{\\dot \\alpha}  \\\\\n",
    "       \\end{matrix}\n",
    "      \\right]  \n",
    "$$\n",
    "\n",
    "**Routine implementing the Theodorsen's function**"
   ]
  },
  {
   "cell_type": "code",
   "execution_count": 6,
   "metadata": {},
   "outputs": [],
   "source": [
    "def unsteady_aerodynamic_freq_Theodorsen_nbCN04 (k, mu, a_h):\n",
    "    \"\"\"Return the 2DOF PAPA Aerodynamic matrix A in the frequency-domain\n",
    "       {\\bar F_aero} = [A]{\\bar q} for the Theodorsen's operator.\n",
    "       The Unsteady derivatives are fully derived in the Aeroelasticity class note\n",
    "       See python notebook ClassNote04_Theodorsen_v4_2020a.ipynb (Eq. 13-20)\n",
    "       status: validated\n",
    "    \"\"\"     \n",
    "    ic  = np.csingle(1j)\n",
    "    L_h = np.single() ; L_hd = np.single()\n",
    "    L_a = np.single() ; L_ad = np.single() \n",
    "    M_h = np.single() ; M_hd = np.single() \n",
    "    M_a = np.single() ; M_ad = np.single() \n",
    "    \n",
    "    # get the Theodorsen function\n",
    "    C   = Ctheo_exact(k); F   = np.real(C); G   = np.imag(C)\n",
    "\n",
    "    # Compute the unsteady derivatives (see Eq. 16-18)\n",
    "    L_h  = -np.pi*k*(k+2*G)  \n",
    "    L_hd = 2.*np.pi*F\n",
    "    L_a  = np.pi*(a_h*k**2 + 2.*F  - k*(1.-2.*a_h)*G) \n",
    "    L_ad = np.pi*(1. + (1.-2.*a_h)*F + 2.*G/k)\n",
    "    M_h  = -np.pi* k *(k*a_h + (2.*a_h+1.)*G)\n",
    "    M_hd = np.pi*(1.+2.*a_h)*F \n",
    "    M_a  = np.pi* (k**2 *( 1./8. +a_h**2) + (2.*a_h+1.)*F - k*(0.5-2.*a_h**2)*G )    \n",
    "    M_ad = np.pi*( (a_h-0.5) + F*(0.5-2.*a_h**2) +  (2.*a_h+1.)*G/k)   \n",
    "    \n",
    "    coef = 1./k**2/np.pi/mu\n",
    "    # Compute the unsteady derivatives (see Eq. 20)           \n",
    "    aero_matrix = coef* np.array([[-(L_h + ic*k*L_hd) , -(L_a + ic*k*L_ad)  ], \\\n",
    "                                 [   M_h + ic*k*M_hd  ,   M_a + ic*k*M_ad   ]])\n",
    " \n",
    "    return aero_matrix"
   ]
  },
  {
   "cell_type": "markdown",
   "metadata": {},
   "source": [
    "Plot the Theodorsen's aerodynamic derivatives as a function of the reduced frequency."
   ]
  },
  {
   "cell_type": "code",
   "execution_count": 7,
   "metadata": {},
   "outputs": [
    {
     "data": {
      "image/png": "[encoded data removed]",
      "text/plain": [
       "<Figure size 1152x288 with 5 Axes>"
      ]
     },
     "metadata": {
      "needs_background": "light"
     },
     "output_type": "display_data"
    }
   ],
   "source": [
    "# Show the flutter derivatives for PAPA problem with Theodorsen's Aerodynamics\n",
    "#  \n",
    "nmax    = 5000; \n",
    "krange  = 1000;\n",
    "nsteps = np.linspace(1, nmax, num=nmax)\n",
    "mu  = 100.\n",
    "a_h = -0.4   # defaul vlue of -0.5 gives purely imaginary flutter derivatives for the Aerodynamic Moment.\n",
    "\n",
    "# Allocate the arrays\n",
    "A11 = np.zeros((nmax), dtype=complex)\n",
    "A12 = np.zeros((nmax), dtype=complex)\n",
    "A21 = np.zeros((nmax), dtype=complex)\n",
    "A22 = np.zeros((nmax), dtype=complex)\n",
    "k_red = np.zeros((nmax), dtype=float)\n",
    "\n",
    "for idx, val in enumerate(nsteps):   \n",
    "    k = val/krange\n",
    "    k_red   [idx] = k\n",
    "    aero_matrix  = unsteady_aerodynamic_freq_Theodorsen_nbCN04 (k, mu, a_h)    \n",
    "    A11 [idx]= aero_matrix[0,0]\n",
    "    A12 [idx]= aero_matrix[0,1]\n",
    "    A21 [idx]= aero_matrix[1,0]\n",
    "    A22 [idx]= aero_matrix[1,1]\n",
    "\n",
    "fig1=plt.figure(figsize=(16,4))\n",
    "plt.subplot(1, 4, 1)\n",
    "plt.title('Aero_Theo[1,1]')\n",
    "plt.plot(np.real(A11[:]),np.imag(A11[:]) ,'-',alpha=0.3)\n",
    "#\n",
    "t = k_red\n",
    "plt.scatter(np.real(A11[:]),np.imag(A11[:]) ,c=t, cmap='viridis',s=40, marker='.')\n",
    "#k_range[:],np.imag(y1[:]) ,'-',color=\"black\",label=\"Exact\",alpha=0.5)\n",
    "#\n",
    "plt.xlabel('Real part')\n",
    "plt.ylabel('Imaginary part')\n",
    "plt.grid(True)\n",
    "#plt.axis([0, 8, -1.2, 1.2])\n",
    "\n",
    "plt.subplot(1,4,2)\n",
    "plt.title('Aero_Theo[1,2]')\n",
    "#plt.axis([0, 8, 0, 1.2])  \n",
    "plt.plot(np.real(A12[:]),np.imag(A12[:]) ,'-',alpha=0.3)\n",
    "plt.scatter(np.real(A12[:]),np.imag(A12[:]) ,c=t, cmap='viridis',s=40, marker='.')\n",
    "plt.xlabel('Real part')\n",
    "#plt.ylabel('Imaginary part')\n",
    "plt.grid(True)\n",
    "\n",
    "plt.subplot(1, 4, 3)\n",
    "plt.title('Aero_Theo[2,1]')\n",
    "plt.plot(np.real(A21[:]),np.imag(A21[:]) ,'-',alpha=0.3)\n",
    "plt.scatter(np.real(A21[:]),np.imag(A21[:]) ,c=t, cmap='viridis',s=40, marker='.')\n",
    "#plt.plot(speed[1,:],damping[1,:] ,'-')\n",
    "plt.xlabel('Real part')\n",
    "#plt.ylabel('Imaginary part')\n",
    "plt.grid(True)\n",
    "#plt.axis([0, 8, -1.2, 1.2])\n",
    "\n",
    "plt.subplot(1,4,4)\n",
    "#plt.axis([0, 8, 0, 1.2])  \n",
    "plt.title('Aero_Theo[2,2]')\n",
    "plt.plot(np.real(A22[:]),np.imag(A22[:]) ,'-',alpha=0.3)\n",
    "plt.scatter(np.real(A22[:]),np.imag(A22[:]) ,c=t, cmap='viridis',s=40, marker='.')\n",
    "plt.xlabel('Real part')\n",
    "plt.colorbar()\n",
    "plt.grid(True)"
   ]
  },
  {
   "cell_type": "markdown",
   "metadata": {},
   "source": [
    "###   2.2 Time-domain solution \n",
    "\n"
   ]
  },
  {
   "cell_type": "markdown",
   "metadata": {},
   "source": [
    "**Set the harmonic forced motion of the airfoil**\n"
   ]
  },
  {
   "cell_type": "code",
   "execution_count": 8,
   "metadata": {},
   "outputs": [],
   "source": [
    "t_max = 20\n",
    "t_min = 0\n",
    "nbrun = 1000\n",
    "freq  = 0.15 # Hz\n",
    "b     = 0.5  # m\n",
    "omega = 2.*np.pi*freq\n",
    "time  = np.linspace(t_min, t_max, num=nbrun)\n",
    "\n",
    "q1_bar= 0.1              # amplitude of xi=h/b (dimensionless)\n",
    "q2_bar= 0.5/180*np.pi    # amplitude of alpha (rad)\n",
    "\n",
    "rho   = 1.1\n",
    "a1    = np.pi*rho*b**2\n",
    "a_h   = 0.1            "
   ]
  },
  {
   "cell_type": "code",
   "execution_count": 9,
   "metadata": {},
   "outputs": [],
   "source": [
    "def Compute_Faero_Theodorsen(q1_bar, q2_bar,a_h,rho,U,b):\n",
    "    \n",
    "    \"\"\"...\"\"\"\n",
    "    \n",
    "    ic    = np.csingle(1j)\n",
    "    L     = np.zeros((nbrun), dtype=float)   \n",
    "    times = time*b/U\n",
    "    \n",
    "    k     = omega*b/U    \n",
    "    for idx, t in enumerate(time):\n",
    "        qh    = q1_bar * np.exp(ic*omega*t)\n",
    "        qa    = q2_bar * np.exp(ic*omega*t)\n",
    "        dqh   = ic*omega*qh\n",
    "        dqa   = ic*omega*qa\n",
    "        ddqh  = ic*omega*dqh\n",
    "        ddqa  = ic*omega*dqa\n",
    "        L_nc  = a1*(ddqh+U*dqa-a_h*b*ddqa) \n",
    "        L_cr  = 2*np.pi*rho*U*b*Ctheo_exact(k)*(qh + U*qa + b*(0.5-a_h)*dqa) \n",
    "        L     [idx] = np.real(L_nc + L_cr)\n",
    "\n",
    "    return L, times"
   ]
  },
  {
   "cell_type": "code",
   "execution_count": 21,
   "metadata": {},
   "outputs": [
    {
     "data": {
      "text/plain": [
       "<matplotlib.legend.Legend at 0x257016907c0>"
      ]
     },
     "execution_count": 21,
     "metadata": {},
     "output_type": "execute_result"
    },
    {
     "data": {
      "image/png": "[encoded data removed]",
      "text/plain": [
       "<Figure size 576x288 with 1 Axes>"
      ]
     },
     "metadata": {
      "needs_background": "light"
     },
     "output_type": "display_data"
    }
   ],
   "source": [
    "U1=100.\n",
    "U2=10.\n",
    "U3=3.\n",
    "U4=0.6\n",
    "\n",
    "L1,times=Compute_Faero_Theodorsen (q1_bar,q2_bar,a_h,rho,U1,b)\n",
    "L2,times=Compute_Faero_Theodorsen (q1_bar,q2_bar,a_h,rho,U2,b)\n",
    "L3,times=Compute_Faero_Theodorsen (q1_bar,q2_bar,a_h,rho,U3,b)\n",
    "L4,times=Compute_Faero_Theodorsen (q1_bar,q2_bar,a_h,rho,U4,b)\n",
    "\n",
    "fig1 = plt.figure(figsize=(8,4))\n",
    "  \n",
    "plt.plot(times, L1/(0.5*rho*U1**2), '-', color=\"red\"   , label=\"$U_\\infty$={0:.1f}\".format(U1))\n",
    "plt.plot(times, L2/(0.5*rho*U2**2), '-', color=\"blue\"  , label=\"$U_\\infty$={0:.1f}\".format(U2))\n",
    "plt.plot(times, L3/(0.5*rho*U3**2), '-', color=\"purple\", label=\"$U_\\infty$={0:.1f}\".format(U3))\n",
    "plt.plot(times, L4/(0.5*rho*U4**2), '-', color=\"green\" , label=\"$U_\\infty$={0:.1f}\".format(U4))\n",
    "    \n",
    "plt.xlabel(r'non-dimensional time $t^*=bt/U_\\infty$')\n",
    "plt.ylabel(r'$C_L=L/q_\\infty$')\n",
    "plt.title(\"Theodorsen's Lift coefficient for k={0:.3f}\".format(k))\n",
    "plt.grid(True)\n",
    "plt.legend(loc=\"lower right\", frameon=True)"
   ]
  },
  {
   "cell_type": "markdown",
   "metadata": {},
   "source": [
    "### 2.3 Solution of the flutter determinant\n",
    "\n",
    "\n",
    "Now, the solution of the PAPA configurations studied using the p_method with steady aerodynamics in the previous notebook can be revisited using the fully unsteady aerodynamic operator from Therodorsen.\n",
    "\n",
    "The numerical implementation is straightfoward and it is left as an exercise."
   ]
  },
  {
   "cell_type": "markdown",
   "metadata": {},
   "source": [
    "\n",
    "---------------------------------------------------------"
   ]
  },
  {
   "cell_type": "markdown",
   "metadata": {},
   "source": [
    "## 2.4 To go further\n",
    "\n",
    "\n",
    "Compare the Quasi-Steady aerodynamic therory versus the Theodorsen's theory.\n",
    "\n",
    "\n",
    "The aerodynamic derivatives under the quasi-steady flow assumption can be derived from Eqs. (20-22) by considering $k\\rightarrow 0$ \n",
    "\n",
    "\\begin{eqnarray}\n",
    " \\mathcal L_\\xi &=& 0,   \\qquad \n",
    " \\mathcal L_{\\dot \\xi} = 2\\pi, \\qquad\n",
    " \\mathcal L_\\alpha &=& 2 \\pi , \\qquad\n",
    " \\mathcal M_\\xi       &=& 0,   \\qquad\n",
    " \\mathcal M_{\\dot\\xi} &=& \\pi (1+2a_h),   \\qquad\n",
    " \\mathcal M_\\alpha    &=& \\pi (2a_h+1)\n",
    "\\end{eqnarray} \n",
    "\n",
    "\n",
    "Note that $M_{\\dot\\xi}$ and $L_{\\dot \\alpha}$ become singular but $k L_{\\dot \\alpha} \\rightarrow 0$ and $k M_{\\dot\\alpha}\\rightarrow 0$."
   ]
  },
  {
   "cell_type": "markdown",
   "metadata": {},
   "source": [
    "#### References"
   ]
  },
  {
   "cell_type": "markdown",
   "metadata": {},
   "source": [
    "[1] D.H. Hodges, G. A. Pierce, \"Introduction to Structural Dynamics and Aeroelasticity \", Cambridge Aerospace series, \n",
    "ISBN 0-521-80698-4, 2002\n",
    "\n",
    "[2] D.A. Peters, S. Karunamoorthy, W.-M. Cao, “Finite State Induced Flow Models; Part I: Two-Dimensional Thin Airfoil,” Journal of Aircraft, Vol. 32, No. 2, Mar.-Apr. 1995, pp. 313–322.\n",
    "\n",
    "[3] T. T. Theodorsen, \"General Theory of Aerodynamic Instability and the Mechanism of Flutter\", NACA TR 496, 1934.\n",
    "\n",
    "[4] H.J. Hassig, “An Approximate True Damping Solution of the Flutter Equation by Determinant Iteration,” Journal of Aircraft, Vol. 8, No. 11, Nov. 1971, pp. 885 – 889.\n",
    "\n",
    "[5] E.H. Dowell, E.F. Crawley, H.C. Curtiss, Jr., D.A. Peters, R.H. Scanlan and F. Sisto, A Modern Course in Aeroelasticity, 3rd ed., Kluwer Academic Publishers, 1995.\n",
    "\n",
    "[6] R.L. Bisplinghoff, H. Ashley and R.L. Halfman, Aeroelasticity, Addison-Wesley Publishing Co., Inc., 1955."
   ]
  },
  {
   "cell_type": "markdown",
   "metadata": {},
   "source": [
    "**Home work:** \n",
    "\n",
    "* Show that  \n",
    " \\begin{eqnarray}   w_a(x,t) = -\\dot h -\\dot \\alpha (x-a_h b) - U_\\infty \\alpha   \\end{eqnarray}"
   ]
  },
  {
   "cell_type": "code",
   "execution_count": 11,
   "metadata": {},
   "outputs": [],
   "source": [
    "def unsteady_aerodynamic_freq_Theodorsen (k, mu, a_h):\n",
    "    \"\"\"adapted from matlab code Vg_solver_ktest_Lee_JSV_2005.m; please re-demonstrate the equations\n",
    "    \"\"\"  \n",
    "    #    \n",
    "    ic  = np.csingle(1j)\n",
    "    L_h = np.csingle() \n",
    "    L_a = np.csingle() \n",
    "    M_h = np.csingle() \n",
    "    M_a = np.csingle() \n",
    "    \n",
    "    #print (k, mu, a_h)\n",
    "    C   = Ctheo_exact(k)\n",
    "\n",
    "    L_h = 1.-2.*ic*C/k;\n",
    "    L_a = 0.5-ic*(1.+2.*C)/k-2.*C/k**2;\n",
    "    M_h = 0.5;\n",
    "    M_a = 3./8.-ic/k;\n",
    " \n",
    "    aero_matrix = np.array([[L_h/mu, (L_a-(0.5+a_h)*L_h)/mu], \\\n",
    "                            [(M_h-(0.5+a_h)*L_h)/mu,  (M_a-(0.5+a_h)*(L_a+M_h)+L_h*(0.5+a_h)**2)/mu]])\n",
    "\n",
    "    return aero_matrix"
   ]
  },
  {
   "cell_type": "code",
   "execution_count": null,
   "metadata": {},
   "outputs": [],
   "source": []
  }
 ],
 "metadata": {
  "kernelspec": {
   "display_name": "Python 3",
   "language": "python",
   "name": "python3"
  },
  "language_info": {
   "codemirror_mode": {
    "name": "ipython",
    "version": 3
   },
   "file_extension": ".py",
   "mimetype": "text/x-python",
   "name": "python",
   "nbconvert_exporter": "python",
   "pygments_lexer": "ipython3",
   "version": "3.8.8"
  },
  "latex_envs": {
   "LaTeX_envs_menu_present": true,
   "autoclose": false,
   "autocomplete": true,
   "bibliofile": "biblio.bib",
   "cite_by": "apalike",
   "current_citInitial": 1,
   "eqLabelWithNumbers": true,
   "eqNumInitial": 1,
   "hotkeys": {
    "equation": "Ctrl-E",
    "itemize": "Ctrl-I"
   },
   "labels_anchors": false,
   "latex_user_defs": false,
   "report_style_numbering": false,
   "user_envs_cfg": false
  }
 },
 "nbformat": 4,
 "nbformat_minor": 2
}
