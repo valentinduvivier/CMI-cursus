{
 "cells": [
  {
   "cell_type": "markdown",
   "metadata": {},
   "source": [
    "# Implementation of the Newmark-β time-stepping\n",
    "\n",
    "In this notebook, we present an  implementation of the Newmark-β time-stepping technique, see also [Jérémy Bleyer's code](https://comet-fenics.readthedocs.io/en/latest/demo/elastodynamics/demo_elastodynamics.py.html). We adopt here an approach that is more “matrix-oriented”: `FEniCS` is used to assemble the matrices of the problem, discretized in space. Once these matrices are assembled, we write the various linear algebra operations in a detailed manner. \n",
    "\n",
    "We consider a cantilever beam of size `Lx × Ly` (2D, plane stress), fixed at its `x = 0` end, and subjected to a transversal load at `x = Lx` as in the precedent class session. \n",
    "\n",
    "Introduction and elastodynamics equation\n",
    "----------------------------------------\n",
    "\n",
    "The elastodynamics equation combine the balance of linear momentum:\n",
    "\n",
    "$$\\nabla \\cdot \\sigma + \\rho b = \\rho \\ddot{u}$$\n",
    "\n",
    "where $u$ is the displacement vector field,\n",
    "$\\ddot{u}=\\partial^2 u/\\partial t^2$ is the acceleration, $\\rho$ the\n",
    "material density, $b$ a given body force and $\\sigma$ the stress tensor\n",
    "which is related to the displacement through a constitutive equation. In\n",
    "the case of isotropic linearized elasticity, one has:\n",
    "\n",
    "$$\\sigma =\\lambda \\text{tr}(\\varepsilon)\\mathbb{1} + 2\\mu\\varepsilon$$\n",
    "\n",
    "where $\\varepsilon = (\\nabla u + (\\nabla u)^T)/2$ is the linearized\n",
    "strain tensor, $\\mathbb{1}$ is the identity of second-rank tensors and\n",
    "$\\lambda=\\dfrac{E\\nu}{(1+\\nu)(1-2\\nu)},\\mu=\\dfrac{E}{2(1+\\nu)}$ are the\n",
    "Lame coefficients given as functions of the Young modulus $E$ and the\n",
    "Poisson ratio $\\nu$.\n",
    "\n",
    "The weak form is readily obtained by integrating by part the balance\n",
    "equation using a test function $v\\in V$ with $V$ being a suitable\n",
    "function space that satisfies the displacement boundary conditions:\n",
    "\n",
    "$$\\int_{\\Omega} \\rho \\ddot{u}\\cdot v \\, {\\rm d} x + \\int_{\\Omega} \\sigma(u):\\varepsilon(v) \\, {\\rm d} x =\n",
    "\\int_{\\Omega} \\rho b \\cdot v  \\, {\\rm d} x \n",
    "+ \\int_{\\partial\\Omega} (\\sigma\\cdot n) \\cdot v \\, {\\rm d} s \\quad \\text{for all } v \\in V\n",
    "$$\n",
    "\n",
    "The previous equation can be written as follows:\n",
    "\n",
    "$$\n",
    "\\text{Find }u\\in V\\text{ such that } m(\\ddot{u},v) + k(u,v) = L(v) \\quad \\text{for all } v\\in V\n",
    "$$\n",
    "\n",
    "where $m$ is the symmetric bilinear form associated with the mass matrix\n",
    "and $k$ the one associated with the stiffness matrix.\n",
    "\n",
    "After introducing the finite element space interpolation, one obtains\n",
    "the corresponding discretized evolution equation:\n",
    "\n",
    "$$\\text{Find }\\{u\\}\\in\\mathbb{R}^n\\text{ such that } \\{v\\}^T[M]\\{\\ddot{u}\\} + \\{v\\}^T[K]\\{u\\} = \\{v\\}^T\\{F\\} \\quad \\text{for all } \\{v\\}\\in\\mathbb{R}^n$$\n",
    "\n",
    "which is a generalized $n$-dof harmonic oscillator equation. Note that only linear problems are considered in this notebook but the method presented below can also be used to solve nonlinear problems.\n",
    "\n",
    "Quite often in structural dynamics, structures do not oscillate\n",
    "perfectly but lose energy through various dissipative mechanisms\n",
    "(friction with air or supports, internal dissipation through plasticity,\n",
    "damage, etc.). Dissipative terms can be introduced at the level of the\n",
    "constitutive equation if these mechanisms are well known but quite often\n",
    "it is not the case. Dissipation can then be modeled by adding an *ad\n",
    "hoc* damping term depending on the structure velocity $\\dot{u}$ to the\n",
    "previous evolution equation:\n",
    "\n",
    "$$\\text{Find }u\\in V\\text{ such that } m(\\ddot{u},v) + c(\\dot{u},v) + k(u,v) = L(v) \\quad \\text{for all } v\\in V$$\n",
    "\n",
    "The damping form will be considered here as bilinear and symmetric,\n",
    "being therefore associated with a damping matrix $[C]$.\n",
    "\n",
    "### Rayleigh damping\n",
    "\n",
    "When little is known about the origin of damping in the structure, a\n",
    "popular choice for the damping matrix, known as *Rayleigh damping*,\n",
    "consists in using a linear combination of the mass and stiffness matrix\n",
    "$[C] = \\eta_M[M]+\\eta_K[K]$ with two positive parameters $\\eta_M,\\eta_K$\n",
    "which can be fitted against experimental measures for instance (usually\n",
    "by measuring the damping ratio of two natural modes of vibration).\n"
   ]
  },
  {
   "cell_type": "code",
   "execution_count": 1,
   "metadata": {},
   "outputs": [],
   "source": [
    "import dolfin\n",
    "import os\n",
    "import numpy as np\n",
    "import matplotlib.pyplot as plt\n",
    "import time\n",
    "dolfin.parameters[\"form_compiler\"][\"cpp_optimize\"] = True\n",
    "dolfin.parameters[\"form_compiler\"][\"optimize\"] = True"
   ]
  },
  {
   "cell_type": "markdown",
   "metadata": {},
   "source": [
    "## Parameters of the simulation"
   ]
  },
  {
   "cell_type": "markdown",
   "metadata": {},
   "source": [
    "### Geometry"
   ]
  },
  {
   "cell_type": "code",
   "execution_count": 2,
   "metadata": {},
   "outputs": [],
   "source": [
    "Lx = 1.0\n",
    "Ly = 0.1\n",
    "Ny = 4 # Number of elements in the y-direction"
   ]
  },
  {
   "cell_type": "markdown",
   "metadata": {},
   "source": [
    "### Material parameters"
   ]
  },
  {
   "cell_type": "code",
   "execution_count": 3,
   "metadata": {},
   "outputs": [],
   "source": [
    "E  = 1000.\n",
    "nu = 0.3\n",
    "rho   = dolfin.Constant(1.)\n",
    "eta_m = dolfin.Constant(0.)\n",
    "eta_k = dolfin.Constant(0.)"
   ]
  },
  {
   "cell_type": "markdown",
   "metadata": {},
   "source": [
    "### Loading parameters"
   ]
  },
  {
   "cell_type": "markdown",
   "metadata": {},
   "source": [
    "A time-dependent traction is applied at the $x = L_x$ face as follows\n",
    "\\begin{equation}\n",
    "\\vec T = \\begin{cases}\n",
    "\\displaystyle\\frac{t}{t_{\\mathrm{c}}}\\vec T_{\\mathrm{max}} & t \\leq t_{\\mathrm{c}}\\\\[.2em]\n",
    "\\vec 0 & t > t_{\\mathrm{c}}\n",
    "\\end{cases}\n",
    "\\end{equation}\n",
    "where $t_{\\mathrm{c}}$ is a “cut-off” time. Note that depending on the direction of the applied traction, we will need to select different values for `t_c` and `T_max`."
   ]
  },
  {
   "cell_type": "code",
   "execution_count": 4,
   "metadata": {},
   "outputs": [],
   "source": [
    "t_c   = 0.1\n",
    "T_max = 1\n",
    "traction = dolfin.Expression((0, \"t <= t_c ? T_max*t/t_c : 0\"), t=0, t_c=t_c, T_max=T_max, degree=0)"
   ]
  },
  {
   "cell_type": "code",
   "execution_count": 5,
   "metadata": {},
   "outputs": [],
   "source": [
    "t_end     =   4. # End of simulation\n",
    "num_steps = 100  # Total number of steps\n",
    "dt = t_end/num_steps"
   ]
  },
  {
   "cell_type": "markdown",
   "metadata": {},
   "source": [
    "## Mesh generation"
   ]
  },
  {
   "cell_type": "code",
   "execution_count": 6,
   "metadata": {},
   "outputs": [
    {
     "data": {
      "text/plain": [
       "[<matplotlib.lines.Line2D at 0x7f388b1a0908>,\n",
       " <matplotlib.lines.Line2D at 0x7f388b1a0cc0>]"
      ]
     },
     "execution_count": 6,
     "metadata": {},
     "output_type": "execute_result"
    },
    {
     "data": {
      "image/png": "[encoded data removed]",
      "text/plain": [
       "<Figure size 432x288 with 1 Axes>"
      ]
     },
     "metadata": {
      "needs_background": "light"
     },
     "output_type": "display_data"
    }
   ],
   "source": [
    "p1 = dolfin.Point(0., 0.)\n",
    "p2 = dolfin.Point(Lx, Ly)\n",
    "\n",
    "Nx   = int(Ny*Lx/Ly) # have good proportionality between Nx and Ny\n",
    "mesh = dolfin.RectangleMesh(p1, p2, Nx, Ny)\n",
    "dolfin.plot(mesh)"
   ]
  },
  {
   "cell_type": "code",
   "execution_count": 7,
   "metadata": {},
   "outputs": [],
   "source": [
    "left   = dolfin.CompiledSubDomain(\"on_boundary && near(x[0], 0)\")\n",
    "right  = dolfin.CompiledSubDomain(\"on_boundary && near(x[0], L)\", L=p2.x())\n",
    "top    = dolfin.CompiledSubDomain(\"on_boundary && near(x[1], H)\", H=p2.y())\n",
    "bottom = dolfin.CompiledSubDomain(\"on_boundary && near(x[1], 0)\")\n",
    "\n",
    "boundary_indices = {\"left\": 0, \"right\": 1, \"top\": 2, \"bottom\": 3}\n",
    "boundary_markers = dolfin.MeshFunction(\"size_t\", mesh, dim=1, value=0)\n",
    "\n",
    "left.mark  (boundary_markers, boundary_indices[\"left\"]  )\n",
    "right.mark (boundary_markers, boundary_indices[\"right\"] )\n",
    "top.mark   (boundary_markers, boundary_indices[\"top\"]   )\n",
    "bottom.mark(boundary_markers, boundary_indices[\"bottom\"])\n",
    "\n",
    "ds = dolfin.ds(domain=mesh, subdomain_data=boundary_markers)\n",
    "dx = dolfin.dx(domain=mesh)"
   ]
  },
  {
   "cell_type": "markdown",
   "metadata": {},
   "source": [
    "## Space discretization"
   ]
  },
  {
   "cell_type": "code",
   "execution_count": 8,
   "metadata": {},
   "outputs": [],
   "source": [
    "V    = dolfin.VectorFunctionSpace(mesh, \"CG\", 1)\n",
    "Vsig = dolfin.TensorFunctionSpace(mesh, \"DG\", 0) #discontinuous Lagrange element to account for stress discontinuity as we consider 1D element for displacement"
   ]
  },
  {
   "cell_type": "code",
   "execution_count": 9,
   "metadata": {},
   "outputs": [],
   "source": [
    "zero = dolfin.Constant((0.,0.))\n",
    "bcs = [dolfin.DirichletBC(V, zero, left)]"
   ]
  },
  {
   "cell_type": "code",
   "execution_count": 10,
   "metadata": {},
   "outputs": [],
   "source": [
    "mu = dolfin.Constant(E/(2.*(1.+nu)))\n",
    "lambda_ = dolfin.Constant(E*nu/((1.+nu)*(1.-2.*nu))) # plane-strain condition\n",
    "lambda_ = 2*lambda_*mu/(lambda_+2*mu) # plane-stress condition"
   ]
  },
  {
   "cell_type": "markdown",
   "metadata": {},
   "source": [
    "### Time discretization using the Newmark-$\\beta$ method\n",
    "\n",
    "We now introduce a time discretization of the interval study $[0;T]$ in\n",
    "$N+1$ time increments $t_0=t_0,t_1,\\ldots,t_N,t_{N+1}=T$ with\n",
    "$\\Delta t=T/N$ denoting the time step (supposed constant). The\n",
    "resolution will make use of the Newmark-$\\beta$ method in\n",
    "structural dynamics. As an implicit method, it is unconditionally stable\n",
    "for a proper choice of coefficients so that quite large time steps can\n",
    "be used. It also allows for high frequency dissipation and offers a\n",
    "second-order accuracy, i.e. in $O(\\Delta t^2)$.\n",
    "\n",
    "The method consists in solving the dynamic evolution equation at\n",
    "intermediate time between $t_n$ and $t_{n+1}$ as follows:\n",
    "\n",
    "$$[M]\\{\\ddot{u}_{n+1}\\} + [C]\\{\\dot{u}_{n+1}\\}+[K]\\{u_{n+1}\\} = \\{F(t_{n+1})\\}$$\n",
    "\n",
    "The following approximation for the displacement and velocity\n",
    "at $t_{n+1}$ are used:\n",
    "\n",
    "$$\n",
    "\\{u_{n+1}\\} = \\{u_{n}\\}+\\Delta t \\{\\dot{u}_{n}\\} + \\dfrac{\\Delta t^2}{2}\\left((1-2\\beta)\\{\\ddot{u}_{n}\\}+2\\beta\\{\\ddot{u}_{n+1}\\}\\right)\n",
    "$$\n",
    "\n",
    "$$\n",
    "\\{\\dot{u}_{n+1}\\} = \\{\\dot{u}_{n}\\} + \\Delta t\\left((1-\\gamma)\\{\\ddot{u}_{n}\\}+\\gamma\\{\\ddot{u}_{n+1}\\}\\right)\n",
    "$$"
   ]
  },
  {
   "cell_type": "markdown",
   "metadata": {},
   "source": [
    "### Time-discretization parameters"
   ]
  },
  {
   "cell_type": "markdown",
   "metadata": {},
   "source": [
    "Parameters of the Newmark-β method.\n",
    "A popular choice of parameters which ensures unconditional stability, optimal dissipation and second-order accuracy is:\n",
    "$$\\gamma=\\frac{1}{2},\\quad \\beta=\\frac{1}{4}$$"
   ]
  },
  {
   "cell_type": "code",
   "execution_count": 11,
   "metadata": {},
   "outputs": [],
   "source": [
    "gamma = 1./2.\n",
    "beta  = 1./4."
   ]
  },
  {
   "cell_type": "markdown",
   "metadata": {},
   "source": [
    "### Definitions of operators, bilinear and linear forms"
   ]
  },
  {
   "cell_type": "code",
   "execution_count": 12,
   "metadata": {},
   "outputs": [],
   "source": [
    "I2 = dolfin.Identity(2)\n",
    "\n",
    "def stress_strain(eps):\n",
    "    \n",
    "    \"\"\" Function returning stress\n",
    "    tensor provided strain tensor.\n",
    "    \"\"\"\n",
    "    \n",
    "    return lambda_ * dolfin.tr(eps) * I2 + 2. * mu * eps\n",
    "\n",
    "def strain_displacement(u):\n",
    "    \n",
    "    \"\"\" Function returning strain \n",
    "    tensor provided displacement field.\n",
    "    \"\"\"\n",
    "    \n",
    "    return dolfin.sym(dolfin.grad(u))\n",
    "\n",
    "def m(u, v):\n",
    "    \n",
    "    \"\"\" Function returning mass \n",
    "    matrix provided trial and test \n",
    "    functions u/v fields.\n",
    "    \"\"\"\n",
    "    \n",
    "    return rho*dolfin.inner(u, v)*dx\n",
    "\n",
    "def k(u, v):\n",
    "    \n",
    "    \"\"\" Function returning stiffness \n",
    "    matrix provided trial and test \n",
    "    functions u/v fields.\n",
    "    \"\"\"\n",
    "    \n",
    "    return dolfin.inner(stress_strain(strain_displacement(u)),\n",
    "                        strain_displacement(v))*dx\n",
    "\n",
    "def c(u, v):\n",
    "    \n",
    "    \"\"\" Function returning damping \n",
    "    matrix provided trial and test \n",
    "    functions u/v fields.\n",
    "    \"\"\"\n",
    "    \n",
    "    return eta_m * m(u, v) + eta_k * k(u, v)\n",
    "\n",
    "def L(u):\n",
    "    \n",
    "    \"\"\" Function returning vector of \n",
    "    generalized forces provided trial\n",
    "    and test functions u/v fields.\n",
    "    \"\"\"\n",
    "    \n",
    "    return dolfin.dot(u, traction)*ds(boundary_indices[\"right\"])"
   ]
  },
  {
   "cell_type": "code",
   "execution_count": 13,
   "metadata": {},
   "outputs": [],
   "source": [
    "def local_project(mesh, v, V, u=None):\n",
    "    \n",
    "    \"\"\"Element-wise projection using LocalSolver.\n",
    "    \"\"\"\n",
    "    \n",
    "    dv = dolfin.TrialFunction(V)\n",
    "    v_ = dolfin.TestFunction(V)\n",
    "    \n",
    "    dx = dolfin.dx(domain=mesh)\n",
    "    \n",
    "    a_proj = dolfin.inner(dv, v_)*dx\n",
    "    b_proj = dolfin.inner(v, v_)*dx\n",
    "    \n",
    "    solver = dolfin.LocalSolver(a_proj, b_proj)\n",
    "    solver.factorize()\n",
    "    \n",
    "    if u is None:\n",
    "        u = dolfin.Function(V)\n",
    "        solver.solve_local_rhs(u)\n",
    "        return u\n",
    "    else:\n",
    "        solver.solve_local_rhs(u)\n",
    "        return"
   ]
  },
  {
   "cell_type": "code",
   "execution_count": 14,
   "metadata": {},
   "outputs": [],
   "source": [
    "u = dolfin.TrialFunction(V)\n",
    "v = dolfin.TestFunction (V)\n",
    "\n",
    "C = dolfin.assemble(c(u,v))\n",
    "K = dolfin.assemble(k(u,v))\n",
    "M = dolfin.assemble(m(u,v))\n",
    "\n",
    "for bc in bcs:\n",
    "    bc.apply(C)\n",
    "    bc.apply(K)"
   ]
  },
  {
   "cell_type": "markdown",
   "metadata": {},
   "source": [
    "We will solve a linear system $A\\, a_{n+1}=\\tilde{f}$ with \n",
    "\\begin{equation*}\n",
    "A =  M+\\gamma\\Delta t\\,C+\\beta\\Delta t^2\\,K,\\quad \\tilde{f}= f - C \\tilde{v} - K\\tilde{u}\n",
    "\\end{equation*}"
   ]
  },
  {
   "cell_type": "code",
   "execution_count": 15,
   "metadata": {},
   "outputs": [],
   "source": [
    "one_half = dolfin.Constant(0.5)\n",
    "A = M + gamma*dt*C + beta*dt**2*K\n",
    "\n",
    "for bc in bcs:\n",
    "    bc.apply(A)\n",
    "\n",
    "solver = dolfin.LUSolver(A) # apply LU method to solve Ax=b"
   ]
  },
  {
   "cell_type": "code",
   "execution_count": 16,
   "metadata": {},
   "outputs": [
    {
     "data": {
      "text/plain": [
       "<matplotlib.image.AxesImage at 0x7f38895eb278>"
      ]
     },
     "execution_count": 16,
     "metadata": {},
     "output_type": "execute_result"
    },
    {
     "data": {
      "image/png": "[encoded data removed]",
      "text/plain": [
       "<Figure size 432x288 with 1 Axes>"
      ]
     },
     "metadata": {
      "needs_background": "light"
     },
     "output_type": "display_data"
    }
   ],
   "source": [
    "plt.spy(A.array())"
   ]
  },
  {
   "cell_type": "markdown",
   "metadata": {},
   "source": [
    "## Time discretization"
   ]
  },
  {
   "cell_type": "code",
   "execution_count": 17,
   "metadata": {},
   "outputs": [],
   "source": [
    "num_functions = 5\n",
    "functions = [dolfin.Function(V) for i in range(num_functions)]\n",
    "u, v, a, Ku, Cv = functions\n",
    "u.rename(\"u\", \"u\")\n",
    "u_vec, v_vec, a_vec, Ku_vec, Cv_vec = [func.vector() for func in functions]"
   ]
  },
  {
   "cell_type": "code",
   "execution_count": 18,
   "metadata": {},
   "outputs": [],
   "source": [
    "times = dt*np.arange(num_steps+1, dtype=np.float64)\n",
    "displ_tip = np.zeros_like(times)\n",
    "\n",
    "energies  = np.zeros((num_steps+1, 4), dtype=np.float64)\n",
    "E_damp    = 0\n",
    "E_ext     = 0\n",
    "\n",
    "sig = dolfin.Function(Vsig, name=\"sigma\")\n",
    "xdmf_file = dolfin.XDMFFile(\"elastodynamics-results.xdmf\")\n",
    "xdmf_file.parameters[\"flush_output\"]          = True\n",
    "xdmf_file.parameters[\"functions_share_mesh\"]  = True\n",
    "xdmf_file.parameters[\"rewrite_function_mesh\"] = False"
   ]
  },
  {
   "cell_type": "markdown",
   "metadata": {},
   "source": [
    "#### Solve system"
   ]
  },
  {
   "cell_type": "code",
   "execution_count": 19,
   "metadata": {},
   "outputs": [
    {
     "name": "stdout",
     "output_type": "stream",
     "text": [
      "0.00828579998051282\n"
     ]
    }
   ],
   "source": [
    "u_vec.zero()\n",
    "v_vec.zero()\n",
    "a_vec.zero()\n",
    "Ku_vec.zero()\n",
    "\n",
    "time_solve = 0.\n",
    "\n",
    "for n in range(num_steps):\n",
    "    \n",
    "    # 1. Predictor step\n",
    "    \n",
    "    # u_t = u + dt * v_t +  a_t * (1 - 2*beta) * dt**2 / 2\n",
    "    u_vec.axpy(dt, v_vec)\n",
    "    u_vec.axpy((.5 - beta)*dt**2, a_vec)\n",
    "    \n",
    "    # v_t = v + a_t * (1 - gamma) * dt \n",
    "    v_vec.axpy((1. - gamma)*dt, a_vec)\n",
    "\n",
    "    # -----\n",
    "    \n",
    "    # 2. Update acceleration\n",
    "    \n",
    "    traction.t = (n+1)*dt\n",
    "    f = dolfin.assemble(L(dolfin.TestFunction(V)))\n",
    "    \n",
    "    # F_t = F - C v_t - K u_t\n",
    "    C.mult(v_vec, Cv_vec) \n",
    "    K.mult(u_vec, Ku_vec) \n",
    "    f.axpy(-1., Cv_vec)\n",
    "    f.axpy(-1., Ku_vec)\n",
    "    \n",
    "    for bc in bcs:\n",
    "        bc.apply(f)\n",
    "    \n",
    "    # -----\n",
    "\n",
    "    # 3. Solve\n",
    "    \n",
    "    t1 = time.perf_counter()\n",
    "    \n",
    "    # Solve with  A a_vec = F_t\n",
    "    # with A = (M + gamma * dt * C + beta * dt**2 * K)\n",
    "    \n",
    "    solver.solve(a_vec, f)\n",
    "    \n",
    "    t2 = time.perf_counter()\n",
    "    time_solve += t2 - t1\n",
    "    \n",
    "    # -----\n",
    "    \n",
    "    # 4. Corrector step\n",
    "    \n",
    "    # u = \n",
    "    u_vec.axpy(beta*dt**2, a_vec)\n",
    "    v_vec.axpy(gamma*dt  , a_vec)\n",
    "    \n",
    "    # Postprocessing \n",
    "    displ_tip[n+1] = u(Lx,0)[1]\n",
    "    \n",
    "    E_elas  = dolfin.assemble(0.5*k(u, u))\n",
    "    E_kin   = dolfin.assemble(0.5*m(v, v))\n",
    "    E_damp += dt*dolfin.assemble(c(v, v))\n",
    "    E_tot   = E_elas + E_kin + E_damp\n",
    "    energies[n+1, :] = np.array([E_elas, E_kin, E_damp, E_tot])\n",
    "    \n",
    "    local_project(mesh,stress_strain(strain_displacement(u)), Vsig, sig)\n",
    "\n",
    "    # Save solution to XDMF format\n",
    "    xdmf_file.write(u, n)\n",
    "    xdmf_file.write(sig, n)\n",
    "    \n",
    "print(time_solve)"
   ]
  },
  {
   "cell_type": "code",
   "execution_count": 20,
   "metadata": {},
   "outputs": [
    {
     "data": {
      "text/plain": [
       "<matplotlib.collections.PolyCollection at 0x7f3887412dd8>"
      ]
     },
     "execution_count": 20,
     "metadata": {},
     "output_type": "execute_result"
    },
    {
     "data": {
      "image/png": "[encoded data removed]",
      "text/plain": [
       "<Figure size 432x288 with 1 Axes>"
      ]
     },
     "metadata": {
      "needs_background": "light"
     },
     "output_type": "display_data"
    }
   ],
   "source": [
    "dolfin.plot(u, mode=\"displacement\")"
   ]
  },
  {
   "cell_type": "code",
   "execution_count": 21,
   "metadata": {
    "scrolled": false
   },
   "outputs": [
    {
     "data": {
      "text/plain": [
       "<Figure size 432x288 with 0 Axes>"
      ]
     },
     "execution_count": 21,
     "metadata": {},
     "output_type": "execute_result"
    },
    {
     "data": {
      "image/png": "[encoded data removed]",
      "text/plain": [
       "<Figure size 432x288 with 1 Axes>"
      ]
     },
     "metadata": {
      "needs_background": "light"
     },
     "output_type": "display_data"
    },
    {
     "data": {
      "text/plain": [
       "<Figure size 432x288 with 0 Axes>"
      ]
     },
     "metadata": {},
     "output_type": "display_data"
    }
   ],
   "source": [
    "plt.figure()\n",
    "plt.plot(times, displ_tip, '-')\n",
    "plt.xlabel(\"Time\")\n",
    "plt.ylabel(\"Tip displacement\")\n",
    "plt.savefig(\"tip_displacement.png\")\n",
    "plt.figure()"
   ]
  },
  {
   "cell_type": "code",
   "execution_count": 22,
   "metadata": {},
   "outputs": [
    {
     "data": {
      "image/png": "[encoded data removed]",
      "text/plain": [
       "<Figure size 432x288 with 1 Axes>"
      ]
     },
     "metadata": {
      "needs_background": "light"
     },
     "output_type": "display_data"
    }
   ],
   "source": [
    "plt.figure()\n",
    "plt.plot(times, energies)\n",
    "plt.legend((\"elastic\", \"kinetic\", \"damping\", \"total\"))\n",
    "plt.xlabel(\"Time\")\n",
    "plt.ylabel(\"Energies\")\n",
    "plt.show()"
   ]
  },
  {
   "cell_type": "markdown",
   "metadata": {},
   "source": [
    "We recall total energy is a fake total energy : we add elastic to kinetic energy and furthermore add physically dissipated damping energy."
   ]
  },
  {
   "cell_type": "markdown",
   "metadata": {},
   "source": [
    "# Questions\n",
    "\n",
    "Here, we do not consider any physical disspation (eta_m=0, eta_k=0).\n",
    "\n",
    "1 - We set E=1000, nu=0.3, Lx=1, Ly=0.1, rho=1. What is the period of the oscillations? How does this period change if we (i) divide Lx by 2? (ii) multiply Lx by 2? Compare with the analytical value for an Euler-Bernoulli beam.\n",
    "\n",
    "2 - Compare the value of the current time step with the critical time step of the Courant condition of the explicit method (dt_crit = mesh.rmin()/np.sqrt(E/rho.values()) for the Courant condition)\n",
    "\n",
    "3 - Test the case $\\gamma < \\frac{1}{2}$.\n",
    "\n",
    "4 - Test the case $\\gamma > \\frac{1}{2}$ and $2\\beta > \\gamma$. What is happening ?\n",
    " \n",
    "5 - What happens for low values of t_c like t_c=0.02 ?\n",
    "\n",
    "6 - Compare the time taken by the computer to (i) solve the linear algebra system at each time step, (ii) write the output files, (iii) execute the rest of the (time-step) loop. Where does the compute spend most time? Which dolfin function is time-consuming? Does this change with parameters?\n",
    "\n",
    "7 - Write up a python function that perfoms time integration of the system and exports xdmf files to be open with Paraview. The function will take inputs such as Young's modulus, size of the system, time-step, etc."
   ]
  },
  {
   "cell_type": "markdown",
   "metadata": {},
   "source": [
    "#### 1. Period of oscillation"
   ]
  },
  {
   "cell_type": "markdown",
   "metadata": {},
   "source": [
    "$$T = k\\times L^2 \\times \\sqrt{\\frac{\\rho\\times A}{E\\times I}}$$ with $k\\approx \\frac{2\\pi}{1.875^2}$."
   ]
  },
  {
   "cell_type": "code",
   "execution_count": 23,
   "metadata": {},
   "outputs": [
    {
     "data": {
      "text/plain": [
       "1.9577983008581892"
      ]
     },
     "execution_count": 23,
     "metadata": {},
     "output_type": "execute_result"
    }
   ],
   "source": [
    "h = Ly# / Ny #A=h for unit width\n",
    "w = 1 #unit thickness\n",
    "A = h*w\n",
    "\n",
    "I = h**3 / 12\n",
    "k = 2*np.pi / 1.875**2\n",
    "\n",
    "T = k * Lx**2 * np.sqrt(rho.values()[0]*A / (E*I))\n",
    "T"
   ]
  },
  {
   "cell_type": "markdown",
   "metadata": {},
   "source": [
    "We get back that the period is around 2. It's the period of oscillation of the beam or an element of the beam. If one change the length of the beam :"
   ]
  },
  {
   "cell_type": "code",
   "execution_count": 24,
   "metadata": {},
   "outputs": [
    {
     "data": {
      "text/plain": [
       "7.8311932034327567"
      ]
     },
     "execution_count": 24,
     "metadata": {},
     "output_type": "execute_result"
    }
   ],
   "source": [
    "L_new = 2\n",
    "\n",
    "T_new = T * (L_new/Lx)**2\n",
    "T_new"
   ]
  },
  {
   "cell_type": "markdown",
   "metadata": {},
   "source": [
    "We have a simple multiplication by a factor L_new/L. Let's conclude by comparing to analytical solution :"
   ]
  },
  {
   "cell_type": "markdown",
   "metadata": {},
   "source": [
    "#### 2. Critical time step"
   ]
  },
  {
   "cell_type": "code",
   "execution_count": 25,
   "metadata": {},
   "outputs": [
    {
     "name": "stdout",
     "output_type": "stream",
     "text": [
      "\n",
      "We have:\n",
      "\n",
      "dt_crit = 0.0002s\n",
      "dt      = 0.04s\n"
     ]
    }
   ],
   "source": [
    "dt_crit = mesh.rmin() / np.sqrt(E / rho.values()[0])\n",
    "print('\\nWe have:\\n')\n",
    "print('dt_crit = {:.4f}s'.format(dt_crit))\n",
    "print('dt      = {:.2f}s'.format(dt))"
   ]
  },
  {
   "cell_type": "markdown",
   "metadata": {},
   "source": [
    "We then see we have a higher time step than limit one, which isn't a problem given our values of gamma and beta are consistent with stable case. Indeed, we are in the case where total energy is conserved and scheme is stable, namely we have no dissipation and stability.\n",
    "\n",
    "As a matter of fact, we force eta_m and eta_n at zero for damping matrix to make sure of energy conservation\n",
    "\n",
    "By changing the values of gamma and beta, we then expect to reach the limits of implicit method's stability. Let's work on that."
   ]
  }
 ],
 "metadata": {
  "kernelspec": {
   "display_name": "Python 3",
   "language": "python",
   "name": "python3"
  },
  "language_info": {
   "codemirror_mode": {
    "name": "ipython",
    "version": 3
   },
   "file_extension": ".py",
   "mimetype": "text/x-python",
   "name": "python",
   "nbconvert_exporter": "python",
   "pygments_lexer": "ipython3",
   "version": "3.6.9"
  }
 },
 "nbformat": 4,
 "nbformat_minor": 4
}
