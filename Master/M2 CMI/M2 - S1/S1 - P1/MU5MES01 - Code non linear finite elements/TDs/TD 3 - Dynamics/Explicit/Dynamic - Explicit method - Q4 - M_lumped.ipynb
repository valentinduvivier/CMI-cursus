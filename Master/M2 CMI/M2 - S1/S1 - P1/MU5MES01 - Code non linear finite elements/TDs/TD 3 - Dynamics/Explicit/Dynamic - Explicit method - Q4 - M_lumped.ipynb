{
 "cells": [
  {
   "cell_type": "markdown",
   "metadata": {},
   "source": [
    "# Dynamics of an elastic beam: explicit time integration\n",
    "In this notebook, we investigate the dynamics of an elastic beam using a linear and a nonlinear model. The beam is subjected to an external traction at one of its two ends over a short time period. We compute the dynamics of the beam using an explicit time-stepping scheme.\n"
   ]
  },
  {
   "cell_type": "markdown",
   "metadata": {},
   "source": [
    "#### Libraries"
   ]
  },
  {
   "cell_type": "code",
   "execution_count": 26,
   "metadata": {},
   "outputs": [],
   "source": [
    "import dolfin\n",
    "import numpy as np\n",
    "import matplotlib.pyplot as plt\n",
    "import ufl\n",
    "import time\n",
    "\n",
    "dolfin.parameters[\"form_compiler\"][\"cpp_optimize\"] = True\n",
    "dolfin.parameters[\"form_compiler\"][\"optimize\"] = True"
   ]
  },
  {
   "cell_type": "code",
   "execution_count": 27,
   "metadata": {},
   "outputs": [],
   "source": [
    "use_linear_model = True\n",
    "use_lumped_mass  = False"
   ]
  },
  {
   "cell_type": "markdown",
   "metadata": {},
   "source": [
    "### Definition of the geometry and the mesh\n",
    "\n",
    "We consider a cantilever beam of size `Lx × Ly` (2D, plane stress), fixed at its `x = 0` end, and subjected to an axial load at `x = Lx`. "
   ]
  },
  {
   "cell_type": "code",
   "execution_count": 28,
   "metadata": {},
   "outputs": [],
   "source": [
    "p1 = dolfin.Point(0., 0.)\n",
    "p2 = dolfin.Point(1., 0.1)\n",
    "\n",
    "ny = 10\n",
    "nx = 10*ny\n",
    "\n",
    "mesh = dolfin.RectangleMesh(p1, p2, nx, ny)"
   ]
  },
  {
   "cell_type": "code",
   "execution_count": 29,
   "metadata": {},
   "outputs": [
    {
     "data": {
      "text/plain": [
       "[<matplotlib.lines.Line2D at 0x7f62c8397358>,\n",
       " <matplotlib.lines.Line2D at 0x7f629c06d278>]"
      ]
     },
     "execution_count": 29,
     "metadata": {},
     "output_type": "execute_result"
    },
    {
     "data": {
      "image/png": "[encoded data removed]",
      "text/plain": [
       "<Figure size 432x288 with 1 Axes>"
      ]
     },
     "metadata": {
      "needs_background": "light"
     },
     "output_type": "display_data"
    }
   ],
   "source": [
    "dolfin.plot(mesh)"
   ]
  },
  {
   "cell_type": "code",
   "execution_count": 30,
   "metadata": {},
   "outputs": [],
   "source": [
    "left  = dolfin.CompiledSubDomain(\"on_boundary && near(x[0], 0)\")\n",
    "right = dolfin.CompiledSubDomain(\"on_boundary && near(x[0], L)\", L=p2.x())\n",
    "\n",
    "boundary_indices = {\"left\": 0, \"right\": 1}\n",
    "boundary_markers = dolfin.MeshFunction(\"size_t\", \n",
    "                                       mesh    , \n",
    "                                       dim=1   , \n",
    "                                       value=0 )\n",
    "\n",
    "left.mark(boundary_markers, boundary_indices[\"left\"])\n",
    "right.mark(boundary_markers, boundary_indices[\"right\"])\n",
    "\n",
    "ds = dolfin.ds(domain=mesh, subdomain_data=boundary_markers)\n",
    "dx = dolfin.dx(domain=mesh)"
   ]
  },
  {
   "cell_type": "markdown",
   "metadata": {},
   "source": [
    "### Material, loading and time-discretization parameters\n",
    "\n",
    "A time-dependent traction is applied at the $x = L_x$ face as follows\n",
    "\\begin{equation}\n",
    "\\vec T = \\begin{cases}\n",
    "\\displaystyle\\frac{t}{t_{\\mathrm{c}}}\\vec T_{\\mathrm{max}} & t \\leq t_{\\mathrm{c}}\\\\[.2em]\n",
    "\\vec 0 & t > t_{\\mathrm{c}}\n",
    "\\end{cases}\n",
    "\\end{equation}\n",
    "where $t_{\\mathrm{c}}$ is a “cut-off” time. Note that depending on the direction of the applied traction, we will need to select different values for `t_c` and `T_max`."
   ]
  },
  {
   "cell_type": "code",
   "execution_count": 31,
   "metadata": {},
   "outputs": [],
   "source": [
    "# Material properties\n",
    "Y  = 10. # Young modulus\n",
    "nu = 0.3\n",
    "\n",
    "mu = dolfin.Constant(Y/(2.*(1.+nu))) # plane-strain, plane-stress and 3D\n",
    "lambda_ = Y*nu/((1.+nu)*(1.-2.*nu))  # plane-strain and 3D\n",
    "lambda_ = dolfin.Constant(2*lambda_*mu/(lambda_+2*mu)) # plane-stress\n",
    "\n",
    "rho     = dolfin.Constant(1.)\n",
    "\n",
    "# viscosity/damping\n",
    "eta_m   = dolfin.Constant(0.01)    # a  # in C = a*M + b*K\n",
    "eta_k   = dolfin.Constant(0.00001) # b  # in C = a*M + b*K\n",
    "\n",
    "# -------------------------------\n",
    "\n",
    "# Study parameters\n",
    "dt_crit      = mesh.rmin() / np.sqrt(Y / rho.values())\n",
    "\n",
    "t_end        = 10.\n",
    "num_steps    = int(1.2 * (t_end / dt_crit))\n",
    "\n",
    "dt           = t_end/num_steps\n",
    "\n",
    "t_cutoff     = .1  # tc\n",
    "traction_max = 1.  # T_max = T ??\n",
    "\n",
    "# -------------------------------\n",
    "\n",
    "expr = [\"t <= t_cutoff ? traction_max*t/t_cutoff : 0\", \"0\"]\n",
    "\n",
    "traction = dolfin.Expression(expr, t=0, t_cutoff=t_cutoff, traction_max=traction_max, degree=0)"
   ]
  },
  {
   "cell_type": "markdown",
   "metadata": {},
   "source": [
    "### Definition of the problem in the linear and in the nonlinear case (finite deformations)"
   ]
  },
  {
   "cell_type": "code",
   "execution_count": 32,
   "metadata": {},
   "outputs": [],
   "source": [
    "V = dolfin.VectorFunctionSpace(mesh, \"CG\", 1) # continuous lagrangian elements"
   ]
  },
  {
   "cell_type": "code",
   "execution_count": 33,
   "metadata": {},
   "outputs": [],
   "source": [
    "zero = dolfin.Constant((0, 0))\n",
    "bc   = dolfin.DirichletBC(V, zero, left)"
   ]
  },
  {
   "cell_type": "markdown",
   "metadata": {},
   "source": [
    "#### Kinematics nonlinear case"
   ]
  },
  {
   "cell_type": "code",
   "execution_count": 34,
   "metadata": {},
   "outputs": [],
   "source": [
    "I2 = dolfin.Identity(2) # Identity tensor\n",
    "\n",
    "def stress_nonlinear(u):\n",
    "    \n",
    "    \"\"\" Function returning non-linear stress base on\n",
    "    compressible neo-Hookean model, provided u field.\n",
    "    \"\"\"\n",
    "    \n",
    "    F  = ufl.variable(I2 + ufl.grad(u))\n",
    "    CC = F.T*F            \n",
    "    Ic = ufl.tr(CC)\n",
    "    J  = ufl.det(F)\n",
    "    E  = 1/2*(CC-I2)\n",
    "\n",
    "# Stored strain energy density (compressible neo-Hookean model)\n",
    "# Elasticity parameters (plane-stress)\n",
    "\n",
    "#    psi = lambda_*ufl.tr(E)**2/2+mu*ufl.inner(E,E) # usual elastic energy density\n",
    "    psi = (mu/2)*(Ic - 2) - mu*ufl.ln(J) + (lambda_/2)*(ufl.ln(J))**2\n",
    "    \n",
    "    return ufl.diff(psi, F) \n",
    "\n",
    "def energy_nonlinear(u):  \n",
    "\n",
    "    \"\"\" Function returning energy E = W_int - W_ext based on\n",
    "    compressible neo-Hookean model, provided u field.\n",
    "    \"\"\"\n",
    "    \n",
    "    F  = ufl.variable(I2 + ufl.grad(u))  \n",
    "    CC = F.T*F                   \n",
    "    Ic = ufl.tr(CC)\n",
    "    J  = ufl.det(F)\n",
    "    E  = 1/2*(CC-I2)\n",
    "\n",
    "# Stored strain energy density (compressible neo-Hookean model)\n",
    "# Elasticity parameters (plane-stress)\n",
    "\n",
    "#    psi = lambda_*ufl.tr(E)**2/2+mu*ufl.inner(E,E) # usual elastic energy density\n",
    "    psi = (mu/2)*(Ic - 2) - mu*ufl.ln(J) + (lambda_/2)*(ufl.ln(J))**2\n",
    "    \n",
    "    return psi*dx\n",
    "\n",
    "def stiffness_nonlinear(u, v):\n",
    "    \n",
    "    \"\"\" Function returning energy W_int in \n",
    "    E = W_int - W_ext ??? provided u and v fields.\n",
    "    \"\"\"\n",
    "    \n",
    "    return dolfin.inner(stress_nonlinear(u), dolfin.grad(v))*dx"
   ]
  },
  {
   "cell_type": "markdown",
   "metadata": {},
   "source": [
    "#### Kinematics linear case"
   ]
  },
  {
   "cell_type": "code",
   "execution_count": 35,
   "metadata": {},
   "outputs": [],
   "source": [
    "def stress_linear(eps):\n",
    "    \n",
    "    \"\"\" Function returning linear stress \n",
    "    sigma, provided u field.\n",
    "    \"\"\"\n",
    "        \n",
    "    return lambda_*dolfin.tr(eps)*I2+2.*mu*eps\n",
    "\n",
    "def strain_displacement(u):\n",
    "    \n",
    "    \"\"\" Function returning linear strain \n",
    "    epsilon, provided u field.\n",
    "    \"\"\"\n",
    "    \n",
    "    return dolfin.sym(dolfin.grad(u))\n",
    "\n",
    "def stiffness_linear(u, v):\n",
    "    \n",
    "    \"\"\" Function returning W_int in \n",
    "    E = W_int - W_ext, provided u field.\n",
    "    \"\"\"\n",
    "    \n",
    "    return dolfin.inner(stress_linear(strain_displacement(u)),\n",
    "                        strain_displacement(v))*dx                     "
   ]
  },
  {
   "cell_type": "code",
   "execution_count": 36,
   "metadata": {},
   "outputs": [],
   "source": [
    "# Apply linear or non-linear methods\n",
    "\n",
    "if use_linear_model:\n",
    "    stiffness = stiffness_linear\n",
    "    \n",
    "else:\n",
    "    stiffness = stiffness_nonlinear    \n",
    "\n",
    "def mass(u, v):\n",
    "    return rho*dolfin.inner(u, v)*dx\n",
    "\n",
    "def damping(u, v):\n",
    "    return eta_m*mass(u, v)+eta_k*stiffness_linear(u, v)\n",
    "\n",
    "def p_ext(u):\n",
    "    return dolfin.dot(u, traction)*ds(boundary_indices[\"right\"])"
   ]
  },
  {
   "cell_type": "code",
   "execution_count": 37,
   "metadata": {},
   "outputs": [],
   "source": [
    "u = dolfin.TrialFunction(V)\n",
    "v = dolfin.TestFunction(V)\n",
    "\n",
    "M = dolfin.assemble(mass(u, v))"
   ]
  },
  {
   "cell_type": "code",
   "execution_count": 38,
   "metadata": {},
   "outputs": [],
   "source": [
    "# Compute the sum of the rows of the mass matrix\n",
    "# Only for the case of a lumped mass matrix == our case\n",
    "\n",
    "m = mass(u, v)\n",
    "ones = dolfin.Constant((1.,1.))\n",
    "\n",
    "M_lumped = dolfin.assemble(dolfin.action(m, ones))\n",
    "M_lumped_inv = 1./M_lumped.get_local()"
   ]
  },
  {
   "cell_type": "code",
   "execution_count": 39,
   "metadata": {},
   "outputs": [],
   "source": [
    "bc.apply(M) # apply BC on mass matrix"
   ]
  },
  {
   "cell_type": "markdown",
   "metadata": {},
   "source": [
    "#### No change needed"
   ]
  },
  {
   "cell_type": "code",
   "execution_count": 40,
   "metadata": {},
   "outputs": [],
   "source": [
    "u = dolfin.Function(V)\n",
    "v = dolfin.Function(V)"
   ]
  },
  {
   "cell_type": "code",
   "execution_count": 41,
   "metadata": {},
   "outputs": [],
   "source": [
    "u_vec = u.vector()\n",
    "v_vec = v.vector()"
   ]
  },
  {
   "cell_type": "code",
   "execution_count": 42,
   "metadata": {},
   "outputs": [],
   "source": [
    "vector = dolfin.Vector()\n",
    "M.init_vector(vector, 1)\n",
    "    \n",
    "a_vec = vector"
   ]
  },
  {
   "cell_type": "code",
   "execution_count": 43,
   "metadata": {},
   "outputs": [],
   "source": [
    "if not use_lumped_mass:\n",
    "    solver = dolfin.LUSolver(M)"
   ]
  },
  {
   "cell_type": "code",
   "execution_count": 44,
   "metadata": {},
   "outputs": [],
   "source": [
    "coords_tip = p2.array()[:2]\n",
    "coords_tip[1] *= 0.5\n",
    "\n",
    "times      = dt*np.arange(num_steps+1, dtype=np.float64)\n",
    "displ_tip  = np.zeros_like(times)\n",
    "\n",
    "# Initialisation energies\n",
    "energies   = np.zeros((num_steps+1, 4), dtype=np.float64)\n",
    "E_damp     = 0\n",
    "E_elas     = 0\n",
    "E_ext      = 0"
   ]
  },
  {
   "cell_type": "markdown",
   "metadata": {},
   "source": [
    "### Explicit time-stepping scheme"
   ]
  },
  {
   "cell_type": "code",
   "execution_count": 45,
   "metadata": {},
   "outputs": [],
   "source": [
    "# test functions\n",
    "u_vec.zero()\n",
    "v_vec.zero()\n",
    "a_vec.zero()\n",
    "\n",
    "time_solve = 0.\n",
    "\n",
    "for n in range(num_steps):\n",
    "\n",
    "    traction.t = (n+1)*dt\n",
    "    \n",
    "    f      = dolfin.assemble(     p_ext(    dolfin.TestFunction(V) ) )\n",
    "    f_int  = dolfin.assemble( stiffness( u, dolfin.TestFunction(V) ) )\n",
    "    f_damp = dolfin.assemble(   damping( v, dolfin.TestFunction(V) ) )  #f_damp included in f_int\n",
    "    \n",
    "    f.axpy(-1., f_int)\n",
    "    f.axpy(-1., f_damp)    \n",
    "    \n",
    "    bc.apply(f)\n",
    "    \n",
    "    t1 = time.perf_counter() # count time solving\n",
    "    if use_lumped_mass:\n",
    "        a_vec[:] = M_lumped_inv*f[:]        \n",
    "    else:\n",
    "        solver.solve(a_vec, f)\n",
    "    t2 = time.perf_counter() # count time solving\n",
    "    time_solve += t2-t1      # add to have time loop\n",
    "\n",
    "# Corrector step\n",
    "    v_vec.axpy(dt, a_vec)\n",
    "    u_vec.axpy(dt, v_vec)\n",
    "    \n",
    "    displ_tip[n+1] = u(coords_tip)[0]\n",
    "    \n",
    "    if use_linear_model:\n",
    "        E_elas = dolfin.assemble(0.5*stiffness(u, u))\n",
    "    else:\n",
    "        E_elas = dolfin.assemble(energy_nonlinear(u))\n",
    "    \n",
    "    E_kin   = dolfin.assemble(0.5*mass(v, v))\n",
    "    E_damp += dt*dolfin.assemble(damping(v, v))\n",
    "    E_tot   = E_elas + E_kin + E_damp # E_tot, not conserved though as E_damp is energy removed from the system\n",
    "    \n",
    "    energies[n+1,:] = np.array([E_elas, E_kin, E_damp, E_tot]) #stock energies for later plot"
   ]
  },
  {
   "cell_type": "markdown",
   "metadata": {},
   "source": [
    "#### Display position beam's tip"
   ]
  },
  {
   "cell_type": "code",
   "execution_count": 21,
   "metadata": {
    "scrolled": true
   },
   "outputs": [
    {
     "data": {
      "image/png": "[encoded data removed]",
      "text/plain": [
       "<Figure size 360x360 with 1 Axes>"
      ]
     },
     "metadata": {
      "needs_background": "light"
     },
     "output_type": "display_data"
    }
   ],
   "source": [
    "plt.figure(figsize=(5,5))\n",
    "\n",
    "plt.plot(times, displ_tip, '-')\n",
    "\n",
    "plt.title('Displacement tip as a function of time')\n",
    "plt.xlabel(\"Time (s)\")\n",
    "plt.ylabel(\"Tip displacement (m)\")\n",
    "\n",
    "plt.grid(True)\n",
    "\n",
    "# plt.savefig(\"tip_displacement.png\")"
   ]
  },
  {
   "cell_type": "markdown",
   "metadata": {},
   "source": [
    "#### Display energy variation across time"
   ]
  },
  {
   "cell_type": "code",
   "execution_count": 22,
   "metadata": {
    "scrolled": true
   },
   "outputs": [
    {
     "data": {
      "image/png": "[encoded data removed]",
      "text/plain": [
       "<Figure size 360x360 with 1 Axes>"
      ]
     },
     "metadata": {
      "needs_background": "light"
     },
     "output_type": "display_data"
    }
   ],
   "source": [
    "plt.figure(figsize=(5,5))\n",
    "\n",
    "plt.plot(times, energies)\n",
    "\n",
    "plt.title('Energies across time - energy conservation')\n",
    "plt.xlabel(\"Time\")\n",
    "plt.ylabel(\"Energies\")\n",
    "\n",
    "plt.grid(True)\n",
    "plt.legend((\"elastic\", \"kinetic\", \"damping\", \"total\"))\n",
    "\n",
    "plt.show()"
   ]
  },
  {
   "cell_type": "markdown",
   "metadata": {},
   "source": [
    "Note that there in fact isn't energy conservation : we here display E_tot = E_kin + E_damp + E_elast."
   ]
  },
  {
   "cell_type": "code",
   "execution_count": 23,
   "metadata": {},
   "outputs": [
    {
     "data": {
      "text/plain": [
       "0.0010827831157191863"
      ]
     },
     "execution_count": 23,
     "metadata": {},
     "output_type": "execute_result"
    }
   ],
   "source": [
    "energies[-1,-1] #total energy of last iteration"
   ]
  },
  {
   "cell_type": "code",
   "execution_count": 24,
   "metadata": {},
   "outputs": [
    {
     "name": "stdout",
     "output_type": "stream",
     "text": [
      "Temps de calcul des accélérations 1.77s\n",
      "Pas de temps critique 9.26e-04s\n",
      "Pas de temps utilisé 7.72e-04s\n"
     ]
    }
   ],
   "source": [
    "print(\"Temps de calcul des accélérations {:.2f}s\".format(time_solve))\n",
    "\n",
    "dt_crit = mesh.rmin()/np.sqrt(Y/rho.values())\n",
    "\n",
    "print(\"Pas de temps critique {:.2e}s\".format(dt_crit[0]))\n",
    "print(\"Pas de temps utilisé {:.2e}s\".format(dt))"
   ]
  },
  {
   "cell_type": "markdown",
   "metadata": {},
   "source": [
    "M_lumped potentially contains the values of M on the diagonal only (case lin. relation ?? (i.e. no interaction)).\n",
    "\n",
    "It brings other values for the modes, potentially close to physical one but not same however."
   ]
  },
  {
   "cell_type": "markdown",
   "metadata": {},
   "source": [
    "Looking at displacement graph, and total energy graph :"
   ]
  },
  {
   "cell_type": "code",
   "execution_count": 25,
   "metadata": {},
   "outputs": [],
   "source": [
    "energies_mass = energies"
   ]
  },
  {
   "cell_type": "markdown",
   "metadata": {},
   "source": [
    "# Exercise\n",
    "\n",
    "**1)** Change the values of the damping parameters and describe how this modifies the displacement and energy plots. \n",
    "\n",
    "\n",
    "**2)** Change the number of time steps and observe what happends when $dt >dt_{crit}$, explain.\n",
    "\n",
    "\n",
    "**3)** Modify the orientation of the applied traction.\n",
    "\n",
    "\n",
    "**4)** Do you observe a significant difference when you use the lumped mass matrix instead of the usual mass matrix?\n",
    "\n",
    "\n",
    "**5)** How does the difference in computational time between these two approaches (lumped mass or standard mass) vary with the size of the mesh?\n",
    "\n",
    "**6)** Compare the prediction of the linear model with the results obtained with the nonlinear model for the same loading conditions (start with a small applied traction and then try a larger traction). "
   ]
  }
 ],
 "metadata": {
  "kernelspec": {
   "display_name": "Python 3",
   "language": "python",
   "name": "python3"
  },
  "language_info": {
   "codemirror_mode": {
    "name": "ipython",
    "version": 3
   },
   "file_extension": ".py",
   "mimetype": "text/x-python",
   "name": "python",
   "nbconvert_exporter": "python",
   "pygments_lexer": "ipython3",
   "version": "3.6.9"
  }
 },
 "nbformat": 4,
 "nbformat_minor": 2
}
