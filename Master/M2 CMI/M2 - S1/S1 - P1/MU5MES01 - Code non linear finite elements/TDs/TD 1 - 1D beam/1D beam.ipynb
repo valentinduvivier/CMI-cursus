{
 "cells": [
  {
   "cell_type": "markdown",
   "metadata": {},
   "source": [
    "# FEniCS simulation of a cantilever beam"
   ]
  },
  {
   "cell_type": "markdown",
   "metadata": {},
   "source": [
    "The aim of this notebook is to setup a very simple FEniCS simulation. The framework is linear, plane strain elasticity. We model a cantilever beam ($L$: total length; $d$: depth), subjected to its own weight ($\\rho$: mass density per unit volume; $g$: gravity).\n",
    "\n",
    "The beam is homogenous and isotropic ($E$: Young modulus; $\\nu$: Poisson ratio) and clamped on the left end. Hooke's law reads\n",
    "\n",
    "\\begin{equation}\n",
    "\\sigma_{ij} = \\lambda\\varepsilon_{kk}\\delta_{ij}+2\\mu\\varepsilon_{ij},\n",
    "\\end{equation}\n",
    "\n",
    "where indices $i, j, k$ are restricted to $\\{1, 2\\}$ and $\\lambda$, $\\mu$ are the Lamé coefficients :\n",
    "\n",
    "\\begin{equation*}\n",
    "\\mu=\\frac{E}{2\\bigl(1+\\nu\\bigr)}\n",
    "\\quad\\text{and}\\quad\n",
    "\\lambda=\\frac{2\\mu\\nu}{1-2\\nu}.\n",
    "\\end{equation*}\n",
    "\n",
    "**Question:** how does Hooke's law read in *plane stress* elasticity?\n",
    "\n",
    "The variational formulation of the problem is the following:\n",
    "\n",
    "Find $u\\in \\mathcal{C}\\equiv\\{u: H^1(\\Omega), \\; u(x_1=0,x_2)=0\\}$ such that \n",
    "$\\forall v\\in \\mathcal{C}_0\\equiv \\mathcal{C}$\n",
    "\n",
    "\n",
    "\\begin{equation}\n",
    "\\int_\\Omega \\sigma(\\varepsilon(u)):\\varepsilon(v)\\,\\mathrm{d}x\\,\\mathrm{d}y =\n",
    "-\\int_{\\Omega}\\rho g\\,e_y\\cdot v\\,\\mathrm{d} x\\,\\mathrm{d} y,\n",
    "\\end{equation}\n",
    "\n",
    "where $\\sigma(\\varepsilon)$ is the constitutive equation and $\\varepsilon(u)=\\mathrm{sym} (\\nabla u)$  \n",
    "\n",
    "Remark: we work with only one unknown vector field, the displacement $u_x(x_1,x_2)$"
   ]
  },
  {
   "cell_type": "markdown",
   "metadata": {},
   "source": [
    "![image of beam](cantilever_beam.png \"Cantilever beam\")"
   ]
  },
  {
   "cell_type": "code",
   "execution_count": 1,
   "metadata": {},
   "outputs": [],
   "source": [
    "import dolfin\n",
    "# from fenics import *\n",
    "\n",
    "import matplotlib.pyplot as plt\n",
    "import numpy as np"
   ]
  },
  {
   "cell_type": "markdown",
   "metadata": {},
   "source": [
    "## 1) Start with defining the mesh"
   ]
  },
  {
   "cell_type": "code",
   "execution_count": 2,
   "metadata": {},
   "outputs": [],
   "source": [
    "# geometry and mesh \n",
    "L = 1.    # total length\n",
    "d = L/20. # thickness\n",
    "h = d/16. # size of a cell"
   ]
  },
  {
   "cell_type": "code",
   "execution_count": 57,
   "metadata": {},
   "outputs": [
    {
     "data": {
      "text/plain": [
       "[<matplotlib.lines.Line2D at 0x7fb584d49390>,\n",
       " <matplotlib.lines.Line2D at 0x7fb584d494e0>]"
      ]
     },
     "execution_count": 57,
     "metadata": {},
     "output_type": "execute_result"
    },
    {
     "data": {
      "image/png": "[encoded data removed]",
      "text/plain": [
       "<Figure size 432x288 with 1 Axes>"
      ]
     },
     "metadata": {
      "needs_background": "light"
     },
     "output_type": "display_data"
    }
   ],
   "source": [
    "# Building the mesh\n",
    "\n",
    "nx1  = nx2 = 50\n",
    "mesh = dolfin.RectangleMesh(dolfin.Point(0, -d/2), dolfin.Point(L, d/2), nx1, nx2)\n",
    "\n",
    "dolfin.plot(mesh)"
   ]
  },
  {
   "cell_type": "markdown",
   "metadata": {},
   "source": [
    "## 2) Choose an element (Lagrange of degree 1)"
   ]
  },
  {
   "cell_type": "code",
   "execution_count": 58,
   "metadata": {},
   "outputs": [],
   "source": [
    "# Build basis function\n",
    "\n",
    "V = dolfin.VectorFunctionSpace(mesh, 'Lagrange', 1)"
   ]
  },
  {
   "cell_type": "markdown",
   "metadata": {},
   "source": [
    "## 3) Define the stress\n",
    "\n",
    "$u_i$ is  the displacement vector (note: $u=u(x_1,x_2)$)\n",
    "\n",
    "and \n",
    "\n",
    "$\\epsilon_{ij} = \\frac12\\bigl(\\partial_i u_j+\\partial_j u_i\\bigr)$ is the stress tensor."
   ]
  },
  {
   "cell_type": "code",
   "execution_count": 59,
   "metadata": {},
   "outputs": [],
   "source": [
    "# tensor epsilon\n",
    "\n",
    "def epsilon(u):\n",
    "    \n",
    "    \"\"\" Function returning deformation epsilon provided variable u \"\"\"\n",
    "    \n",
    "    epsilon = .5 * (dolfin.grad(u) + dolfin.nabla_grad(u))\n",
    "    \n",
    "    return epsilon"
   ]
  },
  {
   "cell_type": "markdown",
   "metadata": {},
   "source": [
    "## 4) Write down Hooke's law"
   ]
  },
  {
   "cell_type": "code",
   "execution_count": 60,
   "metadata": {},
   "outputs": [],
   "source": [
    "# here we use the values\n",
    "E    = 1.0\n",
    "nu   = 0.3\n",
    "\n",
    "mu   = .5 * (E / (1 + nu))\n",
    "lamb = 2*mu * nu / (1 - 2*nu)\n",
    "\n",
    "# Hook's law is written as the top of this notebook\n",
    "def sigma(u):\n",
    "    \n",
    "    \"\"\" Function returning stress sigma provided variable epsilon (deformation tensor) \"\"\"\n",
    "    \n",
    "    sigma = lamb * dolfin.div(u) * dolfin.Identity(2) + 2*mu * epsilon(u)\n",
    "    \n",
    "    return sigma"
   ]
  },
  {
   "cell_type": "markdown",
   "metadata": {},
   "source": [
    "## 5) Name `u` the `TrialFunction` and `v` the `TestFunction`"
   ]
  },
  {
   "cell_type": "code",
   "execution_count": 61,
   "metadata": {},
   "outputs": [],
   "source": [
    "u = dolfin.TrialFunction(V)\n",
    "v = dolfin.TestFunction(V)"
   ]
  },
  {
   "cell_type": "markdown",
   "metadata": {},
   "source": [
    "## 6) Introduce the bilinear form\n",
    "\n",
    "\\begin{equation}\n",
    "\\int_\\Omega \\sigma(\\varepsilon(u)):\\varepsilon(v)\\,\\mathrm{d}x\\,\\mathrm{d}y\n",
    "\\end{equation}\n",
    "\n",
    "What is the difference between `dolfin.dot( )` and `dolfin.inner( )` ?\n",
    "\n",
    "$\\underline{Response}$ : dolfin.inner works for both tensors and vectors while dolfin.dot works to build vectors only."
   ]
  },
  {
   "cell_type": "code",
   "execution_count": 62,
   "metadata": {},
   "outputs": [],
   "source": [
    "a = dolfin.inner(sigma(u), epsilon(v))*dolfin.dx"
   ]
  },
  {
   "cell_type": "markdown",
   "metadata": {},
   "source": [
    "## 7) Introduce the linear form\n",
    "\n",
    "\\begin{equation}\n",
    "-\\int_{\\Omega}\\rho g\\,e_y\\cdot v\\,\\mathrm{d} x\\,\\mathrm{d} y.\n",
    "\\end{equation}"
   ]
  },
  {
   "cell_type": "code",
   "execution_count": 63,
   "metadata": {},
   "outputs": [],
   "source": [
    "# here we use the value\n",
    "g   = 1. # adimensionate gravity\n",
    "rho = 1. # adimensionate volumic mass of the structure\n",
    "\n",
    "f = dolfin.Constant((0, -rho*g))\n",
    "l = dolfin.dot(f, v)*dolfin.dx"
   ]
  },
  {
   "cell_type": "markdown",
   "metadata": {},
   "source": [
    "## 8)  Boundary conditions\n",
    "\n",
    "Dirichelet Boundary Condition: $u(0,x_2)=0 \\quad  \\forall x_2 \\in [-\\frac{d}{2},\\frac{d}{2}]$\n",
    "\n",
    "As $x_1=0$ is not well defined in our mesh, we write \n",
    "\n",
    "$u(x_1,x_2)=0 \\quad \\forall x_1 \\ll L  \\text{ and } \\forall x_2 \\in [-\\frac{d}{2},\\frac{d}{2}]$\n"
   ]
  },
  {
   "cell_type": "code",
   "execution_count": 64,
   "metadata": {},
   "outputs": [],
   "source": [
    "# define boundary x=0\n",
    "\n",
    "clamped    = 'near(x[0], 0)' #close to x[0]==0. Maybe must include a tolerence factor ??\n",
    "\n",
    "BC_clamped = dolfin.DirichletBC(V, dolfin.Constant((0,0)), clamped)"
   ]
  },
  {
   "cell_type": "markdown",
   "metadata": {},
   "source": [
    "## 9) Solving the discretized problem"
   ]
  },
  {
   "cell_type": "code",
   "execution_count": 65,
   "metadata": {},
   "outputs": [],
   "source": [
    "# We introduce the solution we are looking as a Function \n",
    "\n",
    "usol = dolfin.Function(V)"
   ]
  },
  {
   "cell_type": "code",
   "execution_count": 66,
   "metadata": {},
   "outputs": [
    {
     "data": {
      "text/plain": [
       "<matplotlib.quiver.Quiver at 0x7fb584d21a90>"
      ]
     },
     "execution_count": 66,
     "metadata": {},
     "output_type": "execute_result"
    },
    {
     "data": {
      "image/png": "[encoded data removed]",
      "text/plain": [
       "<Figure size 432x288 with 1 Axes>"
      ]
     },
     "metadata": {
      "needs_background": "light"
     },
     "output_type": "display_data"
    }
   ],
   "source": [
    "# And we solve the linear problem using \n",
    "\n",
    "dolfin.solve(a == l, usol, BC_clamped)\n",
    "\n",
    "# dolfin.plot(mesh)\n",
    "dolfin.plot(usol)"
   ]
  },
  {
   "cell_type": "markdown",
   "metadata": {},
   "source": [
    "## 10) Using linear beam theory, we plot the vertical deflection of the solution \n",
    "\n",
    "$$H(x_1)=u_2(x_1,0)$$"
   ]
  },
  {
   "cell_type": "code",
   "execution_count": 67,
   "metadata": {},
   "outputs": [],
   "source": [
    "# we introduce the coefficients\n",
    "D     = E/(1.-nu**2) * d**3/12. #E*I #bending rigidity of an elastic plate\n",
    "\n",
    "k     = .2 # unknown coefficient that we want to find (it is not equal to 0.2)\n",
    "v_max = k*g*d/D # maximum vertical deflection, from linear 'beam' theory "
   ]
  },
  {
   "cell_type": "markdown",
   "metadata": {},
   "source": [
    "$$ H(x_1) = H_\\text{max} \\, \\left ( - \\frac{1}{3} \\, x_1^4 - \\frac{4}{3} \\, x_1 + \\frac{1}{3} \\right) $$"
   ]
  },
  {
   "cell_type": "markdown",
   "metadata": {},
   "source": [
    "### Analytical deflection"
   ]
  },
  {
   "cell_type": "code",
   "execution_count": 68,
   "metadata": {},
   "outputs": [
    {
     "data": {
      "text/plain": [
       "<matplotlib.legend.Legend at 0x7fb584b90ba8>"
      ]
     },
     "execution_count": 68,
     "metadata": {},
     "output_type": "execute_result"
    },
    {
     "data": {
      "image/png": "[encoded data removed]",
      "text/plain": [
       "<Figure size 432x288 with 1 Axes>"
      ]
     },
     "metadata": {
      "needs_background": "light"
     },
     "output_type": "display_data"
    }
   ],
   "source": [
    "x     = np.linspace(0., L, num=50)\n",
    "v_ana = v_max * (-1./3.*(x-1.)**4 - 4./3.*x + 1/3)\n",
    "\n",
    "plt.plot(x, v_ana, label='Beam theory')\n",
    "plt.xlabel('x[0]',color='red',fontsize=15)\n",
    "plt.ylabel('v',color='red',fontsize=15)\n",
    "plt.legend()"
   ]
  },
  {
   "cell_type": "markdown",
   "metadata": {},
   "source": [
    "### Numerical deflection"
   ]
  },
  {
   "cell_type": "code",
   "execution_count": 76,
   "metadata": {},
   "outputs": [
    {
     "data": {
      "text/plain": [
       "<matplotlib.legend.Legend at 0x7fb584cf19e8>"
      ]
     },
     "execution_count": 76,
     "metadata": {},
     "output_type": "execute_result"
    },
    {
     "data": {
      "image/png": "[encoded data removed]",
      "text/plain": [
       "<Figure size 432x288 with 1 Axes>"
      ]
     },
     "metadata": {
      "needs_background": "light"
     },
     "output_type": "display_data"
    }
   ],
   "source": [
    "v_num = np.array([usol(_,0) for _ in x]) #from dolfin to array\n",
    "\n",
    "plt.plot(x, v_num[:,1], label='numerical solution')\n",
    "\n",
    "plt.title('Numerical deflection obtained through FEniCS, using Lagrange order 1 basis functions')\n",
    "plt.xlabel('x[0]',       color='red', fontsize=15)\n",
    "plt.ylabel(r'$v_{num}$', color='red', fontsize=15)\n",
    "\n",
    "plt.legend()"
   ]
  },
  {
   "cell_type": "markdown",
   "metadata": {},
   "source": [
    "As both graph don't fit initially, we look for coefficient k that best fit numerical result from analytical formula."
   ]
  },
  {
   "cell_type": "markdown",
   "metadata": {},
   "source": [
    "## 11) On this plot, we add the plot of the numerically found  $u_2(x_1,0)$ and we change the value of $k$ for the two plots to coincide"
   ]
  },
  {
   "cell_type": "code",
   "execution_count": 82,
   "metadata": {},
   "outputs": [
    {
     "data": {
      "image/png": "[encoded data removed]",
      "text/plain": [
       "<Figure size 432x288 with 1 Axes>"
      ]
     },
     "metadata": {
      "needs_background": "light"
     },
     "output_type": "display_data"
    }
   ],
   "source": [
    "def v_ana(k):\n",
    "\n",
    "    \"\"\" Function testing different coefficient k to fit \n",
    "    numerical solution u_num from analytical solution u_ana \"\"\"\n",
    "    \n",
    "    x     = np.linspace(0, L, num=50)\n",
    "    v_max = k * g*d/D #with g, d & D given\n",
    "    \n",
    "    v_ana = v_max * (-1./3.*(x-1.)**4 - 4./3.*x + 1/3)\n",
    "    \n",
    "    return v_ana\n",
    "\n",
    "# ------------------------------------------------------\n",
    "# Find factor k minimizing the L2 error\n",
    "\n",
    "size_error = 100\n",
    "error_L2   = np.zeros((size_error))\n",
    "\n",
    "k          = np.array([1/size_error * _ for _ in range(size_error)])\n",
    "\n",
    "for i in range(np.size(k)):\n",
    "        \n",
    "    error_L2[i] = np.linalg.norm(v_ana(k[i]) - v_num[:,1])\n",
    "\n",
    "idx  = np.where(error_L2==np.min(error_L2))\n",
    "\n",
    "# --------------------------------------------\n",
    "# check if we found the good k\n",
    "\n",
    "plt.plot(x, v_num[:,1], x, v_ana(k[idx]))\n",
    "\n",
    "plt.title('Comparison num and theoretical deflection, \\\n",
    "obtained through FEniCS, using Lagrange order 1 basis functions')\n",
    "\n",
    "plt.xlabel('x[0]',       color='red', fontsize=15)\n",
    "plt.ylabel(r'$v$', color='red', fontsize=15)\n",
    "\n",
    "plt.legend(['numerical solution', 'analitical solution'])\n",
    "plt.grid(True)"
   ]
  },
  {
   "cell_type": "markdown",
   "metadata": {},
   "source": [
    "$\\Rightarrow$ The solution best feet when :\n",
    "* the order of basis function is higher (quadratic $\\rightarrow$ cubic $\\rightarrow$ etc)\n",
    "* the number of grid points : more grid points, more continuity so the code might solve closer to reality ??"
   ]
  },
  {
   "cell_type": "markdown",
   "metadata": {},
   "source": [
    "## 12) We plot the deformed beam, hanging under its own weight"
   ]
  },
  {
   "cell_type": "code",
   "execution_count": 83,
   "metadata": {},
   "outputs": [
    {
     "data": {
      "image/png": "[encoded data removed]",
      "text/plain": [
       "<Figure size 432x288 with 1 Axes>"
      ]
     },
     "metadata": {
      "needs_background": "light"
     },
     "output_type": "display_data"
    }
   ],
   "source": [
    "# instead of plotting usol, we plot usol/Hmax with the correct value of k\n",
    "dolfin.plot(usol/v_max, mode='displacement')\n",
    "\n",
    "plt.grid(True)"
   ]
  },
  {
   "cell_type": "markdown",
   "metadata": {},
   "source": [
    "$\\Rightarrow$ **To conclude, using FEniCS, we have been able to get numerical displacement of the beam both along $x[0]$ and $x[1]$.\n",
    "Then, provided the analytical solution of verical deflection of the beam under its own weight, we compared both results. An application may be that if one doesn't entirely know the analytical solution, we here get this variable through energy minimization.**\n",
    "\n",
    "**In another context, instead of comparing analytical to numeric, one can compare analytical to experimental and see the factor for which exp$\\approx$analytical function.**"
   ]
  }
 ],
 "metadata": {
  "kernelspec": {
   "display_name": "Python 3",
   "language": "python",
   "name": "python3"
  },
  "language_info": {
   "codemirror_mode": {
    "name": "ipython",
    "version": 3
   },
   "file_extension": ".py",
   "mimetype": "text/x-python",
   "name": "python",
   "nbconvert_exporter": "python",
   "pygments_lexer": "ipython3",
   "version": "3.6.9"
  }
 },
 "nbformat": 4,
 "nbformat_minor": 4
}
