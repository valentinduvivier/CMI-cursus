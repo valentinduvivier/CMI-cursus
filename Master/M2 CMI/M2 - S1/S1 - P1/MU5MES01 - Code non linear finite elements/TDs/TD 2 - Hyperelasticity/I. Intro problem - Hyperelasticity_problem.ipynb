{
 "cells": [
  {
   "cell_type": "markdown",
   "metadata": {},
   "source": [
    "# Introduction to nonlinear elasticity: deflection of a heavy hyperelastic beam \n",
    "\n",
    "In this notebook we give an example for the solution of a problem of nonlinear elasticity.\n",
    "\n",
    "We focus on the simple problem of a cantilever beam loaded only by its own weight.\n",
    "\n",
    "We exploit `UFL` features for automatic symbolic differentiation and formulate the problem by writing the potential energy of the system. \n",
    "\n",
    "We will use here the FEniCS  build-in nonlinear Netwon solver to solve the problem.\n",
    "\n",
    "We strongly suggest to read also the fully commented`FEniCS` demo on hypelasticity \n",
    "https://fenicsproject.org/docs/dolfin/2019.1.0/python/demos/hyperelasticity/demo_hyperelasticity.py.html.\n",
    "\n",
    "The comments in this noteboook are complentary to those provided  in the FEniCS demo"
   ]
  },
  {
   "cell_type": "markdown",
   "metadata": {},
   "source": [
    "## Basic import statements and parameters"
   ]
  },
  {
   "cell_type": "code",
   "execution_count": 1,
   "metadata": {},
   "outputs": [],
   "source": [
    "import numpy as np\n",
    "import matplotlib.pyplot as plt\n",
    "\n",
    "import dolfin\n",
    "import mshr\n",
    "import ufl\n",
    "\n",
    "dolfin.parameters[\"form_compiler\"][\"cpp_optimize\"] = True\n",
    "dolfin.parameters[\"form_compiler\"][\"representation\"] = \"uflacs\"\n",
    "plt.style.use('seaborn-notebook')\n",
    "%matplotlib inline"
   ]
  },
  {
   "cell_type": "markdown",
   "metadata": {},
   "source": [
    "## Problem and solver setting"
   ]
  },
  {
   "cell_type": "markdown",
   "metadata": {},
   "source": [
    "Create a mesh and the `ds` measures with boundary indicators "
   ]
  },
  {
   "cell_type": "code",
   "execution_count": 2,
   "metadata": {},
   "outputs": [
    {
     "data": {
      "text/plain": [
       "[<matplotlib.lines.Line2D at 0x7fbb29a42390>,\n",
       " <matplotlib.lines.Line2D at 0x7fbb29a427b8>]"
      ]
     },
     "execution_count": 2,
     "metadata": {},
     "output_type": "execute_result"
    },
    {
     "data": {
      "image/png": "[encoded data removed]",
      "text/plain": [
       "<Figure size 432x288 with 1 Axes>"
      ]
     },
     "metadata": {
      "needs_background": "light"
     },
     "output_type": "display_data"
    }
   ],
   "source": [
    "# Mesh\n",
    "\n",
    "Lx, Ly = 1., .1\n",
    "nx   = 20\n",
    "\n",
    "p0   = dolfin.Point(0,0)\n",
    "p1   = dolfin.Point(Lx,Ly)\n",
    "\n",
    "geom = mshr.Rectangle(p0, p1)\n",
    "mesh = mshr.generate_mesh(geom, nx)\n",
    "\n",
    "# mesh = dolfin.RectangleMesh(p0, p1, nx, nx) #why is it any different\n",
    "\n",
    "# Mark boundary subdomains\n",
    "left   = dolfin.CompiledSubDomain(\"near(x[0],0)  && on_boundary\")\n",
    "right  = dolfin.CompiledSubDomain(\"near(x[0],Lx) && on_boundary\",Lx=Lx)\n",
    "bottom = dolfin.CompiledSubDomain(\"near(x[1],0)  && on_boundary\")\n",
    "top    = dolfin.CompiledSubDomain(\"near(x[1],Ly) && on_boundary\",Ly=Ly)\n",
    "\n",
    "# Mark facets for Neumann BCs\n",
    "boundary_indices = {'left':   1,\n",
    "                    'right':  2,\n",
    "                    'top':    3,\n",
    "                    'bottom': 4}\n",
    "\n",
    "boundary_markers = dolfin.MeshFunction(\"size_t\",\n",
    "                                       mesh    ,\n",
    "                                       dim=1   ,\n",
    "                                       value=0 )\n",
    "\n",
    "left.mark(  boundary_markers, boundary_indices[\"left\"  ])\n",
    "right.mark( boundary_markers, boundary_indices[\"right\" ])\n",
    "top.mark(   boundary_markers, boundary_indices[\"top\"   ])\n",
    "bottom.mark(boundary_markers, boundary_indices[\"bottom\"])\n",
    "\n",
    "# Redefine element of area to include information about the markers\n",
    "ds = dolfin.ds(domain=mesh, subdomain_data=boundary_markers)\n",
    "dx = dolfin.dx(domain=mesh)\n",
    "dolfin.plot(mesh)"
   ]
  },
  {
   "cell_type": "markdown",
   "metadata": {},
   "source": [
    "We save the markers in an XDMF file that can be opened in paraview."
   ]
  },
  {
   "cell_type": "code",
   "execution_count": 3,
   "metadata": {},
   "outputs": [],
   "source": [
    "with dolfin.XDMFFile(\"mesh_functions.xdmf\") as f:\n",
    "    f.write(boundary_markers)"
   ]
  },
  {
   "cell_type": "markdown",
   "metadata": {},
   "source": [
    " We define now the finite element space for the displacement u"
   ]
  },
  {
   "cell_type": "code",
   "execution_count": 4,
   "metadata": {},
   "outputs": [],
   "source": [
    "V_element = dolfin.VectorElement('CG', ufl.triangle, degree=2) \n",
    "V = dolfin.FunctionSpace(mesh, V_element)\n",
    "u = dolfin.Function(V, name=\"u\")"
   ]
  },
  {
   "cell_type": "markdown",
   "metadata": {},
   "source": [
    " Let us introduce now some useful definition for the kinematics.\n",
    " These expresions are symbolic operators of UFL.\n",
    " At this level no computation is performed."
   ]
  },
  {
   "cell_type": "code",
   "execution_count": 5,
   "metadata": {},
   "outputs": [],
   "source": [
    "# Kinematics \n",
    "I  = ufl.Identity(2)    # Identity tensor\n",
    "F  = ufl.variable(I + ufl.grad(u)) # u = displacement x - x_0  \n",
    "C  = F.T*F                   \n",
    "\n",
    "Ic = ufl.tr(C)\n",
    "J  = ufl.det(F)\n",
    "\n",
    "E  = 1/2*(C-I)\n",
    "# Stored strain energy density (compressible neo-Hookean model)\n",
    "\n",
    "# ------------\n",
    "\n",
    "# Elasticity parameters (plane-stress)\n",
    "Y, nu     = 1.e3, 0.3\n",
    "mu, lmbda = dolfin.Constant(Y/(2*(1 + nu))), dolfin.Constant(Y*nu/((1 + nu)*(1 - 2*nu)))\n",
    "\n",
    "# line to redifine lambda if one considers plane strains/stresses\n",
    "lmbda     = 2*lmbda*mu/(lmbda + 2*mu)\n",
    "\n",
    "psi = lmbda*ufl.tr(E)**2/2+mu*ufl.inner(E,E) #==elastic energy with Hooke Law with eps=E"
   ]
  },
  {
   "cell_type": "markdown",
   "metadata": {},
   "source": [
    " We can have an automatic symbolic derivation of the strain energy density to define the First Piola-Kirchhoff stress \n",
    " \n",
    " $${P}=\\dfrac{\\partial\\Psi}{\\partial F}$$\n",
    " \n",
    " To this end we use the `diff` operator of `UFL`(https://fenics.readthedocs.io/projects/ufl/en/latest/manual/form_language.html#variable-derivatives).\n",
    " \n",
    " Its use requires to define the symbol of the derivation variable as a `UFL` `variable`. \n",
    " That is the reason why `F` in the preivous cell is defined as a `ufl.variable`.\n"
   ]
  },
  {
   "cell_type": "code",
   "execution_count": 6,
   "metadata": {},
   "outputs": [],
   "source": [
    "P = ufl.diff(psi, F) \n",
    "n = dolfin.FacetNormal(mesh) # normal to the mesh"
   ]
  },
  {
   "cell_type": "markdown",
   "metadata": {},
   "source": [
    "Hence, we can define the bulk force (`b0`) and surface traction (`g0`) and the total potential energy functional. in this example they are initially set to `0`."
   ]
  },
  {
   "cell_type": "code",
   "execution_count": 7,
   "metadata": {},
   "outputs": [],
   "source": [
    "b0 = dolfin.Expression((\"0.0\", \"mu*t\"), t=0, mu=mu, degree=0)  \n",
    "g0 = mu*dolfin.Constant((0., 0.)) \n",
    "\n",
    "# Total potential energy\n",
    "potential_energy = psi*dx - ufl.dot(b0, u)*dx - ufl.dot(g0, u)*ds(boundary_indices['right'])"
   ]
  },
  {
   "cell_type": "markdown",
   "metadata": {},
   "source": [
    "As a Dirichlet Boundary condition, we block the left-end"
   ]
  },
  {
   "cell_type": "code",
   "execution_count": 8,
   "metadata": {},
   "outputs": [],
   "source": [
    "bcs = [dolfin.DirichletBC(V, (0.,0.), left)]"
   ]
  },
  {
   "cell_type": "markdown",
   "metadata": {},
   "source": [
    "The variational problem to solve is the minimization of the potential energy with the given boundary conditions.\n",
    "\n",
    "The problem is nonlinear and requires the use of a Newton solver. \n",
    "\n",
    "To this end we need to define the  *residual*, given by the first derivative of the energy, and the *Jacobian* (or *Hessian*), given by second directional derivative of the energy.\n",
    "\n",
    "In FEniCS, thanks to the symbolic differentiation tools provided by `UFL` this can be done automatically, without effort from the user.\n",
    "\n",
    "To this end we use the `derivative` function from `UFL` which allows us to calculate the directional derivative of a form.\n",
    "We refer to the `UFL` manual for the syntax: https://fenics.readthedocs.io/projects/ufl/en/latest/manual/form_language.html#ad\n"
   ]
  },
  {
   "cell_type": "code",
   "execution_count": 9,
   "metadata": {},
   "outputs": [],
   "source": [
    "# Compute first variation of the potential energy (directional derivative about u in the direction of v)\n",
    "residual = ufl.derivative(potential_energy, u, dolfin.TestFunction(V)) #==eps' with eps the potential energy\n",
    "\n",
    "# Compute Jacobian of the energy\n",
    "jacobian = ufl.derivative(residual, u, dolfin.TrialFunction(V)) #==eps'' with eps the potential energy"
   ]
  },
  {
   "cell_type": "markdown",
   "metadata": {},
   "source": [
    "All the informations about the variational problem to be solved  (residual, jacobian, bcs, and indipendent variable) can be  collected in the dolfin class `NonlinearVariationalProblem` https://fenicsproject.org/docs/dolfin/2019.1.0/cpp/db/d3d/classdolfin_1_1NonlinearVariationalProblem.html"
   ]
  },
  {
   "cell_type": "code",
   "execution_count": 10,
   "metadata": {},
   "outputs": [],
   "source": [
    "# Set the variational problem\n",
    "problem = dolfin.NonlinearVariationalProblem(residual, u, bcs=bcs, J=jacobian)"
   ]
  },
  {
   "cell_type": "markdown",
   "metadata": {},
   "source": [
    "We can define then a nonlinear solver class, provided by FEniCS.\n",
    "This solver can implement the basic newton method or more complex nonlinear solvers (that we will not discuss in class).\n",
    "A long list of parameters can be specified. \n",
    "All the nonlinear solver available in `PETSc` can be used. We suggest the reading of the PETSC user manual (Chapter 5, SNES Solver). "
   ]
  },
  {
   "cell_type": "code",
   "execution_count": 11,
   "metadata": {},
   "outputs": [],
   "source": [
    "# dolfin.PETScOptions.set(\"help\",1)\n",
    "solver = dolfin.NonlinearVariationalSolver(problem)\n",
    "dolfin.info(solver.parameters, True)\n",
    "\n",
    "#solver.parameters.update({\"nonlinear_solver\":\"snes\"})\n",
    "#dolfin.PETScOptions.set(\"snes_type\",\"newtonls\")"
   ]
  },
  {
   "cell_type": "markdown",
   "metadata": {},
   "source": [
    "## Solve the static nonlinear problem"
   ]
  },
  {
   "cell_type": "markdown",
   "metadata": {},
   "source": [
    "We can now solve the problem. \n",
    "To start let us initialize the solution at $u=(0,0)$ and set vanishing loads\n"
   ]
  },
  {
   "cell_type": "code",
   "execution_count": 12,
   "metadata": {},
   "outputs": [
    {
     "data": {
      "text/plain": [
       "Text(0.5, 1.0, 'Solution with vanishing force converged with 0 iterations and reason 1')"
      ]
     },
     "execution_count": 12,
     "metadata": {},
     "output_type": "execute_result"
    },
    {
     "data": {
      "image/png": "[encoded data removed]",
      "text/plain": [
       "<Figure size 432x288 with 2 Axes>"
      ]
     },
     "metadata": {
      "needs_background": "light"
     },
     "output_type": "display_data"
    }
   ],
   "source": [
    "# Data\n",
    "b0.t = 0.0 # no volumic force\n",
    "u.interpolate(dolfin.Constant((0.,0.))) # initial guess\n",
    "\n",
    "# Solve\n",
    "niterations, reason = solver.solve()\n",
    "\n",
    "# Display\n",
    "\n",
    "plt.colorbar(dolfin.plot(u, mode=\"displacement\"), orientation=\"horizontal\")\n",
    "plt.title(\"Solution with vanishing force converged with {:d} iterations and reason {:b}\".format(niterations,reason))"
   ]
  },
  {
   "cell_type": "markdown",
   "metadata": {},
   "source": [
    "Without surprise the solution is null because the loading is null.\n",
    "The solver gives the output: the number of newton iterations required and the reason (`1`: converged, `0`: non-converged)\n",
    "\n",
    "Let us increase sligtly the volume force. Always initializing at $u=(0,0)$. "
   ]
  },
  {
   "cell_type": "code",
   "execution_count": 29,
   "metadata": {},
   "outputs": [
    {
     "data": {
      "text/plain": [
       "<matplotlib.colorbar.Colorbar at 0x7fbb23f65ac8>"
      ]
     },
     "execution_count": 29,
     "metadata": {},
     "output_type": "execute_result"
    },
    {
     "data": {
      "image/png": "[encoded data removed]",
      "text/plain": [
       "<Figure size 576x396 with 2 Axes>"
      ]
     },
     "metadata": {
      "needs_background": "light"
     },
     "output_type": "display_data"
    }
   ],
   "source": [
    "# Data\n",
    "b0.t = -.001\n",
    "u.interpolate(dolfin.Constant((0.,0.)))\n",
    "\n",
    "# Solve\n",
    "solver.solve()\n",
    "\n",
    "# Display\n",
    "plt.colorbar(dolfin.plot(u, mode=\"displacement\"), orientation=\"horizontal\")"
   ]
  },
  {
   "cell_type": "markdown",
   "metadata": {},
   "source": [
    "We get a reasonable solution, showing the deflection of the beam under its own weight. \n",
    "As a quantitative output we can get the average displacement at the rigth end.\n",
    "\n",
    "\n",
    "Notes on the `python` synthax used below:\n",
    "- For string formatting syntax see https://pyformat.info/\n",
    "- list comprehension to generate a vector https://www.datacamp.com/community/tutorials/python-list-comprehension\n",
    "- We use `*` to unpack a list https://docs.python.org/2/tutorial/controlflow.html#unpacking-argument-lists\n"
   ]
  },
  {
   "cell_type": "code",
   "execution_count": 14,
   "metadata": {},
   "outputs": [
    {
     "name": "stdout",
     "output_type": "stream",
     "text": [
      "The average displacement at the right end is u=(-0.0019,0.0580)\n"
     ]
    }
   ],
   "source": [
    "uR = [dolfin.assemble(u[i]*ds(2))/Ly for i in [0, 1]] # assemble==integral so we consider the value at right hand side (2nd edge) by calculating mean value.\n",
    "print(\"The average displacement at the right end is u=({:.4f},{:.4f})\".format(*uR))"
   ]
  },
  {
   "cell_type": "markdown",
   "metadata": {},
   "source": [
    "We can calculate the total reaction force at the left end to double-check against what we expect from global equilibrium:"
   ]
  },
  {
   "cell_type": "code",
   "execution_count": 15,
   "metadata": {},
   "outputs": [
    {
     "name": "stdout",
     "output_type": "stream",
     "text": [
      "The total reaction force at the left end is (0.0186,-0.0367)\n",
      "The expected value is (+0.0000,+0.0385)\n"
     ]
    }
   ],
   "source": [
    "fL = [dolfin.assemble((P*n)[i]*ds(1)) for i in [0, 1]]\n",
    "fL_exact = [dolfin.assemble(b0[i]*dx) for i in [0, 1]]\n",
    "print(\"The total reaction force at the left end is ({:.4f},{:.4f})\".format(*fL))\n",
    "print(\"The expected value is ({:+.4f},{:+.4f})\".format(*fL_exact))"
   ]
  },
  {
   "cell_type": "markdown",
   "metadata": {},
   "source": [
    "The error is non-negligible. \n",
    "- Convergence toward the expected value can be obtained after mesh refinement or increasing the interpolation order of the basis functions. \n",
    "- You can check also that the error will be very relevant with linear elements. The presence of body loading render linear elements non optimal. Have you an explication for this fact? "
   ]
  },
  {
   "cell_type": "markdown",
   "metadata": {},
   "source": [
    "## Solve of a quasi-static evolution problem with continuation"
   ]
  },
  {
   "cell_type": "markdown",
   "metadata": {},
   "source": [
    "Consider now to increment slowly the loading with time. \n",
    "We discretise the time in $n_t$ time-steps of equal length. \n",
    "At each time step $t_i$, the solution of the problem can be obtained by initializing the newton solver  with the solution of the previous time-step. This will greatly facilitate the convergence of the Newton algorithm. \n",
    "\n",
    "It sufficies to perform a `for` loop as follows. Note the initialization of the Newton algorithm at each time step is done with the latest solution available which is stored in memory.\n",
    "\n",
    "For visualisation, we store the solution in an `XDMF` file, that we can open with `paraview`."
   ]
  },
  {
   "cell_type": "markdown",
   "metadata": {},
   "source": [
    "\n",
    "*Remark:* \n",
    "- The initialization of the solution before starting the solver is fundamental in nonlinear problems, because the solution can be not unique. \n",
    "\n",
    "- Smaller time-steps generally helps convergence. Nonlinear solves can not converge for large time-step because the initialization of the newton solver is not close enough to a possible solution.\n",
    "\n",
    "- Newton solvers converge very quickly (quadratic convergence rate) when they are close to a possible solution of the system to solve. But they can stagnate or diverge is they are not correctly initialized. \n",
    "\n",
    "- You can monitor the interation of the Newton solver in the terminal window where you launched `jupyter`.\n",
    "\n",
    "You can play to test these points\n"
   ]
  },
  {
   "cell_type": "code",
   "execution_count": 16,
   "metadata": {},
   "outputs": [
    {
     "name": "stdout",
     "output_type": "stream",
     "text": [
      "t=+0.000, u=+0.000\n",
      "t=+0.001, u=-0.059\n",
      "t=+0.002, u=-0.117\n",
      "t=+0.003, u=-0.174\n",
      "t=+0.004, u=-0.228\n",
      "t=+0.005, u=-0.279\n",
      "t=+0.006, u=-0.326\n",
      "t=+0.007, u=-0.370\n",
      "t=+0.008, u=-0.411\n",
      "t=+0.009, u=-0.448\n",
      "t=+0.010, u=-0.482\n",
      "t=+0.011, u=-0.513\n",
      "t=+0.012, u=-0.542\n",
      "t=+0.013, u=-0.568\n",
      "t=+0.014, u=-0.591\n",
      "t=+0.015, u=-0.613\n",
      "t=+0.016, u=-0.632\n",
      "t=+0.017, u=-0.650\n",
      "t=+0.018, u=-0.667\n",
      "t=+0.019, u=-0.682\n",
      "t=+0.020, u=-0.696\n",
      "t=+0.021, u=-0.709\n",
      "t=+0.022, u=-0.720\n",
      "t=+0.023, u=-0.731\n",
      "t=+0.024, u=-0.742\n",
      "t=+0.026, u=-0.751\n",
      "t=+0.027, u=-0.760\n",
      "t=+0.028, u=-0.768\n",
      "t=+0.029, u=-0.776\n",
      "t=+0.030, u=-0.783\n",
      "t=+0.031, u=-0.790\n",
      "t=+0.032, u=-0.796\n",
      "t=+0.033, u=-0.802\n",
      "t=+0.034, u=-0.808\n",
      "t=+0.035, u=-0.813\n",
      "t=+0.036, u=-0.818\n",
      "t=+0.037, u=-0.823\n",
      "t=+0.038, u=-0.827\n",
      "t=+0.039, u=-0.831\n",
      "t=+0.040, u=-0.836\n",
      "t=+0.041, u=-0.839\n",
      "t=+0.042, u=-0.843\n",
      "t=+0.043, u=-0.847\n",
      "t=+0.044, u=-0.850\n",
      "t=+0.045, u=-0.853\n",
      "t=+0.046, u=-0.857\n",
      "t=+0.047, u=-0.860\n",
      "t=+0.048, u=-0.862\n",
      "t=+0.049, u=-0.865\n",
      "t=+0.050, u=-0.868\n"
     ]
    },
    {
     "data": {
      "image/png": "[encoded data removed]",
      "text/plain": [
       "<Figure size 432x288 with 1 Axes>"
      ]
     },
     "metadata": {
      "needs_background": "light"
     },
     "output_type": "display_data"
    },
    {
     "data": {
      "image/png": "[encoded data removed]",
      "text/plain": [
       "<Figure size 432x288 with 1 Axes>"
      ]
     },
     "metadata": {
      "needs_background": "light"
     },
     "output_type": "display_data"
    }
   ],
   "source": [
    "loads = np.linspace(0, .05, 50)\n",
    "displ = np.zeros_like(loads)\n",
    "\n",
    "u.interpolate(dolfin.Constant((0., 0.))) # initial guess\n",
    "\n",
    "file_u = dolfin.XDMFFile(\"output/u.xdmf\")\n",
    "file_u.parameters.update({\"flush_output\": True,\n",
    "                          \"functions_share_mesh\": True,\n",
    "                          \"rewrite_function_mesh\":False})\n",
    "\n",
    "# loop to get value of vertical displacement as a function of loading\n",
    "for (i, t) in enumerate(loads):\n",
    "    b0.t = -t # volumic force (downwards)\n",
    "    solver.solve() # solve\n",
    "    \n",
    "    displ[i] = dolfin.assemble(u[1]*ds(2))/Ly # mean at rhs for v again\n",
    "    print(\"t={:+3.3f}, u={:+3.3f}\".format(t, displ[i]))\n",
    "    \n",
    "    plt.figure(1)\n",
    "    dolfin.plot(u, mode = \"displacement\")\n",
    "    \n",
    "    with file_u as file:\n",
    "        file.write(u,t) # save values displacement as a function of time\n",
    "\n",
    "# ---------\n",
    "\n",
    "plt.figure(2)\n",
    "\n",
    "plt.plot(loads, displ, \"o\")\n",
    "plt.xlabel(\"load\")\n",
    "plt.ylabel(r\"$\\int_{0}^{L_y} u_y(L_x, y)dy \\equiv u_y(L_x, \\frac{L_y}{2})$\")\n",
    "\n",
    "plt.grid(True)"
   ]
  },
  {
   "cell_type": "markdown",
   "metadata": {},
   "source": [
    "One can see we are linear at first for low loadings (and so low displacement) and then disp is non-linear."
   ]
  },
  {
   "cell_type": "markdown",
   "metadata": {},
   "source": [
    "# Wrap up"
   ]
  },
  {
   "cell_type": "markdown",
   "metadata": {},
   "source": [
    "Let us refactor the nonlinear solver in a function that resume the code required to solve the problem."
   ]
  },
  {
   "cell_type": "markdown",
   "metadata": {},
   "source": [
    "## I. Elastic energy density"
   ]
  },
  {
   "cell_type": "code",
   "execution_count": 17,
   "metadata": {},
   "outputs": [],
   "source": [
    "# self consistent cell to solve the flexion problem in linearized case.\n",
    "# the linearisation is used with Newton method and works under a good \n",
    "# equilibrium between energy and time steps (e.g. if we consider b0 too big we have too big jump of energy when trying to minimize ???)\n",
    "\n",
    "# -----------\n",
    "# Libraries\n",
    "# -----------\n",
    "\n",
    "import numpy as np\n",
    "import matplotlib.pyplot as plt\n",
    "\n",
    "import dolfin\n",
    "import ufl\n",
    "\n",
    "dolfin.parameters[\"form_compiler\"][\"cpp_optimize\"] = True\n",
    "dolfin.parameters[\"form_compiler\"][\"representation\"] = \"uflacs\"\n",
    "plt.style.use('seaborn-notebook')\n",
    "\n",
    "# -----------\n",
    "#     Code\n",
    "# -----------\n",
    "\n",
    "def solve_elasticity(load_max=.3, nsteps=40, nload=5, load_min=0, nu=0.3, nx=20, ny=5, Lx=1, Ly=.1):\n",
    "    \n",
    "    \"\"\" Function solving the non-linear flexion of a 2D beam. \n",
    "    Entry parameters are initialize to provide a working example.\"\"\"\n",
    "        \n",
    "    # ------\n",
    "    #  mesh\n",
    "    # ------\n",
    "\n",
    "    dim    = 2\n",
    "    degree = 2\n",
    "    \n",
    "    mesh = dolfin.RectangleMesh(dolfin.Point(0, 0), dolfin.Point(Lx, Ly), nx, ny)\n",
    "    \n",
    "    # -----------\n",
    "    # boundaries\n",
    "    # -----------\n",
    "    \n",
    "    left = dolfin.CompiledSubDomain(\"near(x[0], 0) && on_boundary\")\n",
    "    right = dolfin.CompiledSubDomain(\"near(x[0], Lx) && on_boundary\", Lx=Lx)\n",
    "    boundary_markers = dolfin.MeshFunction(\"size_t\", mesh, dim=1, value=0)\n",
    "    \n",
    "    left_index = 1\n",
    "    right_index = 2\n",
    "    \n",
    "    left.mark(boundary_markers, left_index)\n",
    "    right.mark(boundary_markers, right_index)\n",
    "    \n",
    "    # -------\n",
    "    \n",
    "    # Variables weak formulation\n",
    "    \n",
    "    ds = dolfin.ds(domain=mesh,subdomain_data=boundary_markers)\n",
    "    dx = dolfin.dx(domain=mesh)\n",
    "    \n",
    "    V_element = dolfin.VectorElement('CG', \n",
    "                                     ufl.triangle, \n",
    "                                     degree=degree, \n",
    "                                     dim=dim)\n",
    "    \n",
    "    V  = dolfin.FunctionSpace(mesh, V_element)\n",
    "    u  = dolfin.Function(V, name=\"u\")\n",
    "    \n",
    "    # ---------\n",
    "    #  Tensors\n",
    "    # ---------\n",
    "\n",
    "    I  = ufl.Identity(dim)\n",
    "    F  = ufl.variable(I + ufl.grad(u))  \n",
    "    C  = F.T*F                   \n",
    "    \n",
    "    # ---------\n",
    "\n",
    "    Ic = ufl.tr(C)\n",
    "    J  = ufl.det(F)\n",
    "    E  = 1/2*(C-I)\n",
    "    Y  = 1.e3\n",
    "    \n",
    "    # -----------------------------------------\n",
    "    #  weakly incompressible Neo-Hookean mode \n",
    "    # -----------------------------------------\n",
    "\n",
    "    mu, lmbda = dolfin.Constant(Y/(2*(1 + nu))), dolfin.Constant(Y*nu/((1 + nu)*(1 - 2*nu)))\n",
    "    lmbda     = 2*lmbda*mu/(lmbda + 2*mu) \n",
    "#     psi_neo   = (mu/2)*(Ic - 2) - mu*ufl.ln(J) + (lmbda/2)*(ufl.ln(J))**2\n",
    "    psi = lmbda*ufl.tr(E)**2/2+mu*ufl.inner(E,E)\n",
    "    \n",
    "    # --------\n",
    "    #  Forces\n",
    "    # --------\n",
    "\n",
    "    b0    = dolfin.Expression((\"0.0\", \"t*mu\"), t=0, mu=mu, degree=0)  \n",
    "    g0    = mu*dolfin.Constant((0.0, 0.0)) \n",
    "    \n",
    "    # ------------------\n",
    "    #  Weak formulation\n",
    "    # ------------------\n",
    "\n",
    "    potential_energy = psi*dx - ufl.dot(b0, u)*dx - ufl.dot(g0, u)*ds(boundary_indices['right'])\n",
    "    residual = ufl.derivative(potential_energy, u, dolfin.TestFunction(V))\n",
    "    jacobian = ufl.derivative(residual, u, dolfin.TrialFunction(V))\n",
    "    \n",
    "    # Solving\n",
    "    bcs      = [dolfin.DirichletBC(V, (0., 0.), left)]\n",
    "    problem  = dolfin.NonlinearVariationalProblem(residual, u, bcs=bcs, J=jacobian)\n",
    "    solver   = dolfin.NonlinearVariationalSolver(problem)\n",
    "    \n",
    "    # minimize energy / save values\n",
    "    loads    = np.linspace(load_min, load_max, nload)\n",
    "    displ    = np.zeros((2, np.size(loads)))\n",
    "    \n",
    "    u.interpolate(dolfin.Constant((0.,0.)))\n",
    "    file_u   = dolfin.XDMFFile(\"output/u.xdmf\")\n",
    "    file_u.parameters.update({\"flush_output\": True,\n",
    "                              \"functions_share_mesh\": True,\n",
    "                              \"rewrite_function_mesh\": False})\n",
    "\n",
    "    for (i, t) in enumerate(loads):\n",
    "        \n",
    "        solver.solve()\n",
    "        b0.t = -t # downwards gravity force\n",
    "\n",
    "        # ---------------------------------------------\n",
    "        #  NOTE : we inversed position solver and b0.t\n",
    "        # ---------------------------------------------\n",
    "\n",
    "        displ[0, i] = dolfin.assemble(u[1]*ds(2))/Ly\n",
    "        displ[1, i] = dolfin.assemble(u[0]*ds(2))/Ly\n",
    "#         print(\"t={:+3.3f}, u={:+3.3f}\".format(t, displ[i]))\n",
    "        with file_u as file:\n",
    "            file.write(u, t)\n",
    "    \n",
    "#     plt.figure(2)\n",
    "#     plt.plot(loads, displ, \"o\")\n",
    "#     plt.xlabel(\"load\")\n",
    "#     plt.ylabel(\"end-displacement\")\n",
    "#     plt.savefig(\"output/displacement.png\")\n",
    "    \n",
    "    return (loads, displ, u)"
   ]
  },
  {
   "cell_type": "markdown",
   "metadata": {},
   "source": [
    "We can then test it:"
   ]
  },
  {
   "cell_type": "code",
   "execution_count": 18,
   "metadata": {},
   "outputs": [],
   "source": [
    "# loads, displ, usol = solve_elasticity(load_max=.3, nsteps=40, nload=5, load_min=0, nu=0.3, nx=20, ny=5, Lx=1, Ly=.1)"
   ]
  },
  {
   "cell_type": "markdown",
   "metadata": {},
   "source": [
    "#### Convergence"
   ]
  },
  {
   "cell_type": "markdown",
   "metadata": {},
   "source": [
    "Newton converges as long as we find a min energy. We then know minimisation point u0. \n",
    "\n",
    "The point then is to see how displacement behaves for different loading, and so see if convergence is influenced by loading (as loading influcences energy) ?"
   ]
  },
  {
   "cell_type": "markdown",
   "metadata": {},
   "source": [
    "### i. For loading of 0.3, we converge with 40 time steps."
   ]
  },
  {
   "cell_type": "markdown",
   "metadata": {},
   "source": [
    "### ii. For loading of 0.3, we trace seek min iteration to reach convergence, and so see limits of solver method."
   ]
  },
  {
   "cell_type": "code",
   "execution_count": 19,
   "metadata": {},
   "outputs": [
    {
     "name": "stdout",
     "output_type": "stream",
     "text": [
      "nb time step= 20.0\n",
      "nb time step= 19.0\n",
      "nb time step= 18.0\n",
      "nb time step= 17.0\n",
      "nb time step= 16.0\n",
      "nb time step= 15.0\n",
      "nb time step= 14.0\n",
      "nb time step= 13.0\n",
      "nb time step= 12.0\n",
      "nb time step= 11.0\n",
      "nb time step= 10.0\n",
      "nb time step= 9.0\n",
      "nb time step= 8.0\n",
      "nb time step= 7.0\n",
      "nb time step= 6.0\n",
      "nb time step= 5.0\n",
      "nb time step= 4.0\n",
      "nb time step= 3.0\n",
      "nb time step= 2.0\n",
      "nb time step= 1.0\n",
      "nb time step= 0.0\n"
     ]
    }
   ],
   "source": [
    "time_step = np.linspace(20, 0, 21)\n",
    "\n",
    "for dt in time_step:\n",
    "    print('nb time step=', dt)\n",
    "    loads, displ, usol = solve_elasticity(load_max=5., nsteps=dt, nload=5, load_min=0., nu=0.3, nx=20, ny=5, Lx=1, Ly=.1)"
   ]
  },
  {
   "cell_type": "markdown",
   "metadata": {},
   "source": [
    "It results that there is no limit of nb_iter. It moreover does so no matter what load we implement : is it physically reliable ? Method converges towards non-physical min ? Note that the shape of beam then doens't respect embedded BC to the left. \n",
    "\n",
    "Note that maybe a method that doesn't need to calculate solution again and again may be much better.\n",
    "\n",
    "Test much higher loads ???"
   ]
  },
  {
   "cell_type": "markdown",
   "metadata": {},
   "source": [
    "### iii. Low forces, y(L)/x(L) == what it means physically ??"
   ]
  },
  {
   "cell_type": "code",
   "execution_count": 20,
   "metadata": {},
   "outputs": [
    {
     "name": "stdout",
     "output_type": "stream",
     "text": [
      "Ongoing calculation\n",
      "...\n",
      "...\n",
      "...\n",
      "...\n",
      "...\n",
      "...\n",
      "...\n",
      "...\n",
      "...\n",
      "...\n",
      "...\n",
      "\n",
      "\n",
      "...\n",
      "...\n",
      "...\n",
      "...\n",
      "...\n",
      "...\n",
      "...\n",
      "...\n",
      "...\n",
      "...\n",
      "...\n",
      "Finished!\n"
     ]
    }
   ],
   "source": [
    "loading_low = np.linspace(0, 0.02, 11)\n",
    "\n",
    "print('Ongoing calculation')\n",
    "for load in loading_low:\n",
    "    print('...')\n",
    "    loads_low, displ_low, usol = solve_elasticity(load_max=load, nsteps=20, nload=np.size(loading_low), load_min=loading_low[0], nu=0.3, nx=20, ny=5, Lx=1, Ly=.1)\n",
    "\n",
    "# ---------------\n",
    "print('\\n')\n",
    "# ---------------\n",
    "\n",
    "loading_high = np.linspace(0, 0.08, 11)\n",
    "\n",
    "for load in loading_high:\n",
    "    print('...')\n",
    "    loads_high, displ_high, usol = solve_elasticity(load_max=load, nsteps=20, nload=np.size(loading_high), load_min=loading_high[0], nu=0.3, nx=20, ny=5, Lx=1, Ly=.1)\n",
    "print('Finished!')"
   ]
  },
  {
   "cell_type": "code",
   "execution_count": 21,
   "metadata": {},
   "outputs": [
    {
     "data": {
      "text/plain": [
       "<matplotlib.legend.Legend at 0x7fbb247b5d68>"
      ]
     },
     "execution_count": 21,
     "metadata": {},
     "output_type": "execute_result"
    },
    {
     "data": {
      "image/png": "[encoded data removed]",
      "text/plain": [
       "<Figure size 576x576 with 1 Axes>"
      ]
     },
     "metadata": {
      "needs_background": "light"
     },
     "output_type": "display_data"
    }
   ],
   "source": [
    "plt.figure(figsize=(8,8))\n",
    "\n",
    "x_L = displ_low[0,:] + Lx\n",
    "y_L = displ_low[1,:] + Ly\n",
    "\n",
    "plt.plot(loading_low, y_L/x_L, '.', markersize=12, label='low load')\n",
    "\n",
    "plt.title(r'$\\frac{y_{L_y}}{x_{L_x}} = f(load)$', size=15)\n",
    "plt.ylabel(r'$\\frac{y_{L_y}}{x_{L_x}}$', size=20)\n",
    "plt.xlabel('load (N)', size=20)\n",
    "\n",
    "plt.grid(True)\n",
    "\n",
    "# -----------\n",
    "\n",
    "x_L = displ_high[0,:] + Lx\n",
    "y_L = displ_high[1,:] + Ly\n",
    "\n",
    "plt.plot(loading_high, y_L/x_L, '.', markersize=12, label='high load')\n",
    "\n",
    "plt.title(r'$\\frac{y_{L_y}}{x_{L_x}} = f(load) - case high$', size=15)\n",
    "plt.ylabel(r'$\\frac{y_{L_y}}{x_{L_x}}$', size=20)\n",
    "plt.xlabel('load (N)', size=20)\n",
    "\n",
    "plt.grid(True)\n",
    "\n",
    "# -----------\n",
    "\n",
    "plt.legend()"
   ]
  },
  {
   "cell_type": "markdown",
   "metadata": {},
   "source": [
    "From this graph one can deduce y position as a function of x (at right).\n",
    "\n",
    "The comparison between low and high loading shows that if one considers a too big loading, the Newton method goes from a value to another with \"too big speed\". One should increase the number of time step too run calculation on higher loads."
   ]
  },
  {
   "cell_type": "markdown",
   "metadata": {},
   "source": [
    "Maybe doesn't converge to same values."
   ]
  },
  {
   "cell_type": "code",
   "execution_count": 22,
   "metadata": {
    "scrolled": true
   },
   "outputs": [
    {
     "data": {
      "text/plain": [
       "<matplotlib.collections.PolyCollection at 0x7fbb245d34a8>"
      ]
     },
     "execution_count": 22,
     "metadata": {},
     "output_type": "execute_result"
    },
    {
     "data": {
      "image/png": "[encoded data removed]",
      "text/plain": [
       "<Figure size 576x396 with 1 Axes>"
      ]
     },
     "metadata": {
      "needs_background": "light"
     },
     "output_type": "display_data"
    }
   ],
   "source": [
    "# solve_hyperelasticity(load_max=0.1, nsteps=40, load_min=0, nu=0.3, nx=20, ny=5, Lx=1, Ly=.1)\n",
    "loads, displ, usol = solve_elasticity(load_max=.3, nsteps=40, load_min=0, nu=0.3, nx=20, ny=5, Lx=1, Ly=.1)\n",
    "\n",
    "dolfin.plot(usol, mode = \"displacement\")"
   ]
  },
  {
   "cell_type": "markdown",
   "metadata": {},
   "source": [
    "# Exercice\n",
    "- Try to have energy graph to see when Newton method doesn't converge.\n",
    "- How the arrow behaves with loading ?\n",
    "- What difference between KSV and Neo-Hookean ?\n",
    "\n",
    "\n",
    "- Try to increase the maximum loading to 0.3. Is the Newton solver converging?\n",
    "- Try to reduce the number of steps to reach the maximum loading. Is the Newton solver converging?\n",
    "- For low forces, plot y(L)/x(L) versus the force.\n",
    "- For significant forces, draw the same thing. What are the shapes of the two curves ?\n",
    "- Try to replace the elastic energy density with the weakly incompressible Neo-Hookean mode where:\n",
    "$$\n",
    "\\psi(F) = \\dfrac{\\mu}{2}(\\mathrm{tr}(F^T F) - 2) - \\mu\\ln(\\det F) + (\\lambda/2)*(\\ln(\\det F))^2\n",
    "$$\n",
    "and perform again the numerical simulation for a loading going form 0 to 0.3. Is now the Newton solver converging? \n",
    "- A further *optional* analytical exercice: calculate by analytical derivation for the energy density given above.\n",
    "    $$P=\\dfrac{\\partial \\psi(F)}{\\partial F}$$\n",
    "    You can find help in a book of nonlinear elasticity. For example, see Sec. 3.5 of *P.Wriggers, Nonlinear Finite Element Methods, Springer*, that you can download legally from your digital library on the monUPMC account."
   ]
  },
  {
   "cell_type": "markdown",
   "metadata": {},
   "source": [
    "## II. Weakly incompressible Neo-Hookean mode"
   ]
  },
  {
   "cell_type": "code",
   "execution_count": 23,
   "metadata": {},
   "outputs": [],
   "source": [
    "# self consistent cell to solve the flexion problem in linearized case.\n",
    "# the linearisation is used with Newton method and works under a good \n",
    "# equilibrium between energy and time steps (e.g. if we consider b0 too big we have too big jump of energy when trying to minimize ???)\n",
    "\n",
    "# -----------\n",
    "# Libraries\n",
    "# -----------\n",
    "\n",
    "import numpy as np\n",
    "import matplotlib.pyplot as plt\n",
    "\n",
    "import dolfin\n",
    "import ufl\n",
    "\n",
    "dolfin.parameters[\"form_compiler\"][\"cpp_optimize\"] = True\n",
    "dolfin.parameters[\"form_compiler\"][\"representation\"] = \"uflacs\"\n",
    "plt.style.use('seaborn-notebook')\n",
    "\n",
    "# -----------\n",
    "#     Code\n",
    "# -----------\n",
    "\n",
    "def solve_hyperelasticity_neo(load_max=0.3, nsteps=40, nload=5, load_min=0, nu=0.3, nx=20, ny=5, Lx=1, Ly=.1):\n",
    "    \n",
    "    \"\"\" Function solving the non-linear flexion of a 2D beam. \n",
    "    Entry parameters are initialize to provide a working example.\"\"\"\n",
    "    \n",
    "    # ------\n",
    "    #  mesh\n",
    "    # ------\n",
    "\n",
    "    dim    = 2\n",
    "    degree = 2\n",
    "    \n",
    "    mesh = dolfin.RectangleMesh(dolfin.Point(0, 0), dolfin.Point(Lx, Ly), nx, ny)\n",
    "    \n",
    "    # -----------\n",
    "    # boundaries\n",
    "    # -----------\n",
    "    \n",
    "    left = dolfin.CompiledSubDomain(\"near(x[0], 0) && on_boundary\")\n",
    "    right = dolfin.CompiledSubDomain(\"near(x[0], Lx) && on_boundary\", Lx=Lx)\n",
    "    boundary_markers = dolfin.MeshFunction(\"size_t\", mesh, dim=1, value=0)\n",
    "    \n",
    "    left_index = 1\n",
    "    right_index = 2\n",
    "    \n",
    "    left.mark(boundary_markers, left_index)\n",
    "    right.mark(boundary_markers, right_index)\n",
    "    \n",
    "    # -------\n",
    "    \n",
    "    # Variables weak formulation\n",
    "    \n",
    "    ds = dolfin.ds(domain=mesh,subdomain_data=boundary_markers)\n",
    "    dx = dolfin.dx(domain=mesh)\n",
    "    \n",
    "    V_element = dolfin.VectorElement('CG', \n",
    "                                     ufl.triangle, \n",
    "                                     degree=degree, \n",
    "                                     dim=dim)\n",
    "    \n",
    "    V  = dolfin.FunctionSpace(mesh, V_element)\n",
    "    u  = dolfin.Function(V, name=\"u\")\n",
    "    \n",
    "    # ---------\n",
    "    #  Tensors\n",
    "    # ---------\n",
    "\n",
    "    I  = ufl.Identity(dim)\n",
    "    F  = ufl.variable(I + ufl.grad(u))  \n",
    "    C  = F.T*F                   \n",
    "    \n",
    "    # ---------\n",
    "\n",
    "    Ic = ufl.tr(C)\n",
    "    J  = ufl.det(F)\n",
    "    E  = 1/2*(C-I)\n",
    "    Y  = 1.e3\n",
    "    \n",
    "    # -----------------------------------------\n",
    "    #  weakly incompressible Neo-Hookean mode \n",
    "    # -----------------------------------------\n",
    "\n",
    "    mu, lmbda = dolfin.Constant(Y/(2*(1 + nu))), dolfin.Constant(Y*nu/((1 + nu)*(1 - 2*nu)))\n",
    "    lmbda     = 2*lmbda*mu/(lmbda + 2*mu) \n",
    "    psi_neo   = (mu/2)*(Ic - 2) - mu*ufl.ln(J) + (lmbda/2)*(ufl.ln(J))**2\n",
    "    \n",
    "    # --------\n",
    "    #  Forces\n",
    "    # --------\n",
    "\n",
    "    b0    = dolfin.Expression((\"0.0\", \"t*mu\"), t=0, mu=mu, degree=0)  \n",
    "    g0    = mu*dolfin.Constant((0.0,0.0)) \n",
    "    \n",
    "    # ------------------\n",
    "    #  Weak formulation\n",
    "    # ------------------\n",
    "\n",
    "    potential_energy = psi_neo*dx - ufl.dot(b0, u)*dx - ufl.dot(g0, u)*ds(2)\n",
    "    residual = ufl.derivative(potential_energy, u, dolfin.TestFunction(V))\n",
    "    jacobian = ufl.derivative(residual, u, dolfin.TrialFunction(V))\n",
    "    \n",
    "    # Solving\n",
    "    bcs      = [dolfin.DirichletBC(V, (0., 0.), left)]\n",
    "    problem  = dolfin.NonlinearVariationalProblem(residual, u, bcs=bcs, J=jacobian)\n",
    "    solver   = dolfin.NonlinearVariationalSolver(problem)\n",
    "    \n",
    "    # minimize energy / save values\n",
    "    loads    = np.linspace(load_min, load_max, nload)\n",
    "    displ    = np.zeros((2, np.size(loads)))\n",
    "    u.interpolate(dolfin.Constant((0.,0.)))\n",
    "    file_u   = dolfin.XDMFFile(\"output/u.xdmf\")\n",
    "    file_u.parameters.update({\"flush_output\": True,\n",
    "                              \"functions_share_mesh\": True,\n",
    "                              \"rewrite_function_mesh\": False})\n",
    "    for (i, t) in enumerate(loads):\n",
    "        b0.t = -t # downwards gravity force\n",
    "        solver.solve()\n",
    "        displ[0, i] = dolfin.assemble(u[1]*ds(2))/Ly\n",
    "        displ[1, i] = dolfin.assemble(u[0]*ds(2))/Ly\n",
    "#         print(\"t={:+3.3f}, u={:+3.3f}\".format(t, displ[i]))\n",
    "        with file_u as file:\n",
    "            file.write(u, t)\n",
    "    \n",
    "#     plt.figure(2)\n",
    "#     plt.plot(loads, displ, \"o\")\n",
    "#     plt.xlabel(\"load\")\n",
    "#     plt.ylabel(\"end-displacement\")\n",
    "#     plt.savefig(\"output/displacement.png\")\n",
    "    \n",
    "    return (loads, displ, u)"
   ]
  },
  {
   "cell_type": "markdown",
   "metadata": {},
   "source": [
    "##### Test function"
   ]
  },
  {
   "cell_type": "code",
   "execution_count": 24,
   "metadata": {},
   "outputs": [],
   "source": [
    "load, disp, u = solve_hyperelasticity_neo(load_max=.2, nsteps=40, nload=20, load_min=0, nu=0.3, nx=20, ny=5, Lx=1, Ly=.1)"
   ]
  },
  {
   "cell_type": "markdown",
   "metadata": {},
   "source": [
    "### $\\Rightarrow$ Load step influences a lot the convergence."
   ]
  },
  {
   "cell_type": "markdown",
   "metadata": {},
   "source": [
    "### $\\Rightarrow$ Look for method to loop and see which couple ($n_{steps}$, $n_{load}$) bring an error."
   ]
  },
  {
   "cell_type": "code",
   "execution_count": 27,
   "metadata": {},
   "outputs": [
    {
     "name": "stdout",
     "output_type": "stream",
     "text": [
      "nb time step= 20\n",
      "nb time step= 19\n",
      "nb time step= 18\n",
      "nb time step= 17\n",
      "nb time step= 16\n",
      "nb time step= 15\n",
      "nb time step= 14\n",
      "nb time step= 13\n",
      "nb time step= 12\n",
      "nb time step= 11\n",
      "nb time step= 10\n",
      "nb time step= 9\n",
      "nb time step= 8\n",
      "nb time step= 7\n",
      "nb time step= 6\n",
      "nb time step= 5\n",
      "nb time step= 4\n",
      "nb time step= 3\n",
      "nb time step= 2\n",
      "nb time step= 1\n",
      "nb time step= 0\n"
     ]
    }
   ],
   "source": [
    "time_step = np.linspace(20, 0, 21)\n",
    "\n",
    "for dt in time_step.astype(int):\n",
    "    print('nb time step=', dt)\n",
    "    loads, displ, usol = solve_elasticity(load_max=.4, nsteps=dt, nload=15, load_min=0, nu=0.3, nx=20, ny=5, Lx=1, Ly=.1)"
   ]
  },
  {
   "cell_type": "markdown",
   "metadata": {},
   "source": [
    "Result doesn't look to be influenced by time step but rather by nb of load.\n",
    "\n",
    "**Is it mandatory to link time steps to nb loads ???\n",
    "The value of time step should vary with the weight or other ext forces.**"
   ]
  },
  {
   "cell_type": "markdown",
   "metadata": {},
   "source": [
    "# Neo-Hookean should be better for big deformation"
   ]
  },
  {
   "cell_type": "code",
   "execution_count": null,
   "metadata": {},
   "outputs": [],
   "source": []
  }
 ],
 "metadata": {
  "file_extension": ".py",
  "kernel_info": {
   "name": "python3"
  },
  "kernelspec": {
   "display_name": "Python 3",
   "language": "python",
   "name": "python3"
  },
  "language_info": {
   "codemirror_mode": {
    "name": "ipython",
    "version": 3
   },
   "file_extension": ".py",
   "mimetype": "text/x-python",
   "name": "python",
   "nbconvert_exporter": "python",
   "pygments_lexer": "ipython3",
   "version": "3.6.9"
  },
  "mimetype": "text/x-python",
  "name": "python",
  "npconvert_exporter": "python",
  "nteract": {
   "version": "0.15.0"
  },
  "pygments_lexer": "ipython3",
  "version": 3
 },
 "nbformat": 4,
 "nbformat_minor": 4
}
