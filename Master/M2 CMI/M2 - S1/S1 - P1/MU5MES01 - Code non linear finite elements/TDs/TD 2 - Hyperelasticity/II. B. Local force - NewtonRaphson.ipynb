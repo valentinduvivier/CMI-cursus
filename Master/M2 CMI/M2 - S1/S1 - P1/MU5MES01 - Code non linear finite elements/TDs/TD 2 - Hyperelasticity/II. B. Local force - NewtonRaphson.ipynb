{
 "cells": [
  {
   "cell_type": "markdown",
   "metadata": {},
   "source": [
    "# Implementation of a Newton–Raphson solver for nonlinear elasticity"
   ]
  },
  {
   "cell_type": "markdown",
   "metadata": {},
   "source": [
    "In this notebook, we will analyse the same problem as in the previous notebook [Hyperelasticity_problem.ipynb](Hyperelasticity_problem.ipynb). However, this time, we will implement or own Newton–Raphson solver, rather than rely on FEniCS's `NonlinearVariationalSolver`.\n",
    "\n",
    "You need to fill in the blank lines that are indicated as follows\n",
    "```\n",
    "# COMPLETE THIS LINE\n",
    "```\n",
    "\n",
    "Until you do that, the Notebook will *not* work properly."
   ]
  },
  {
   "cell_type": "markdown",
   "metadata": {},
   "source": [
    "## Setting up the problem"
   ]
  },
  {
   "cell_type": "markdown",
   "metadata": {},
   "source": [
    "The code below is merely a copy/paste of the code from the previous sessions, as we use the same problem to illustrate the implementation of the Newton–Raphson iterations."
   ]
  },
  {
   "cell_type": "markdown",
   "metadata": {},
   "source": [
    "#### Libraries"
   ]
  },
  {
   "cell_type": "code",
   "execution_count": 1,
   "metadata": {},
   "outputs": [],
   "source": [
    "import numpy as np\n",
    "import matplotlib.pyplot as plt\n",
    "import math as m\n",
    "\n",
    "import dolfin\n",
    "import ufl\n",
    "import os.path\n",
    "\n",
    "%matplotlib inline\n",
    "\n",
    "dolfin.parameters[\"form_compiler\"][\"cpp_optimize\"] = True\n",
    "dolfin.parameters[\"form_compiler\"][\"representation\"] = \"uflacs\"\n",
    "plt.style.use(\"seaborn-notebook\")"
   ]
  },
  {
   "cell_type": "markdown",
   "metadata": {},
   "source": [
    "### Parameters of the simulation"
   ]
  },
  {
   "cell_type": "markdown",
   "metadata": {},
   "source": [
    "Place here the parameters that can be changed without altering the logics of the code."
   ]
  },
  {
   "cell_type": "code",
   "execution_count": 2,
   "metadata": {},
   "outputs": [
    {
     "name": "stdout",
     "output_type": "stream",
     "text": [
      "461.53846153846143\n"
     ]
    }
   ],
   "source": [
    "# Physical mesh : rectangle 2D beam\n",
    "\n",
    "Lx = 1.0\n",
    "Ly = Lx / 10     # Dimensions of the beam\n",
    "\n",
    "nx = 20          # Number of elements in each direction\n",
    "ny = int(nx / 5) # Number of elements in each direction\n",
    "\n",
    "Y, nu  =  1e3, 0.3  # Young modulus and Poisson ratio\n",
    "g  = 1.\n",
    "\n",
    "load_min, load_max, n_loads = 0.0, 0.1, 40 # Loading schedule\n",
    "degree = 2 # degree basis function\n",
    "\n",
    "output_dir = \"nr_output\"\n",
    "print(6*Lx**3/((1+nu)*Ly**2) ) # Gamma / t # What is it ???"
   ]
  },
  {
   "cell_type": "markdown",
   "metadata": {},
   "source": [
    "You should not alter the cell below"
   ]
  },
  {
   "cell_type": "code",
   "execution_count": 3,
   "metadata": {},
   "outputs": [],
   "source": [
    "loads = np.linspace(load_min, load_max, n_loads)\n",
    "\n",
    "mu    = dolfin.Constant(Y/(2*(1 + nu)))\n",
    "lmbda = dolfin.Constant(Y*nu/((1 + nu)*(1 - 2*nu)))\n",
    "lmbda = 2*lmbda*mu/(lmbda + 2*mu) "
   ]
  },
  {
   "cell_type": "markdown",
   "metadata": {},
   "source": [
    "### Numerical mesh"
   ]
  },
  {
   "cell_type": "code",
   "execution_count": 4,
   "metadata": {},
   "outputs": [],
   "source": [
    "mesh  = dolfin.RectangleMesh(dolfin.Point(0,0),\n",
    "                             dolfin.Point(Lx,Ly),\n",
    "                             nx, ny)\n",
    "\n",
    "left  = dolfin.CompiledSubDomain(\"near(x[0],0) && on_boundary\")\n",
    "right = dolfin.CompiledSubDomain(\"near(x[0],Lx) && on_boundary\", Lx=Lx)\n",
    "\n",
    "boundary_markers = dolfin.MeshFunction(\"size_t\", \n",
    "                                       mesh, \n",
    "                                       1, #dim\n",
    "                                       0) #value\n",
    "\n",
    "boundary_indices = {\"left\": 1, \"right\": 2}\n",
    "left.mark (boundary_markers, boundary_indices[\"left\"] )\n",
    "right.mark(boundary_markers, boundary_indices[\"right\"])\n",
    "\n",
    "ds = dolfin.ds(domain=mesh,subdomain_data=boundary_markers)\n",
    "dx = dolfin.dx(domain=mesh)"
   ]
  },
  {
   "cell_type": "markdown",
   "metadata": {},
   "source": [
    "### Function space"
   ]
  },
  {
   "cell_type": "code",
   "execution_count": 5,
   "metadata": {},
   "outputs": [],
   "source": [
    "V_element = dolfin.VectorElement(\"CG\", #usual Lagrangian elements\n",
    "                                 mesh.ufl_cell(), \n",
    "                                 degree=degree) #2\n",
    "\n",
    "V = dolfin.FunctionSpace(mesh, V_element)\n",
    "u = dolfin.Function(V, name=\"u\") #name allows to work as with a pointer"
   ]
  },
  {
   "cell_type": "markdown",
   "metadata": {},
   "source": [
    "### Potential energy"
   ]
  },
  {
   "cell_type": "markdown",
   "metadata": {},
   "source": [
    "We first define the strain energy of a (compressible) neo-Hookean material."
   ]
  },
  {
   "cell_type": "code",
   "execution_count": 6,
   "metadata": {},
   "outputs": [],
   "source": [
    "# Data tensors\n",
    "\n",
    "def tensors(u):\n",
    "\n",
    "    \"\"\" Function returning a bunch of \n",
    "    tensors and other variables.\"\"\"\n",
    "    \n",
    "    I   = ufl.Identity(2)             #2x2 identity matrix\n",
    "    F   = ufl.variable(I+ufl.grad(u)) #Tensor transformation ref to cur \n",
    "    C   = F.T*F                       #Cauchy tensor                   \n",
    "    Ic  = ufl.tr(C)\n",
    "    J   = ufl.det(F)                  #Jacobian transformation ref to cur\n",
    "    E   = 1/2*(C-I)                   #Non-linear strain tensor\n",
    "\n",
    "    return I, F, C, Ic, J, E\n",
    "\n",
    "I, F, C, Ic, J, E = tensors(u)\n",
    "\n",
    "#Hookean potential energy\n",
    "psi = (mu/2)*(Ic-2)-mu*ufl.ln(J)+(lmbda/2)*(ufl.ln(J))**2"
   ]
  },
  {
   "cell_type": "markdown",
   "metadata": {},
   "source": [
    "We then define the loading (body forces $\\mathbf{B}$)."
   ]
  },
  {
   "cell_type": "markdown",
   "metadata": {},
   "source": [
    "# Change code to allow one to specify forces vectors as an entry"
   ]
  },
  {
   "cell_type": "code",
   "execution_count": 7,
   "metadata": {},
   "outputs": [],
   "source": [
    "B = dolfin.Constant((0.0, 0.0))\n",
    "T = dolfin.Expression((\"0.0\", \"-mu*g*t\"), t=0, mu=mu, g=g, degree=0)"
   ]
  },
  {
   "cell_type": "markdown",
   "metadata": {},
   "source": [
    "We can now define the potential energy and its derivatives w.r.t the displacement $\\mathbf{u}$."
   ]
  },
  {
   "cell_type": "code",
   "execution_count": 8,
   "metadata": {},
   "outputs": [],
   "source": [
    "# WF\n",
    "potential_energy = psi*dx - ufl.dot(B, u)*dx - ufl.dot(T, u)*ds(boundary_indices['right'])\n",
    "\n",
    "residual = ufl.derivative(potential_energy, u, dolfin.TestFunction (V))\n",
    "jacobian = ufl.derivative(residual        , u, dolfin.TrialFunction(V))"
   ]
  },
  {
   "cell_type": "markdown",
   "metadata": {},
   "source": [
    "Boundary conditions for a built-in support on the left-hand side."
   ]
  },
  {
   "cell_type": "code",
   "execution_count": 9,
   "metadata": {},
   "outputs": [],
   "source": [
    "bcs = [dolfin.DirichletBC(V, (0.,0.), left)] #embedded condition to the left (x[0]==0)"
   ]
  },
  {
   "cell_type": "markdown",
   "metadata": {},
   "source": [
    "### Computing the reference solution"
   ]
  },
  {
   "cell_type": "markdown",
   "metadata": {},
   "source": [
    "We use the built-in non-linear solver to compute a reference solution, which we will compare to the solution computed with our own NR solver."
   ]
  },
  {
   "cell_type": "code",
   "execution_count": 10,
   "metadata": {},
   "outputs": [
    {
     "data": {
      "image/png": "[encoded data removed]",
      "text/plain": [
       "<Figure size 576x396 with 1 Axes>"
      ]
     },
     "metadata": {
      "needs_background": "light"
     },
     "output_type": "display_data"
    }
   ],
   "source": [
    "# Function building F(u, v)=0 with F = residual here\n",
    "problem   = dolfin.NonlinearVariationalProblem(residual, u, bcs=bcs, J=jacobian)\n",
    "solver    = dolfin.NonlinearVariationalSolver(problem)\n",
    "\n",
    "displ_ref = np.zeros_like(loads)\n",
    "u.interpolate(dolfin.Constant((0., 0.)))\n",
    "\n",
    "file_u = dolfin.XDMFFile(os.path.join(output_dir, \"u_ref.xdmf\"))\n",
    "file_u.parameters.update({\"flush_output\":True,\n",
    "                          \"functions_share_mesh\":True,\n",
    "                          \"rewrite_function_mesh\":False})\n",
    "for (i, t) in enumerate(loads):\n",
    "    T.t = t       #add load to downwards gravity force\n",
    "    solver.solve()\n",
    "    \n",
    "    displ_ref[i] = dolfin.assemble(u[1]*ds(boundary_indices[\"right\"]))/Ly \n",
    "    #print(\"t={:+3.3f}, u={:+3.3f}\".format(t,displ_ref[i]))\n",
    "    with file_u as file:\n",
    "        file.write(u,t)\n",
    "        \n",
    "plt.plot(loads, displ_ref, \"o\")\n",
    "\n",
    "plt.title(r'mean $v(x=L)$ in function of loading')\n",
    "plt.xlabel('load')\n",
    "plt.ylabel(r'$v(x=L)$')\n",
    "\n",
    "plt.grid(True)"
   ]
  },
  {
   "cell_type": "markdown",
   "metadata": {},
   "source": [
    "## Implementation of the Newton–Raphson solver"
   ]
  },
  {
   "cell_type": "markdown",
   "metadata": {},
   "source": [
    "We will discuss the statement below in class."
   ]
  },
  {
   "cell_type": "code",
   "execution_count": 11,
   "metadata": {},
   "outputs": [],
   "source": [
    "bcs_homo = bcs"
   ]
  },
  {
   "cell_type": "code",
   "execution_count": 12,
   "metadata": {},
   "outputs": [],
   "source": [
    "def simple_monitor(iteration, u, norm_u, norm_delta_u, norm_residual):\n",
    "    \n",
    "    \"\"\" Function displaying information on solution (residual, error, ...). \"\"\"\n",
    "    \n",
    "    print(\"Iteration: {:3d}, Error: {:3.4e}, Residual: {:3.4e}\".format(iteration, norm_delta_u, norm_residual))\n",
    "\n",
    "# -----------\n",
    "\n",
    "def plot_monitor(iteration, u, norm_u, norm_delta_u, norm_residual):\n",
    "    \n",
    "    \"\"\" Function ploting u displacement. \"\"\"\n",
    "    \n",
    "    simple_monitor(iteration, u, norm_u, norm_delta_u, norm_residual)\n",
    "    \n",
    "    plt.figure()\n",
    "    dolfin.plot(u, mode=\"displacement\") \n",
    "\n",
    "# -----------\n",
    "\n",
    "def newton_solver(u, max_iter=100, rtol=1e-6, atol=1e-6, monitor=None):\n",
    "    \n",
    "    \"\"\" Newton Raphson solver returing converging u value \n",
    "    given u (initial guess ??) and nb iterations. \"\"\"\n",
    "\n",
    "    delta_u = dolfin.Function(V)\n",
    "    delta_u.interpolate(dolfin.Constant((0., 0.)))\n",
    "\n",
    "    for k in range(max_iter):\n",
    "\n",
    "        # Solve the linearized problem for the increment delta_u with homogenous BCs\n",
    "        problem_lin = dolfin.LinearVariationalProblem(jacobian, -residual, delta_u, bcs_homo)\n",
    "        solver_lin  = dolfin.LinearVariationalSolver(problem_lin)\n",
    "        solver_lin.solve() #value delta_u automatically updated\n",
    "        \n",
    "        # Update the solution\n",
    "        u.assign(u+delta_u) #keeps u and du as 2 separate variables\n",
    "\n",
    "        # ------------------\n",
    "        # error calculation\n",
    "        # ------------------\n",
    "\n",
    "        # Stopping criterion based on the L2 norm of u and delta_u\n",
    "        norm_delta_u = dolfin.norm(delta_u, \"L2\")\n",
    "        norm_u       = dolfin.norm(      u, \"L2\")\n",
    "            \n",
    "        intR = dolfin.assemble(residual)\n",
    "        bc.apply(intR)\n",
    "        norm_residual = dolfin.norm(intR, \"L2\")\n",
    "        \n",
    "        # -----------------\n",
    "        \n",
    "        if monitor is not None:\n",
    "            monitor(k, u, norm_u, norm_delta_u, norm_residual)\n",
    "        \n",
    "        else:\n",
    "            # See for-else statement:\n",
    "            # https://book.pythontips.com/en/latest/for_-_else.html#else-clause\n",
    "            # This block is entered only if the above loop completes,\n",
    "            # which means that the maximum number of iterations has been reached.\n",
    "            1==1\n",
    "#             print('You decided to display nothing')\n",
    "#             raise RuntimeError(\"could not converge, norm_u {}, norm_delta_u {}\".format(norm_u, norm_delta_u)) \n",
    "\n",
    "    return k"
   ]
  },
  {
   "cell_type": "markdown",
   "metadata": {},
   "source": [
    "We are now ready to call our solver, first with a very small load, so that the solution is nearly that of the linear problem, and the algorithm should converge in one iteration."
   ]
  },
  {
   "cell_type": "code",
   "execution_count": 13,
   "metadata": {},
   "outputs": [
    {
     "name": "stdout",
     "output_type": "stream",
     "text": [
      "Iteration:   0, Error: 2.3799e-03, Residual: 5.9006e-02\n",
      "Iteration:   1, Error: 1.9690e-05, Residual: 1.3169e-05\n",
      "Iteration:   2, Error: 2.0197e-08, Residual: 4.2633e-12\n"
     ]
    },
    {
     "data": {
      "text/plain": [
       "2"
      ]
     },
     "execution_count": 13,
     "metadata": {},
     "output_type": "execute_result"
    }
   ],
   "source": [
    "bc = dolfin.DirichletBC(V, (0.,0.), left) #embedded condition to the left (x[0]==0)\n",
    "\n",
    "# u = dolfin.Function(V)\n",
    "u.interpolate(dolfin.Constant((0.0, 0.0)))\n",
    "T.t = 1E-4\n",
    "\n",
    "newton_solver(u, max_iter=3, monitor=simple_monitor)"
   ]
  },
  {
   "cell_type": "markdown",
   "metadata": {},
   "source": [
    "Let's try a slightly higher load. We will plot the estimate of the solution at each iteration. It is interesting to observe the iterates converge to the solution."
   ]
  },
  {
   "cell_type": "code",
   "execution_count": 14,
   "metadata": {
    "scrolled": true
   },
   "outputs": [
    {
     "name": "stdout",
     "output_type": "stream",
     "text": [
      "Iteration:   0, Error: 8.9245e-02, Residual: 5.8511e+01\n",
      "Iteration:   1, Error: 2.9591e-02, Residual: 1.8414e+01\n"
     ]
    },
    {
     "data": {
      "text/plain": [
       "1"
      ]
     },
     "execution_count": 14,
     "metadata": {},
     "output_type": "execute_result"
    },
    {
     "data": {
      "image/png": "[encoded data removed]",
      "text/plain": [
       "<Figure size 576x396 with 1 Axes>"
      ]
     },
     "metadata": {
      "needs_background": "light"
     },
     "output_type": "display_data"
    },
    {
     "data": {
      "image/png": "[encoded data removed]",
      "text/plain": [
       "<Figure size 576x396 with 1 Axes>"
      ]
     },
     "metadata": {
      "needs_background": "light"
     },
     "output_type": "display_data"
    }
   ],
   "source": [
    "u.interpolate(dolfin.Constant((0., 0.)))\n",
    "T.t = 1.5*load_max/n_loads\n",
    "\n",
    "newton_solver(u, max_iter=2, monitor=plot_monitor)"
   ]
  },
  {
   "cell_type": "markdown",
   "metadata": {},
   "source": [
    "### Illustrating quadratic convergence"
   ]
  },
  {
   "cell_type": "markdown",
   "metadata": {},
   "source": [
    "We now want to verify that the Newton–Raphson iterations converge quadratically, that is $\\epsilon_{n+1} \\leq C\\epsilon_n^2$, where $\\epsilon_n$ denotes the error of the $n$-th iterate. Since we do not know the exact solution of the problem, we will take the last iterate as a reference.\n",
    "\n",
    "We implement a new `monitor` that keeps a copy of each iterate."
   ]
  },
  {
   "cell_type": "code",
   "execution_count": 15,
   "metadata": {
    "scrolled": true
   },
   "outputs": [
    {
     "name": "stdout",
     "output_type": "stream",
     "text": [
      "Iteration:   0, Error: 1.4874e-01, Residual: 1.1391e+02\n",
      "Iteration:   1, Error: 8.2834e-02, Residual: 1.0833e+02\n",
      "Iteration:   2, Error: 1.7381e-02, Residual: 2.7039e+01\n",
      "Iteration:   3, Error: 4.7939e-03, Residual: 1.7587e+01\n",
      "Iteration:   4, Error: 7.6576e-03, Residual: 5.3403e+00\n",
      "Iteration:   5, Error: 1.5872e-03, Residual: 3.1750e+00\n",
      "Iteration:   6, Error: 1.9276e-03, Residual: 1.9434e-01\n",
      "Iteration:   7, Error: 1.3018e-03, Residual: 3.9919e-02\n",
      "Iteration:   8, Error: 4.8193e-05, Residual: 2.1781e-05\n",
      "Iteration:   9, Error: 2.3574e-06, Residual: 7.5431e-08\n",
      "Iteration:  10, Error: 8.9256e-11, Residual: 2.1632e-12\n",
      "Iteration:  11, Error: 4.7415e-17, Residual: 1.9989e-12\n",
      "Iteration:  12, Error: 1.2960e-16, Residual: 2.2435e-12\n",
      "Iteration:  13, Error: 2.7773e-16, Residual: 2.0637e-12\n",
      "Iteration:  14, Error: 2.5132e-16, Residual: 2.3343e-12\n",
      "Iteration:  15, Error: 8.8588e-17, Residual: 2.1509e-12\n",
      "Iteration:  16, Error: 7.9559e-17, Residual: 2.1893e-12\n",
      "Iteration:  17, Error: 1.1547e-16, Residual: 2.1270e-12\n",
      "Iteration:  18, Error: 1.3861e-17, Residual: 1.8643e-12\n",
      "Iteration:  19, Error: 2.9916e-17, Residual: 2.0447e-12\n",
      "Iteration:  20, Error: 7.4133e-17, Residual: 2.5836e-12\n",
      "Iteration:  21, Error: 1.2214e-16, Residual: 1.8386e-12\n",
      "Iteration:  22, Error: 1.2281e-16, Residual: 1.9721e-12\n",
      "Iteration:  23, Error: 1.7576e-16, Residual: 2.2164e-12\n",
      "Iteration:  24, Error: 9.9547e-17, Residual: 2.0536e-12\n",
      "Iteration:  25, Error: 3.0814e-17, Residual: 2.1357e-12\n",
      "Iteration:  26, Error: 5.2053e-17, Residual: 1.8270e-12\n",
      "Iteration:  27, Error: 7.7047e-17, Residual: 2.3658e-12\n",
      "Iteration:  28, Error: 3.2848e-17, Residual: 1.9854e-12\n",
      "Iteration:  29, Error: 3.3932e-17, Residual: 2.2898e-12\n",
      "Iteration:  30, Error: 1.2413e-17, Residual: 1.8603e-12\n",
      "Iteration:  31, Error: 1.5735e-17, Residual: 2.0618e-12\n",
      "Iteration:  32, Error: 7.9549e-17, Residual: 2.0163e-12\n",
      "Iteration:  33, Error: 2.3783e-16, Residual: 2.2748e-12\n",
      "Iteration:  34, Error: 1.7372e-16, Residual: 2.4240e-12\n",
      "Iteration:  35, Error: 1.5654e-16, Residual: 2.1133e-12\n",
      "Iteration:  36, Error: 3.0682e-17, Residual: 1.9796e-12\n",
      "Iteration:  37, Error: 2.2546e-16, Residual: 2.0867e-12\n",
      "Iteration:  38, Error: 2.2984e-16, Residual: 2.4360e-12\n",
      "Iteration:  39, Error: 1.7965e-16, Residual: 2.0557e-12\n",
      "Iteration:  40, Error: 6.7110e-17, Residual: 2.2900e-12\n",
      "Iteration:  41, Error: 2.3309e-17, Residual: 1.8089e-12\n",
      "Iteration:  42, Error: 5.8014e-17, Residual: 1.9784e-12\n",
      "Iteration:  43, Error: 8.0337e-17, Residual: 2.4987e-12\n",
      "Iteration:  44, Error: 1.6970e-17, Residual: 2.0391e-12\n",
      "Iteration:  45, Error: 2.7412e-17, Residual: 1.9642e-12\n",
      "Iteration:  46, Error: 1.4712e-16, Residual: 2.3901e-12\n",
      "Iteration:  47, Error: 1.5509e-16, Residual: 2.1836e-12\n",
      "Iteration:  48, Error: 6.4209e-17, Residual: 1.8994e-12\n",
      "Iteration:  49, Error: 1.2929e-16, Residual: 2.2952e-12\n",
      "Iteration:  50, Error: 3.7420e-17, Residual: 2.1398e-12\n",
      "Iteration:  51, Error: 1.4169e-16, Residual: 2.1988e-12\n",
      "Iteration:  52, Error: 3.1076e-16, Residual: 2.0431e-12\n",
      "Iteration:  53, Error: 9.3838e-17, Residual: 2.1662e-12\n",
      "Iteration:  54, Error: 8.5413e-17, Residual: 2.1481e-12\n",
      "Iteration:  55, Error: 1.2552e-16, Residual: 1.9985e-12\n",
      "Iteration:  56, Error: 9.0063e-18, Residual: 1.8770e-12\n",
      "Iteration:  57, Error: 9.9928e-17, Residual: 1.8918e-12\n",
      "Iteration:  58, Error: 4.9397e-17, Residual: 2.0275e-12\n",
      "Iteration:  59, Error: 1.3287e-16, Residual: 2.3603e-12\n",
      "Iteration:  60, Error: 4.6913e-17, Residual: 2.0954e-12\n",
      "Iteration:  61, Error: 1.1176e-17, Residual: 1.9506e-12\n",
      "Iteration:  62, Error: 3.8932e-17, Residual: 1.8113e-12\n",
      "Iteration:  63, Error: 1.1085e-16, Residual: 2.0657e-12\n",
      "Iteration:  64, Error: 4.1686e-17, Residual: 1.9089e-12\n",
      "Iteration:  65, Error: 5.7315e-17, Residual: 2.0947e-12\n",
      "Iteration:  66, Error: 2.0457e-16, Residual: 2.0578e-12\n",
      "Iteration:  67, Error: 2.0176e-16, Residual: 2.2782e-12\n",
      "Iteration:  68, Error: 5.6799e-17, Residual: 2.1394e-12\n",
      "Iteration:  69, Error: 1.3846e-16, Residual: 2.0367e-12\n",
      "Iteration:  70, Error: 7.2538e-17, Residual: 2.2522e-12\n",
      "Iteration:  71, Error: 1.5088e-17, Residual: 1.9901e-12\n",
      "Iteration:  72, Error: 1.5587e-16, Residual: 2.4706e-12\n",
      "Iteration:  73, Error: 2.0096e-16, Residual: 1.9194e-12\n",
      "Iteration:  74, Error: 2.2583e-16, Residual: 2.2759e-12\n",
      "Iteration:  75, Error: 1.7987e-16, Residual: 2.0180e-12\n",
      "Iteration:  76, Error: 8.4576e-17, Residual: 2.1543e-12\n",
      "Iteration:  77, Error: 2.0799e-17, Residual: 2.0604e-12\n",
      "Iteration:  78, Error: 1.2289e-16, Residual: 2.1041e-12\n",
      "Iteration:  79, Error: 1.4743e-16, Residual: 1.9689e-12\n",
      "Iteration:  80, Error: 1.5307e-17, Residual: 1.9624e-12\n",
      "Iteration:  81, Error: 1.8635e-17, Residual: 2.0058e-12\n",
      "Iteration:  82, Error: 1.0228e-17, Residual: 1.9393e-12\n",
      "Iteration:  83, Error: 2.6708e-17, Residual: 2.0433e-12\n",
      "Iteration:  84, Error: 3.4903e-17, Residual: 2.0960e-12\n",
      "Iteration:  85, Error: 1.5881e-16, Residual: 2.0297e-12\n",
      "Iteration:  86, Error: 1.1708e-16, Residual: 2.0891e-12\n",
      "Iteration:  87, Error: 9.1954e-17, Residual: 1.9816e-12\n",
      "Iteration:  88, Error: 1.8441e-16, Residual: 2.4365e-12\n",
      "Iteration:  89, Error: 2.8064e-17, Residual: 2.0136e-12\n",
      "Iteration:  90, Error: 1.3321e-16, Residual: 2.0181e-12\n",
      "Iteration:  91, Error: 1.5554e-16, Residual: 1.9767e-12\n",
      "Iteration:  92, Error: 1.0414e-16, Residual: 2.0255e-12\n",
      "Iteration:  93, Error: 8.0948e-17, Residual: 1.8924e-12\n",
      "Iteration:  94, Error: 1.7696e-16, Residual: 1.9744e-12\n",
      "Iteration:  95, Error: 1.4473e-17, Residual: 1.9366e-12\n",
      "Iteration:  96, Error: 1.8948e-16, Residual: 2.0958e-12\n",
      "Iteration:  97, Error: 7.7172e-17, Residual: 2.2577e-12\n",
      "Iteration:  98, Error: 8.8829e-17, Residual: 2.0205e-12\n",
      "Iteration:  99, Error: 6.5382e-17, Residual: 2.0654e-12\n"
     ]
    },
    {
     "data": {
      "text/plain": [
       "99"
      ]
     },
     "execution_count": 15,
     "metadata": {},
     "output_type": "execute_result"
    }
   ],
   "source": [
    "iterates = []\n",
    "\n",
    "def my_monitor(iteration, u, u_norm, delta_u_norm, residual_norm):\n",
    "    simple_monitor(iteration, u, u_norm, delta_u_norm, residual_norm)\n",
    "    iterates.append(u.copy(deepcopy=True))\n",
    "\n",
    "u.interpolate(dolfin.Constant((0., 0.)))\n",
    "T.t = 2.5*load_max/n_loads\n",
    "newton_solver(u, monitor=my_monitor, rtol=1e-10, atol=1e-10)"
   ]
  },
  {
   "cell_type": "markdown",
   "metadata": {},
   "source": [
    "**When approaching the solution, we should have** $r^{n+1} = r^{2n}$"
   ]
  },
  {
   "cell_type": "code",
   "execution_count": 16,
   "metadata": {},
   "outputs": [],
   "source": [
    "L2_errors = np.zeros(len(iterates), dtype=np.float64)\n",
    "H1_errors = np.zeros_like(L2_errors)\n",
    "u_ref = iterates[-1]\n",
    "\n",
    "for i, u_i in enumerate(iterates):\n",
    "    L2_errors[i] = dolfin.errornorm(u_ref, u_i, 'L2')\n",
    "    H1_errors[i] = dolfin.errornorm(u_ref, u_i, 'H1')"
   ]
  },
  {
   "cell_type": "code",
   "execution_count": 24,
   "metadata": {},
   "outputs": [
    {
     "data": {
      "text/plain": [
       "[<matplotlib.lines.Line2D at 0x7fa1bbff1748>]"
      ]
     },
     "execution_count": 24,
     "metadata": {},
     "output_type": "execute_result"
    },
    {
     "data": {
      "image/png": "[encoded data removed]",
      "text/plain": [
       "<Figure size 576x396 with 1 Axes>"
      ]
     },
     "metadata": {
      "needs_background": "light"
     },
     "output_type": "display_data"
    }
   ],
   "source": [
    "plt.xlabel(r'$\\epsilon_n^2$')\n",
    "plt.ylabel(r'$\\epsilon_{n+1}$')\n",
    "\n",
    "plt.loglog(L2_errors[:-2], L2_errors[1:-1], 'o-')\n",
    "plt.loglog(L2_errors[:-2], 10*L2_errors[:-2]**2)"
   ]
  },
  {
   "cell_type": "code",
   "execution_count": 26,
   "metadata": {
    "scrolled": true
   },
   "outputs": [
    {
     "data": {
      "text/plain": [
       "[<matplotlib.lines.Line2D at 0x7fa1bbe9d208>]"
      ]
     },
     "execution_count": 26,
     "metadata": {},
     "output_type": "execute_result"
    },
    {
     "data": {
      "image/png": "[encoded data removed]",
      "text/plain": [
       "<Figure size 576x396 with 1 Axes>"
      ]
     },
     "metadata": {
      "needs_background": "light"
     },
     "output_type": "display_data"
    }
   ],
   "source": [
    "plt.xlabel(r'$\\epsilon_n^2$')\n",
    "plt.ylabel(r'$\\epsilon_{n+1}$')\n",
    "\n",
    "plt.loglog(H1_errors[:-2], H1_errors[1:-1], 'o-')\n",
    "plt.loglog(H1_errors[:-2], 10*H1_errors[:-2]**2)"
   ]
  },
  {
   "cell_type": "markdown",
   "metadata": {},
   "source": [
    "**Dependance looks quadratic but with oscillations (stable one as we converge to solution ??)**\n",
    "    \n",
    "**Should we prescribe precise condition on mesh where force applied ? Is the form of the force not well integrated or interpolated or else ?**"
   ]
  },
  {
   "cell_type": "markdown",
   "metadata": {},
   "source": [
    "## Validation of the solver"
   ]
  },
  {
   "cell_type": "markdown",
   "metadata": {},
   "source": [
    "We now run the whole simulation and compare with the reference solution."
   ]
  },
  {
   "cell_type": "code",
   "execution_count": 27,
   "metadata": {},
   "outputs": [
    {
     "data": {
      "text/plain": [
       "<matplotlib.legend.Legend at 0x7fa1bbe62358>"
      ]
     },
     "execution_count": 27,
     "metadata": {},
     "output_type": "execute_result"
    },
    {
     "data": {
      "image/png": "[encoded data removed]",
      "text/plain": [
       "<Figure size 576x396 with 1 Axes>"
      ]
     },
     "metadata": {
      "needs_background": "light"
     },
     "output_type": "display_data"
    }
   ],
   "source": [
    "file_u = dolfin.XDMFFile(os.path.join(output_dir, \"u.xdmf\"))\n",
    "file_u.parameters.update({\"flush_output\":True,\n",
    "                          \"functions_share_mesh\":True,\n",
    "                          \"rewrite_function_mesh\":False})\n",
    "\n",
    "# initialisation\n",
    "displ = np.zeros_like(loads)\n",
    "u.interpolate(dolfin.Constant((0.,0.)))\n",
    "\n",
    "T.t = 0\n",
    "\n",
    "for (i, t) in enumerate(loads):\n",
    "    T.t = t\n",
    "    newton_solver(u, max_iter=10, monitor=None)\n",
    "    displ[i] = dolfin.assemble(u[1]*ds(2))/Ly \n",
    "    #print(\"t={:+3.3f}, u={:+3.3f}\".format(t,displ_ref[i]))\n",
    "    with file_u as file:\n",
    "        file.write(u,t)\n",
    "\n",
    "plt.plot(loads, displ_ref, \"-\", label='Reference implementation')\n",
    "plt.plot(loads, displ, 'o', label='Our implementation')\n",
    "\n",
    "plt.title('Comparison FEniCS method to ours')\n",
    "plt.ylabel(\"end-displacement\")\n",
    "plt.xlabel(\"load\")\n",
    "\n",
    "plt.grid(True)\n",
    "plt.legend()"
   ]
  },
  {
   "cell_type": "markdown",
   "metadata": {},
   "source": [
    "#### $L_2$ norm error"
   ]
  },
  {
   "cell_type": "code",
   "execution_count": 20,
   "metadata": {},
   "outputs": [
    {
     "name": "stdout",
     "output_type": "stream",
     "text": [
      "2.70825156263e-12\n"
     ]
    }
   ],
   "source": [
    "e_L2 = np.linalg.norm(displ - displ_ref, ord=2)\n",
    "print(e_L2)"
   ]
  },
  {
   "cell_type": "markdown",
   "metadata": {},
   "source": [
    "**We conclude on the fact our method is equivalent to FEniCS one, namely we manually implemented the same steps.**"
   ]
  },
  {
   "cell_type": "code",
   "execution_count": 21,
   "metadata": {},
   "outputs": [
    {
     "data": {
      "text/plain": [
       "<matplotlib.image.AxesImage at 0x7fa1bc747fd0>"
      ]
     },
     "execution_count": 21,
     "metadata": {},
     "output_type": "execute_result"
    },
    {
     "data": {
      "image/png": "[encoded data removed]",
      "text/plain": [
       "<Figure size 576x396 with 1 Axes>"
      ]
     },
     "metadata": {
      "needs_background": "light"
     },
     "output_type": "display_data"
    }
   ],
   "source": [
    "J_mat = dolfin.assemble(jacobian).array()\n",
    "J_mat\n",
    "plt.spy(J_mat)"
   ]
  },
  {
   "cell_type": "code",
   "execution_count": null,
   "metadata": {},
   "outputs": [],
   "source": []
  }
 ],
 "metadata": {
  "kernelspec": {
   "display_name": "Python 3",
   "language": "python",
   "name": "python3"
  },
  "language_info": {
   "codemirror_mode": {
    "name": "ipython",
    "version": 3
   },
   "file_extension": ".py",
   "mimetype": "text/x-python",
   "name": "python",
   "nbconvert_exporter": "python",
   "pygments_lexer": "ipython3",
   "version": "3.6.9"
  }
 },
 "nbformat": 4,
 "nbformat_minor": 4
}
