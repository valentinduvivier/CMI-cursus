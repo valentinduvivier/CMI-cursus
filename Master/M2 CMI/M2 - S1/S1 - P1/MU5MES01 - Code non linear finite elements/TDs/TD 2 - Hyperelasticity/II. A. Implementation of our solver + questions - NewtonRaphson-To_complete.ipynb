{
 "cells": [
  {
   "cell_type": "markdown",
   "metadata": {},
   "source": [
    "# Implementation of a Newton–Raphson solver for nonlinear elasticity"
   ]
  },
  {
   "cell_type": "markdown",
   "metadata": {},
   "source": [
    "In this notebook, we will analyse the same problem as in the previous notebook [Hyperelasticity_problem.ipynb](Hyperelasticity_problem.ipynb). However, this time, we will implement or own Newton–Raphson solver, rather than rely on FEniCS's `NonlinearVariationalSolver`.\n",
    "\n",
    "You need to fill in the blank lines that are indicated as follows\n",
    "```\n",
    "# COMPLETE THIS LINE\n",
    "```\n",
    "\n",
    "Until you do that, the Notebook will *not* work properly."
   ]
  },
  {
   "cell_type": "markdown",
   "metadata": {},
   "source": [
    "## Setting up the problem"
   ]
  },
  {
   "cell_type": "markdown",
   "metadata": {},
   "source": [
    "The code below is merely a copy/paste of the code from the previous sessions, as we use the same problem to illustrate the implementation of the Newton–Raphson iterations."
   ]
  },
  {
   "cell_type": "markdown",
   "metadata": {},
   "source": [
    "#### Libraries"
   ]
  },
  {
   "cell_type": "code",
   "execution_count": 2,
   "metadata": {},
   "outputs": [],
   "source": [
    "import numpy as np\n",
    "import matplotlib.pyplot as plt\n",
    "import math as m\n",
    "\n",
    "import dolfin\n",
    "import ufl\n",
    "import os.path\n",
    "\n",
    "%matplotlib inline\n",
    "\n",
    "dolfin.parameters[\"form_compiler\"][\"cpp_optimize\"] = True\n",
    "dolfin.parameters[\"form_compiler\"][\"representation\"] = \"uflacs\"\n",
    "plt.style.use(\"seaborn-notebook\")"
   ]
  },
  {
   "cell_type": "markdown",
   "metadata": {},
   "source": [
    "### Parameters of the simulation"
   ]
  },
  {
   "cell_type": "markdown",
   "metadata": {},
   "source": [
    "Place here the parameters that can be changed without altering the logics of the code."
   ]
  },
  {
   "cell_type": "code",
   "execution_count": 3,
   "metadata": {},
   "outputs": [
    {
     "name": "stdout",
     "output_type": "stream",
     "text": [
      "461.53846153846143\n"
     ]
    }
   ],
   "source": [
    "# Physical mesh : rectangle 2D beam\n",
    "\n",
    "Lx = 1.0\n",
    "Ly = Lx / 10     # Dimensions of the beam\n",
    "\n",
    "nx = 20          # Number of elements in each direction\n",
    "ny = int(nx / 5) # Number of elements in each direction\n",
    "\n",
    "Y, nu  =  1e3, 0.3  # Young modulus and Poisson ratio\n",
    "\n",
    "load_min, load_max, n_loads = 0.0, 0.3, 40 # Loading schedule\n",
    "degree = 2 # degree basis function\n",
    "\n",
    "output_dir = \"nr_output\"\n",
    "print(6*Lx**3/((1+nu)*Ly**2) ) # Gamma / t # What is it ???"
   ]
  },
  {
   "cell_type": "markdown",
   "metadata": {},
   "source": [
    "You should not alter the cell below"
   ]
  },
  {
   "cell_type": "code",
   "execution_count": 4,
   "metadata": {},
   "outputs": [],
   "source": [
    "loads = np.linspace(load_min, load_max, n_loads)\n",
    "\n",
    "mu    = dolfin.Constant(Y/(2*(1 + nu)))\n",
    "lmbda = dolfin.Constant(Y*nu/((1 + nu)*(1 - 2*nu)))\n",
    "lmbda = 2*lmbda*mu/(lmbda + 2*mu) "
   ]
  },
  {
   "cell_type": "markdown",
   "metadata": {},
   "source": [
    "### Numerical mesh"
   ]
  },
  {
   "cell_type": "code",
   "execution_count": 5,
   "metadata": {},
   "outputs": [],
   "source": [
    "mesh  = dolfin.RectangleMesh(dolfin.Point(0,0),\n",
    "                            dolfin.Point(Lx,Ly),\n",
    "                            nx, ny)\n",
    "\n",
    "left  = dolfin.CompiledSubDomain(\"near(x[0],0) && on_boundary\")\n",
    "right = dolfin.CompiledSubDomain(\"near(x[0],Lx) && on_boundary\", Lx=Lx)\n",
    "\n",
    "boundary_markers = dolfin.MeshFunction(\"size_t\", \n",
    "                                       mesh, \n",
    "                                       1, #dim\n",
    "                                       0) #value\n",
    "\n",
    "boundary_indices = {\"left\": 1, \"right\": 2}\n",
    "left.mark (boundary_markers, boundary_indices[\"left\"] )\n",
    "right.mark(boundary_markers, boundary_indices[\"right\"])\n",
    "\n",
    "ds = dolfin.ds(domain=mesh,subdomain_data=boundary_markers)\n",
    "dx = dolfin.dx(domain=mesh)"
   ]
  },
  {
   "cell_type": "markdown",
   "metadata": {},
   "source": [
    "### Function space"
   ]
  },
  {
   "cell_type": "code",
   "execution_count": 6,
   "metadata": {},
   "outputs": [],
   "source": [
    "V_element = dolfin.VectorElement(\"CG\", #usual Lagrangian elements\n",
    "                                 mesh.ufl_cell(), \n",
    "                                 degree=degree) #2\n",
    "\n",
    "V = dolfin.FunctionSpace(mesh, V_element)\n",
    "u = dolfin.Function(V, name=\"u\") #name allows to work as with a pointer"
   ]
  },
  {
   "cell_type": "markdown",
   "metadata": {},
   "source": [
    "### Potential energy"
   ]
  },
  {
   "cell_type": "markdown",
   "metadata": {},
   "source": [
    "We first define the strain energy of a (compressible) neo-Hookean material."
   ]
  },
  {
   "cell_type": "code",
   "execution_count": 7,
   "metadata": {},
   "outputs": [],
   "source": [
    "# Data tensors\n",
    "\n",
    "def tensors(u):\n",
    "\n",
    "    \"\"\" Function returning a bunch of \n",
    "    tensors and other variables.\"\"\"\n",
    "    \n",
    "    I   = ufl.Identity(2)             #2x2 identity matrix\n",
    "    F   = ufl.variable(I+ufl.grad(u)) #Tensor transformation ref to cur \n",
    "    C   = F.T*F                       #Cauchy tensor                   \n",
    "    Ic  = ufl.tr(C)\n",
    "    J   = ufl.det(F)                  #Jacobian transformation ref to cur\n",
    "    E   = 1/2*(C-I)                   #Non-linear strain tensor\n",
    "\n",
    "    return I, F, C, Ic, J, E\n",
    "\n",
    "I, F, C, Ic, J, E = tensors(u)\n",
    "\n",
    "#Hookean potential energy\n",
    "psi = (mu/2)*(Ic-2)-mu*ufl.ln(J)+(lmbda/2)*(ufl.ln(J))**2"
   ]
  },
  {
   "cell_type": "markdown",
   "metadata": {},
   "source": [
    "We then define the loading (body forces $\\mathbf{B}$)."
   ]
  },
  {
   "cell_type": "code",
   "execution_count": 8,
   "metadata": {},
   "outputs": [],
   "source": [
    "B = dolfin.Expression((\"0.0\", \"-mu*t\"), t=0, mu=mu, degree=0)\n",
    "T = mu*dolfin.Constant((0.0, 0.0))"
   ]
  },
  {
   "cell_type": "markdown",
   "metadata": {},
   "source": [
    "We can now define the potential energy and its derivatives w.r.t the displacement $\\mathbf{u}$."
   ]
  },
  {
   "cell_type": "code",
   "execution_count": 9,
   "metadata": {},
   "outputs": [],
   "source": [
    "# WF\n",
    "potential_energy = psi*dx - ufl.dot(B, u)*dx - ufl.dot(T, u)*ds(boundary_indices['right'])\n",
    "\n",
    "residual = ufl.derivative(potential_energy, u, dolfin.TestFunction (V))\n",
    "jacobian = ufl.derivative(residual        , u, dolfin.TrialFunction(V))"
   ]
  },
  {
   "cell_type": "code",
   "execution_count": 22,
   "metadata": {},
   "outputs": [
    {
     "data": {
      "text/plain": [
       "<dolfin.cpp.la.Vector at 0x7f7bc54075c8>"
      ]
     },
     "execution_count": 22,
     "metadata": {},
     "output_type": "execute_result"
    }
   ],
   "source": [
    "intR=dolfin.assemble(residual)\n",
    "bc.apply(intR)\n",
    "norm_residual = dolfin.norm(intR, \"L2\")\n",
    "\n",
    "norm_residual"
   ]
  },
  {
   "cell_type": "markdown",
   "metadata": {},
   "source": [
    "Boundary conditions for a built-in support on the left-hand side."
   ]
  },
  {
   "cell_type": "code",
   "execution_count": 13,
   "metadata": {},
   "outputs": [],
   "source": [
    "bcs = [dolfin.DirichletBC(V, (0.,0.), left)] #embedded condition to the left (x[0]==0)"
   ]
  },
  {
   "cell_type": "markdown",
   "metadata": {},
   "source": [
    "### Computing the reference solution"
   ]
  },
  {
   "cell_type": "markdown",
   "metadata": {},
   "source": [
    "We use the built-in non-linear solver to compute a reference solution, which we will compare to the solution computed with our own NR solver."
   ]
  },
  {
   "cell_type": "code",
   "execution_count": 14,
   "metadata": {},
   "outputs": [
    {
     "data": {
      "image/png": "[encoded data removed]",
      "text/plain": [
       "<Figure size 576x396 with 1 Axes>"
      ]
     },
     "metadata": {
      "needs_background": "light"
     },
     "output_type": "display_data"
    }
   ],
   "source": [
    "# Function building F(u, v)=0 with F = residual here\n",
    "problem   = dolfin.NonlinearVariationalProblem(residual, u, bcs=bcs, J=jacobian)\n",
    "solver    = dolfin.NonlinearVariationalSolver(problem)\n",
    "\n",
    "displ_ref = np.zeros_like(loads)\n",
    "u.interpolate(dolfin.Constant((0., 0.)))\n",
    "\n",
    "file_u = dolfin.XDMFFile(os.path.join(output_dir, \"u_ref.xdmf\"))\n",
    "file_u.parameters.update({\"flush_output\":True,\n",
    "                          \"functions_share_mesh\":True,\n",
    "                          \"rewrite_function_mesh\":False})\n",
    "for (i, t) in enumerate(loads):\n",
    "    B.t = t       #add load to downwards gravity force\n",
    "    solver.solve()\n",
    "    \n",
    "    displ_ref[i] = dolfin.assemble(u[1]*ds(boundary_indices[\"right\"]))/Ly \n",
    "    #print(\"t={:+3.3f}, u={:+3.3f}\".format(t,displ_ref[i]))\n",
    "    with file_u as file:\n",
    "        file.write(u,t)\n",
    "        \n",
    "plt.plot(loads, displ_ref, \"o\")\n",
    "\n",
    "plt.title(r'mean $v(x=L)$ in function of loading')\n",
    "plt.xlabel('load')\n",
    "plt.ylabel(r'$v(x=L)$')\n",
    "\n",
    "plt.grid(True)"
   ]
  },
  {
   "cell_type": "markdown",
   "metadata": {},
   "source": [
    "## Implementation of the Newton–Raphson solver"
   ]
  },
  {
   "cell_type": "markdown",
   "metadata": {},
   "source": [
    "We will discuss the statement below in class."
   ]
  },
  {
   "cell_type": "code",
   "execution_count": 15,
   "metadata": {},
   "outputs": [],
   "source": [
    "bcs_homo = bcs"
   ]
  },
  {
   "cell_type": "code",
   "execution_count": 16,
   "metadata": {},
   "outputs": [],
   "source": [
    "def simple_monitor(iteration, u, norm_u, norm_delta_u, norm_residual):\n",
    "    \n",
    "    \"\"\" Function displaying information on solution (residual, error, ...). \"\"\"\n",
    "    \n",
    "    print(\"Iteration: {:3d}, Error: {:3.4e}, Residual: {:3.4e}\".format(iteration, norm_delta_u, norm_residual))\n",
    "\n",
    "# -----------\n",
    "\n",
    "def plot_monitor(iteration, u, norm_u, norm_delta_u, norm_residual):\n",
    "    \n",
    "    \"\"\" Function ploting u displacement. \"\"\"\n",
    "    \n",
    "    simple_monitor(iteration, u, norm_u, norm_delta_u, norm_residual)\n",
    "    \n",
    "    plt.figure()\n",
    "    dolfin.plot(u, mode=\"displacement\") \n",
    "\n",
    "# -----------\n",
    "\n",
    "def newton_solver(u, max_iter=100, rtol=1e-6, atol=1e-6, monitor=None):\n",
    "    \n",
    "    \"\"\" Newton Raphson solver returing converging u value \n",
    "    given u (initial guess ??) and nb iterations. \"\"\"\n",
    "\n",
    "    delta_u = dolfin.Function(V)\n",
    "    delta_u.interpolate(dolfin.Constant((0., 0.)))\n",
    "\n",
    "    bcs_homo = bcs\n",
    "\n",
    "    for k in range(max_iter):\n",
    "\n",
    "        # Solve the linearized problem for the increment delta_u with homogenous BCs\n",
    "        problem_lin = dolfin.LinearVariationalProblem(jacobian, -residual, delta_u, bcs_homo)\n",
    "        solver_lin  = dolfin.LinearVariationalSolver(problem_lin)\n",
    "        solver_lin.solve() #value delta_u automatically updated\n",
    "        \n",
    "        # Update the solution\n",
    "        u.assign(u+delta_u) #keeps u and du as 2 separate variables\n",
    "\n",
    "        # ------------------\n",
    "        # error calculation\n",
    "        # ------------------\n",
    "\n",
    "        # Stopping criterion based on the L2 norm of u and delta_u\n",
    "        norm_delta_u = dolfin.norm(delta_u, \"L2\")\n",
    "        norm_u       = dolfin.norm(      u, \"L2\")\n",
    "            \n",
    "        intR = dolfin.assemble(residual)\n",
    "        bc.apply(intR)\n",
    "        norm_residual = dolfin.norm(intR, \"L2\")\n",
    "        \n",
    "        # -----------------\n",
    "        \n",
    "        if monitor is not None:\n",
    "            monitor(k, u, norm_u, norm_delta_u, norm_residual)\n",
    "        \n",
    "        else:\n",
    "            # See for-else statement:\n",
    "            # https://book.pythontips.com/en/latest/for_-_else.html#else-clause\n",
    "            # This block is entered only if the above loop completes,\n",
    "            # which means that the maximum number of iterations has been reached.\n",
    "            1==1\n",
    "#             print('You decided to display nothing')\n",
    "#             raise RuntimeError(\"could not converge, norm_u {}, norm_delta_u {}\".format(norm_u, norm_delta_u)) \n",
    "\n",
    "    return k"
   ]
  },
  {
   "cell_type": "markdown",
   "metadata": {},
   "source": [
    "We are now ready to call our solver, first with a very small load, so that the solution is nearly that of the linear problem, and the algorithm should converge in one iteration."
   ]
  },
  {
   "cell_type": "code",
   "execution_count": 17,
   "metadata": {},
   "outputs": [
    {
     "name": "stdout",
     "output_type": "stream",
     "text": [
      "Iteration:   0, Error: 9.3505e-04, Residual: 7.4519e-03\n",
      "Iteration:   1, Error: 2.8341e-06, Residual: 1.9208e-07\n",
      "Iteration:   2, Error: 8.5150e-11, Residual: 3.4640e-14\n"
     ]
    },
    {
     "data": {
      "text/plain": [
       "2"
      ]
     },
     "execution_count": 17,
     "metadata": {},
     "output_type": "execute_result"
    }
   ],
   "source": [
    "bc = dolfin.DirichletBC(V, (0.,0.), left) #embedded condition to the left (x[0]==0)\n",
    "\n",
    "# u = dolfin.Function(V)\n",
    "u.interpolate(dolfin.Constant((0.0, 0.0)))\n",
    "B.t = 1E-4\n",
    "\n",
    "newton_solver(u, max_iter=3, monitor=simple_monitor)"
   ]
  },
  {
   "cell_type": "markdown",
   "metadata": {},
   "source": [
    "Let's try a slightly higher load. We will plot the estimate of the solution at each iteration. It is interesting to observe the iterates converge to the solution."
   ]
  },
  {
   "cell_type": "code",
   "execution_count": 19,
   "metadata": {
    "scrolled": true
   },
   "outputs": [
    {
     "name": "stdout",
     "output_type": "stream",
     "text": [
      "Iteration:   0, Error: 1.0519e-01, Residual: 6.5493e+01\n",
      "Iteration:   1, Error: 3.8576e-02, Residual: 2.1611e+01\n"
     ]
    },
    {
     "data": {
      "text/plain": [
       "1"
      ]
     },
     "execution_count": 19,
     "metadata": {},
     "output_type": "execute_result"
    },
    {
     "data": {
      "image/png": "[encoded data removed]",
      "text/plain": [
       "<Figure size 576x396 with 1 Axes>"
      ]
     },
     "metadata": {
      "needs_background": "light"
     },
     "output_type": "display_data"
    },
    {
     "data": {
      "image/png": "[encoded data removed]",
      "text/plain": [
       "<Figure size 576x396 with 1 Axes>"
      ]
     },
     "metadata": {
      "needs_background": "light"
     },
     "output_type": "display_data"
    }
   ],
   "source": [
    "u.interpolate(dolfin.Constant((0., 0.)))\n",
    "B.t = 1.5*load_max/n_loads\n",
    "\n",
    "newton_solver(u, max_iter=2, monitor=plot_monitor)"
   ]
  },
  {
   "cell_type": "markdown",
   "metadata": {},
   "source": [
    "### Illustrating quadratic convergence"
   ]
  },
  {
   "cell_type": "markdown",
   "metadata": {},
   "source": [
    "We now want to verify that the Newton–Raphson iterations converge quadratically, that is $\\epsilon_{n+1} \\leq C\\epsilon_n^2$, where $\\epsilon_n$ denotes the error of the $n$-th iterate. Since we do not know the exact solution of the problem, we will take the last iterate as a reference.\n",
    "\n",
    "We implement a new `monitor` that keeps a copy of each iterate."
   ]
  },
  {
   "cell_type": "code",
   "execution_count": 16,
   "metadata": {
    "scrolled": true
   },
   "outputs": [
    {
     "name": "stdout",
     "output_type": "stream",
     "text": [
      "Iteration:   0, Error: 1.7532e-01, Residual: 1.2599e+02\n",
      "Iteration:   1, Error: 1.0718e-01, Residual: 1.2717e+02\n",
      "Iteration:   2, Error: 2.1718e-02, Residual: 3.2448e+01\n",
      "Iteration:   3, Error: 8.0147e-03, Residual: 8.6801e+00\n",
      "Iteration:   4, Error: 1.0481e-02, Residual: 3.3536e+00\n",
      "Iteration:   5, Error: 3.1996e-03, Residual: 7.4497e-01\n",
      "Iteration:   6, Error: 4.1260e-03, Residual: 1.3838e-01\n",
      "Iteration:   7, Error: 9.1179e-04, Residual: 1.0109e-02\n",
      "Iteration:   8, Error: 2.4560e-04, Residual: 6.6514e-04\n",
      "Iteration:   9, Error: 6.1657e-06, Residual: 5.7059e-07\n",
      "Iteration:  10, Error: 1.1783e-08, Residual: 3.4327e-12\n",
      "Iteration:  11, Error: 1.8830e-14, Residual: 2.5675e-12\n",
      "Iteration:  12, Error: 1.1410e-16, Residual: 2.6331e-12\n",
      "Iteration:  13, Error: 5.0522e-17, Residual: 2.5357e-12\n",
      "Iteration:  14, Error: 4.1963e-17, Residual: 2.5138e-12\n",
      "Iteration:  15, Error: 7.9575e-17, Residual: 2.6881e-12\n",
      "Iteration:  16, Error: 7.7636e-17, Residual: 2.6858e-12\n",
      "Iteration:  17, Error: 3.3466e-17, Residual: 2.8033e-12\n",
      "Iteration:  18, Error: 4.5086e-17, Residual: 2.5492e-12\n",
      "Iteration:  19, Error: 1.3652e-16, Residual: 2.4383e-12\n",
      "Iteration:  20, Error: 3.5126e-17, Residual: 2.3863e-12\n",
      "Iteration:  21, Error: 5.0053e-17, Residual: 2.3088e-12\n",
      "Iteration:  22, Error: 1.7498e-17, Residual: 2.5865e-12\n",
      "Iteration:  23, Error: 3.3039e-17, Residual: 2.3253e-12\n",
      "Iteration:  24, Error: 6.7402e-17, Residual: 2.6371e-12\n",
      "Iteration:  25, Error: 2.2134e-17, Residual: 2.4765e-12\n",
      "Iteration:  26, Error: 6.8036e-17, Residual: 2.7308e-12\n",
      "Iteration:  27, Error: 1.6627e-17, Residual: 2.3460e-12\n",
      "Iteration:  28, Error: 6.4309e-17, Residual: 2.4243e-12\n",
      "Iteration:  29, Error: 1.1326e-16, Residual: 2.4536e-12\n",
      "Iteration:  30, Error: 1.5193e-16, Residual: 2.8470e-12\n",
      "Iteration:  31, Error: 4.0881e-17, Residual: 2.6417e-12\n",
      "Iteration:  32, Error: 3.2312e-17, Residual: 2.0682e-12\n",
      "Iteration:  33, Error: 3.5378e-17, Residual: 2.2352e-12\n",
      "Iteration:  34, Error: 7.1615e-17, Residual: 2.5267e-12\n",
      "Iteration:  35, Error: 1.1631e-16, Residual: 2.6346e-12\n",
      "Iteration:  36, Error: 2.3658e-17, Residual: 2.4258e-12\n",
      "Iteration:  37, Error: 4.9019e-17, Residual: 2.6714e-12\n",
      "Iteration:  38, Error: 1.0531e-16, Residual: 2.5929e-12\n",
      "Iteration:  39, Error: 1.1851e-16, Residual: 2.4545e-12\n",
      "Iteration:  40, Error: 8.2756e-17, Residual: 2.7116e-12\n",
      "Iteration:  41, Error: 1.6088e-16, Residual: 2.5630e-12\n",
      "Iteration:  42, Error: 1.2250e-16, Residual: 2.7541e-12\n",
      "Iteration:  43, Error: 3.5148e-17, Residual: 2.6619e-12\n",
      "Iteration:  44, Error: 1.6259e-16, Residual: 2.5039e-12\n",
      "Iteration:  45, Error: 1.3244e-16, Residual: 2.9101e-12\n",
      "Iteration:  46, Error: 5.9140e-17, Residual: 2.1661e-12\n",
      "Iteration:  47, Error: 1.0750e-16, Residual: 2.7025e-12\n",
      "Iteration:  48, Error: 1.6798e-16, Residual: 2.1908e-12\n",
      "Iteration:  49, Error: 5.8496e-17, Residual: 2.4095e-12\n",
      "Iteration:  50, Error: 1.7646e-17, Residual: 2.0587e-12\n",
      "Iteration:  51, Error: 1.8802e-17, Residual: 2.4871e-12\n",
      "Iteration:  52, Error: 4.0124e-17, Residual: 2.7463e-12\n",
      "Iteration:  53, Error: 1.0412e-16, Residual: 2.6431e-12\n",
      "Iteration:  54, Error: 5.6776e-17, Residual: 2.5012e-12\n",
      "Iteration:  55, Error: 9.0331e-17, Residual: 2.2126e-12\n",
      "Iteration:  56, Error: 1.0662e-16, Residual: 2.6291e-12\n",
      "Iteration:  57, Error: 3.2990e-17, Residual: 2.6064e-12\n",
      "Iteration:  58, Error: 4.0280e-17, Residual: 2.3370e-12\n",
      "Iteration:  59, Error: 1.0615e-16, Residual: 2.8693e-12\n",
      "Iteration:  60, Error: 4.3893e-17, Residual: 2.6027e-12\n",
      "Iteration:  61, Error: 8.9130e-17, Residual: 2.6119e-12\n",
      "Iteration:  62, Error: 5.7498e-17, Residual: 2.6982e-12\n",
      "Iteration:  63, Error: 3.4381e-17, Residual: 2.4378e-12\n",
      "Iteration:  64, Error: 3.8987e-17, Residual: 2.2409e-12\n",
      "Iteration:  65, Error: 9.8219e-17, Residual: 2.5245e-12\n",
      "Iteration:  66, Error: 1.2378e-16, Residual: 3.0056e-12\n",
      "Iteration:  67, Error: 5.7676e-17, Residual: 2.5817e-12\n",
      "Iteration:  68, Error: 5.2393e-17, Residual: 2.4700e-12\n",
      "Iteration:  69, Error: 1.0746e-16, Residual: 2.4778e-12\n",
      "Iteration:  70, Error: 2.6451e-17, Residual: 2.6583e-12\n",
      "Iteration:  71, Error: 2.1210e-17, Residual: 2.2293e-12\n",
      "Iteration:  72, Error: 1.1345e-16, Residual: 2.2313e-12\n",
      "Iteration:  73, Error: 4.1774e-17, Residual: 2.6211e-12\n",
      "Iteration:  74, Error: 1.1201e-16, Residual: 2.2806e-12\n",
      "Iteration:  75, Error: 2.1012e-17, Residual: 2.3186e-12\n",
      "Iteration:  76, Error: 1.1056e-16, Residual: 2.4778e-12\n",
      "Iteration:  77, Error: 1.1648e-16, Residual: 2.3983e-12\n",
      "Iteration:  78, Error: 6.0069e-17, Residual: 2.5823e-12\n",
      "Iteration:  79, Error: 3.9665e-17, Residual: 2.4156e-12\n",
      "Iteration:  80, Error: 2.5840e-16, Residual: 2.1324e-12\n",
      "Iteration:  81, Error: 2.5109e-16, Residual: 2.5896e-12\n",
      "Iteration:  82, Error: 1.1206e-16, Residual: 2.4791e-12\n",
      "Iteration:  83, Error: 4.2572e-17, Residual: 2.4743e-12\n",
      "Iteration:  84, Error: 1.1631e-16, Residual: 2.4016e-12\n",
      "Iteration:  85, Error: 2.3773e-16, Residual: 2.6213e-12\n",
      "Iteration:  86, Error: 1.0297e-16, Residual: 2.5071e-12\n",
      "Iteration:  87, Error: 8.0010e-17, Residual: 2.3589e-12\n",
      "Iteration:  88, Error: 2.7447e-17, Residual: 2.3268e-12\n",
      "Iteration:  89, Error: 2.2352e-16, Residual: 2.4416e-12\n",
      "Iteration:  90, Error: 1.2095e-16, Residual: 2.8361e-12\n",
      "Iteration:  91, Error: 5.7088e-17, Residual: 2.8782e-12\n",
      "Iteration:  92, Error: 4.6515e-17, Residual: 2.0635e-12\n",
      "Iteration:  93, Error: 2.5471e-17, Residual: 2.3703e-12\n",
      "Iteration:  94, Error: 1.5970e-16, Residual: 2.7482e-12\n",
      "Iteration:  95, Error: 4.5331e-17, Residual: 2.3434e-12\n",
      "Iteration:  96, Error: 7.8283e-17, Residual: 2.3517e-12\n",
      "Iteration:  97, Error: 1.4691e-16, Residual: 2.8203e-12\n",
      "Iteration:  98, Error: 1.7313e-17, Residual: 2.3489e-12\n",
      "Iteration:  99, Error: 6.5448e-17, Residual: 2.2218e-12\n"
     ]
    },
    {
     "data": {
      "text/plain": [
       "99"
      ]
     },
     "execution_count": 16,
     "metadata": {},
     "output_type": "execute_result"
    }
   ],
   "source": [
    "iterates = []\n",
    "\n",
    "def my_monitor(iteration, u, u_norm, delta_u_norm, residual_norm):\n",
    "    simple_monitor(iteration, u, u_norm, delta_u_norm, residual_norm)\n",
    "    iterates.append(u.copy(deepcopy=True))\n",
    "\n",
    "u.interpolate(dolfin.Constant((0., 0.)))\n",
    "B.t = 2.5*load_max/n_loads\n",
    "newton_solver(u, monitor=my_monitor, rtol=1e-10, atol=1e-10)"
   ]
  },
  {
   "cell_type": "markdown",
   "metadata": {},
   "source": [
    "**When approaching the solution, we should have** $r^{n+1} = r^{2n}$"
   ]
  },
  {
   "cell_type": "code",
   "execution_count": 17,
   "metadata": {},
   "outputs": [],
   "source": [
    "L2_errors = np.zeros(len(iterates), dtype=np.float64)\n",
    "H1_errors = np.zeros_like(L2_errors)\n",
    "u_ref = iterates[-1]\n",
    "\n",
    "for i, u_i in enumerate(iterates):\n",
    "    L2_errors[i] = dolfin.errornorm(u_ref, u_i, 'L2')\n",
    "    H1_errors[i] = dolfin.errornorm(u_ref, u_i, 'H1')"
   ]
  },
  {
   "cell_type": "code",
   "execution_count": 22,
   "metadata": {},
   "outputs": [
    {
     "data": {
      "text/plain": [
       "[<matplotlib.lines.Line2D at 0x7f1cda15a710>]"
      ]
     },
     "execution_count": 22,
     "metadata": {},
     "output_type": "execute_result"
    },
    {
     "data": {
      "image/png": "[encoded data removed]",
      "text/plain": [
       "<Figure size 576x396 with 1 Axes>"
      ]
     },
     "metadata": {
      "needs_background": "light"
     },
     "output_type": "display_data"
    }
   ],
   "source": [
    "plt.xlabel(r'$\\epsilon_n^2$')\n",
    "plt.ylabel(r'$\\epsilon_{n+1}$')\n",
    "\n",
    "plt.loglog(L2_errors[:-2], L2_errors[1:-1], 'o-')\n",
    "plt.loglog(L2_errors[:-2], 100*L2_errors[:-2]**2)"
   ]
  },
  {
   "cell_type": "code",
   "execution_count": 20,
   "metadata": {
    "scrolled": true
   },
   "outputs": [
    {
     "data": {
      "text/plain": [
       "[<matplotlib.lines.Line2D at 0x7f1cd888f208>]"
      ]
     },
     "execution_count": 20,
     "metadata": {},
     "output_type": "execute_result"
    },
    {
     "data": {
      "image/png": "[encoded data removed]",
      "text/plain": [
       "<Figure size 576x396 with 1 Axes>"
      ]
     },
     "metadata": {
      "needs_background": "light"
     },
     "output_type": "display_data"
    }
   ],
   "source": [
    "plt.xlabel(r'$\\epsilon_n^2$')\n",
    "plt.ylabel(r'$\\epsilon_{n+1}$')\n",
    "\n",
    "plt.loglog(H1_errors[:-2], H1_errors[1:-1], 'o-')\n",
    "plt.loglog(H1_errors[:-2], 10*H1_errors[:-2]**2)"
   ]
  },
  {
   "cell_type": "markdown",
   "metadata": {},
   "source": [
    "## Validation of the solver"
   ]
  },
  {
   "cell_type": "markdown",
   "metadata": {},
   "source": [
    "We now run the whole simulation and compare with the reference solution."
   ]
  },
  {
   "cell_type": "code",
   "execution_count": 23,
   "metadata": {},
   "outputs": [
    {
     "data": {
      "text/plain": [
       "<matplotlib.legend.Legend at 0x7f1cd784f320>"
      ]
     },
     "execution_count": 23,
     "metadata": {},
     "output_type": "execute_result"
    },
    {
     "data": {
      "image/png": "[encoded data removed]",
      "text/plain": [
       "<Figure size 576x396 with 1 Axes>"
      ]
     },
     "metadata": {
      "needs_background": "light"
     },
     "output_type": "display_data"
    }
   ],
   "source": [
    "file_u = dolfin.XDMFFile(os.path.join(output_dir, \"u.xdmf\"))\n",
    "file_u.parameters.update({\"flush_output\":True,\n",
    "                          \"functions_share_mesh\":True,\n",
    "                          \"rewrite_function_mesh\":False})\n",
    "\n",
    "# initialisation\n",
    "displ = np.zeros_like(loads)\n",
    "u.interpolate(dolfin.Constant((0.,0.)))\n",
    "\n",
    "B.t = 0\n",
    "\n",
    "for (i, t) in enumerate(loads):\n",
    "    B.t = t\n",
    "    newton_solver(u, max_iter=10, monitor=None)\n",
    "    displ[i] = dolfin.assemble(u[1]*ds(2))/Ly \n",
    "    #print(\"t={:+3.3f}, u={:+3.3f}\".format(t,displ_ref[i]))\n",
    "    with file_u as file:\n",
    "        file.write(u,t)\n",
    "\n",
    "plt.plot(loads, displ_ref, \"-\", label='Reference implementation')\n",
    "plt.plot(loads, displ, 'o', label='Our implementation')\n",
    "\n",
    "plt.title('Comparison FEniCS method to ours')\n",
    "plt.ylabel(\"end-displacement\")\n",
    "plt.xlabel(\"load\")\n",
    "\n",
    "plt.grid(True)\n",
    "plt.legend()"
   ]
  },
  {
   "cell_type": "markdown",
   "metadata": {},
   "source": [
    "#### $L_2$ norm error"
   ]
  },
  {
   "cell_type": "code",
   "execution_count": 24,
   "metadata": {},
   "outputs": [
    {
     "name": "stdout",
     "output_type": "stream",
     "text": [
      "6.16713364149e-12\n"
     ]
    }
   ],
   "source": [
    "e_L2 = np.linalg.norm(displ - displ_ref, ord=2)\n",
    "print(e_L2)"
   ]
  },
  {
   "cell_type": "markdown",
   "metadata": {},
   "source": [
    "**We conclude on the fact our method is equivalent to FEniCS one, namely we manually implemented the same steps.**"
   ]
  },
  {
   "cell_type": "code",
   "execution_count": 25,
   "metadata": {},
   "outputs": [
    {
     "data": {
      "text/plain": [
       "<matplotlib.image.AxesImage at 0x7f1cd782fba8>"
      ]
     },
     "execution_count": 25,
     "metadata": {},
     "output_type": "execute_result"
    },
    {
     "data": {
      "image/png": "[encoded data removed]",
      "text/plain": [
       "<Figure size 576x396 with 1 Axes>"
      ]
     },
     "metadata": {
      "needs_background": "light"
     },
     "output_type": "display_data"
    }
   ],
   "source": [
    "J_mat = dolfin.assemble(jacobian).array()\n",
    "J_mat\n",
    "plt.spy(J_mat)"
   ]
  },
  {
   "cell_type": "markdown",
   "metadata": {},
   "source": [
    "# `Further questions`"
   ]
  },
  {
   "cell_type": "markdown",
   "metadata": {},
   "source": [
    "### Question 0\n",
    "Sometimes the Jacobian is too difficult to compute, try to replace it by a constant Jacobian (of the right dimension) and see if your obtain convergence."
   ]
  },
  {
   "cell_type": "code",
   "execution_count": 26,
   "metadata": {},
   "outputs": [],
   "source": [
    "bcs = [dolfin.DirichletBC(V, (0.,0.), left)] #embedded condition to the left (x[0]==0)\n",
    "bc  =  dolfin.DirichletBC(V, (0.,0.), left) #embedded condition to the left (x[0]==0)"
   ]
  },
  {
   "cell_type": "code",
   "execution_count": 27,
   "metadata": {},
   "outputs": [],
   "source": [
    "# WF\n",
    "potential_energy = psi*dx - ufl.dot(B, u)*dx - ufl.dot(T, u)*ds(boundary_indices['right'])\n",
    "\n",
    "residual = ufl.derivative(potential_energy, u, dolfin.TestFunction (V))\n",
    "jacobian = ufl.derivative(residual        , u, dolfin.TrialFunction(V))"
   ]
  },
  {
   "cell_type": "code",
   "execution_count": 29,
   "metadata": {},
   "outputs": [],
   "source": [
    "def newton_solver_identity_jacobian(u, max_iter=10, rtol=1e-6, atol=1e-6, monitor=None):\n",
    "    \n",
    "    \"\"\" Newton Raphson solver returing converging u value \n",
    "    given u (initial guess ??) and nb iterations. \"\"\"\n",
    "\n",
    "    delta_u = dolfin.Function(V)\n",
    "    delta_u.interpolate(dolfin.Constant((0., 0.)))\n",
    "    \n",
    "    for k in range(max_iter):\n",
    "\n",
    "        # Solve the linearized problem for the increment delta_u with homogenous BCs\n",
    "        problem_lin = dolfin.LinearVariationalProblem(ufl.Identity(1), -residual, delta_u, bcs_homo)\n",
    "        solver_lin  = dolfin.LinearVariationalSolver(problem_lin)\n",
    "        solver_lin.solve() #value delta_u automatically updated\n",
    "        \n",
    "        # Update the solution\n",
    "        u.assign(u+delta_u) #keeps u and du as 2 separate variables\n",
    "\n",
    "        # ------------------\n",
    "        # error calculation\n",
    "        # ------------------\n",
    "\n",
    "        # Stopping criterion based on the L2 norm of u and delta_u\n",
    "        norm_delta_u = dolfin.norm(delta_u, \"L2\")\n",
    "        norm_u       = dolfin.norm(      u, \"L2\")\n",
    "            \n",
    "        intR = dolfin.assemble(residual)\n",
    "        bc.apply(intR)\n",
    "        norm_residual = dolfin.norm(intR, \"L2\")\n",
    "        \n",
    "        # -----------------\n",
    "        \n",
    "        if monitor is not None:\n",
    "            monitor(k, u, norm_u, norm_delta_u, norm_residual)\n",
    "        \n",
    "        else:\n",
    "            # See for-else statement:\n",
    "            # https://book.pythontips.com/en/latest/for_-_else.html#else-clause\n",
    "            # This block is entered only if the above loop completes,\n",
    "            # which means that the maximum number of iterations has been reached.\n",
    "            1==1\n",
    "#             print('You decided to display nothing')\n",
    "#             raise RuntimeError(\"could not converge, norm_u {}, norm_delta_u {}\".format(norm_u, norm_delta_u)) \n",
    "\n",
    "    return k"
   ]
  },
  {
   "cell_type": "markdown",
   "metadata": {},
   "source": [
    "Wether the method converges depend on the shape of residual :\n",
    "    \n",
    "* considering residual af $f(x)$, we minimize it through several iterations.\n",
    "\n",
    "* it comes $f(x) + f'(x)dx = 0$ and we look for dx.\n",
    "\n",
    "* then we go step by step towards minimization (linearizing a non-linear problem)\n",
    "\n",
    "Discussing the mater of the Jacobian matrix $f'(x)$, if we decide to fix it, it may be acceptable if :\n",
    "\n",
    "* we approximate J by value close to $f'(x)$\n",
    "\n",
    "* $f'(x)$ remains almost constant, i.e. $f'(x) \\approx fixed ~~ Jacobian$"
   ]
  },
  {
   "cell_type": "code",
   "execution_count": 30,
   "metadata": {},
   "outputs": [
    {
     "ename": "RuntimeError",
     "evalue": "Expected a ufl.Form.",
     "output_type": "error",
     "traceback": [
      "\u001b[0;31m---------------------------------------------------------------------------\u001b[0m",
      "\u001b[0;31mRuntimeError\u001b[0m                              Traceback (most recent call last)",
      "\u001b[0;32m<ipython-input-30-4e85cb9b18a3>\u001b[0m in \u001b[0;36m<module>\u001b[0;34m\u001b[0m\n\u001b[1;32m      5\u001b[0m \u001b[0mB\u001b[0m\u001b[0;34m.\u001b[0m\u001b[0mt\u001b[0m \u001b[0;34m=\u001b[0m \u001b[0;36m1E-4\u001b[0m\u001b[0;34m\u001b[0m\u001b[0;34m\u001b[0m\u001b[0m\n\u001b[1;32m      6\u001b[0m \u001b[0;34m\u001b[0m\u001b[0m\n\u001b[0;32m----> 7\u001b[0;31m \u001b[0mnewton_solver_identity_jacobian\u001b[0m\u001b[0;34m(\u001b[0m\u001b[0mu\u001b[0m\u001b[0;34m,\u001b[0m \u001b[0mmax_iter\u001b[0m\u001b[0;34m=\u001b[0m\u001b[0;36m3\u001b[0m\u001b[0;34m,\u001b[0m \u001b[0mmonitor\u001b[0m\u001b[0;34m=\u001b[0m\u001b[0msimple_monitor\u001b[0m\u001b[0;34m)\u001b[0m\u001b[0;34m\u001b[0m\u001b[0;34m\u001b[0m\u001b[0m\n\u001b[0m",
      "\u001b[0;32m<ipython-input-29-e588a4e231a7>\u001b[0m in \u001b[0;36mnewton_solver_identity_jacobian\u001b[0;34m(u, max_iter, rtol, atol, monitor)\u001b[0m\n\u001b[1;32m     10\u001b[0m \u001b[0;34m\u001b[0m\u001b[0m\n\u001b[1;32m     11\u001b[0m         \u001b[0;31m# Solve the linearized problem for the increment delta_u with homogenous BCs\u001b[0m\u001b[0;34m\u001b[0m\u001b[0;34m\u001b[0m\u001b[0;34m\u001b[0m\u001b[0m\n\u001b[0;32m---> 12\u001b[0;31m         \u001b[0mproblem_lin\u001b[0m \u001b[0;34m=\u001b[0m \u001b[0mdolfin\u001b[0m\u001b[0;34m.\u001b[0m\u001b[0mLinearVariationalProblem\u001b[0m\u001b[0;34m(\u001b[0m\u001b[0mufl\u001b[0m\u001b[0;34m.\u001b[0m\u001b[0mIdentity\u001b[0m\u001b[0;34m(\u001b[0m\u001b[0;36m1\u001b[0m\u001b[0;34m)\u001b[0m\u001b[0;34m,\u001b[0m \u001b[0;34m-\u001b[0m\u001b[0mresidual\u001b[0m\u001b[0;34m,\u001b[0m \u001b[0mdelta_u\u001b[0m\u001b[0;34m,\u001b[0m \u001b[0mbcs_homo\u001b[0m\u001b[0;34m)\u001b[0m\u001b[0;34m\u001b[0m\u001b[0;34m\u001b[0m\u001b[0m\n\u001b[0m\u001b[1;32m     13\u001b[0m         \u001b[0msolver_lin\u001b[0m  \u001b[0;34m=\u001b[0m \u001b[0mdolfin\u001b[0m\u001b[0;34m.\u001b[0m\u001b[0mLinearVariationalSolver\u001b[0m\u001b[0;34m(\u001b[0m\u001b[0mproblem_lin\u001b[0m\u001b[0;34m)\u001b[0m\u001b[0;34m\u001b[0m\u001b[0;34m\u001b[0m\u001b[0m\n\u001b[1;32m     14\u001b[0m         \u001b[0msolver_lin\u001b[0m\u001b[0;34m.\u001b[0m\u001b[0msolve\u001b[0m\u001b[0;34m(\u001b[0m\u001b[0;34m)\u001b[0m \u001b[0;31m#value delta_u automatically updated\u001b[0m\u001b[0;34m\u001b[0m\u001b[0;34m\u001b[0m\u001b[0m\n",
      "\u001b[0;32m/usr/local/lib/python3.6/dist-packages/dolfin/fem/problem.py\u001b[0m in \u001b[0;36m__init__\u001b[0;34m(self, a, L, u, bcs, form_compiler_parameters)\u001b[0m\n\u001b[1;32m     54\u001b[0m         \u001b[0;32melse\u001b[0m\u001b[0;34m:\u001b[0m\u001b[0;34m\u001b[0m\u001b[0;34m\u001b[0m\u001b[0m\n\u001b[1;32m     55\u001b[0m             \u001b[0mL\u001b[0m \u001b[0;34m=\u001b[0m \u001b[0mForm\u001b[0m\u001b[0;34m(\u001b[0m\u001b[0mL\u001b[0m\u001b[0;34m,\u001b[0m \u001b[0mform_compiler_parameters\u001b[0m\u001b[0;34m=\u001b[0m\u001b[0mform_compiler_parameters\u001b[0m\u001b[0;34m)\u001b[0m\u001b[0;34m\u001b[0m\u001b[0;34m\u001b[0m\u001b[0m\n\u001b[0;32m---> 56\u001b[0;31m         \u001b[0ma\u001b[0m \u001b[0;34m=\u001b[0m \u001b[0mForm\u001b[0m\u001b[0;34m(\u001b[0m\u001b[0ma\u001b[0m\u001b[0;34m,\u001b[0m \u001b[0mform_compiler_parameters\u001b[0m\u001b[0;34m=\u001b[0m\u001b[0mform_compiler_parameters\u001b[0m\u001b[0;34m)\u001b[0m\u001b[0;34m\u001b[0m\u001b[0;34m\u001b[0m\u001b[0m\n\u001b[0m\u001b[1;32m     57\u001b[0m \u001b[0;34m\u001b[0m\u001b[0m\n\u001b[1;32m     58\u001b[0m         \u001b[0;31m# Initialize C++ base class\u001b[0m\u001b[0;34m\u001b[0m\u001b[0;34m\u001b[0m\u001b[0;34m\u001b[0m\u001b[0m\n",
      "\u001b[0;32m/usr/local/lib/python3.6/dist-packages/dolfin/fem/form.py\u001b[0m in \u001b[0;36m__init__\u001b[0;34m(self, form, **kwargs)\u001b[0m\n\u001b[1;32m     18\u001b[0m         \u001b[0;31m# Check form argument\u001b[0m\u001b[0;34m\u001b[0m\u001b[0;34m\u001b[0m\u001b[0;34m\u001b[0m\u001b[0m\n\u001b[1;32m     19\u001b[0m         \u001b[0;32mif\u001b[0m \u001b[0;32mnot\u001b[0m \u001b[0misinstance\u001b[0m\u001b[0;34m(\u001b[0m\u001b[0mform\u001b[0m\u001b[0;34m,\u001b[0m \u001b[0mufl\u001b[0m\u001b[0;34m.\u001b[0m\u001b[0mForm\u001b[0m\u001b[0;34m)\u001b[0m\u001b[0;34m:\u001b[0m\u001b[0;34m\u001b[0m\u001b[0;34m\u001b[0m\u001b[0m\n\u001b[0;32m---> 20\u001b[0;31m             \u001b[0;32mraise\u001b[0m \u001b[0mRuntimeError\u001b[0m\u001b[0;34m(\u001b[0m\u001b[0;34m\"Expected a ufl.Form.\"\u001b[0m\u001b[0;34m)\u001b[0m\u001b[0;34m\u001b[0m\u001b[0;34m\u001b[0m\u001b[0m\n\u001b[0m\u001b[1;32m     21\u001b[0m \u001b[0;34m\u001b[0m\u001b[0m\n\u001b[1;32m     22\u001b[0m         \u001b[0msd\u001b[0m \u001b[0;34m=\u001b[0m \u001b[0mform\u001b[0m\u001b[0;34m.\u001b[0m\u001b[0msubdomain_data\u001b[0m\u001b[0;34m(\u001b[0m\u001b[0;34m)\u001b[0m\u001b[0;34m\u001b[0m\u001b[0;34m\u001b[0m\u001b[0m\n",
      "\u001b[0;31mRuntimeError\u001b[0m: Expected a ufl.Form."
     ]
    }
   ],
   "source": [
    "bc = dolfin.DirichletBC(V, (0.,0.), left) #embedded condition to the left (x[0]==0)\n",
    "\n",
    "# u = dolfin.Function(V)\n",
    "u.interpolate(dolfin.Constant((0.0, 0.0)))\n",
    "B.t = 1E-4\n",
    "\n",
    "newton_solver_identity_jacobian(u, max_iter=3, monitor=simple_monitor)"
   ]
  },
  {
   "cell_type": "markdown",
   "metadata": {},
   "source": [
    "**Question 1** Show that for large load steps, the iterations may cease to converge. Can you explain what is happening? "
   ]
  },
  {
   "cell_type": "markdown",
   "metadata": {},
   "source": [
    "In order to consider large load steps, one must do so through loading vector."
   ]
  },
  {
   "cell_type": "code",
   "execution_count": 31,
   "metadata": {},
   "outputs": [],
   "source": [
    "bcs = [dolfin.DirichletBC(V, (0.,0.), left)] #embedded condition to the left (x[0]==0)\n",
    "bc  =  dolfin.DirichletBC(V, (0.,0.), left) #embedded condition to the left (x[0]==0)"
   ]
  },
  {
   "cell_type": "code",
   "execution_count": 32,
   "metadata": {},
   "outputs": [],
   "source": [
    "def newton_solver_load_iter(u, max_iter=100, rtol=1e-6, atol=1e-6, monitor=None):\n",
    "    \n",
    "    \"\"\" Newton Raphson solver returing converging u value \n",
    "    given u (initial guess ??) and nb iterations. \"\"\"\n",
    "\n",
    "    delta_u = dolfin.Function(V)\n",
    "    delta_u.interpolate(dolfin.Constant((0., 0.)))\n",
    "\n",
    "    bcs_homo = bcs\n",
    "\n",
    "    for k in range(max_iter):\n",
    "\n",
    "        # Solve the linearized problem for the increment delta_u with homogenous BCs\n",
    "        problem_lin = dolfin.LinearVariationalProblem(jacobian, -residual, delta_u, bcs_homo)\n",
    "        solver_lin  = dolfin.LinearVariationalSolver(problem_lin)\n",
    "        solver_lin.solve() #value delta_u automatically updated\n",
    "        \n",
    "        # Update the solution\n",
    "        u.assign(u+delta_u) #keeps u and du as 2 separate variables\n",
    "\n",
    "        # ------------------\n",
    "        # error calculation\n",
    "        # ------------------\n",
    "\n",
    "        # Stopping criterion based on the L2 norm of u and delta_u\n",
    "        norm_delta_u = dolfin.norm(delta_u, \"L2\")\n",
    "        norm_u       = dolfin.norm(      u, \"L2\")\n",
    "            \n",
    "        intR = dolfin.assemble(residual)\n",
    "        bc.apply(intR)\n",
    "        norm_residual = dolfin.norm(intR, \"L2\")\n",
    "        \n",
    "        # -----------------\n",
    "        \n",
    "        if monitor is not None:\n",
    "            monitor(k, u, norm_u, norm_delta_u, norm_residual)\n",
    "        \n",
    "        else:\n",
    "            # See for-else statement:\n",
    "            # https://book.pythontips.com/en/latest/for_-_else.html#else-clause\n",
    "            # This block is entered only if the above loop completes,\n",
    "            # which means that the maximum number of iterations has been reached.\n",
    "            1==1\n",
    "#             print('You decided to display nothing')\n",
    "#             raise RuntimeError(\"could not converge, norm_u {}, norm_delta_u {}\".format(norm_u, norm_delta_u)) \n",
    "\n",
    "    if m.isnan(norm_residual): #condition at the end as however if nan once, won't get any better (will it ?)\n",
    "        return True\n",
    "    \n",
    "    return k"
   ]
  },
  {
   "cell_type": "code",
   "execution_count": 33,
   "metadata": {},
   "outputs": [],
   "source": [
    "def min_nb_loads(nb_loads_iter):\n",
    "    \n",
    "    \"\"\" Function returing min nb loads given the \n",
    "    number of loading to test.\n",
    "    \n",
    "    It works as loads_iter = np.array([10*_ for _ in range(1, nb_loads_iter)])[::-1]\n",
    "    \n",
    "    such that provided 'nb_loads_iter', we test solving for a number of loading from 10 to 10*(nb_loads_iter-1)\n",
    "    \n",
    "    Note that we in fact test the highest nb loads until loop breaks of finishes.\n",
    "    \"\"\"\n",
    "    \n",
    "    nb_loads_iter = nb_loads_iter\n",
    "    loads_iter = np.array([30 + _ for _ in range(1, nb_loads_iter)])[::-1]\n",
    "    loads_iter = loads_iter.astype(int)\n",
    "\n",
    "    # ---------\n",
    "    \n",
    "    # u = dolfin.Function(V)\n",
    "    u.interpolate(dolfin.Constant((0.0, 0.0)))\n",
    "\n",
    "    # ---------\n",
    "    exit = False #initialisation condition to break loop if nan values encountered\n",
    "\n",
    "    for i in range(nb_loads_iter-1):\n",
    "\n",
    "        B.t = 0\n",
    "        loads = np.linspace(load_min, load_max, loads_iter[i])\n",
    "\n",
    "        for j in range(loads_iter[i]):\n",
    "            B.t   = loads[j]\n",
    "\n",
    "            # ------------\n",
    "\n",
    "            norm_residual = newton_solver_load_iter(u, max_iter=10, monitor=None)\n",
    "\n",
    "            if norm_residual==True:\n",
    "                exit=True\n",
    "\n",
    "        if exit==True:\n",
    "            print('Doesn\\'t converges for a load step above {:.4f}'.format((load_max - load_min)/loads_iter[i]))\n",
    "            print('Equivalent to having {} steps.'.format(loads_iter[i]))    \n",
    "            break\n",
    "            \n",
    "    return loads_iter[i]"
   ]
  },
  {
   "cell_type": "code",
   "execution_count": 34,
   "metadata": {},
   "outputs": [
    {
     "name": "stdout",
     "output_type": "stream",
     "text": [
      "Doesn't converges for a load step above 0.0094\n",
      "Equivalent to having 32 steps.\n",
      "Min space step is  0.009375\n"
     ]
    }
   ],
   "source": [
    "# Display max space step together with min nb of loadings to consider (equivalent)\n",
    "min_loads = min_nb_loads(5)\n",
    "print('Min space step is ', load_max / min_loads)"
   ]
  },
  {
   "cell_type": "markdown",
   "metadata": {},
   "source": [
    "**Look at colormap graphic of displacement to have visual feedback showing too large load step may not ensure convergence.**\n",
    "\n",
    "**It looks like the value for min space step may vary in function of max_load : ex. if one chooses max_load=0.4, one can converge with nb_load=39.**\n",
    "\n",
    "**Non_linear FEniCS code may not work for loading array for which our solver works.**"
   ]
  },
  {
   "cell_type": "markdown",
   "metadata": {},
   "source": [
    "**Question 2** Refine the mesh and observe how the largest load-step is affected."
   ]
  },
  {
   "cell_type": "code",
   "execution_count": 1,
   "metadata": {},
   "outputs": [],
   "source": [
    "# Physical mesh : rectangle 2D beam\n",
    "\n",
    "def min_nb_loads_for_meshs_refinement(mesh_size_iter, nb_loads_iter):\n",
    "    \n",
    "    \"\"\" Function returning min_nb_loads for some mesh's refinement. \"\"\"\n",
    "    \n",
    "    # ----------------\n",
    "    \n",
    "    Nx = np.array([10*_ for _ in range(1, mesh_size_iter)])\n",
    "    stock_min_nb_loads = np.zeros_like((Nx))\n",
    "    \n",
    "    # ----------------\n",
    "\n",
    "    for i in range(mesh_size_iter-1):\n",
    "\n",
    "        # ---------------------------------------------\n",
    "        #                 Mesh's refinement\n",
    "        # ---------------------------------------------\n",
    "\n",
    "        nx, ny = Nx[i], int(Nx[i]/5) # Number of elements in each direction\n",
    "\n",
    "        # ------\n",
    "        #  mesh\n",
    "        # ------\n",
    "        \n",
    "        mesh  = dolfin.RectangleMesh(dolfin.Point(0,0),\n",
    "                                     dolfin.Point(Lx,Ly),\n",
    "                                     nx, ny)\n",
    "\n",
    "        left  = dolfin.CompiledSubDomain(\"near(x[0],0) && on_boundary\")\n",
    "        right = dolfin.CompiledSubDomain(\"near(x[0],Lx) && on_boundary\", Lx=Lx)\n",
    "\n",
    "        boundary_markers = dolfin.MeshFunction(\"size_t\", \n",
    "                                                mesh, \n",
    "                                                1, #dim\n",
    "                                                0) #value\n",
    "\n",
    "        boundary_indices = {\"left\": 1, \"right\": 2}\n",
    "        left.mark (boundary_markers, boundary_indices[\"left\"] )\n",
    "        right.mark(boundary_markers, boundary_indices[\"right\"])\n",
    "        \n",
    "        ds = dolfin.ds(domain=mesh,subdomain_data=boundary_markers)\n",
    "        dx = dolfin.dx(domain=mesh)\n",
    "        \n",
    "        # ----------------\n",
    "        #  Function space\n",
    "        # ----------------\n",
    "        \n",
    "        V_element = dolfin.VectorElement(\"CG\", #usual Lagrangian elements\n",
    "                                 mesh.ufl_cell(), \n",
    "                                 degree=degree) #2\n",
    "\n",
    "        V = dolfin.FunctionSpace(mesh, V_element)\n",
    "        u = dolfin.Function(V, name=\"u\") #name allows to work as with a pointer\n",
    "        \n",
    "        # ------------------\n",
    "        #  Potential energy\n",
    "        # ------------------\n",
    "        \n",
    "        I, F, C, Ic, J, E = tensors(u)\n",
    "\n",
    "        #Hookean potential energy\n",
    "        psi = (mu/2)*(Ic-2) - mu*ufl.ln(J) + (lmbda/2)*(ufl.ln(J))**2\n",
    "        \n",
    "        bcs = [dolfin.DirichletBC(V, (0.,0.), left)] #embedded condition to the left (x[0]==0)\n",
    "        bc  =  dolfin.DirichletBC(V, (0.,0.), left)  #embedded condition to the left (x[0]==0)\n",
    "        \n",
    "        # -------\n",
    "        \n",
    "        # WF\n",
    "        potential_energy = psi*dx - ufl.dot(B, u)*dx - ufl.dot(T, u)*ds(boundary_indices['right'])\n",
    "\n",
    "        residual = ufl.derivative(potential_energy, u, dolfin.TestFunction (V))\n",
    "        jacobian = ufl.derivative(residual        , u, dolfin.TrialFunction(V))\n",
    "        \n",
    "        # ------------------------------------------------------------------------\n",
    "        # ------------------------------------------------------------------------\n",
    "\n",
    "        stock_min_nb_loads[i] = min_nb_loads(nb_loads_iter)\n",
    "        \n",
    "        plt.figure()\n",
    "        dolfin.plot(mesh)\n",
    "        \n",
    "    return stock_min_nb_loads, Nx"
   ]
  },
  {
   "cell_type": "code",
   "execution_count": 2,
   "metadata": {},
   "outputs": [
    {
     "ename": "NameError",
     "evalue": "name 'np' is not defined",
     "output_type": "error",
     "traceback": [
      "\u001b[0;31m---------------------------------------------------------------------------\u001b[0m",
      "\u001b[0;31mNameError\u001b[0m                                 Traceback (most recent call last)",
      "\u001b[0;32m<ipython-input-2-761cd5d3a21a>\u001b[0m in \u001b[0;36m<module>\u001b[0;34m\u001b[0m\n\u001b[0;32m----> 1\u001b[0;31m \u001b[0mmin_loads\u001b[0m\u001b[0;34m,\u001b[0m \u001b[0mnx\u001b[0m \u001b[0;34m=\u001b[0m \u001b[0mmin_nb_loads_for_meshs_refinement\u001b[0m\u001b[0;34m(\u001b[0m\u001b[0mmesh_size_iter\u001b[0m\u001b[0;34m=\u001b[0m\u001b[0;36m5\u001b[0m\u001b[0;34m,\u001b[0m \u001b[0mnb_loads_iter\u001b[0m\u001b[0;34m=\u001b[0m\u001b[0;36m5\u001b[0m\u001b[0;34m)\u001b[0m \u001b[0;31m# nb refinement=a-1 ; nb tested loads=b-1\u001b[0m\u001b[0;34m\u001b[0m\u001b[0;34m\u001b[0m\u001b[0m\n\u001b[0m",
      "\u001b[0;32m<ipython-input-1-be98adc1db46>\u001b[0m in \u001b[0;36mmin_nb_loads_for_meshs_refinement\u001b[0;34m(mesh_size_iter, nb_loads_iter)\u001b[0m\n\u001b[1;32m      7\u001b[0m     \u001b[0;31m# ----------------\u001b[0m\u001b[0;34m\u001b[0m\u001b[0;34m\u001b[0m\u001b[0;34m\u001b[0m\u001b[0m\n\u001b[1;32m      8\u001b[0m \u001b[0;34m\u001b[0m\u001b[0m\n\u001b[0;32m----> 9\u001b[0;31m     \u001b[0mNx\u001b[0m \u001b[0;34m=\u001b[0m \u001b[0mnp\u001b[0m\u001b[0;34m.\u001b[0m\u001b[0marray\u001b[0m\u001b[0;34m(\u001b[0m\u001b[0;34m[\u001b[0m\u001b[0;36m10\u001b[0m\u001b[0;34m*\u001b[0m\u001b[0m_\u001b[0m \u001b[0;32mfor\u001b[0m \u001b[0m_\u001b[0m \u001b[0;32min\u001b[0m \u001b[0mrange\u001b[0m\u001b[0;34m(\u001b[0m\u001b[0;36m1\u001b[0m\u001b[0;34m,\u001b[0m \u001b[0mmesh_size_iter\u001b[0m\u001b[0;34m)\u001b[0m\u001b[0;34m]\u001b[0m\u001b[0;34m)\u001b[0m\u001b[0;34m\u001b[0m\u001b[0;34m\u001b[0m\u001b[0m\n\u001b[0m\u001b[1;32m     10\u001b[0m     \u001b[0mstock_min_nb_loads\u001b[0m \u001b[0;34m=\u001b[0m \u001b[0mnp\u001b[0m\u001b[0;34m.\u001b[0m\u001b[0mzeros_like\u001b[0m\u001b[0;34m(\u001b[0m\u001b[0;34m(\u001b[0m\u001b[0mNx\u001b[0m\u001b[0;34m)\u001b[0m\u001b[0;34m)\u001b[0m\u001b[0;34m\u001b[0m\u001b[0;34m\u001b[0m\u001b[0m\n\u001b[1;32m     11\u001b[0m \u001b[0;34m\u001b[0m\u001b[0m\n",
      "\u001b[0;31mNameError\u001b[0m: name 'np' is not defined"
     ]
    }
   ],
   "source": [
    "min_loads, nx = min_nb_loads_for_meshs_refinement(mesh_size_iter=5, nb_loads_iter=5) # nb refinement=a-1 ; nb tested loads=b-1"
   ]
  },
  {
   "cell_type": "code",
   "execution_count": null,
   "metadata": {},
   "outputs": [],
   "source": [
    "plt.plot(nx, min_loads, '.')"
   ]
  },
  {
   "cell_type": "markdown",
   "metadata": {},
   "source": [
    "**Doesn't change for mesh refined. May it be we must ensure nx and ny independant.**"
   ]
  },
  {
   "cell_type": "markdown",
   "metadata": {},
   "source": [
    "**Question 3** Replace the distributed loading with a prescribed vertical displacement at the tip of the cantilever."
   ]
  },
  {
   "cell_type": "markdown",
   "metadata": {},
   "source": [
    "**Question 4** For a distributed load equal \"mu t (cos(alpha), sin(alpha))\" with t = 0.01, plot the displacement as a function of alpha"
   ]
  },
  {
   "cell_type": "markdown",
   "metadata": {},
   "source": [
    "**Question 5** Same question with t = 0.02"
   ]
  }
 ],
 "metadata": {
  "kernelspec": {
   "display_name": "Python 3",
   "language": "python",
   "name": "python3"
  },
  "language_info": {
   "codemirror_mode": {
    "name": "ipython",
    "version": 3
   },
   "file_extension": ".py",
   "mimetype": "text/x-python",
   "name": "python",
   "nbconvert_exporter": "python",
   "pygments_lexer": "ipython3",
   "version": "3.6.9"
  }
 },
 "nbformat": 4,
 "nbformat_minor": 4
}
