{
 "cells": [
  {
   "cell_type": "markdown",
   "metadata": {},
   "source": [
    "# Convergence analysis"
   ]
  },
  {
   "cell_type": "code",
   "execution_count": null,
   "metadata": {},
   "outputs": [],
   "source": [
    "import dolfin\n",
    "import numpy as np\n",
    "import matplotlib.pyplot as plt"
   ]
  },
  {
   "cell_type": "code",
   "execution_count": null,
   "metadata": {},
   "outputs": [],
   "source": [
    "# import tube"
   ]
  },
  {
   "cell_type": "code",
   "execution_count": null,
   "metadata": {},
   "outputs": [],
   "source": [
    "%matplotlib inline\n",
    "plt.rcParams['figure.figsize'] = (12, 8)"
   ]
  },
  {
   "cell_type": "code",
   "execution_count": null,
   "metadata": {},
   "outputs": [],
   "source": [
    "radius = 1.\n",
    "thickness = radius/2.0"
   ]
  },
  {
   "cell_type": "code",
   "execution_count": null,
   "metadata": {},
   "outputs": [],
   "source": [
    "mu, nu = 1., 0.49\n",
    "\n",
    "# Change these module variables with caution!\n",
    "tube.__lambda.assign(2*mu*nu/(1.-2.*nu))\n",
    "tube.__mu.assign(mu)\n",
    "tube.__p_in.assign(1.)\n",
    "tube.__p_out.assign(0.)"
   ]
  },
  {
   "cell_type": "code",
   "execution_count": null,
   "metadata": {},
   "outputs": [],
   "source": [
    "u_ref = tube.exact_solution(radius, thickness)"
   ]
  },
  {
   "cell_type": "code",
   "execution_count": null,
   "metadata": {},
   "outputs": [],
   "source": [
    "refinements = (2**i for i in range(1, 6))\n",
    "\n",
    "h = []\n",
    "err_L2 = []\n",
    "err_H1 = []\n",
    "\n",
    "for refinement in refinements:\n",
    "    print('refinement = {}'.format(refinement))\n",
    "    element_size = thickness/refinement\n",
    "    h.append(element_size)\n",
    "    u, p = tube.approx_mixed_solution(radius, thickness, \n",
    "                                      element_size=element_size,\n",
    "                                      degree_u=1, degree_p=0)\n",
    "    #u_norm = np.sqrt(dolfin.assemble(dolfin.inner(u, u)*dolfin.dx))\n",
    "    err_L2.append(dolfin.errornorm(u_ref, u, 'L2'))\n",
    "    err_H1.append(dolfin.errornorm(u_ref, u, 'H1'))\n",
    "    #plt.figure()\n",
    "    #dolfin.plot(0.1*u,mode=\"displacement\")"
   ]
  },
  {
   "cell_type": "code",
   "execution_count": null,
   "metadata": {},
   "outputs": [],
   "source": [
    "h = np.asarray(h)\n",
    "err_L2 = np.asarray(err_L2)\n",
    "err_H1 = np.asarray(err_H1)"
   ]
  },
  {
   "cell_type": "code",
   "execution_count": null,
   "metadata": {},
   "outputs": [],
   "source": [
    "plt.loglog(h, err_L2, 'o-')\n",
    "plt.loglog(h, err_H1, 'o-')\n",
    "plt.loglog(h, 0.1*h)\n",
    "plt.loglog(h, 0.1*h**2)\n",
    "plt.xlabel(\"Mesh size\")\n",
    "plt.ylabel(\"L² and H¹ error\")\n",
    "plt.grid(True)\n",
    "plt.show()"
   ]
  }
 ],
 "metadata": {
  "kernelspec": {
   "display_name": "Python 3",
   "language": "python",
   "name": "python3"
  },
  "language_info": {
   "codemirror_mode": {
    "name": "ipython",
    "version": 3
   },
   "file_extension": ".py",
   "mimetype": "text/x-python",
   "name": "python",
   "nbconvert_exporter": "python",
   "pygments_lexer": "ipython3",
   "version": "3.6.9"
  }
 },
 "nbformat": 4,
 "nbformat_minor": 2
}
