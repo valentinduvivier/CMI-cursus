{
 "cells": [
  {
   "cell_type": "code",
   "execution_count": 1,
   "metadata": {},
   "outputs": [],
   "source": [
    "import dolfin\n",
    "import numpy as np\n",
    "import matplotlib.pyplot as plt"
   ]
  },
  {
   "cell_type": "code",
   "execution_count": 11,
   "metadata": {},
   "outputs": [],
   "source": [
    "# import tube\n",
    "import mshr"
   ]
  },
  {
   "cell_type": "code",
   "execution_count": 3,
   "metadata": {},
   "outputs": [],
   "source": [
    "%matplotlib inline\n",
    "plt.rcParams['figure.figsize'] = (12, 8)"
   ]
  },
  {
   "cell_type": "code",
   "execution_count": 4,
   "metadata": {},
   "outputs": [],
   "source": [
    "degree_u = 1\n",
    "degree_p = 1\n",
    "dim = 2"
   ]
  },
  {
   "cell_type": "code",
   "execution_count": 5,
   "metadata": {},
   "outputs": [],
   "source": [
    "radius = 1.\n",
    "thickness = radius/2.0\n",
    "element_size = thickness/32."
   ]
  },
  {
   "cell_type": "code",
   "execution_count": 8,
   "metadata": {},
   "outputs": [
    {
     "name": "stdout",
     "output_type": "stream",
     "text": [
      "0.9615384615384613\n"
     ]
    }
   ],
   "source": [
    "# Change these module variables with caution!\n",
    "E = 1.0\n",
    "nu = dolfin.Constant(0.3)\n",
    "mu = E/(2.*(1.+nu))\n",
    "lmbda = 2*mu*nu/(1.-2.*nu)\n",
    "\n",
    "# tube.__lambda.assign(lmbda)\n",
    "# tube.__mu.assign(mu)\n",
    "# tube.__p_in.assign(2.)\n",
    "# tube.__p_out.assign(1.)\n",
    "\n",
    "p_in  = 2.\n",
    "p_out = 1.\n",
    "\n",
    "kappa = dolfin.Constant(lmbda+2/dim*mu)\n",
    "print(float(kappa))"
   ]
  },
  {
   "cell_type": "code",
   "execution_count": 12,
   "metadata": {},
   "outputs": [
    {
     "ename": "AttributeError",
     "evalue": "module 'mshr' has no attribute 'generate_mesh_gmsh_tube'",
     "output_type": "error",
     "traceback": [
      "\u001b[0;31m---------------------------------------------------------------------------\u001b[0m",
      "\u001b[0;31mAttributeError\u001b[0m                            Traceback (most recent call last)",
      "\u001b[0;32m<ipython-input-12-0bb6fab44996>\u001b[0m in \u001b[0;36m<module>\u001b[0;34m\u001b[0m\n\u001b[1;32m      1\u001b[0m \u001b[0;31m# import mesher\u001b[0m\u001b[0;34m\u001b[0m\u001b[0;34m\u001b[0m\u001b[0;34m\u001b[0m\u001b[0m\n\u001b[1;32m      2\u001b[0m \u001b[0mpars\u001b[0m \u001b[0;34m=\u001b[0m \u001b[0;34m{\u001b[0m\u001b[0;34m\"h\"\u001b[0m\u001b[0;34m:\u001b[0m \u001b[0melement_size\u001b[0m\u001b[0;34m,\u001b[0m \u001b[0;34m\"rho\"\u001b[0m\u001b[0;34m:\u001b[0m \u001b[0mthickness\u001b[0m\u001b[0;34m/\u001b[0m\u001b[0mradius\u001b[0m\u001b[0;34m}\u001b[0m\u001b[0;34m\u001b[0m\u001b[0;34m\u001b[0m\u001b[0m\n\u001b[0;32m----> 3\u001b[0;31m \u001b[0mmeshname\u001b[0m \u001b[0;34m=\u001b[0m \u001b[0mmshr\u001b[0m\u001b[0;34m.\u001b[0m\u001b[0mgenerate_mesh_gmsh_tube\u001b[0m\u001b[0;34m(\u001b[0m\u001b[0;34m\"meshes/tube\"\u001b[0m\u001b[0;34m,\u001b[0m \u001b[0mpars\u001b[0m\u001b[0;34m)\u001b[0m\u001b[0;34m\u001b[0m\u001b[0;34m\u001b[0m\u001b[0m\n\u001b[0m",
      "\u001b[0;31mAttributeError\u001b[0m: module 'mshr' has no attribute 'generate_mesh_gmsh_tube'"
     ]
    }
   ],
   "source": [
    "# import mesher\n",
    "pars = {\"h\": element_size, \"rho\": thickness/radius}\n",
    "meshname = mshr.generate_mesh_gmsh_tube(\"meshes/tube\", pars)"
   ]
  },
  {
   "cell_type": "code",
   "execution_count": null,
   "metadata": {},
   "outputs": [],
   "source": [
    "mesh = dolfin.Mesh(meshname + \".xml\")\n",
    "dolfin.plot(mesh)"
   ]
  },
  {
   "cell_type": "code",
   "execution_count": null,
   "metadata": {},
   "outputs": [],
   "source": [
    "boundaries = dolfin.MeshFunction(\"size_t\", mesh, meshname + \"_facet_region\"+\".xml\")\n",
    "domains = dolfin.MeshFunction(\"size_t\", mesh, meshname + \"_physical_region\"+\".xml\")"
   ]
  },
  {
   "cell_type": "code",
   "execution_count": null,
   "metadata": {},
   "outputs": [],
   "source": [
    "element_u = dolfin.VectorElement('CG', mesh.ufl_cell(), degree=degree_u, dim=dim)\n",
    "element_p = dolfin.FiniteElement('CG', mesh.ufl_cell(), degree=degree_p)\n",
    "W = dolfin.FunctionSpace(mesh, element_u*element_p)"
   ]
  },
  {
   "cell_type": "code",
   "execution_count": null,
   "metadata": {},
   "outputs": [],
   "source": [
    "def eps_d(u):\n",
    "    return tube.eps(u)-dolfin.div(u)/dim*dolfin.Identity(2)"
   ]
  },
  {
   "cell_type": "code",
   "execution_count": null,
   "metadata": {},
   "outputs": [],
   "source": [
    "# Define variational problem\n",
    "(u, p) = dolfin.TrialFunctions(W)\n",
    "(v, q) = dolfin.TestFunctions(W)\n",
    "\n",
    "dx = dolfin.dx\n",
    "ds = dolfin.Measure(\"ds\", subdomain_data=boundaries)\n",
    "n = dolfin.FacetNormal(mesh)\n",
    "\n",
    "a = (2*tube.__mu*dolfin.inner(eps_d(u), eps_d(v))+q*(dolfin.div(u)-p/kappa)+p*dolfin.div(v))*dx\n",
    "L = (dolfin.inner(-tube.__p_in*n, v)*ds(tube.BOUNDARY_INNER) +\n",
    "     dolfin.inner(-tube.__p_out*n, v)*ds(tube.BOUNDARY_OUTER))\n",
    "\n",
    "\n",
    "bcs = (dolfin.DirichletBC(W.sub(0).sub(0), 0., boundaries, tube.BOUNDARY_LEFT),\n",
    "       dolfin.DirichletBC(W.sub(0).sub(1), 0., boundaries, tube.BOUNDARY_BOTTOM))\n",
    "\n",
    "# Compute solution\n",
    "w = dolfin.Function(W)\n",
    "problem = dolfin.LinearVariationalProblem(a, L, w, bcs)\n",
    "solver = dolfin.LinearVariationalSolver(problem)\n",
    "dolfin.info(solver.parameters, True)\n",
    "solver.solve()"
   ]
  },
  {
   "cell_type": "code",
   "execution_count": null,
   "metadata": {},
   "outputs": [],
   "source": [
    "(us, ps) = w.split()"
   ]
  },
  {
   "cell_type": "code",
   "execution_count": null,
   "metadata": {},
   "outputs": [],
   "source": [
    "fig = plt.figure()\n",
    "dolfin.plot(mesh)\n",
    "plot_u = dolfin.plot(us, mode='displacement')\n",
    "plt.colorbar(plot_u)"
   ]
  },
  {
   "cell_type": "code",
   "execution_count": null,
   "metadata": {},
   "outputs": [],
   "source": [
    "plot_p = dolfin.plot(ps)\n",
    "plt.colorbar(plot_p)\n"
   ]
  },
  {
   "cell_type": "code",
   "execution_count": null,
   "metadata": {},
   "outputs": [],
   "source": [
    "u_ref = tube.exact_solution(radius, thickness)"
   ]
  },
  {
   "cell_type": "code",
   "execution_count": null,
   "metadata": {},
   "outputs": [],
   "source": [
    "error_L2 = dolfin.errornorm(u_ref, us,'L2')\n",
    "u_norm = np.sqrt(dolfin.assemble(dolfin.inner(us, us)*dolfin.dx))\n",
    "print(\"The L2 % error is \", error_L2/u_norm*100)"
   ]
  },
  {
   "cell_type": "code",
   "execution_count": null,
   "metadata": {},
   "outputs": [],
   "source": [
    "def exactp():\n",
    "    p = (tube.__p_in+tube.__p_out)/2.\n",
    "    varpi = (tube.__p_in-tube.__p_out)/p\n",
    "    eta = thickness/2/radius\n",
    "    A = p*(1-2*nu)*(varpi/4./eta*(1+eta**2)-1)/2./mu\n",
    "    B = p*varpi*radius**2*(eta**2-1)**2/8./eta/mu\n",
    "    return float(-2*A*mu/(2*nu - 1))\n",
    "print(exactp())"
   ]
  }
 ],
 "metadata": {
  "kernelspec": {
   "display_name": "Python 3",
   "language": "python",
   "name": "python3"
  },
  "language_info": {
   "codemirror_mode": {
    "name": "ipython",
    "version": 3
   },
   "file_extension": ".py",
   "mimetype": "text/x-python",
   "name": "python",
   "nbconvert_exporter": "python",
   "pygments_lexer": "ipython3",
   "version": "3.6.9"
  }
 },
 "nbformat": 4,
 "nbformat_minor": 2
}
