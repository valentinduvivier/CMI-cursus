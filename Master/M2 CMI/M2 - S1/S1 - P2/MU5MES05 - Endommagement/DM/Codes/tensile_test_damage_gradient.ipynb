{
 "cells": [
  {
   "cell_type": "markdown",
   "metadata": {},
   "source": [
    "# DM : modèles à gradient d'endommagement"
   ]
  },
  {
   "cell_type": "code",
   "execution_count": null,
   "metadata": {},
   "outputs": [],
   "source": [
    "from dolfin import *\n",
    "%matplotlib inline\n",
    "from damage_gradient import *\n",
    "\n",
    "problem = \"homog\"\n",
    "refinement_level = 0\n",
    "center_thickness = None\n",
    "bcs_damage = False\n",
    "unloading = False\n",
    "export_results = True\n",
    "\n",
    "## Material properties\n",
    "#   - Elastic properties\n",
    "E = 3e3\n",
    "nu = 0.3\n",
    "#   - Damage properties\n",
    "Gc = 3e-3\n",
    "l0 = Constant(0.1)\n",
    "sig0 = None\n",
    "model = \"AT1\"\n",
    "# Loading steps\n",
    "Nincr = 100\n",
    "# Maximum imposed displacement\n",
    "Umax = 3e-3\n",
    "\n",
    "mesh, facets, domains = setup_geometry(problem, refinement_level, center_thickness)\n",
    "\n",
    "plt.figure()\n",
    "if problem == \"composite\":\n",
    "    pl = plot(domains, cmap=\"bwr\")\n",
    "    plt.colorbar(pl)\n",
    "plot(mesh, linewidth=0.5)\n",
    "plt.show()\n",
    "\n",
    "# Maximum number of increments in fixed point\n",
    "Nitermax = 500\n",
    "# Convergence tolerance for fixed point\n",
    "tol = 1e-4\n",
    "mech_params = (E, nu, Gc, l0, sig0, model, Umax, Nincr)\n",
    "prob_params = (problem, bcs_damage, unloading, export_results, Nitermax, tol)"
   ]
  },
  {
   "cell_type": "code",
   "execution_count": null,
   "metadata": {},
   "outputs": [],
   "source": [
    "results, u, d, sig = solve_problem(mesh, facets, domains, prob_params, mech_params)"
   ]
  },
  {
   "cell_type": "code",
   "execution_count": null,
   "metadata": {},
   "outputs": [],
   "source": [
    "plot_results(problem, results, E, Gc, l0, model, d, u, sig, mesh, export_results)"
   ]
  },
  {
   "cell_type": "code",
   "execution_count": null,
   "metadata": {},
   "outputs": [],
   "source": []
  },
  {
   "cell_type": "code",
   "execution_count": null,
   "metadata": {},
   "outputs": [],
   "source": []
  }
 ],
 "metadata": {
  "kernelspec": {
   "display_name": "Python 2",
   "language": "python",
   "name": "python2"
  },
  "language_info": {
   "codemirror_mode": {
    "name": "ipython",
    "version": 3
   },
   "file_extension": ".py",
   "mimetype": "text/x-python",
   "name": "python",
   "nbconvert_exporter": "python",
   "pygments_lexer": "ipython3",
   "version": "3.8.10"
  }
 },
 "nbformat": 4,
 "nbformat_minor": 4
}
