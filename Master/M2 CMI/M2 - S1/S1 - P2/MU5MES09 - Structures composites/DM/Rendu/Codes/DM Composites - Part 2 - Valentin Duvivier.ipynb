{
 "cells": [
  {
   "cell_type": "markdown",
   "id": "9b6a7265",
   "metadata": {},
   "source": [
    " "
   ]
  },
  {
   "cell_type": "markdown",
   "id": "b176b0ca",
   "metadata": {},
   "source": [
    "<a style=\"center;\" href=\"https://www.sorbonne-universite.fr/\"><img style=\"height:120px;\" src=\"https://upload.wikimedia.org/wikipedia/fr/c/cd/Logo_Sorbonne_Universit%C3%A9.png\"/></a>"
   ]
  },
  {
   "cell_type": "markdown",
   "id": "0db82ed6",
   "metadata": {},
   "source": [
    " "
   ]
  },
  {
   "cell_type": "markdown",
   "id": "1255652e",
   "metadata": {},
   "source": [
    "# $$ \\text{Optimisation of stratified structures and stacking sequences} $$\n",
    "\n",
    "$$ \\textit{Duvivier Valentin} - CompMech - 2021/2022 $$"
   ]
  },
  {
   "cell_type": "markdown",
   "id": "c785ee92",
   "metadata": {},
   "source": [
    " "
   ]
  },
  {
   "cell_type": "markdown",
   "id": "0965387c",
   "metadata": {},
   "source": [
    "$\\underline{Abstract}$ : This report is the second part of the homework of the Conception and Optimisation of Composite structures course MU5MES09. It's conducted in order to apply CLPT theory to the case of an orthotropic aerodynamic structure. In this sense we will optimize the structure's stratifaction with respect to first buckling load and stiffness.\n",
    "\n",
    "It has been done excluesively by Valentin Duvivier, and so I engage myself  by confirming that no part of the following have been plagiarized in any way."
   ]
  },
  {
   "cell_type": "markdown",
   "id": "c3d336ea",
   "metadata": {},
   "source": [
    "---"
   ]
  },
  {
   "cell_type": "markdown",
   "id": "359fdcb4",
   "metadata": {},
   "source": [
    "The object of the study is a 2D square plate suffering compressive load at its 4 ends, and that is made of multiple layers."
   ]
  },
  {
   "cell_type": "markdown",
   "id": "b028106e",
   "metadata": {},
   "source": [
    "$\\underline{\\text{Domain}}:$ 2D $(x, y)$ $\\equiv$ $[-L/2, +L/2]\\times[-L/2, +L/2]$ with $L=1~m$."
   ]
  },
  {
   "cell_type": "markdown",
   "id": "e0a319da",
   "metadata": {},
   "source": [
    "$\\underline{\\text{Material}}:$ stiff composite plate that may present buckling. \n",
    "\n",
    "All layers are made of same material which is carbon/epoxy T300/5208 whose elastic properties are : $E_1=181~GPa$, $E_2=10.3~GPa$, $G_{12}=7.17~GPa$, $\\nu_{12}=181~GPa$"
   ]
  },
  {
   "cell_type": "markdown",
   "id": "4f202da2",
   "metadata": {},
   "source": [
    "$\\underline{\\text{Equations/Hypotheses}}:$ we assume linear elasticity of each layers together with stress plane (i.e. $h=4~mm \\ll 1m$) \\& strain plane theory. \n",
    "\n",
    "We consider simple support on the structure's edges as well as a bi-axial loading characterized by $N_x=2.N_y=-100~N.m^{-1}$"
   ]
  },
  {
   "cell_type": "markdown",
   "id": "c0f8c96a",
   "metadata": {},
   "source": [
    "$\\underline{\\text{Composite structure}}:$ the plate is made of 32 layers that will be assembled through a sequence $\\delta_k$, $k=[1, 2, ..., N]$."
   ]
  },
  {
   "cell_type": "markdown",
   "id": "98d0a382",
   "metadata": {},
   "source": [
    "Let's now see how one can study this structure using CLPT theory."
   ]
  },
  {
   "cell_type": "markdown",
   "id": "d559aeb0",
   "metadata": {},
   "source": [
    " "
   ]
  },
  {
   "cell_type": "markdown",
   "id": "54193c64",
   "metadata": {},
   "source": [
    "#### Libraries"
   ]
  },
  {
   "cell_type": "code",
   "execution_count": 1,
   "id": "cbf2b9ba",
   "metadata": {},
   "outputs": [],
   "source": [
    "import numpy as np\n",
    "import matplotlib.pyplot as plt"
   ]
  },
  {
   "cell_type": "markdown",
   "id": "1a2e219b",
   "metadata": {},
   "source": [
    "#### Data"
   ]
  },
  {
   "cell_type": "code",
   "execution_count": 2,
   "id": "607919f4",
   "metadata": {},
   "outputs": [],
   "source": [
    "def Q_matrix(eng_cst):\n",
    "    \n",
    "    \"\"\" Function returning 2D Q matrix \n",
    "    given materials engineer's constants.\n",
    "    \"\"\"\n",
    "    \n",
    "    E_1, E_2, nu_12, G_12 = eng_cst\n",
    "    \n",
    "    Q = np.array([[     1/E_1, -nu_12/E_2,      0],\n",
    "                  [-nu_12/E_2,      1/E_2,      0],\n",
    "                  [      0   ,        0  , 1/G_12]])\n",
    "    \n",
    "    return Q\n",
    "\n",
    "E_1, E_2, nu_12, G_12 = 181.E9, 10.3E9, 0.28, 7.17E9\n",
    "\n",
    "eng_cst = [E_1, E_2, nu_12, G_12]\n",
    "Q = Q_matrix(eng_cst)\n",
    "\n",
    "# ----\n",
    "\n",
    "# polar components\n",
    "\n",
    "T_0 = 1/8 * (Q[0,0] - 2*Q[0,1] + 4*Q[2,2] + Q[1,1])\n",
    "T_1 = 1/8 * (Q[0,0] + 2*Q[0,1] +     0    + Q[1,1])\n",
    "\n",
    "R_0exp_phi0 = 1/8 * (Q[0,0] - 2*Q[0,1] - 4*Q[2,2] + Q[1,1] + 4j*(Q[0,2] - Q[1,2]))\n",
    "R_1exp_phi1 = 1/8 * (Q[0,0] +     0    +     0    - Q[1,1] + 2j*(Q[0,2] + Q[1,2]))\n",
    "\n",
    "R_0 = np.abs(R_0exp_phi0)\n",
    "R_1 = np.abs(R_1exp_phi1)"
   ]
  },
  {
   "cell_type": "markdown",
   "id": "c86be2b8",
   "metadata": {},
   "source": [
    "Calculation angles phi"
   ]
  },
  {
   "cell_type": "code",
   "execution_count": 3,
   "id": "dd031cd0",
   "metadata": {},
   "outputs": [],
   "source": [
    "re_0, im_0 = np.real(R_0exp_phi0), np.imag(R_0exp_phi0)\n",
    "phi_0 = 1/4 * np.arctan(im_0/re_0)\n",
    "\n",
    "# ---\n",
    "\n",
    "re_1, im_1 = np.real(R_1exp_phi1), np.imag(R_1exp_phi1)\n",
    "phi_1 = 1/2 * np.arctan(im_1/re_1)"
   ]
  },
  {
   "cell_type": "code",
   "execution_count": 4,
   "id": "fef89117",
   "metadata": {},
   "outputs": [
    {
     "name": "stdout",
     "output_type": "stream",
     "text": [
      "\n",
      "   T_0 = 8.94e-11\n",
      "   T_1 = 6.03e-12\n",
      "   R_0 = 5.01e-11\n",
      "   R_1 = 1.14e-11\n",
      "\n",
      "   phi_0 = -0.00e+00\n",
      "   phi_1 = -0.00e+00\n"
     ]
    }
   ],
   "source": [
    "print('\\n   T_0 = {:.2e}'.format(T_0))\n",
    "print('   T_1 = {:.2e}'.format(T_1))\n",
    "print('   R_0 = {:.2e}'.format(R_0))\n",
    "print('   R_1 = {:.2e}'.format(R_1))\n",
    "\n",
    "print('\\n   phi_0 = {:.2e}'.format(phi_0))\n",
    "print('   phi_1 = {:.2e}'.format(phi_1))"
   ]
  },
  {
   "cell_type": "markdown",
   "id": "341fd0b7",
   "metadata": {},
   "source": [
    "#### Graphic"
   ]
  },
  {
   "cell_type": "code",
   "execution_count": 5,
   "id": "4795c8fd",
   "metadata": {},
   "outputs": [],
   "source": [
    "# basic layer characteristics\n",
    "\n",
    "#general\n",
    "T0_cb = T_0\n",
    "T1_cb = T_1\n",
    "\n",
    "R0_cb = R_0\n",
    "R1_cb = R_1\n",
    "\n",
    "K = 0\n",
    "\n",
    "# -----\n",
    "\n",
    "nb_pts = 100\n",
    "\n",
    "#i. cross-ply stratification\n",
    "rho_90 = np.linspace(0., .5, nb_pts)\n",
    "\n",
    "R_k_1 = (-1)**K * R0_cb * np.ones(len(rho_90))\n",
    "R_1_1 = R1_cb * (1 - 2*rho_90)\n",
    "\n",
    "#ii. angle-ply stratification\n",
    "alpha = np.linspace(0, np.pi/4, nb_pts)\n",
    "\n",
    "R_k_2 = (-1)**K * R0_cb * np.cos(4*alpha)\n",
    "R_1_2 = R1_cb * np.cos(2*alpha)\n",
    "\n",
    "#iii. UD\n",
    "R_k_3 = (-1)**K * R0_cb\n",
    "R_1_3 = R1_cb\n",
    "\n",
    "#iv. cross-ply - rho_90=0.5\n",
    "rho_90 = 0.5\n",
    "\n",
    "R_k_4 = (-1)**K * R0_cb\n",
    "R_1_4 = R1_cb * (1 - 2*rho_90)\n",
    "\n",
    "#v. angle-ply - alpha=45°\n",
    "alpha = np.pi/4\n",
    "\n",
    "R_k_5 = (-1)**K * R0_cb * np.cos(4*alpha)\n",
    "R_1_5 = R1_cb * np.cos(2*alpha)\n",
    "\n",
    "#vi. isotropic case\n",
    "R_k_6 = 0\n",
    "R_1_6 = 0"
   ]
  },
  {
   "cell_type": "code",
   "execution_count": 6,
   "id": "a3369422",
   "metadata": {
    "scrolled": true
   },
   "outputs": [
    {
     "name": "stderr",
     "output_type": "stream",
     "text": [
      "C:\\Users\\vltn0\\AppData\\Local\\Temp/ipykernel_25936/209152643.py:14: UserWarning: marker is redundantly defined by the 'marker' keyword argument and the fmt string \".\" (-> marker='.'). The keyword argument will take precedence.\n",
      "  plt.plot(R_k_6, R_1_6, '.', color='red', marker='x', label='isotropic', markersize=markersize)\n"
     ]
    },
    {
     "data": {
      "image/png": "[encoded data removed]",
      "text/plain": [
       "<Figure size 1008x360 with 1 Axes>"
      ]
     },
     "metadata": {
      "needs_background": "light"
     },
     "output_type": "display_data"
    }
   ],
   "source": [
    "size = 16\n",
    "markersize = 12\n",
    "\n",
    "# ---\n",
    "\n",
    "plt.figure(figsize=(14,5))\n",
    "\n",
    "plt.plot(R_k_1, R_1_1, '.', color='royalblue', label='cross-ply')\n",
    "plt.plot(R_k_2, R_1_2, '.', color='limegreen', label='angle-ply')\n",
    "plt.plot(R_k_3, R_1_3, '.', color='red', label='UD', markersize=markersize)\n",
    "\n",
    "plt.plot(R_k_4, R_1_4, '.', color='brown', label=r'$\\rho_{90}=0.5$', markersize=markersize)\n",
    "plt.plot(R_k_5, R_1_5, '.', color='k', label=r'$\\alpha=45$°', markersize=markersize)\n",
    "plt.plot(R_k_6, R_1_6, '.', color='red', marker='x', label='isotropic', markersize=markersize)\n",
    "\n",
    "plt.title('Limit domain orthotropy - $K=0$', size=size)\n",
    "plt.ylabel(r'$R_1^{*}$', size=size)\n",
    "plt.xlabel(r'$R_K^{*}$', size=size)\n",
    "\n",
    "plt.xticks(size=size)\n",
    "plt.yticks(size=size)\n",
    "\n",
    "lgnd = plt.legend(prop={'size':size})\n",
    "\n",
    "#change the marker size manually for both lines\n",
    "lgnd.legendHandles[0]._legmarker.set_markersize(markersize)\n",
    "lgnd.legendHandles[1]._legmarker.set_markersize(markersize)\n",
    "\n",
    "plt.grid(True)\n",
    "\n",
    "# plt.savefig('limit_graph_part2.pdf')"
   ]
  },
  {
   "cell_type": "markdown",
   "id": "366ea669",
   "metadata": {},
   "source": [
    "#### $\\lambda$ calculation"
   ]
  },
  {
   "cell_type": "code",
   "execution_count": 7,
   "id": "233e967a",
   "metadata": {},
   "outputs": [],
   "source": [
    "# ----\n",
    "# Data\n",
    "# ----\n",
    "\n",
    "#Geometry\n",
    "L = 1    #[m]\n",
    "h = 4    #[mm]\n",
    "\n",
    "N = 32   #[-]\n",
    "t = h/N  #[mm]\n",
    "\n",
    "#Material\n",
    "# E_1, E_2, nu_12, G_12 = already defined\n",
    "\n",
    "#Forces\n",
    "Nx = -100; Ny = Nx/2;\n",
    "\n",
    "# -----------\n",
    "\n",
    "eng_cst = [E_1, E_2, nu_12, G_12]\n",
    "\n",
    "def lmbda_function(h, Ny, L, Q, eng_cst, polar_comp):\n",
    "    \n",
    "    \"\"\" Function returning lmbda\n",
    "    values given system's variables.\n",
    "    \"\"\"\n",
    "    \n",
    "    Q = Q_matrix(eng_cst)\n",
    "    T_0, T_1, R_1, R_K = polar_comp\n",
    "    \n",
    "    lmbda = (np.pi**2 * h**3) / (36 * Ny * L**2) * (4*T_0 + 8*T_1 + 0*R_1 - 4*R_K)\n",
    "    \n",
    "    return lmbda"
   ]
  },
  {
   "cell_type": "markdown",
   "id": "21db7de6",
   "metadata": {},
   "source": [
    "#### i. Isotropic"
   ]
  },
  {
   "cell_type": "code",
   "execution_count": 8,
   "id": "574a1e11",
   "metadata": {},
   "outputs": [
    {
     "name": "stdout",
     "output_type": "stream",
     "text": [
      "lambda_iso = 1.42E-10\n"
     ]
    }
   ],
   "source": [
    "polar_comp = [T_0, T_1, R_1_6, R_k_6] #[T0^cb, T1^cb, R0^*, R1^*]\n",
    "lmbda_iso = lmbda_function(h, Ny, L, Q, eng_cst, polar_comp)\n",
    "print('lambda_iso = {:.2E}'.format(np.abs(lmbda_iso)))"
   ]
  },
  {
   "cell_type": "markdown",
   "id": "626ffaa4",
   "metadata": {},
   "source": [
    "#### ii. Unidirectional"
   ]
  },
  {
   "cell_type": "code",
   "execution_count": 9,
   "id": "bb79be4c",
   "metadata": {},
   "outputs": [
    {
     "name": "stdout",
     "output_type": "stream",
     "text": [
      "lmbda_UD = 7.20E-11\n"
     ]
    }
   ],
   "source": [
    "polar_comp = [T_0, T_1, R_1_3, R_k_3] #[T0^cb, T1^cb, R0^*, R1^*]\n",
    "lmbda_UD  = lmbda_function(h, Ny, L, Q, eng_cst, polar_comp)\n",
    "print('lmbda_UD = {:.2E}'.format(np.abs(lmbda_UD)))"
   ]
  },
  {
   "cell_type": "markdown",
   "id": "a28f73b1",
   "metadata": {},
   "source": [
    "#### iii. Cross-ply"
   ]
  },
  {
   "cell_type": "code",
   "execution_count": 10,
   "id": "8020d0a0",
   "metadata": {},
   "outputs": [
    {
     "name": "stdout",
     "output_type": "stream",
     "text": [
      "lmbda_cp = 7.20E-11\n"
     ]
    }
   ],
   "source": [
    "polar_comp = [T_0, T_1, R_1_4, R_k_4] #[T0^cb, T1^cb, R0^*, R1^*]\n",
    "lmbda_cp  = lmbda_function(h, Ny, L, Q, eng_cst, polar_comp)\n",
    "print('lmbda_cp = {:.2E}'.format(np.abs(lmbda_cp)))"
   ]
  },
  {
   "cell_type": "markdown",
   "id": "4b7a9eff",
   "metadata": {},
   "source": [
    "#### iv. Angle-ply"
   ]
  },
  {
   "cell_type": "code",
   "execution_count": 11,
   "id": "b713e9d3",
   "metadata": {},
   "outputs": [
    {
     "name": "stdout",
     "output_type": "stream",
     "text": [
      "lmbda_ap = 2.13E-10\n"
     ]
    }
   ],
   "source": [
    "polar_comp = [T_0, T_1, R_1_5, R_k_5] #[T0^cb, T1^cb, R0^*, R1^*]\n",
    "lmbda_ap  = lmbda_function(h, Ny, L, Q, eng_cst, polar_comp)\n",
    "print('lmbda_ap = {:.2E}'.format(np.abs(lmbda_ap)))"
   ]
  },
  {
   "cell_type": "markdown",
   "id": "64538b26",
   "metadata": {},
   "source": [
    "---"
   ]
  },
  {
   "cell_type": "markdown",
   "id": "c8c51c81",
   "metadata": {},
   "source": [
    "#### Comparison lambda"
   ]
  },
  {
   "cell_type": "code",
   "execution_count": 12,
   "id": "8912e64f",
   "metadata": {},
   "outputs": [
    {
     "data": {
      "text/plain": [
       "66.14146671508556"
      ]
     },
     "execution_count": 12,
     "metadata": {},
     "output_type": "execute_result"
    }
   ],
   "source": [
    "np.abs(lmbda_UD - lmbda_ap) / np.abs(lmbda_ap) * 100"
   ]
  },
  {
   "cell_type": "markdown",
   "id": "8c4b0d27",
   "metadata": {},
   "source": [
    "#### Limit domain $R_K$"
   ]
  },
  {
   "cell_type": "code",
   "execution_count": 13,
   "id": "c38ebe1a",
   "metadata": {},
   "outputs": [
    {
     "name": "stdout",
     "output_type": "stream",
     "text": [
      "R_k_lower = -4.70E-11\n"
     ]
    }
   ],
   "source": [
    "R_1_Q7 = T_1*1/3\n",
    "R_k_lower = (2 * (R_1_Q7 / R_1)**2 - 1) * R_0\n",
    "print('R_k_lower = {:.2E}'.format(R_k_lower))"
   ]
  },
  {
   "cell_type": "code",
   "execution_count": 14,
   "id": "472053c0",
   "metadata": {},
   "outputs": [
    {
     "name": "stderr",
     "output_type": "stream",
     "text": [
      "C:\\Users\\vltn0\\AppData\\Local\\Temp/ipykernel_25936/2245087461.py:14: UserWarning: marker is redundantly defined by the 'marker' keyword argument and the fmt string \".\" (-> marker='.'). The keyword argument will take precedence.\n",
      "  plt.plot(R_k_6, R_1_6, '.', color='red', marker='x', label='isotropic', markersize=markersize)\n"
     ]
    },
    {
     "data": {
      "image/png": "[encoded data removed]",
      "text/plain": [
       "<Figure size 1008x360 with 1 Axes>"
      ]
     },
     "metadata": {
      "needs_background": "light"
     },
     "output_type": "display_data"
    }
   ],
   "source": [
    "size = 18\n",
    "markersize = 12\n",
    "\n",
    "# ---\n",
    "\n",
    "plt.figure(figsize=(14,5))\n",
    "\n",
    "plt.plot(R_k_1, R_1_1, '.', color='royalblue', label='cross-ply')\n",
    "plt.plot(R_k_2, R_1_2, '.', color='limegreen', label='angle-ply')\n",
    "plt.plot(R_k_3, R_1_3, '.', color='red', label='UD', markersize=markersize)\n",
    "\n",
    "plt.plot(R_k_4, R_1_4, '.', color='brown', label=r'$\\rho_{90}=0.5$', markersize=markersize)\n",
    "plt.plot(R_k_5, R_1_5, '.', color='k', label=r'$\\alpha=45$°', markersize=markersize)\n",
    "plt.plot(R_k_6, R_1_6, '.', color='red', marker='x', label='isotropic', markersize=markersize)\n",
    "\n",
    "# NEW LINE\n",
    "plt.plot([R_k_lower, R_0], [R_1_Q7, R_1_Q7], '--', color='red', lw=5, label='Limit Q7')\n",
    "\n",
    "plt.title('Limit domain orthotropy - $K=0$', size=size)\n",
    "plt.ylabel(r'$R_1^{*}$', size=size)\n",
    "plt.xlabel(r'$R_K^{*}$', size=size)\n",
    "\n",
    "plt.xticks(size=size)\n",
    "plt.yticks(size=size)\n",
    "\n",
    "lgnd = plt.legend(loc=2, prop={'size':markersize})\n",
    "\n",
    "#change the marker size manually for both lines\n",
    "lgnd.legendHandles[0]._legmarker.set_markersize(markersize)\n",
    "lgnd.legendHandles[1]._legmarker.set_markersize(markersize)\n",
    "lgnd.legendHandles[2]._legmarker.set_markersize(markersize)\n",
    "lgnd.legendHandles[3]._legmarker.set_markersize(markersize)\n",
    "lgnd.legendHandles[4]._legmarker.set_markersize(markersize)\n",
    "lgnd.legendHandles[5]._legmarker.set_markersize(markersize)\n",
    "\n",
    "plt.grid(True)\n",
    "\n",
    "# plt.savefig('limit_graph_part2.pdf')"
   ]
  },
  {
   "cell_type": "markdown",
   "id": "e90bebbf",
   "metadata": {},
   "source": [
    "##### i. $R_{K_{min}}^{opt}$"
   ]
  },
  {
   "cell_type": "code",
   "execution_count": 15,
   "id": "1c642b1c",
   "metadata": {},
   "outputs": [
    {
     "name": "stdout",
     "output_type": "stream",
     "text": [
      "alpha = 39.94\n"
     ]
    }
   ],
   "source": [
    "alpha_1 = (np.arccos(R_k_lower / R_0)) / 4 * 180/np.pi\n",
    "\n",
    "print('alpha = {:.2f}'.format(alpha_1))"
   ]
  },
  {
   "cell_type": "markdown",
   "id": "cdc5364e",
   "metadata": {},
   "source": [
    "##### ii. $R_{K_{max}}^{opt}$"
   ]
  },
  {
   "cell_type": "code",
   "execution_count": 16,
   "id": "139ae4ce",
   "metadata": {},
   "outputs": [
    {
     "name": "stdout",
     "output_type": "stream",
     "text": [
      "rho_90 = 0.41\n"
     ]
    }
   ],
   "source": [
    "R_k_Q7_2 =  R0_cb\n",
    "rho_90_2 = (1 - R_1_Q7 / R1_cb) / 2\n",
    "\n",
    "print('rho_90 = {:.2f}'.format(rho_90_2))"
   ]
  },
  {
   "cell_type": "code",
   "execution_count": 17,
   "id": "19a45d5e",
   "metadata": {
    "scrolled": true
   },
   "outputs": [
    {
     "data": {
      "text/plain": [
       "13.189923842999415"
      ]
     },
     "execution_count": 17,
     "metadata": {},
     "output_type": "execute_result"
    }
   ],
   "source": [
    "rho_90_2*N"
   ]
  },
  {
   "cell_type": "markdown",
   "id": "4774f981",
   "metadata": {},
   "source": [
    "##### iii. $R_{K}^{opt}$"
   ]
  },
  {
   "cell_type": "code",
   "execution_count": 18,
   "id": "66d25b86",
   "metadata": {},
   "outputs": [
    {
     "data": {
      "image/png": "[encoded data removed]",
      "text/plain": [
       "<Figure size 1008x432 with 1 Axes>"
      ]
     },
     "metadata": {
      "needs_background": "light"
     },
     "output_type": "display_data"
    }
   ],
   "source": [
    "size = 16\n",
    "markersize = 15\n",
    "\n",
    "# ---\n",
    "\n",
    "plt.figure(figsize=(14,6))\n",
    "\n",
    "# ---------\n",
    "# Stiffness\n",
    "# ---------\n",
    "\n",
    "R_k_opt = - R_0\n",
    "R_k_vector = np.linspace(R_k_lower, R_0, 100)\n",
    "\n",
    "I_P_delta_k = R_k_vector**2 + (R_k_vector - R_k_opt)**2\n",
    "\n",
    "# ---\n",
    "\n",
    "#get min:\n",
    "idx = np.where(I_P_delta_k==np.min(I_P_delta_k))[0][0]\n",
    "I_P_delta_k_min = I_P_delta_k[idx]\n",
    "\n",
    "# ---\n",
    "\n",
    "plt.plot(R_k_vector, R_k_vector**2 + (R_k_vector - R_k_opt)**2, '-', color='royalblue', label=r'I[$P(R_K)$]', lw=2.5)\n",
    "\n",
    "plt.plot(R_k_vector[idx], I_P_delta_k_min, 'r.', markersize=markersize)\n",
    "plt.plot([R_k_lower, R_k_vector[-1]], [I_P_delta_k_min, I_P_delta_k_min], 'r--')\n",
    "plt.plot([R_k_vector[idx], R_k_vector[idx]], [0, I_P_delta_k.max()], 'r--')\n",
    "\n",
    "plt.title(r'I$[P(\\delta_k)]$ as a function of $\\delta_k$', size=size)\n",
    "plt.ylabel(r'I$[P(\\delta_k)]$', size=size)\n",
    "plt.xlabel(r'$\\delta_k$', size=size)\n",
    "\n",
    "plt.xticks(size=size)\n",
    "plt.yticks(size=size)\n",
    "\n",
    "plt.legend(loc=2, prop={'size':markersize})\n",
    "\n",
    "plt.grid(True)\n",
    "\n",
    "# plt.savefig('optimization_phase_2.pdf')"
   ]
  },
  {
   "cell_type": "code",
   "execution_count": 19,
   "id": "fc4d2a25",
   "metadata": {},
   "outputs": [
    {
     "name": "stdout",
     "output_type": "stream",
     "text": [
      "R_K_opt = -2.54E-11\n"
     ]
    }
   ],
   "source": [
    "print('R_K_opt = {:.2E}'.format(R_k_vector[idx]))"
   ]
  },
  {
   "cell_type": "markdown",
   "id": "7ab6b921",
   "metadata": {},
   "source": [
    "#### Q8. Optimization"
   ]
  },
  {
   "cell_type": "markdown",
   "id": "7aac2916",
   "metadata": {},
   "source": [
    "Method 1"
   ]
  },
  {
   "cell_type": "code",
   "execution_count": 20,
   "id": "1a6f1f23",
   "metadata": {},
   "outputs": [
    {
     "data": {
      "image/png": "[encoded data removed]",
      "text/plain": [
       "<Figure size 864x360 with 1 Axes>"
      ]
     },
     "metadata": {
      "needs_background": "light"
     },
     "output_type": "display_data"
    }
   ],
   "source": [
    "nb_pts = 100\n",
    "size = 12\n",
    "markersize = 15\n",
    "\n",
    "# ---\n",
    "\n",
    "plt.figure(figsize=(12,5))\n",
    "\n",
    "# ---------\n",
    "# Stiffness\n",
    "# ---------\n",
    "\n",
    "R_k_opt_stiff = - R_0\n",
    "R_k_vector_stiff = np.linspace(R_k_lower, R_0, nb_pts)\n",
    "\n",
    "I_P_delta_k = R_k_vector_stiff**2 + (R_k_vector_stiff - R_k_opt_stiff)**2\n",
    "\n",
    "# ---\n",
    "\n",
    "#get min:\n",
    "idx = np.where(I_P_delta_k==np.min(I_P_delta_k))[0][0]\n",
    "I_P_delta_k_min = I_P_delta_k[idx]\n",
    "\n",
    "I_P_delta_k = 1 / I_P_delta_k #from minimization to maximisation problem\n",
    "I_P_delta_k = I_P_delta_k / I_P_delta_k.max() #normalisation wrt min value\n",
    "\n",
    "# ---\n",
    "\n",
    "plt.plot(R_k_vector_stiff, I_P_delta_k)\n",
    "\n",
    "# ---------------------------------------------------------\n",
    "\n",
    "# -------------\n",
    "# Buckling load\n",
    "# -------------\n",
    "\n",
    "R_K_vector_buck = np.linspace(-R_0, +R_0, nb_pts)\n",
    "R_1_opt_buck = 0\n",
    "\n",
    "lmbda_opt = np.zeros(len(R_K_vector_buck))\n",
    "for i, R_K in enumerate(R_K_vector_buck):\n",
    "    polar_comp = [T_0, T_1, R_1_opt_buck, R_K] #[T0^cb, T1^cb, R0^*, R1^*]\n",
    "    lmbda_opt[i]  = lmbda_function(h, Ny, L, Q, eng_cst, polar_comp)\n",
    "    \n",
    "lmbda_opt = lmbda_opt /np.abs(lmbda_opt).max() # normalisation wrt min value\n",
    "\n",
    "# ---\n",
    "\n",
    "plt.plot(R_K_vector_buck, np.abs(lmbda_opt), '--', color='red')\n",
    "\n",
    "# ---------------------------------------------------------\n",
    "\n",
    "# -------------\n",
    "# Addition both\n",
    "# -------------\n",
    "\n",
    "R_K_vector = np.linspace(-R_0, +R_0, nb_pts)\n",
    "R_K_opt_vector = np.abs(I_P_delta_k + np.abs(lmbda_opt))\n",
    "\n",
    "plt.plot(R_K_vector, R_K_opt_vector)\n",
    "\n",
    "# -----\n",
    "\n",
    "plt.title(r'I$[P(\\delta_k)]$ as a function of $\\delta_k$', size=size)\n",
    "plt.ylabel(r'I$[P(\\delta_k)]$', size=size)\n",
    "plt.xlabel(r'$\\delta_k$', size=size)\n",
    "\n",
    "plt.xticks(size=size)\n",
    "plt.yticks(size=size)\n",
    "\n",
    "# plt.legend(loc=2, prop={'size':markersize})\n",
    "\n",
    "plt.grid(True)\n",
    "\n",
    "# plt.savefig('optimization_Q8.pdf')"
   ]
  },
  {
   "cell_type": "code",
   "execution_count": 21,
   "id": "54a4e4d1",
   "metadata": {},
   "outputs": [
    {
     "name": "stdout",
     "output_type": "stream",
     "text": [
      "R_K_opt = -2.99E-11\n"
     ]
    }
   ],
   "source": [
    "idx = np.where(R_K_opt_vector == R_K_opt_vector.max())[0][0]\n",
    "R_K_opt = R_K_vector[idx]\n",
    "\n",
    "print('R_K_opt = {:.2E}'.format(R_K_opt))"
   ]
  },
  {
   "cell_type": "markdown",
   "id": "4d89d160",
   "metadata": {},
   "source": [
    "Method 2"
   ]
  },
  {
   "cell_type": "code",
   "execution_count": 28,
   "id": "bdb05b10",
   "metadata": {},
   "outputs": [
    {
     "data": {
      "image/png": "[encoded data removed]",
      "text/plain": [
       "<Figure size 1008x360 with 1 Axes>"
      ]
     },
     "metadata": {
      "needs_background": "light"
     },
     "output_type": "display_data"
    }
   ],
   "source": [
    "nb_pts = 100\n",
    "size = 15\n",
    "markersize = 15\n",
    "\n",
    "# ---\n",
    "\n",
    "plt.figure(figsize=(14,5))\n",
    "\n",
    "# ---------\n",
    "# Stiffness\n",
    "# ---------\n",
    "\n",
    "R_k_opt_stiff = - R_0\n",
    "R_k_vector_stiff = np.linspace(R_k_lower, R_0, nb_pts)\n",
    "\n",
    "I_P_delta_k = R_k_vector_stiff**2 + (R_k_vector_stiff - R_k_opt_stiff)**2\n",
    "\n",
    "# ---\n",
    "\n",
    "#get min:\n",
    "idx = np.where(I_P_delta_k==np.min(I_P_delta_k))[0][0]\n",
    "I_P_delta_k_min = I_P_delta_k[idx]\n",
    "\n",
    "I_P_delta_k = 1 / I_P_delta_k #from minimization to maximisation problem\n",
    "I_P_delta_k = I_P_delta_k - I_P_delta_k.min()\n",
    "I_P_delta_k = I_P_delta_k / I_P_delta_k.max() #normalisation wrt min value\n",
    "\n",
    "# ---\n",
    "\n",
    "plt.plot(R_k_vector_stiff, I_P_delta_k, '-', color='royalblue', label=r'I$[P(R_K)]$')\n",
    "\n",
    "# ---------------------------------------------------------\n",
    "\n",
    "# -------------\n",
    "# Buckling load\n",
    "# -------------\n",
    "\n",
    "R_K_vector_buck = np.linspace(-R_0, +R_0, nb_pts)\n",
    "R_1_opt_buck = 0\n",
    "\n",
    "lmbda_opt = np.zeros(len(R_K_vector_buck))\n",
    "for i, R_K in enumerate(R_K_vector_buck):\n",
    "    polar_comp = [T_0, T_1, R_1_opt_buck, R_K] #[T0^cb, T1^cb, R0^*, R1^*]\n",
    "    lmbda_opt[i]  = lmbda_function(h, Ny, L, Q, eng_cst, polar_comp)\n",
    "    \n",
    "lmbda_opt = (lmbda_opt - lmbda_opt.max())\n",
    "lmbda_opt = lmbda_opt / np.abs(lmbda_opt).max() # normalisation wrt min value\n",
    "\n",
    "# ---\n",
    "\n",
    "plt.plot(R_K_vector_buck, np.abs(lmbda_opt), '-', color='red', label=r'|$\\lambda(R_K)$|')\n",
    "\n",
    "# ---------------------------------------------------------\n",
    "\n",
    "R_K_vector = np.linspace(-R_0, +R_0, nb_pts)\n",
    "R_K_opt_vector = np.abs(I_P_delta_k + np.abs(lmbda_opt))\n",
    "\n",
    "# ---\n",
    "\n",
    "plt.plot(R_K_vector, R_K_opt_vector, '-', color='orange', label=r'$|I[P(R_K)]$ + $\\lambda(R_K)$|')\n",
    "\n",
    "plt.title(r'Optimization variables as a function of $\\delta_k$', size=size)\n",
    "plt.ylabel('Normalized optimization variables', size=size)\n",
    "plt.xlabel(r'$\\delta_k$', size=size)\n",
    "\n",
    "plt.xticks(size=size)\n",
    "plt.yticks(size=size)\n",
    "\n",
    "lgnd=plt.legend(loc=1, prop={'size':markersize})\n",
    "\n",
    "lgnd.legendHandles[0]._legmarker.set_markersize(markersize)\n",
    "lgnd.legendHandles[1]._legmarker.set_markersize(markersize)\n",
    "lgnd.legendHandles[2]._legmarker.set_markersize(markersize)\n",
    "\n",
    "plt.grid(True)\n",
    "\n",
    "# plt.savefig('optimization_Q8.pdf')"
   ]
  },
  {
   "cell_type": "code",
   "execution_count": 23,
   "id": "a6e1e2b9",
   "metadata": {},
   "outputs": [
    {
     "name": "stdout",
     "output_type": "stream",
     "text": [
      "R_K_opt = -3.09E-11\n"
     ]
    }
   ],
   "source": [
    "idx = np.where(R_K_opt_vector == R_K_opt_vector.max())[0][0]\n",
    "R_K_opt = R_K_vector[idx]\n",
    "\n",
    "print('R_K_opt = {:.2E}'.format(R_K_opt))"
   ]
  },
  {
   "cell_type": "markdown",
   "id": "adc6b9ed",
   "metadata": {},
   "source": [
    "**We see from both normalization methods that the optimization process leads to $R_K \\approx -3E^{-11}$.**\n",
    "\n",
    "**Both methods 1 and 2 provide consistent results given the position of $R_K^{opt}$ in the graph ; and the value $R_K$ is unique as aimed.**"
   ]
  },
  {
   "cell_type": "markdown",
   "id": "abdb68f8",
   "metadata": {},
   "source": [
    "---"
   ]
  },
  {
   "cell_type": "markdown",
   "id": "92b5a845",
   "metadata": {},
   "source": [
    "### Conclusion"
   ]
  },
  {
   "cell_type": "markdown",
   "id": "3f3b6113",
   "metadata": {},
   "source": [
    "During this report we went from an analytical approach to numerical applications and modelisation of a physical subject : composite structures. We have then been able to reduce CLPT theory to simple orthotropic cases and deduce values as well as limiting domain for polar variables. We furthermore looked at some arbitrary points in order to test physical response.\n",
    "\n",
    "It resulted that an optimization process comes with theoretical assumption that translate a physical behavior. Once we knew what physical behavior we had to model (from geometry, applications, etc) we adapted consequently the CLPT and working with non-dimensional polar variables in polar framework, we concluded on an optimal set of polar parameters, optimizing stiffness and first buckling load.\n",
    "\n",
    "Eventually, the optimization process provided an optimal case, and it would be a good expansion of this numerical study to have experimental data to compare.\n",
    "\n",
    "In a more personal conclusions, the last application to composite structures has been the opportunity to have some insight on a real application case as well as the numerical process one must undergo to analyse a structure, combining theory of plates, physical perspective, stratification theory, etc."
   ]
  },
  {
   "cell_type": "markdown",
   "id": "1d8b6c3d",
   "metadata": {},
   "source": [
    " "
   ]
  },
  {
   "cell_type": "markdown",
   "id": "1644cb6d",
   "metadata": {},
   "source": [
    "**THE END.**"
   ]
  }
 ],
 "metadata": {
  "kernelspec": {
   "display_name": "Python 3 (ipykernel)",
   "language": "python",
   "name": "python3"
  },
  "language_info": {
   "codemirror_mode": {
    "name": "ipython",
    "version": 3
   },
   "file_extension": ".py",
   "mimetype": "text/x-python",
   "name": "python",
   "nbconvert_exporter": "python",
   "pygments_lexer": "ipython3",
   "version": "3.9.7"
  }
 },
 "nbformat": 4,
 "nbformat_minor": 5
}
