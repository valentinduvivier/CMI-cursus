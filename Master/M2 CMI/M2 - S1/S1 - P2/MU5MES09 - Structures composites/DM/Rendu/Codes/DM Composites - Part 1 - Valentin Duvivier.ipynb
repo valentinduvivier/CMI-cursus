{
 "cells": [
  {
   "cell_type": "markdown",
   "id": "36a531ae",
   "metadata": {},
   "source": [
    " "
   ]
  },
  {
   "cell_type": "markdown",
   "id": "7815d78f",
   "metadata": {},
   "source": [
    "<a style=\"center;\" href=\"https://www.sorbonne-universite.fr/\"><img style=\"height:120px;\" src=\"https://upload.wikimedia.org/wikipedia/fr/c/cd/Logo_Sorbonne_Universit%C3%A9.png\"/></a>"
   ]
  },
  {
   "cell_type": "markdown",
   "id": "d9989c7f",
   "metadata": {},
   "source": [
    " "
   ]
  },
  {
   "cell_type": "markdown",
   "id": "1d6c28a8",
   "metadata": {},
   "source": [
    "# $$ \\text{Classic theory of stratified and polar representation} $$\n",
    "\n",
    "$$ \\textit{Duvivier Valentin} - CompMech - 2021/2022 $$"
   ]
  },
  {
   "cell_type": "markdown",
   "id": "6e18903e",
   "metadata": {},
   "source": [
    " "
   ]
  },
  {
   "cell_type": "markdown",
   "id": "3a949abf",
   "metadata": {},
   "source": [
    "$\\underline{Abstract}$ : This report is the first part of the homework of the Conception and Optimisation of Composite structures course MU5MES09. It's conducted in order to derive theory of the CLPT in a simple same-material orthrotropic case. In this sense we will derive formulas for polar components of the CLPT and deduce a limit domain of existence $R_1^* - R_K^*$.\n",
    "\n",
    "It has been done excluesively by Valentin Duvivier, and so I engage myself  by confirming that no part of the following have been plagiarized in any way."
   ]
  },
  {
   "cell_type": "markdown",
   "id": "60b049ab",
   "metadata": {},
   "source": [
    "---"
   ]
  },
  {
   "cell_type": "markdown",
   "id": "54193c64",
   "metadata": {},
   "source": [
    "#### Libraries"
   ]
  },
  {
   "cell_type": "code",
   "execution_count": 1,
   "id": "cbf2b9ba",
   "metadata": {},
   "outputs": [],
   "source": [
    "import numpy as np\n",
    "import matplotlib.pyplot as plt"
   ]
  },
  {
   "cell_type": "markdown",
   "id": "1a2e219b",
   "metadata": {},
   "source": [
    "#### Data"
   ]
  },
  {
   "cell_type": "code",
   "execution_count": 2,
   "id": "8c3566f5",
   "metadata": {},
   "outputs": [],
   "source": [
    "# basic layer characteristics\n",
    "\n",
    "#general\n",
    "T0_cb = 1\n",
    "T1_cb = 1\n",
    "\n",
    "R0_cb = 1\n",
    "R1_cb = 1\n",
    "\n",
    "K = 0\n",
    "\n",
    "nb_pts = 100\n",
    "\n",
    "# -----\n",
    "\n",
    "#4a\n",
    "R_k_a = (-1)**K * R0_cb\n",
    "R_1_a = R1_cb\n",
    "\n",
    "#4b\n",
    "rho_90 = np.linspace(0., .5, nb_pts)\n",
    "\n",
    "R_k_b = (-1)**K * R0_cb * np.ones(len(rho_90))\n",
    "R_1_b = R1_cb * (1 - 2*rho_90)\n",
    "\n",
    "#4c\n",
    "alpha = np.linspace(0, np.pi/4, nb_pts)\n",
    "\n",
    "R_k_c = (-1)**K * R0_cb * np.cos(4*alpha)\n",
    "R_1_c = R1_cb * np.cos(2*alpha)"
   ]
  },
  {
   "cell_type": "markdown",
   "id": "1ff26de0",
   "metadata": {},
   "source": [
    "#### Code"
   ]
  },
  {
   "cell_type": "code",
   "execution_count": 11,
   "id": "900ea419",
   "metadata": {
    "scrolled": true
   },
   "outputs": [
    {
     "data": {
      "image/png": "[encoded data removed]",
      "text/plain": [
       "<Figure size 1008x432 with 1 Axes>"
      ]
     },
     "metadata": {
      "needs_background": "light"
     },
     "output_type": "display_data"
    }
   ],
   "source": [
    "size = 18\n",
    "markersize=12\n",
    "\n",
    "# ---\n",
    "\n",
    "plt.figure(figsize=(14,6))\n",
    "\n",
    "plt.plot(R_k_b, R_1_b, '.', color='royalblue', label='cross-ply')\n",
    "plt.plot(R_k_c, R_1_c, '.', color='limegreen', label='angle-ply')\n",
    "plt.plot(R_k_a, R_1_a, '.', color='red', label='UD', markersize=markersize)\n",
    "\n",
    "plt.title('Limit domain orthotropy - $K=0$', size=size)\n",
    "plt.ylabel(r'$\\dfrac{R_1^{*}}{R_1^{cb}}$', size=size)\n",
    "plt.xlabel(r'$\\dfrac{R_K^{*}}{R_0^{cb}}$', size=size)\n",
    "\n",
    "plt.xticks(size=size)\n",
    "plt.yticks(size=size)\n",
    "\n",
    "lgnd = plt.legend(prop={'size':size})\n",
    "\n",
    "#change the marker size manually for both lines\n",
    "lgnd.legendHandles[0]._legmarker.set_markersize(markersize)\n",
    "lgnd.legendHandles[1]._legmarker.set_markersize(markersize)\n",
    "\n",
    "plt.grid(True)\n",
    "\n",
    "# plt.savefig('limit_graph.pdf')"
   ]
  },
  {
   "cell_type": "markdown",
   "id": "f6c9ca39",
   "metadata": {},
   "source": [
    "### Conclusion"
   ]
  },
  {
   "cell_type": "markdown",
   "id": "ba295c7d",
   "metadata": {},
   "source": [
    "As a conclusion, we deduced a limiting graph $R_1-R_K$ in which one can look for consistent couples ($R_1$, $R_K$) associated to orthotropic case of CLPT.\n",
    "\n",
    "The point now will be to understand which point in this domain will be the optimal one, with respect to some physical parameters we'll introduce in the next part."
   ]
  },
  {
   "cell_type": "markdown",
   "id": "3b4589f6",
   "metadata": {},
   "source": [
    " "
   ]
  },
  {
   "cell_type": "markdown",
   "id": "1644cb6d",
   "metadata": {},
   "source": [
    "**THE END.**"
   ]
  }
 ],
 "metadata": {
  "kernelspec": {
   "display_name": "Python 3 (ipykernel)",
   "language": "python",
   "name": "python3"
  },
  "language_info": {
   "codemirror_mode": {
    "name": "ipython",
    "version": 3
   },
   "file_extension": ".py",
   "mimetype": "text/x-python",
   "name": "python",
   "nbconvert_exporter": "python",
   "pygments_lexer": "ipython3",
   "version": "3.9.7"
  }
 },
 "nbformat": 4,
 "nbformat_minor": 5
}
