{
 "cells": [
  {
   "cell_type": "markdown",
   "id": "a7f2dc19",
   "metadata": {},
   "source": [
    "#### Libraries"
   ]
  },
  {
   "cell_type": "code",
   "execution_count": 29,
   "id": "254cb78c",
   "metadata": {},
   "outputs": [],
   "source": [
    "import numpy as np\n",
    "import matplotlib.pyplot as plt\n",
    "\n",
    "from scipy.optimize import fsolve"
   ]
  },
  {
   "cell_type": "markdown",
   "id": "7cb8286b",
   "metadata": {},
   "source": [
    "### $1^{st}$ method - graphically"
   ]
  },
  {
   "cell_type": "code",
   "execution_count": 3,
   "id": "aeabc617",
   "metadata": {},
   "outputs": [],
   "source": [
    "Q = np.array([[26.48,  7.17, 9.55], \n",
    "              [ 7.17, 11.09, 3.78],\n",
    "              [ 9.55,  3.78, 9.13]])\n",
    "\n",
    "Q_vect = np.array([Q[0,0], Q[1,1], Q[2,2], Q[1,2], Q[0,2], Q[0,1]])"
   ]
  },
  {
   "cell_type": "code",
   "execution_count": 46,
   "id": "035c71da",
   "metadata": {},
   "outputs": [],
   "source": [
    "def Q_xs(theta, Q):\n",
    "    \n",
    "    \"\"\" Function returning complex non-\n",
    "    linear equation provided angle theta,\n",
    "    and Voigt-vector Q.\n",
    "    \n",
    "    Q_xs = 0 (i.e. ==0 in another framework).\n",
    "    \"\"\"\n",
    "    \n",
    "    s = np.sin(theta)\n",
    "    c = np.cos(theta)\n",
    "    \n",
    "    vect = np.array([-s*c**3, c**4-3*(s*c)**2, s*c**3-s**3*c, 2*(s*c**3-s**3*c), 3*(s*c)**2-s**4, s**3*c])\n",
    "\n",
    "    Q_xs =  np.dot(vect, Q)\n",
    "    \n",
    "    return Q_xs\n",
    "\n",
    "def Q_ys(theta, Q):\n",
    "    \n",
    "    \"\"\" Function returning complex non-\n",
    "    linear equation provided angle theta,\n",
    "    and Voigt-vector Q.\n",
    "    \n",
    "    Q_ys = 0 (i.e. ==0 in another framework).\n",
    "    \"\"\"\n",
    "\n",
    "    s = np.sin(theta)\n",
    "    c = np.cos(theta)\n",
    "    \n",
    "    vect = [-c*s**3, -s**4+3*(s*c)**2, -s*c**3+s**3*c, 2*(-s*c**3+s**3*c), -3*(s*c)**2+c**4, c**3*s]\n",
    "\n",
    "    Q_ys = np.dot(vect, Q)\n",
    "    \n",
    "    return Q_ys"
   ]
  },
  {
   "cell_type": "code",
   "execution_count": 82,
   "id": "83cf8be6",
   "metadata": {},
   "outputs": [
    {
     "name": "stdout",
     "output_type": "stream",
     "text": [
      "Q_xs : pi/5.7 rad\n",
      "Q_ys : pi/5.4 rad\n",
      "Q_ys : pi/5.2 rad\n",
      "Q_ys : pi/1.5 rad\n",
      "Q_xs : pi/1.5 rad\n"
     ]
    },
    {
     "data": {
      "image/png": "[encoded data removed]",
      "text/plain": [
       "<Figure size 720x360 with 1 Axes>"
      ]
     },
     "metadata": {
      "needs_background": "light"
     },
     "output_type": "display_data"
    }
   ],
   "source": [
    "theta_vect = np.linspace(0, np.pi, 200)\n",
    "eps = 2.E-1 #threshold to get zero value\n",
    "\n",
    "plt.figure(figsize=(10,5))\n",
    "\n",
    "for theta in theta_vect:\n",
    "    Qxs = Q_xs(theta, Q_vect)\n",
    "    Qys = Q_ys(theta, Q_vect)\n",
    "    \n",
    "    curve1, = plt.plot(theta, Qxs, 'r.-')\n",
    "    curve2, = plt.plot(theta, Qys, '.-', color='limegreen')\n",
    "\n",
    "    if np.abs(Qxs) < eps:\n",
    "        print('Q_xs : pi/{:.1f} rad'.format(np.pi/theta))\n",
    "    if np.abs(Qys) < eps:\n",
    "        print('Q_ys : pi/{:.1f} rad'.format(np.pi/theta))\n",
    "    \n",
    "curve1.set_label('Q_xs')\n",
    "curve2.set_label('Q_ys')\n",
    "\n",
    "plt.title('Fixed values Q_xs and Q_xs')\n",
    "plt.ylabel('Q')\n",
    "plt.xlabel(r'$\\theta$')\n",
    "\n",
    "plt.grid(True)\n",
    "plt.legend()\n",
    "\n",
    "plt.tight_layout()"
   ]
  },
  {
   "cell_type": "markdown",
   "id": "6cca5651",
   "metadata": {},
   "source": [
    "We get two angles for which Q_xs and Q_ys are almost zero in the same time (one more than the other).\n",
    "\n",
    "Once in radiants :"
   ]
  },
  {
   "cell_type": "markdown",
   "id": "59584a3f",
   "metadata": {},
   "source": [
    "### $2^{nde}$ method - Verchery polar parameters"
   ]
  },
  {
   "cell_type": "code",
   "execution_count": 84,
   "id": "41d830b1",
   "metadata": {},
   "outputs": [],
   "source": [
    "def solve_system(Q):\n",
    "    \n",
    "    \"\"\" Function returning Verchery polar \n",
    "    invariants, given Q stiffness matrix.\n",
    "    \"\"\"\n",
    "    \n",
    "    M = np.array([[1, -2,  4,  1,  0,   0],\n",
    "                  [1,  2,  0,  1,  0,   0],\n",
    "                  [1, -2, -4,  1, 4j, -4j],\n",
    "                  [1,  0,  0, -1, 2j,  2j]])\n",
    "    \n",
    "    lhs_vect = np.dot(M, Q)\n",
    "    \n",
    "    return lhs_vect"
   ]
  },
  {
   "cell_type": "code",
   "execution_count": 205,
   "id": "76646f43",
   "metadata": {},
   "outputs": [
    {
     "data": {
      "text/plain": [
       "array([[ 59.75 +0.j  ],\n",
       "       [ 51.91 +0.j  ],\n",
       "       [-13.29+23.08j],\n",
       "       [ 15.39+26.66j]])"
      ]
     },
     "execution_count": 205,
     "metadata": {},
     "output_type": "execute_result"
    }
   ],
   "source": [
    "Q_vect = np.array([[Q[0,0], Q[0,1], Q[2,2], Q[1,1], Q[0,2], Q[1,2]]])\n",
    "\n",
    "lhs_vect = solve_system(Q_vect.T)\n",
    "lhs_vect"
   ]
  },
  {
   "cell_type": "markdown",
   "id": "bc86c10f",
   "metadata": {},
   "source": [
    "#### post process"
   ]
  },
  {
   "cell_type": "code",
   "execution_count": 209,
   "id": "964163f1",
   "metadata": {},
   "outputs": [
    {
     "name": "stdout",
     "output_type": "stream",
     "text": [
      "[7.46875] [6.48875] [3.32911048] [3.84790467]\n"
     ]
    }
   ],
   "source": [
    "T0 = np.real(lhs_vect[0]) / 8\n",
    "T1 = np.real(lhs_vect[1]) / 8\n",
    "R0 = np.abs (lhs_vect[2]) / 8\n",
    "R1 = np.abs (lhs_vect[3]) / 8\n",
    "\n",
    "print(T0, T1, R0, R1)\n",
    "\n",
    "# -------------\n",
    "# phi_0 & phi_1\n",
    "# -------------\n",
    "\n",
    "tan_theta = np.mod(np.imag(lhs_vect[2:]) / np.real(lhs_vect[2:]), np.pi/2)\n",
    "\n",
    "phi_0 = np.arctan(tan_theta[0]) / 4\n",
    "phi_1 = np.arctan(tan_theta[1]) / 2"
   ]
  },
  {
   "cell_type": "code",
   "execution_count": 210,
   "id": "d22e9ac4",
   "metadata": {},
   "outputs": [
    {
     "name": "stdout",
     "output_type": "stream",
     "text": [
      "[0.23805369]\n",
      "[0.08005746]\n",
      "\n",
      "\n",
      "[0.15799623]\n"
     ]
    }
   ],
   "source": [
    "print(phi_0)\n",
    "print(phi_1)\n",
    "\n",
    "print('\\n')\n",
    "\n",
    "print(phi_0 - phi_1)"
   ]
  },
  {
   "cell_type": "markdown",
   "id": "3fcb846a",
   "metadata": {},
   "source": [
    "#### Q in orthotropic framework"
   ]
  },
  {
   "cell_type": "code",
   "execution_count": 231,
   "id": "d25e6a1d",
   "metadata": {},
   "outputs": [
    {
     "name": "stderr",
     "output_type": "stream",
     "text": [
      "C:\\Users\\vltn0\\AppData\\Local\\Temp/ipykernel_7040/1079003805.py:3: VisibleDeprecationWarning: Creating an ndarray from ragged nested sequences (which is a list-or-tuple of lists-or-tuples-or ndarrays with different lengths or shapes) is deprecated. If you meant to do this, you must specify 'dtype=object' when creating the ndarray.\n",
      "  M = np.array([[ 1,  2,  np.cos(4*(phi_0-theta)),  4*np.cos(2*(phi_1-theta))],\n"
     ]
    },
    {
     "data": {
      "text/plain": [
       "array([[array([38.52398313])],\n",
       "       [array([1.96666357])],\n",
       "       [array([-23.13236447])],\n",
       "       [array([4.78263553])],\n",
       "       [array([-1.96666357])],\n",
       "       [array([7.74074581])]], dtype=object)"
      ]
     },
     "execution_count": 231,
     "metadata": {},
     "output_type": "execute_result"
    }
   ],
   "source": [
    "theta = phi_1\n",
    "\n",
    "M = np.array([[ 1,  2,  np.cos(4*(phi_0-theta)),  4*np.cos(2*(phi_1-theta))],\n",
    "              [ 0,  0,  np.sin(4*(phi_0-theta)),  2*np.sin(2*(phi_1-theta))],\n",
    "              [-1, -2, -np.cos(4*(phi_0-theta)),  0                        ],\n",
    "              [ 1,  0, -np.cos(4*(phi_0-theta)),  0                        ],\n",
    "              [ 0,  0, -np.sin(4*(phi_0-theta)),  2*np.sin(2*(phi_1-theta))],\n",
    "              [ 1,  2,  np.cos(4*(phi_0-theta)), -4*np.cos(2*(phi_1-theta))]])\n",
    "\n",
    "rhs_vect = np.array([T0, T1, R0, R1])\n",
    "\n",
    "lhs_vect = np.dot(M, rhs_vect)\n",
    "lhs_vect"
   ]
  },
  {
   "cell_type": "code",
   "execution_count": null,
   "id": "d1cd809c",
   "metadata": {},
   "outputs": [],
   "source": []
  }
 ],
 "metadata": {
  "kernelspec": {
   "display_name": "Python 3 (ipykernel)",
   "language": "python",
   "name": "python3"
  },
  "language_info": {
   "codemirror_mode": {
    "name": "ipython",
    "version": 3
   },
   "file_extension": ".py",
   "mimetype": "text/x-python",
   "name": "python",
   "nbconvert_exporter": "python",
   "pygments_lexer": "ipython3",
   "version": "3.9.7"
  }
 },
 "nbformat": 4,
 "nbformat_minor": 5
}
