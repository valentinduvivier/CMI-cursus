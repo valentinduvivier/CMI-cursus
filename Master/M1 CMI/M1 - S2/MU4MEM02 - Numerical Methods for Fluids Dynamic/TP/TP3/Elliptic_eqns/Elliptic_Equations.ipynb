{
 "cells": [
  {
   "cell_type": "markdown",
   "metadata": {
    "slideshow": {
     "slide_type": "slide"
    }
   },
   "source": [
    "# Elliptic Partial Differential Equations"
   ]
  },
  {
   "cell_type": "markdown",
   "metadata": {
    "collapsed": true,
    "slideshow": {
     "slide_type": "skip"
    }
   },
   "source": [
    "* Elliptic equations are boundary value problems where the solution is inter-related at all the points in the domain\n",
    "* If a perturbation is introduced at one point, the solution is affected instantly in the entire domain --> information propagates at infinite speed in the domain of an elliptic problem\n",
    "* Elliptic problems are formulated in closed domains, and boundary conditions are specified on the boundary\n",
    "\n",
    "Standard elliptic equations include the **Laplace equation**:\n",
    "$$\n",
    "\\nabla^2 \\phi = 0,\n",
    "$$\n",
    "the **Poisson equation**:\n",
    "$$\n",
    "\\nabla^2 \\phi = f,\n",
    "$$\n",
    "and the **Helmholtz equation**:\n",
    "$$\n",
    "\\nabla^2 \\phi + \\alpha^2\\phi = 0.\n",
    "$$\n",
    "\n",
    "Boundary conditions can be: \n",
    "* Dirichlet --> where $\\phi$ is prescribed on the boundary\n",
    "* Neumann --> where the normal derivative of $\\phi$ is prescribed on the boundary\n",
    "* Mixed --> where a combination of the two is prescribed: $c_1\\phi + c_2\\dfrac{\\partial \\phi}{\\partial n} = g$, where $n$ indicates the coordinate normal to the boundary."
   ]
  },
  {
   "cell_type": "markdown",
   "metadata": {
    "slideshow": {
     "slide_type": "slide"
    }
   },
   "source": [
    "### Reminder (in 1D)"
   ]
  },
  {
   "cell_type": "markdown",
   "metadata": {
    "slideshow": {
     "slide_type": "slide"
    }
   },
   "source": [
    "Take the **Poisson equation** in one dimensions:\n",
    "$$\n",
    "\\dfrac{\\partial^2 \\phi}{\\partial x^2} = f,\n",
    "$$\n",
    "with boundary conditions:\n",
    "$$\n",
    "\\phi(0) = \\phi(1) = 0\n",
    "$$\n",
    "Using second order finite difference (central) scheme leads to the following formulation:\n",
    "$$\n",
    "\\dfrac{\\phi_{i-1}-2\\phi_i+\\phi_{i+1}}{\\Delta^2} = f_i\n",
    "$$"
   ]
  },
  {
   "cell_type": "markdown",
   "metadata": {
    "slideshow": {
     "slide_type": "skip"
    }
   },
   "source": [
    "### In matrix form"
   ]
  },
  {
   "cell_type": "code",
   "execution_count": 7,
   "metadata": {
    "slideshow": {
     "slide_type": "slide"
    }
   },
   "outputs": [
    {
     "data": {
      "image/png": "[encoded data removed]",
      "text/plain": [
       "<Figure size 432x288 with 1 Axes>"
      ]
     },
     "metadata": {
      "needs_background": "light"
     },
     "output_type": "display_data"
    }
   ],
   "source": [
    "import numpy as np\n",
    "import scipy.sparse as sp\n",
    "import math\n",
    "import matplotlib.pylab as plt\n",
    "from mpl_toolkits import mplot3d\n",
    "\n",
    "L = 1\n",
    "n = 10\n",
    "x = np.linspace(0, L, num = n)\n",
    "\n",
    "A = sp.diags([1, -2, 1], [-1, 0, 1], (n-2, n-2))\n",
    "\n",
    "plt.spy(A, markersize=1)\n",
    "plt.show()"
   ]
  },
  {
   "cell_type": "markdown",
   "metadata": {
    "slideshow": {
     "slide_type": "skip"
    }
   },
   "source": [
    "## 2D"
   ]
  },
  {
   "cell_type": "markdown",
   "metadata": {
    "slideshow": {
     "slide_type": "slide"
    }
   },
   "source": [
    "* Without loss of generality, the problem is discretized in a rectangular domain in the $(x, y)$ plane using a uniformly spaced mesh\n",
    "* $M + 1$ grid points in the $x$ direction $(x_i, \\; i = 0, 1, 2, 3, . . . , M)$ \n",
    "  * $M – 1$ interior points,  \n",
    "  * Boundaries are located at $x_0$ and $x_M$ respectively.\n",
    "* $N + 1$ points are used in the $y$ direction.\n",
    "* The second derivatives in the $\\nabla^2$ are approximated by second-order finite difference operators\n",
    "* For simplicity assume that $\\Delta_x = \\Delta_y = \\Delta$\n",
    "* Equation for $\\phi_{i,j}$ becomes:\n",
    "$$\n",
    "\\phi_{i+1,j} - 4\\phi_{i,j} + \\phi_{i-1,j} + \\phi_{i,j+1} + \\phi_{i,j-1} = \\Delta^2f_{i,j}\n",
    "$$"
   ]
  },
  {
   "cell_type": "code",
   "execution_count": 12,
   "metadata": {
    "slideshow": {
     "slide_type": "slide"
    }
   },
   "outputs": [
    {
     "data": {
      "image/png": "[encoded data removed]",
      "text/plain": [
       "<Figure size 576x576 with 1 Axes>"
      ]
     },
     "metadata": {
      "needs_background": "light"
     },
     "output_type": "display_data"
    }
   ],
   "source": [
    "# Mesh\n",
    "\n",
    "m    = 6\n",
    "n    = 6\n",
    "L    = 1\n",
    "x    = np.linspace(0, L, num = m) \n",
    "y    = np.linspace(0, L, num = n)\n",
    "\n",
    "# -------------------------------\n",
    "\n",
    "plt.figure(figsize=(8,8))\n",
    "\n",
    "X, Y = np.meshgrid(x, y)\n",
    "\n",
    "plt.plot(X, Y, 'b-')\n",
    "plt.plot(X.T, Y.T, 'b-')\n",
    "\n",
    "plt.xlim(0,L)\n",
    "plt.ylim(0,L)\n",
    "\n",
    "plt.axis('equal')\n",
    "\n",
    "plt.show()"
   ]
  },
  {
   "cell_type": "markdown",
   "metadata": {
    "slideshow": {
     "slide_type": "slide"
    }
   },
   "source": [
    "Common ordering, not accounting for BC's\n",
    "\n",
    "![Common ordering](./pic1.png)\n"
   ]
  },
  {
   "cell_type": "markdown",
   "metadata": {
    "slideshow": {
     "slide_type": "skip"
    }
   },
   "source": [
    "### Accounting for BC's"
   ]
  },
  {
   "cell_type": "code",
   "execution_count": 13,
   "metadata": {
    "slideshow": {
     "slide_type": "slide"
    }
   },
   "outputs": [
    {
     "data": {
      "image/png": "[encoded data removed]",
      "text/plain": [
       "<Figure size 432x288 with 1 Axes>"
      ]
     },
     "metadata": {
      "needs_background": "light"
     },
     "output_type": "display_data"
    }
   ],
   "source": [
    "# A second order derivative matrix in 1D\n",
    "G = sp.diags([1, -2, 1], [-1, 0, 1], (n-2, n-2))\n",
    "\n",
    "# A second order derivative matrix in 2D\n",
    "G1  = sp.diags([1, -2, 1], [-1, 0, 1], (m-2, m-2))\n",
    "Gx  = sp.kron(sp.eye(n-2), G1)\n",
    "G2  = sp.diags([1, -2, 1], [-1, 0, 1], (n-2, n-2))\n",
    "Gy  = sp.kron(G2, sp.eye(m-2) )\n",
    "\n",
    "A = Gx + Gy\n",
    "\n",
    "plt.spy(A, markersize=1)\n",
    "plt.show()"
   ]
  },
  {
   "cell_type": "markdown",
   "metadata": {
    "slideshow": {
     "slide_type": "skip"
    }
   },
   "source": [
    "### Iterative solution methods"
   ]
  },
  {
   "cell_type": "markdown",
   "metadata": {
    "slideshow": {
     "slide_type": "skip"
    }
   },
   "source": [
    "* In fact the methodology that will be developed is for solving general systems of linear algebraic equations, $Ax = b$, which may or may not have been derived from a particular partial differential equation.\n",
    "* In solving a system of algebraic equations iteratively, one begins with a “guess” for the solution, and uses an algorithm to iterate on this guess which hopefully improves the solution.\n",
    "* In contrast to Gauss elimination where the exact solution of a system of linear equations is obtained (to within computer round-off error), **with iterative methods an approximate solution to a prescribed accuracy is sought**. \n",
    "* In the problems, where the system of algebraic equations is obtained from numerical approximation (discretization) of a differential equation, the choice of iterative methods is  justified, as **the equations represent an approximation to the differential equation and therefore it would not be necessary to obtain the exact solution of approximate equations**.\n",
    "* The expectation is that accuracy improves by increasing the number of iterations --> the method *converges* to the exact solution as the number of iterations increases.\n",
    "* Matrices obtained from discretizing PDEs are usually sparse (a lot more zero than non- zero elements) and iterative methods are particularly advantageous in memory requirements with such systems."
   ]
  },
  {
   "cell_type": "markdown",
   "metadata": {
    "slideshow": {
     "slide_type": "skip"
    }
   },
   "source": [
    "Consider $\\mathbf{A}x = \\mathbf{b}$, and let $\\mathbf{A} = \\mathbf{A}_1 - \\mathbf{A}_2$, resulting in:\n",
    "$$\n",
    "\\mathbf{A}_1 x = \\mathbf{A}_2 x + \\mathbf{b}.\n",
    "$$\n",
    "An iterative solution is constructed as follows:\n",
    "$$\n",
    "\\mathbf{A}_1 x^{(k+1)} = \\mathbf{A}_2 x^{(k)} + \\mathbf{b},\n",
    "$$\n",
    "where $k = 0,1,2,\\cdots$ is the iteration index.\n",
    "\n",
    "**Algorithm** :\n",
    "1. Initial guess for the solution $x^{(0)}$\n",
    "2. Solve for $x^{(1)}$ using $\\mathbf{A}_1 x^{(k+1)} = \\mathbf{A}_2 x^{(k)} + \\mathbf{b}$\n",
    "\n",
    "**Requirements** : \n",
    "1. $A_1$ should be easily \"invertible\". Otherwise, at each iteration we are faced with solving a system of equations that can be as difficult as the original system, $\\mathbf{A}x = \\mathbf{b}$.\n",
    "2. Iterations should converge (hopefully rapidly), \n",
    "$$\n",
    "\\lim\\limits_{k \\to \\infty} x^{(k)} = x\n",
    "$$\n",
    "\n",
    "**Criterion for convergence** :  \n",
    "* Error at $k^{th}$ iteration, $\\epsilon^{(k)}$:\n",
    "$$\n",
    "\\epsilon^{(k)} = x - x^{k}\n",
    "$$\n",
    "* Replacing in $\\mathbf{A}_1 x = \\mathbf{A}_2 x + \\mathbf{b}$ and subtracting gives\n",
    "$$\n",
    "\\mathbf{A}_1\\epsilon^{(k+1)} = \\mathbf{A}_2\\epsilon^{(k)} \\rightarrow \\epsilon^{(k+1)} = \\mathbf{A}_1^{-1}\\mathbf{A}_2\\epsilon^{(k)}\n",
    "$$\n",
    "* Error at iteration $k$ is related to the initial error via\n",
    "$$\n",
    "\\epsilon^{(k+1)} = \\left(\\mathbf{A}_1^{-1}\\mathbf{A}_2\\right)^k\\epsilon^{(0)}\n",
    "$$\n",
    "* For convergence we should have\n",
    "$$\n",
    "\\lim\\limits_{k \\to \\infty} \\epsilon^{(k)} = 0\n",
    "$$\n",
    "* We know from linear algebra that this will happen if\n",
    "$$\n",
    "\\rho = |\\lambda_i|_{max} \\le 1\n",
    "$$\n",
    "where $\\lambda_i$ are the eigenvalues of the matrix $\\mathbf{A}_1^{-1}\\mathbf{A}_2$.\n",
    "* $\\rho$ is called the *spectral radius* of convergence of the iterative scheme and is related to its rate of convergence.\n",
    "* The performance of any iterative scheme and its rate of convergence are directly connected to the matrix $A$ and its decomposition into $A_1$ and $A_2$."
   ]
  },
  {
   "cell_type": "markdown",
   "metadata": {
    "slideshow": {
     "slide_type": "slide"
    }
   },
   "source": [
    "## Point Jacobi Method"
   ]
  },
  {
   "cell_type": "markdown",
   "metadata": {
    "slideshow": {
     "slide_type": "skip"
    }
   },
   "source": [
    "The simplest choice:  $A_1 = D $, where $D$ consists of the diagonal elements of $A$, $a_{ii}$.\n",
    "\n",
    "* It satisfies the first requirement --> easily invertible\n",
    "* In the example: $A_1$ would be a diagonal matrix with $-4$ on the diagonal\n",
    "* Application of the point Jacobi method to the system of equations:\n",
    "$$\n",
    "\\phi^{(k+1)} = -\\dfrac{1}{4}A_2\\phi^{(k)} -\\dfrac{1}{4}R\n",
    "$$\n",
    "where $R$ is the right-hand vector of the above equation.\n",
    "\n",
    "* Using the index notation: \n",
    "$$\n",
    "\\phi_{i,j}^{(k+1)} = \\dfrac{1}{4}\\left[\\phi_{i-1,j}^{(k)} + \\phi_{i+1,j}^{(k)} + \\phi_{i,j-1}^{(k)} + \\phi_{i,j+1}^{(k)} \\right] - \\dfrac{1}{4}R_{i,j}\n",
    "$$\n",
    "the indices $i$ and $j$ are used in the same order as in the construction of $A$.\n",
    "\n",
    "* Starting with an initial guess $\\phi_0$, subsequent approximations, $\\phi_1$, $\\phi_2$,..., are easily computed.\n",
    "\n",
    "* **Note**: Application of point Jacobi does not involve storage or manipulation with any matrices. One simply updates the value of $\\phi$ at the grid point $(ij)$ using a simple average of the surrounding values (north, south, east, and west) from the previous iteration.\n",
    "\n",
    "* For convergence, the eigenvalues of the matrix $A^{-1}_1 A_2 = −\\dfrac{1}{4}A_2$ must be computed\n",
    "\n",
    "* The eigenvalues of this system are:\n",
    "$$\n",
    "\\lambda_{mn} = \\dfrac{1}{2}\\left[cos(\\dfrac{m\\pi}{M}) + cos(\\dfrac{n\\pi}{N}) \\right]\n",
    "$$\n",
    "where, $m = 1,2,3,\\cdots,M-1$, and $n = 1,2,3,\\cdots,N-1$.\n",
    "\n",
    "* It is clear that $|\\lambda_{mn}| < 1$ for all $m$ and $n$, and the method converges.\n",
    "\n",
    "* Approximating the maximum eigenvalue: \n",
    "$$\n",
    "|\\lambda_{max}| = 1-\\dfrac{1}{4}\\left[\\dfrac{\\pi^2}{M^2} + \\dfrac{\\pi^2}{N^2} \\right] + \\cdots\n",
    "$$\n",
    "\n",
    "* For large $M$ and $N$ , $|\\lambda_{max}|$ is only slightly less than 1, and the convergence is very slow.\n",
    "\n",
    "* This is why the point Jacobi method is rarely used in practice, but it does provide a good basis for development and comparison with improved methods."
   ]
  },
  {
   "cell_type": "markdown",
   "metadata": {
    "slideshow": {
     "slide_type": "skip"
    }
   },
   "source": [
    "### Algorithm "
   ]
  },
  {
   "cell_type": "markdown",
   "metadata": {
    "slideshow": {
     "slide_type": "slide"
    }
   },
   "source": [
    "![Algorithm](./pic4.png)"
   ]
  },
  {
   "cell_type": "markdown",
   "metadata": {
    "slideshow": {
     "slide_type": "slide"
    }
   },
   "source": [
    "## Gauss-Seidel Method"
   ]
  },
  {
   "cell_type": "markdown",
   "metadata": {
    "slideshow": {
     "slide_type": "skip"
    }
   },
   "source": [
    "* Using the matrix splitting notation:\n",
    "$$\n",
    "A = A_1 - A_2\n",
    "$$\n",
    "\n",
    "* For Gauss–Seidel method:\n",
    "$$\n",
    "A_1 = D-L \\;\\; \\textrm{and} \\;\\; A_2 = U\n",
    "$$\n",
    "where, \n",
    "  * $D$ is the diagonal matrix consisting of the diagonal elements of $A$.\n",
    "  * $L$ is the lower triangular matrix consisting of the negative of the lower triangular elements of $A$. \n",
    "  * $U$ is an upper triangular matrix consisting of the negative of the upper triangular elements of $A$.\n",
    "  * Matrices $L$ and $U$ are not to be confused with the usual LU-decomposition of $A$ discussed in the context of Gauss elimination in linear algebra\n",
    "\n",
    "* Resulting:\n",
    "$$\n",
    "\\phi_{ij}^{(k+1)} = \\dfrac{1}{4}\\left[\\phi_{i-1,j}^{(k+1)} + \\phi_{i+1,j}^{(k)} + \\phi_{i,j-1}^{(k+1)} + \\phi_{i,j+1}^{(k)} \\right] - \\dfrac{1}{4}R_{ij}\n",
    "$$\n",
    "\n",
    "* the eigenvalues of the matrix $A_1^{-1} A_2$ are simply squares of the eigenvalues of the point Jacobi method\n",
    "$$\n",
    "\\lambda_{mn} = \\dfrac{1}{4}\\left[cos(\\dfrac{m\\pi}{M}) + cos(\\dfrac{n\\pi}{N}) \\right]^2\n",
    "$$\n",
    "where, $m = 1,2,3,\\cdots,M-1$, and $n = 1,2,3,\\cdots,N-1$.\n",
    "\n",
    "* Gauss–Seidel method converges twice as fast as the point Jacobi method --> requires half as many iterations as the point Jacobi method."
   ]
  },
  {
   "cell_type": "markdown",
   "metadata": {
    "slideshow": {
     "slide_type": "skip"
    }
   },
   "source": [
    "### Algorithm"
   ]
  },
  {
   "cell_type": "markdown",
   "metadata": {
    "slideshow": {
     "slide_type": "slide"
    }
   },
   "source": [
    "![Algorithm](./pic5.png)"
   ]
  },
  {
   "cell_type": "markdown",
   "metadata": {
    "slideshow": {
     "slide_type": "slide"
    }
   },
   "source": [
    "## Succesive over relaxation scheme"
   ]
  },
  {
   "cell_type": "markdown",
   "metadata": {
    "slideshow": {
     "slide_type": "skip"
    }
   },
   "source": [
    "* This method attempts to increase the rate of convergence of the Gauss–Seidel method by introducing a parameter into the iteration scheme and then optimizing it for fast convergence\n",
    "* The rate of convergence depends on the largest eigenvalue of the iteration matrix, $A_1^{-1}A_2$ \n",
    "* Objective: find the optimal parameter to reduce as much as possible the largest eigenvalue\n",
    "* Consider the Gauss–Seidel method:\n",
    "$$\n",
    "(D-L)\\phi^{(k+1)} = U\\phi^{(k)} + \\mathbf{b}\n",
    "$$\n",
    "* Change in the solution between two successive iterations:\n",
    "$$\n",
    "\\mathbf{d} = \\phi^{(k+1)} - \\phi^{(k)}\n",
    "$$\n",
    "Leading to:\n",
    "$$\n",
    "\\phi^{(k+1)} = \\phi^{(k)} + \\mathbf{d}\n",
    "$$\n",
    "* Increase (accelerate) the change between two successive iterations by using an acceleration parameter\n",
    "$$\n",
    "\\phi^{(k+1)} = \\phi^{(k)} + \\omega\\mathbf{d}\n",
    "$$\n",
    "   * $\\omega > 1$ --> the acceleration or “relaxation” parameter\n",
    "   * $\\omega < 1$ --> decelerating (reducing) the change at each iteration\n",
    "   * $\\omega = 1$ --> Gauss–Seidel method\n",
    "\n",
    "* In SOR use the Gauss–Seidel method to compute an intermediate solution, $\\tilde{\\phi}$\n",
    "$$\n",
    "D\\tilde{\\phi}^{(k+1)} = L\\phi^{(k+1)} + U\\phi^{(k)} + \\mathbf{b}\n",
    "$$\n",
    "  * The solution at the next step\n",
    "  $$\n",
    "  \\phi^{(k+1)} = \\phi^{(k)} + \\omega(\\tilde{\\phi}^{(k+1)} - \\phi^{(k)})\n",
    "  $$\n",
    "  * $\\omega$ yet to be determined\n",
    "  * Eliminate $\\tilde{\\phi}^{(k+1)}$\n",
    "  $$\n",
    "  \\phi^{(k+1)} = \\underbrace{(I - \\omega D^{-1}L)^{-1}[(1-\\omega)I + \\omega D^{-1}U]}_{G_{SOR}} \\;\\phi^{(k)}  + (I-\\omega D^{-1}L)^{-1}\\omega D^{-1}\\mathbf{b}\n",
    "  $$\n",
    "\n",
    "* For discretized Poisson operator, the eigenvalues are given by\n",
    "$$\n",
    "\\lambda^{1/2} = \\dfrac{1}{2}\\left(\\pm |\\mu|\\omega \\pm \\sqrt{\\mu^2 \\omega^2 -4(\\omega -1)} \\right),\n",
    "$$\n",
    "where, $\\mu$ is an eigenvalue of th point Jacobi matrix, $G_J  = D^{-1}(L+U)$."
   ]
  },
  {
   "cell_type": "markdown",
   "metadata": {
    "slideshow": {
     "slide_type": "slide"
    }
   },
   "source": [
    "* To optimize convergence, select $\\omega$ such that the largest eigenvalue is minimized.\n",
    "* $\\dfrac{d\\lambda}{d\\omega} = 0$ does not have a solution.\n",
    "* An absolute minimum exist, when the argument under tha square root is zero. \n",
    "\n",
    "![SOR](./pic7.png)\n",
    " \n",
    "* With $\\mu_{max} = 0.9945$ (largest eigenvalue of the point Jacobi method, which dependa on the number of grid points used). This value correspons to a mesh of $31\\times 31$.   \n",
    "* And\n",
    "$$\n",
    "\\omega_{opt} = \\frac{2}{1+\\sqrt{1-\\mu_{max}^2}}\n",
    "$$ "
   ]
  },
  {
   "cell_type": "markdown",
   "metadata": {
    "slideshow": {
     "slide_type": "slide"
    }
   },
   "source": [
    "![algorithm_SOR](./pic6.png)"
   ]
  },
  {
   "cell_type": "code",
   "execution_count": 2,
   "metadata": {},
   "outputs": [
    {
     "data": {
      "text/html": [
       "<div>\n",
       "<style scoped>\n",
       "    .dataframe tbody tr th:only-of-type {\n",
       "        vertical-align: middle;\n",
       "    }\n",
       "\n",
       "    .dataframe tbody tr th {\n",
       "        vertical-align: top;\n",
       "    }\n",
       "\n",
       "    .dataframe thead th {\n",
       "        text-align: right;\n",
       "    }\n",
       "</style>\n",
       "<table border=\"1\" class=\"dataframe\">\n",
       "  <thead>\n",
       "    <tr style=\"text-align: right;\">\n",
       "      <th></th>\n",
       "      <th>Foo</th>\n",
       "      <th>Bar</th>\n",
       "    </tr>\n",
       "  </thead>\n",
       "  <tbody>\n",
       "    <tr>\n",
       "      <th>0</th>\n",
       "      <td>1</td>\n",
       "      <td>2</td>\n",
       "    </tr>\n",
       "    <tr>\n",
       "      <th>1</th>\n",
       "      <td>3</td>\n",
       "      <td>4</td>\n",
       "    </tr>\n",
       "  </tbody>\n",
       "</table>\n",
       "</div>"
      ],
      "text/plain": [
       "   Foo  Bar\n",
       "0    1    2\n",
       "1    3    4"
      ]
     },
     "execution_count": 2,
     "metadata": {},
     "output_type": "execute_result"
    }
   ],
   "source": [
    "#There is a nice trick: wrap the data with pandas DataFrame.\n",
    "import pandas as pd\n",
    "data = [[1, 2], [3, 4]]\n",
    "pd.DataFrame(data, columns=[\"Foo\", \"Bar\"])"
   ]
  },
  {
   "cell_type": "code",
   "execution_count": null,
   "metadata": {},
   "outputs": [],
   "source": []
  }
 ],
 "metadata": {
  "celltoolbar": "Slideshow",
  "kernelspec": {
   "display_name": "Python 3",
   "language": "python",
   "name": "python3"
  },
  "language_info": {
   "codemirror_mode": {
    "name": "ipython",
    "version": 3
   },
   "file_extension": ".py",
   "mimetype": "text/x-python",
   "name": "python",
   "nbconvert_exporter": "python",
   "pygments_lexer": "ipython3",
   "version": "3.8.3"
  }
 },
 "nbformat": 4,
 "nbformat_minor": 2
}
