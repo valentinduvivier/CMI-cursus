{
 "cells": [
  {
   "cell_type": "markdown",
   "metadata": {},
   "source": [
    "-------\n",
    "_Sorbonne Université, M1 SPI: MF2A & CompMech_\n",
    "## 4MEF03/MFC -  Notebook des exercices du  TD1 \n",
    "-------"
   ]
  },
  {
   "cell_type": "markdown",
   "metadata": {},
   "source": [
    "_Import des librairies usuelles python_"
   ]
  },
  {
   "cell_type": "code",
   "execution_count": 1,
   "metadata": {},
   "outputs": [],
   "source": [
    "from scipy.optimize  import fsolve\n",
    "from pylab           import *\n",
    "\n",
    "import numpy as np\n",
    "import matplotlib.pyplot as plt\n",
    "\n",
    "%matplotlib inline"
   ]
  },
  {
   "cell_type": "markdown",
   "metadata": {},
   "source": [
    "_Déclaration des fonctions MFC_"
   ]
  },
  {
   "cell_type": "code",
   "execution_count": 2,
   "metadata": {},
   "outputs": [
    {
     "data": {
      "text/plain": [
       "1.3375"
      ]
     },
     "execution_count": 2,
     "metadata": {},
     "output_type": "execute_result"
    }
   ],
   "source": [
    "## Fonctions Python MFC (CF Cours Chap.2)\n",
    "\n",
    "def func_Pt_P(gam,M):\n",
    "    # total to static pressure (LIB_ipynb = isentropic_flow_v2)\n",
    "    out =  (1+0.5*(gam-1)*M**2)**(gam/(gam-1))\n",
    "    return out\n",
    "\n",
    "def func_A_Ac(x, gam, A_Ac):\n",
    "    # Ratio A/A_c\n",
    "    out =  A_Ac - 1./x * ( 2./(gam+1.) *(1. + 0.5*(gam-1)*x**2))**(0.5*(gam+1)/(gam-1))  \n",
    "    return out\n",
    "\n",
    "def func_Tt_T(gam,M):\n",
    "    # total to static temperature (LIB_ipynb = isentropic_flow_v2)\n",
    "    out =  (1+0.5*(gam-1)*M**2)\n",
    "    return out\n",
    "\n",
    "# -----------------------------------------------------\n",
    "\n",
    "# Test :\n",
    "func_Tt_T(1.3, 1.5)"
   ]
  },
  {
   "cell_type": "markdown",
   "metadata": {},
   "source": [
    "\n",
    "-------\n",
    "## Exercice 1 : Grandeurs totales\n",
    "\n",
    "**Un écoulement supersonique dans une tuyère divergente est caractérisé par les conditions d'entrées suivantes: $M_1=2$ et $P_1 = 2 \\times 10^5 Pa$. On souhaite obtenir une nombre de Mach en sortie $M_2=3$.**\n",
    "\n",
    "**Donner la valeur de la pression statique  de sortie $P_2$ permettant de satisfaire cette condition.**\n",
    "\n",
    "--------"
   ]
  },
  {
   "cell_type": "markdown",
   "metadata": {},
   "source": [
    "_Données du problème:_"
   ]
  },
  {
   "cell_type": "code",
   "execution_count": 3,
   "metadata": {},
   "outputs": [],
   "source": [
    "gam  = 1.4\n",
    "M1   = 2.\n",
    "P1   = 2*10**5\n",
    "M2   = 3"
   ]
  },
  {
   "cell_type": "markdown",
   "metadata": {},
   "source": [
    "**SOLUTION**"
   ]
  },
  {
   "cell_type": "markdown",
   "metadata": {},
   "source": [
    "Ecrivons : $\\displaystyle P_2 = \\dfrac{P2}{P1}\\times P1 = \\dfrac{P2}{P_{t2}}\\dfrac{P_{t2}}{P_{t1}}\\dfrac{P_{t1}}{P_{1}}\\times P1 $ \n",
    "\n",
    "Sachant que l'écoulement est isentropique, nous avons que :\n",
    "$\\dfrac{P_{t2}}{P_{t1}} = 1$\n",
    "\n",
    "d'où $P_2 \\dfrac{P2}{P_{t2}}\\dfrac{P_{t1}}{P_{1}}\\times P1 = P1\\times \\frac{f(M_1)}{f(M_2)} \\approx 40.10^5$ Pa\n",
    "\n",
    "One then must reduce pressure to a fifth of P1 to get M2 = 3 when M1 = 2. IT implies high pressure reduction for low Mach number increasement."
   ]
  },
  {
   "cell_type": "markdown",
   "metadata": {},
   "source": [
    "The behavior of P decresing is good from $\\frac{dP}{P} = -\\gamma\\frac{M^2}{M^2 - 1}\\frac{dA}{A}$ where $dA > 0$ and so $dP < 0$ as expected."
   ]
  },
  {
   "cell_type": "markdown",
   "metadata": {},
   "source": [
    "**Application numérique**"
   ]
  },
  {
   "cell_type": "code",
   "execution_count": 4,
   "metadata": {},
   "outputs": [
    {
     "name": "stdout",
     "output_type": "stream",
     "text": [
      "La pression statique en sortie de divergent est égale à:\n",
      "P_2 = 42602.07 [Pa]\n",
      "4.69460807924449\n"
     ]
    }
   ],
   "source": [
    "Pt1_p1 = func_Pt_P(gam,M1)\n",
    "P2_pt2 = 1/func_Pt_P(gam,M2)\n",
    "P2     = P1 * Pt1_p1 * P2_pt2\n",
    "\n",
    "print('La pression statique en sortie de divergent est égale à:\\nP_2 = %4.2f'%P2, '[Pa]')\n",
    "print(P1/P2)"
   ]
  },
  {
   "cell_type": "markdown",
   "metadata": {},
   "source": [
    "La pression statique requise pour obtenir $M=3$ en sortie doit donc être environ **5 fois inférieure** à celle d'entrée."
   ]
  },
  {
   "cell_type": "markdown",
   "metadata": {},
   "source": [
    "-------\n",
    "\n",
    "## Exercice 2 : Grandeurs critiques\n",
    "\n",
    "**On considère une conduite convergente-divergente, de section circulaire, et dont la pression totale d'entrée est fixée à $P_{t_1}= 2.2 \\times 10^5 $ Pa. La valeur du nombre de Mach en sortie est $M_2=0.4$. Les diamètres des sections au col et en sortie valent respectivement $D_{col}=10$ mm et $D_2 = 12$ mm.**\n",
    "\n",
    "**Calculer la valeur de la pression au col $P_{col}$ sachant que l'écoulement est isentropique.**\n",
    "\n",
    "-------"
   ]
  },
  {
   "cell_type": "markdown",
   "metadata": {},
   "source": [
    "_Données du problème :_"
   ]
  },
  {
   "cell_type": "code",
   "execution_count": 5,
   "metadata": {},
   "outputs": [],
   "source": [
    "Pt1  = 2.2*10**5\n",
    "M2   = .4\n",
    "Dcol = 10*10**-3\n",
    "D2   = 12*10**-3"
   ]
  },
  {
   "cell_type": "markdown",
   "metadata": {},
   "source": [
    "**SOLUTION**"
   ]
  },
  {
   "cell_type": "markdown",
   "metadata": {},
   "source": [
    "Soit $D_{col}$  le diamètre de la section au niveau du col de la tuyère.\n",
    "Appliquons la relation $A/A_c=\\mathcal f(M)$ pour la section de sortie $A_2$.\n",
    "\n",
    "Naturellement, cette expression sous-entend que la section au col est critique, et ce de manière fictive ou critique.\n",
    "\n",
    "L'application numérique donne :"
   ]
  },
  {
   "cell_type": "code",
   "execution_count": 6,
   "metadata": {},
   "outputs": [
    {
     "name": "stdout",
     "output_type": "stream",
     "text": [
      "M_2   = 0.40\n",
      "A2/Ac = 1.59\n"
     ]
    }
   ],
   "source": [
    "c2      = 0.5*(gam+1.)/(gam-1.)\n",
    "A2_Ac   = 1./M2 * ( 2./(gam+1.) *(1. + 0.5*(gam-1)*M2**2))**(0.5*(gam+1)/(gam-1))  \n",
    "D2_Dc   = np.sqrt(A2_Ac)\n",
    "\n",
    "print ('M_2   = %4.2f'%M2   )\n",
    "print ('A2/Ac = %4.2f'%A2_Ac)"
   ]
  },
  {
   "cell_type": "code",
   "execution_count": 7,
   "metadata": {},
   "outputs": [
    {
     "name": "stderr",
     "output_type": "stream",
     "text": [
      "<ipython-input-7-06d6e62696bf>:3: RuntimeWarning: divide by zero encountered in true_divide\n",
      "  plt.plot(M, (1./M * ( 2./(gam+1.) *(1. + 0.5*(gam-1)*M**2))**(0.5*(gam+1)/(gam-1)))**-1)\n"
     ]
    },
    {
     "data": {
      "image/png": "[encoded data removed]",
      "text/plain": [
       "<Figure size 432x288 with 1 Axes>"
      ]
     },
     "metadata": {
      "needs_background": "light"
     },
     "output_type": "display_data"
    }
   ],
   "source": [
    "M = np.linspace(0, 5, 100)\n",
    "\n",
    "plt.plot(M, (1./M * ( 2./(gam+1.) *(1. + 0.5*(gam-1)*M**2))**(0.5*(gam+1)/(gam-1)))**-1)\n",
    "plt.plot([1,1], [0,1], 'r--')\n",
    "plt.plot([0,1], [1,1], 'r--')\n",
    "\n",
    "plt.grid('True')"
   ]
  },
  {
   "cell_type": "markdown",
   "metadata": {},
   "source": [
    "Par  ailleurs, la géométrie de la tuyère donne comme valeur du rapport $A_2/A_{col}$ ($\\underline{\\text{physical value}}$) = $\\frac{D_2^2}{D_{col}^2} = 1.44$"
   ]
  },
  {
   "cell_type": "code",
   "execution_count": 8,
   "metadata": {},
   "outputs": [
    {
     "name": "stdout",
     "output_type": "stream",
     "text": [
      "A2/Acol = 1.44\n"
     ]
    }
   ],
   "source": [
    "A2_Acol = 1.44\n",
    "print ('A2/Acol = %4.2f'%A2_Acol)"
   ]
  },
  {
   "cell_type": "markdown",
   "metadata": {},
   "source": [
    "Pour avoir M = 1 au cool on doit avoir $\\frac{A2}{Ac} = 1.59$. Or, on a ici $\\frac{A2}{Ac} = 1.44$ tel que $A_col \\gt A_c$, i.e. on a pas encore atteint la section minimale.\n",
    "\n",
    "On ne peut donc pas utiliser la relation $A_{col} = A_c$ pour obtenir des informations sur les données au col."
   ]
  },
  {
   "cell_type": "markdown",
   "metadata": {},
   "source": [
    "Cependant, $\\displaystyle\n",
    "\\frac{A_{col}}{A_c} = \\dfrac{A_{col}}{A_2}\\times\\dfrac{A_2}{A_c}$ \n",
    "\n",
    "**Application numérique** :"
   ]
  },
  {
   "cell_type": "code",
   "execution_count": 9,
   "metadata": {},
   "outputs": [
    {
     "name": "stdout",
     "output_type": "stream",
     "text": [
      "Acol/Ac = 1.10\n"
     ]
    }
   ],
   "source": [
    "Acol_Ac = 1/A2_Acol * A2_Ac\n",
    "print ('Acol/Ac = %4.2f'%Acol_Ac)"
   ]
  },
  {
   "cell_type": "markdown",
   "metadata": {},
   "source": [
    "La valeur du nombre de Mach au col s'obtient donc en résolvant la relation sur le rapport de la section courante à la section critique :\n",
    "\n",
    "$\\displaystyle \\frac{A_{col}}{A_c} = \\dfrac{1}{M_2} \\times ( {2}{(\\gamma+1)} \\times (1 + \\dfrac{\\gamma-1}{2}M_2^2))^{\\dfrac{(\\gamma+1)}{2(\\gamma-1)}}$\n",
    "\n",
    "Cela peut se résoudre numériquement en recherchant les racines  de la fonction\n",
    "\n",
    "$\\displaystyle f(M_{col}) = \\frac{A_{col}}{A_c} - \\dfrac{1}{M2} \\times ( {2}{(\\gamma+1.)} \\times (1. + 0.5(\\gamma-1).M2^2))^{(\\dfrac{\\gamma+1)}{2(\\gamma-1)}}\n",
    "$"
   ]
  },
  {
   "cell_type": "code",
   "execution_count": 10,
   "metadata": {},
   "outputs": [
    {
     "name": "stdout",
     "output_type": "stream",
     "text": [
      "Mach at the throat section, M_col = 0.69\n"
     ]
    }
   ],
   "source": [
    "initval = 0.6\n",
    "val    = fsolve(func_A_Ac, initval, args=(gam, Acol_Ac))\n",
    "M_col  = val[0]\n",
    "print ('Mach at the throat section, M_col = %4.2f'%M_col)"
   ]
  },
  {
   "cell_type": "markdown",
   "metadata": {},
   "source": [
    "_Remarque_  : Ce résultat peut se retrouver graphiquement à partir de la courbe $A_c/A=\\mathcal f(M)=0.905$  et en considérant la solution **subsonique** naturellement."
   ]
  },
  {
   "cell_type": "markdown",
   "metadata": {},
   "source": [
    "L'écoulement étant isentropique, on a $P_{t_{col}} = $............................... \n",
    "\n",
    "La pression statique au niveau du col s'obtient alors par :\n",
    "\n",
    "$\\displaystyle P_{col} = ..............................................................................................................$\n"
   ]
  },
  {
   "cell_type": "markdown",
   "metadata": {},
   "source": [
    "**Application numérique** :"
   ]
  },
  {
   "cell_type": "code",
   "execution_count": 11,
   "metadata": {},
   "outputs": [
    {
     "name": "stdout",
     "output_type": "stream",
     "text": [
      "P_col = 160465.11 [Pa]\n"
     ]
    }
   ],
   "source": [
    "P_col = Pt1 / func_Pt_P(gam, M_col)\n",
    "print ('P_col = %4.2f'% P_col, '[Pa]')"
   ]
  },
  {
   "cell_type": "markdown",
   "metadata": {},
   "source": [
    "\n",
    "\n",
    "-----------------------------\n",
    "## Exercice 3 : Soufflerie supersonique\n",
    "\n",
    "**Une soufflerie composée d’un convergent puis d’un divergent est alimentée par\n",
    "un écoulement tq: $M_1 ≈ 0$, $P_{t_1} = 8 × 10^5$ Pa et $T_{t_1} = 300$ K. Ces conditions\n",
    "permettent d’obtenir en sortie de convergent un écoulement supersonique isentropique. La section au col est $A_{col} = 0.15 m^2$ et la section en sortie de divergent est $A_2 = 0.253$ $m^2$.**\n",
    "\n",
    "-----------------------------"
   ]
  },
  {
   "cell_type": "markdown",
   "metadata": {},
   "source": [
    "_Mise en données:_"
   ]
  },
  {
   "cell_type": "code",
   "execution_count": 15,
   "metadata": {},
   "outputs": [],
   "source": [
    "g     = 1.4\n",
    "r     = 287\n",
    "Pt1   = 8*10**5\n",
    "Tt1   = 300\n",
    "A_col = 0.15\n",
    "A_2   = 0.253"
   ]
  },
  {
   "cell_type": "markdown",
   "metadata": {},
   "source": [
    "**1) Décrire le régime de l’écoulement dans toute la tuyère en précisant la\n",
    "valeur du nombre de Mach au col.**\n",
    "\n",
    "cf cas du cours : retour à subsonic, continue vers upersonic avant retour, pas de retour (shock waves, etc)."
   ]
  },
  {
   "cell_type": "markdown",
   "metadata": {},
   "source": [
    "**2) Calculer les grandeurs suivantes au col: $\\rho, P , T , U$ et $a$.**\n",
    "\n",
    "The flow is isnetropic, so every total greatness conserve."
   ]
  },
  {
   "cell_type": "code",
   "execution_count": 22,
   "metadata": {},
   "outputs": [
    {
     "name": "stdout",
     "output_type": "stream",
     "text": [
      "T_col = 250.00 [K]\n",
      "P_col = 422625.43 [Pa]\n",
      "r_col = 5.89 [kg/m^3]\n",
      "a_col = 316.94 [m/s]\n"
     ]
    }
   ],
   "source": [
    "# Critical conditions from total conditions (see Chap. 2)\n",
    "T_col   = 2/(g+1)*Tt1\n",
    "P_col   = ((g+1)/2)**(-g/(g-1)) * Pt1\n",
    "rhot1   = Pt1/r/Tt1\n",
    "rho_col = ((g+1)/2)**(-1/(g-1)) * rhot1\n",
    "a_col   = np.sqrt(g * r* T_col)\n",
    "\n",
    "print ('T_col = %4.2f'%T_col,'[K]')\n",
    "print ('P_col = %4.2f'%P_col,'[Pa]')\n",
    "print ('r_col = %4.2f'%r_col,'[kg/m^3]')\n",
    "print ('a_col = %4.2f'%a_col,'[m/s]')"
   ]
  },
  {
   "cell_type": "markdown",
   "metadata": {},
   "source": [
    "**3) En déduire la valeur du débit massique.**\n",
    "\n",
    "We use formula m = rho * u * A, with u = a here as we reach sonic speed at throat."
   ]
  },
  {
   "cell_type": "code",
   "execution_count": 24,
   "metadata": {},
   "outputs": [
    {
     "name": "stdout",
     "output_type": "stream",
     "text": [
      "mass flow = 280.03 [kg/s]\n"
     ]
    }
   ],
   "source": [
    "m_dot = rho_col * A_col * a_col\n",
    "print ('mass flow = %4.2f'%m_dot,'[kg/s]')"
   ]
  },
  {
   "cell_type": "markdown",
   "metadata": {},
   "source": [
    "**4) Comment déterminer le nombre de Mach $M_2$ en sortie ?**\n",
    "\n",
    "Le col étant sonique, nous avons $A_c = A_{col}$\n",
    "\n",
    "Il est donc possible de déterminer le Mach en sortie connaissant le rapport $\\frac{A_2}{A_c}$, by graphic interpretation of relation\n",
    "\n",
    "\n",
    "$$\\frac{A_2}{A_c} = \\frac{1}{M_2}\\left[ \\frac{A_2}{A_c}(1 + \\frac{\\gamma - 1}{2}M_2^2) \\right]^{\\frac{\\gamma+1}{2(\\gamma-1)}}$$\n",
    "\n",
    "ou par sa résolution numérique ci-dessous, comme dans le cas de l'exercice 2."
   ]
  },
  {
   "cell_type": "code",
   "execution_count": 38,
   "metadata": {},
   "outputs": [
    {
     "name": "stdout",
     "output_type": "stream",
     "text": [
      "Mach at the exit section:\n",
      "M_2 = 2.00\n"
     ]
    }
   ],
   "source": [
    "A2_Ac   = A_2/A_col\n",
    "initval = 1.5\n",
    "\n",
    "val     = fsolve(func_A_Ac, initval, args=(gam, A2_Ac))\n",
    "M2      = val[0]\n",
    "\n",
    "print ('Mach at the exit section:\\nM_2 = %4.2f'%M2)"
   ]
  },
  {
   "cell_type": "markdown",
   "metadata": {},
   "source": [
    "_Remarque:_ On aurait egalement pu trouver $M_2$ par résolution de la relation fondamentale du débit massique."
   ]
  },
  {
   "cell_type": "markdown",
   "metadata": {},
   "source": [
    "**5) Etablir alors les valeurs de $\\rho, P , T , U$ et $a$ en sortie de tuyère.**"
   ]
  },
  {
   "cell_type": "code",
   "execution_count": 39,
   "metadata": {},
   "outputs": [
    {
     "name": "stdout",
     "output_type": "stream",
     "text": [
      "P2   = 223265.32 [Pa]\n",
      "T2   = 208.33 [K]\n",
      "rho2 = 3.73 [kg/m^3]\n",
      "U2   = 0.01 [m/s]\n"
     ]
    }
   ],
   "source": [
    "P2   = ((g+1)/2)**(-g/(g-1)) * P_col\n",
    "T2   = 2/(g+1)*T_col\n",
    "rho2 = P2/r/T2\n",
    "a2   = np.sqrt(g * r * T2)\n",
    "U2   = M2/a2\n",
    "\n",
    "T_col   = 2/(g+1)*Tt1\n",
    "P_col   = ((g+1)/2)**(-g/(g-1)) * Pt1\n",
    "rhot1   = Pt1/r/Tt1\n",
    "rho_col = ((g+1)/2)**(-1/(g-1)) * rhot1\n",
    "a_col   = np.sqrt(g * r* T_col)\n",
    "\n",
    "print ('P2   = %4.2f'%P2,'[Pa]')\n",
    "print ('T2   = %4.2f'%T2,'[K]')\n",
    "print ('rho2 = %4.2f'%rho2,'[kg/m^3]')\n",
    "print ('U2   = %4.2f'%U2,'[m/s]')"
   ]
  },
  {
   "cell_type": "markdown",
   "metadata": {},
   "source": [
    "**_Fin de ce noteebook_**"
   ]
  },
  {
   "cell_type": "markdown",
   "metadata": {},
   "source": [
    "\n",
    "-------\n",
    "_J-C Chassaing, Sorbonne Université , Jan. 2021_"
   ]
  }
 ],
 "metadata": {
  "kernelspec": {
   "display_name": "Python 3",
   "language": "python",
   "name": "python3"
  },
  "language_info": {
   "codemirror_mode": {
    "name": "ipython",
    "version": 3
   },
   "file_extension": ".py",
   "mimetype": "text/x-python",
   "name": "python",
   "nbconvert_exporter": "python",
   "pygments_lexer": "ipython3",
   "version": "3.8.3"
  },
  "latex_envs": {
   "LaTeX_envs_menu_present": true,
   "autoclose": false,
   "autocomplete": true,
   "bibliofile": "biblio.bib",
   "cite_by": "apalike",
   "current_citInitial": 1,
   "eqLabelWithNumbers": true,
   "eqNumInitial": 1,
   "hotkeys": {
    "equation": "Ctrl-E",
    "itemize": "Ctrl-I"
   },
   "labels_anchors": false,
   "latex_user_defs": false,
   "report_style_numbering": false,
   "user_envs_cfg": false
  }
 },
 "nbformat": 4,
 "nbformat_minor": 2
}
