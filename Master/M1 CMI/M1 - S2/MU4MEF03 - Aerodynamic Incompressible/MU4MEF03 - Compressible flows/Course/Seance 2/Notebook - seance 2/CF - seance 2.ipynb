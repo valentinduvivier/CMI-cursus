{
 "cells": [
  {
   "cell_type": "markdown",
   "metadata": {},
   "source": [
    "-------\n",
    "Sorbonne Université, M1 SPI: MF2A & CompMech   \n",
    "## 4AF16/MFC: Cours de Mécanique des Fluides Compressibles \n",
    "\n",
    "jean-camille.chassaing@sorbonne-universite.fr (last mod. Jan. 2020) \n",
    "\n",
    "-------"
   ]
  },
  {
   "cell_type": "code",
   "execution_count": 3,
   "metadata": {},
   "outputs": [],
   "source": [
    "from scipy.optimize  import fsolve\n",
    "from pylab           import *\n",
    "import               numpy as numpy\n",
    "%matplotlib inline"
   ]
  },
  {
   "cell_type": "markdown",
   "metadata": {},
   "source": [
    "-------"
   ]
  },
  {
   "cell_type": "markdown",
   "metadata": {},
   "source": [
    "# Chap. II Ondes de choc normales"
   ]
  },
  {
   "cell_type": "markdown",
   "metadata": {},
   "source": [
    "Ce notebook présente les relations fondamentales régissant le changement des propriétés de l'écoulement au passage d'une **onde de choc normale** par rapport à la direction de l'écoulement incident. On se mettra dans le cadre des hypothèses d'écoulement Quasi-1D, stationnaire de fluide non-visqueux, non-pesant et considéré comme thermodynamiquement et calorifiquement parfait (cf chapitre précédent)."
   ]
  },
  {
   "cell_type": "markdown",
   "metadata": {},
   "source": [
    "## 1. Configuration étudiée"
   ]
  },
  {
   "cell_type": "markdown",
   "metadata": {},
   "source": [
    "On s'intéresse au cas d'un écoulement 1D présentant une onde de choc (ODC) plane orthogonale comme shématisé sur la figure (1)."
   ]
  },
  {
   "cell_type": "markdown",
   "metadata": {},
   "source": [
    "<img src=\"./figs/normal_shock.jpg\" alt=\"Drawing\" style=\"width: 300px;\"/>"
   ]
  },
  {
   "cell_type": "markdown",
   "metadata": {},
   "source": [
    "Le plan de l'onde de choc sera traité comme une **...............................** à l'échelle **..............................**. Les variables du champ aéorodynamique présenteront alors des **\"...................\"** de valeurs entre l'état en amont de l'ODC (état 1) et l'aval de l'ODC (état 2). \n",
    "\n",
    "Nous verrons que le phénomène d'ODC droite correspond à un mécanisme **.............................** de **...............................**  où l'écoulement passe du régime **.............................** au régime **...............................**."
   ]
  },
  {
   "cell_type": "code",
   "execution_count": 4,
   "metadata": {},
   "outputs": [],
   "source": [
    "#define gaz properties\n",
    "gam = 1.4\n",
    "r   = 287.05 #[r] = J/kg/K"
   ]
  },
  {
   "cell_type": "markdown",
   "metadata": {},
   "source": [
    "## 2. Bilan integral des equations de conservation"
   ]
  },
  {
   "cell_type": "markdown",
   "metadata": {},
   "source": [
    "Les équations du mouvement sont décrites sous forme locale par le modèle Euler 1D vu au chapitre 2 (avec $A(x)=Cte$ par hypothèse 1D).\n",
    "\n",
    "$\\bullet$ **Continuité:** $ d(\\rho U) = 0 \\qquad \\qquad \\qquad \\qquad$  (2.1)\n",
    "\n",
    "$\\bullet$ **Quantité de mouvement:**  $ \\rho U dU = -dP \\qquad $ (2.2) \n",
    "\n",
    "$\\bullet$ **Energie:** $\\rho C_p dT = dP  \\qquad \\qquad \\qquad \\qquad$  (2.3)"
   ]
  },
  {
   "cell_type": "markdown",
   "metadata": {},
   "source": [
    "où les variables $\\rho$, $U$, $P$ et $T$ dépendent uniquement de la position $x$."
   ]
  },
  {
   "cell_type": "markdown",
   "metadata": {},
   "source": [
    "On procède alors à l'intégration de ces équations sur un volume de contrôle comprenant l'onde de choc, les états amont et aval étant repérés par les indices $1$ et $2$ respectivement.\n",
    "\n",
    "Le bilan de conservation de la masse (2.1) donne directement: \n",
    "\n",
    ".............................................\n",
    "\n",
    "Developpant le terme advectif de l'équation (2.2), on peut ré-écrire : \n",
    "\n",
    "$ - dP$ = ............................................. \n",
    "\n",
    "Utilisant (2.1), on peut alors intégrer immédiatement pour obtenir la relation : \n",
    "\n",
    "..........................................................................................    (2.5)\n",
    "\n",
    "Eliminant le terme relatif au gradient de pression entre (2.2) et (2.3), on obtient après intégration le bilan d'intégral de la convervation de l'énergie sous la forme  (cf Chap. II):\n",
    "\n",
    "............................................. .............................................    (2.6)"
   ]
  },
  {
   "cell_type": "markdown",
   "metadata": {},
   "source": [
    "**Autre forme du bilan d'énergie**:\n",
    "\n",
    "\n",
    "Sachant que $C_p = \\gamma r/(\\gamma-1)$ et $a^2 = \\gamma r T$, l'équation (2.6) s'écrit :\n",
    "\n",
    "...................................................................................................................................... \n",
    "\n",
    "Considérant, de manière fictive que l'état (2) correspond à des conditions soniques, nous avons $U_2=a_2=a_c$, ce qui donne la relation :\n",
    "\n",
    ".....................................................................................................................................  (2.7)."
   ]
  },
  {
   "cell_type": "markdown",
   "metadata": {},
   "source": [
    "## 3. Relation de Prandtl-Meyer"
   ]
  },
  {
   "cell_type": "markdown",
   "metadata": {},
   "source": [
    "**RESULTAT:** \n",
    "\n",
    "Les vitesses en amont $U_1$ et en aval $U_2$ de l'onde de choc sont reliées par :\n",
    "$ U_1 U_2 = a_c^2 $  $\\quad (3.1)$"
   ]
  },
  {
   "cell_type": "markdown",
   "metadata": {},
   "source": [
    "**Démonstration**\n",
    "\n",
    "Partant de l'équation de la dynamique (2.5) et divisant membre à membre par $\\rho_1 U_1$, nous avons :\n",
    "\n",
    ".................................................................................................................. (3.2)\n",
    "\n",
    "Or la conservation du débit donne $\\rho_1 U_1=\\rho_2 U_2$ d'où :\n",
    "\n",
    "..................................................................................................................(3.3)\n",
    "\n",
    "Sachant que  $a^2 = \\gamma P/\\rho$, l'équation (3.3) devient :\n",
    "\n",
    ".................................................................................................................. (3.4)\n",
    "\n",
    "Par ailleurs, on peut se servir de l'équation de l'énergie (2.7) pour exprimer $a_2^2$ en fonction de $a_1^2$, soit :\n",
    "\n",
    "..................................................................................................................(3.5)\n",
    "\n",
    "Reportant cette expression dans (3.4), nous obtenons une relatione entre $U_1$, $U_2$ et $a_1$ seulement :\n",
    "\n",
    "..................................................................................................................................................................... (3.6)\n",
    "\n",
    "soit\n",
    "\n",
    "..................................................................................................................................................................... (3.7)\n",
    "\n",
    "d'ou, en simplifiant par $U_2-U_1$, \n",
    "\n",
    ".................................................................................................................. (3.8)\n",
    "\n",
    "Divisant par $\\gamma-1$ et introduisant alors la vitesse du son critique $a_c$ au moyen de l'éq. (2.7), il advient :\n",
    "\n",
    ".................................................................................................................. (3.9)\n",
    "\n",
    "Soit finalement\n",
    "\n",
    ".................................................................................................................. (3.10)\n",
    "\n",
    "ce qui aboutit à la relation de Prandtl-Meyer: $U_1 U_2 = a_c^2$."
   ]
  },
  {
   "cell_type": "markdown",
   "metadata": {},
   "source": [
    "## 4. Saut du nombre de Mach"
   ]
  },
  {
   "cell_type": "markdown",
   "metadata": {},
   "source": [
    "**RESULTAT :**   La relation de saut entre le nombre de Mach amont $M_1$ et aval $M_2$ de l'onde de choc normale est donnée par :\n",
    "\n",
    "$$ M_2^2 = \\frac{2+(\\gamma-1) M_1^2}{2\\gamma M_1^2 - \\gamma + 1} \\quad (4.1a)$$"
   ]
  },
  {
   "cell_type": "markdown",
   "metadata": {},
   "source": [
    "#### Démonstration"
   ]
  },
  {
   "cell_type": "markdown",
   "metadata": {},
   "source": [
    "Partons de l'équation modifiée pour la conservation d'énergie (2.7) :\n",
    "\n",
    "$\\displaystyle \\frac{a_1^2}{\\gamma-1} + \\frac{U^2_1}{2} = \\frac{\\gamma+1}{2(\\gamma-1)} a_c^2$\n",
    "\n",
    "Divisons les deux premières égalités par $U_1^2$, soit :\n",
    "\n",
    ".$\\displaystyle \\frac{1}{U_1^2}\\frac{a_1^2}{\\gamma-1} + \\frac{U^2_1}{2} = \\frac{\\gamma+1}{2(\\gamma-1)} a_c^2\\frac{1}{U_1^2}$............\n",
    "\n",
    "Soit après simplification :\n",
    "\n",
    ".................................................................................................................. (4.2)\n",
    "\n",
    "Toujours en vertu de (2.7), on peut écrire une relation analogue pour $U_1/a_c$ en fonction de $M_2$ :\n",
    "\n",
    ".................................................................................................................. (4.3)\n",
    "\n",
    "Multipliant membre à membre les équations (4.2) et (4.3) il advient :\n",
    "\n",
    ".................................................................................................................................................................\n",
    "\n",
    "Or la relation de Prandtl-Meyer donne que $U_1 U_2=a_c^2$, de sorte que le membre de gauche de l'équation ci-dessus\n",
    "soit égal à 1. Déslors, nous obtenu une relation explicite entre les nombre de Mach en aval et en amont de l'ODC :\n",
    "\n",
    "................................................................................................................................................................. (4.4)"
   ]
  },
  {
   "cell_type": "markdown",
   "metadata": {},
   "source": [
    "**Fonction python**"
   ]
  },
  {
   "cell_type": "code",
   "execution_count": 6,
   "metadata": {},
   "outputs": [
    {
     "name": "stdout",
     "output_type": "stream",
     "text": [
      "0.38\n"
     ]
    }
   ],
   "source": [
    "#status= validated (oct 2016 - jcc)\n",
    "#LIB_ipynb = ODCn_v2\n",
    "def func_M2_jump(gam,M1):\n",
    "    # Mach number jump\n",
    "    out =  sqrt((2+(gam-1)*M1**2)/(2*gam*M1**2+1-gam))\n",
    "    return out\n",
    "\n",
    "print ('%4.2f'%func_M2_jump(1.4,20))"
   ]
  },
  {
   "cell_type": "markdown",
   "metadata": {},
   "source": [
    "Le code python ci-dessous l'évolution du nombre de Mach aval en fonction du nombre de mach amont :"
   ]
  },
  {
   "cell_type": "code",
   "execution_count": 8,
   "metadata": {},
   "outputs": [
    {
     "name": "stdout",
     "output_type": "stream",
     "text": [
      "Min value = 0.45\n"
     ]
    },
    {
     "name": "stderr",
     "output_type": "stream",
     "text": [
      "/Users/kussner/Projects/flutty/these_CTN/CTNpack_v1/ctn_env/lib/python3.6/site-packages/ipykernel_launcher.py:10: RuntimeWarning: divide by zero encountered in true_divide\n",
      "  # Remove the CWD from sys.path while we load stuff.\n"
     ]
    },
    {
     "data": {
      "text/plain": [
       "Text(0.3, 3.2, ' Fig. 2 : Relation de saut du nombre de Mach')"
      ]
     },
     "execution_count": 8,
     "metadata": {},
     "output_type": "execute_result"
    },
    {
     "data": {
      "image/png": "[encoded data removed]",
      "text/plain": [
       "<Figure size 432x288 with 1 Axes>"
      ]
     },
     "metadata": {
      "needs_background": "light"
     },
     "output_type": "display_data"
    }
   ],
   "source": [
    "#Jump in the Mach number\n",
    "gam=1.7\n",
    "#Set limits\n",
    "M_max = 3\n",
    "plt.xlim(0.,M_max)\n",
    "plt.ylim(0.,M_max)\n",
    "#\n",
    "M_min = sqrt((gam-1)/2/gam)\n",
    "M1 = linspace(M_min, M_max, num=40)\n",
    "M2 = sqrt(((gam-1)*M1**2+2)/(2*gam*M1**2-gam+1))\n",
    "plot(M1,M2,color=\"blue\", linewidth=2.0, linestyle=\"-\", label=\"$M_2=f(M_1)$\")\n",
    "plt.legend(loc='upper right', frameon=False)\n",
    "# Set ticklabel font sizes\n",
    "ax = plt.gca()\n",
    "for label in ax.get_xticklabels() + ax.get_yticklabels():\n",
    "    label.set_fontsize(14)\n",
    "ax.grid(which='major', axis='x', linewidth=0.75, linestyle='-', color='0.85')\n",
    "ax.grid(which='major', axis='y', linewidth=0.75, linestyle='-', color='0.85')\n",
    "\n",
    "#Plot\n",
    "x=linspace(0, M_max, num=40)\n",
    "y=numpy.zeros((40,1))\n",
    "y=array([M_min for i in range(40)])\n",
    "plot(x,y, color ='blue', linewidth=1., linestyle=\"--\")\n",
    "plot(y,x, color ='blue', linewidth=1., linestyle=\"--\")\n",
    "\n",
    "plt.scatter([1,],[1,], 50, color ='blue')\n",
    "plt.annotate(r'$M_1=M_2=1$',\n",
    "             xy=(1, 1), xycoords='data',\n",
    "             xytext=(+10, +30), textcoords='offset points', fontsize=14,\n",
    "             arrowprops=dict(arrowstyle=\"->\", connectionstyle=\"arc3,rad=.2\"))\n",
    "plt.annotate(r'$\\sqrt{\\frac{\\gamma-1}{2\\gamma}}$',\n",
    "             xy=(M_max, M_min), xycoords='data',\n",
    "             xytext=(+10, +30), textcoords='offset points', fontsize=14,\n",
    "             arrowprops=dict(arrowstyle=\"->\", connectionstyle=\"arc3,rad=-.2\"))\n",
    "print ('Min value = %4.2f'%M_min)\n",
    "ax.text(3.2,-0.19, '$M_1$',fontsize=18)\n",
    "ax.text(-0.6,2.7, '$M_2$',fontsize=18)\n",
    "ax.text(0.3,3.2, ' Fig. 2 : Relation de saut du nombre de Mach',fontsize=12)\n",
    "# Save figure using 72 dots per inch\n",
    "# savefig(\"./figures/Jump_MachNumber.png\",dpi=72)"
   ]
  },
  {
   "cell_type": "markdown",
   "metadata": {},
   "source": [
    "## 5. Saut des grandeurs statiques"
   ]
  },
  {
   "cell_type": "markdown",
   "metadata": {},
   "source": [
    "**Masse volumique:**    $\\displaystyle \\frac{\\rho_2}{\\rho_1} = \\frac{(\\gamma+1) M_1^2}{(\\gamma-1) M_1^2 + 2}\n",
    "\\qquad (5.1)$ "
   ]
  },
  {
   "cell_type": "markdown",
   "metadata": {},
   "source": [
    "_Démonstration:_ L'équation de continuité (2.4) donne immédiatement : \n",
    "\n",
    "$\\displaystyle \\frac{\\rho_2}{\\rho_1} = ......... = ..........= ..........$\n",
    "\n",
    "La relation demandée est alors retrouvée sachant qu'on a dèjà montré en (x) que \n",
    "\n",
    "$\\displaystyle \\frac{a_c^2}{U_1^2} =  \\frac{(\\gamma-1) M_1^2 + 2}{(\\gamma+1) M_1^2}$\n"
   ]
  },
  {
   "cell_type": "markdown",
   "metadata": {},
   "source": [
    " "
   ]
  },
  {
   "cell_type": "markdown",
   "metadata": {},
   "source": [
    "**Pression :**    $\\displaystyle \\frac{P_2}{P_1} = 1+\\frac{2 \\gamma}{(\\gamma+1)} (M_1^2-1)\\qquad (5.2)$ "
   ]
  },
  {
   "cell_type": "markdown",
   "metadata": {},
   "source": [
    "_Démonstration:_ L'équation de la dynamique (5) peut être ré-écrite sous la forme  :  \n",
    "\n",
    "$ P_1 - P_2 = $.................................................\n",
    "\n",
    "Utilisant la consevation de la masse et divisant membre à membre par $P_1$, l'équation précédente devient :\n",
    "\n",
    "$\\displaystyle \\frac{P_2}{P_1} = $ .............................................................\n",
    "\n",
    "Sachant que \n",
    "\n",
    "$M_1=\\displaystyle \\frac{U_1}{a_1}$ et $\\displaystyle a_1^2=\\gamma \\frac{P_1}{\\rho_1}$\n",
    "\n",
    "nous obtenons :\n",
    "\n",
    "$\\displaystyle \\frac{P_2}{P_1} = $.............................................................. \n",
    "\n",
    "Par ailleurs, on a montré lors de la démonstration précédente que \n",
    "\n",
    "$\\displaystyle \\frac{U_2}{U_1} = \\frac{a_c^2}{U_1^2} = \\frac{(\\gamma-1) M_1^2 + 2}{(\\gamma+1) M_1^2}$.\n",
    "\n",
    "Reportant cette expression dans celle pour $P_2/P_1$, nous avons\n",
    "\n",
    "$\\displaystyle \\frac{P_2}{P_1} = $..........................................................................................................................\n",
    "\n",
    "$\\displaystyle \\frac{P_2}{P_1} = $ ..........................................................................................................................\n",
    "\n",
    "$\\displaystyle \\frac{P_2}{P_1} = 1 - \\gamma M_1^2 \\left( \\frac{-2 M_1^2+2}{(\\gamma+1) M_1^2}  \\right)$."
   ]
  },
  {
   "cell_type": "markdown",
   "metadata": {},
   "source": [
    " "
   ]
  },
  {
   "cell_type": "markdown",
   "metadata": {},
   "source": [
    "**Température et vitesse du son :**   \n",
    "\n",
    "Utilisant la loi d'état pour extraire la température : $T=P/\\rho/r$, la relation de saut $T_2/T_1=f(M_1)$ s'obtient directement à partir des relations de saut pour $P_2/P_1$ (5.1) et $\\rho_2/\\rho_1$ (5.2) par $\\displaystyle \\frac{T_2}{T_1} = \\frac{P_2}{P_1} \\frac{\\rho_1}{\\rho_2}$. \n",
    "\n",
    "Le saut des vitesses du son ce déduit alors immédiatement de celui de la température : $\\displaystyle \\frac{a_2}{a_1} = \\sqrt{\\frac{T_2}{T_1}}$."
   ]
  },
  {
   "cell_type": "markdown",
   "metadata": {},
   "source": [
    "**Fonctions python** (directes et inverses)"
   ]
  },
  {
   "cell_type": "code",
   "execution_count": 9,
   "metadata": {},
   "outputs": [],
   "source": [
    "#status= validated (oct 2016 - jcc)\n",
    "#\n",
    "# calcul du saut, connaissant le nombre de Mach\n",
    "#\n",
    "def func_jump_P(gam,M1):\n",
    "    # pressure  jump (LIB_ipynb = ODCn_v2)\n",
    "    out =  1 + 2*gam/(gam+1)*(M1**2-1.)\n",
    "    return out\n",
    "\n",
    "def func_jump_T(gam,M1):\n",
    "    # pressure  jump\n",
    "    out =  (1 + 2*gam/(gam+1)*(M1**2-1.)) / (( (gam+1)*M1**2)/((gam-1)*M1**2+2) )\n",
    "    return out\n",
    "\n",
    "def func_jump_rho(gam,M1):\n",
    "    # pressure  jump\n",
    "    out =  ( (gam+1)*M1**2)/((gam-1)*M1**2+2)\n",
    "    return out\n",
    "#\n",
    "# calcul du Mach, connaissant le saut\n",
    "#\n",
    "def func_inv_jump_P(x,gam,P2_P1):\n",
    "    # total to static temperature\n",
    "    out =  P2_P1 - (1 + 2*gam/(gam+1)*(x**2-1.))\n",
    "    return out\n",
    "\n",
    "def func_inv_jump_T(x,gam,T2_T1):\n",
    "    # total to static pressure\n",
    "    out =  T2_T1 - (1 + 2*gam/(gam+1)*(x**2-1.)) / (( (gam+1)*x**2)/((gam-1)*x**2+2) )\n",
    "    return out\n",
    "\n",
    "def func_inv_jump_rho(x,gam,R2_R1):\n",
    "    # total to static density\n",
    "    out =  R2_R1 - ( (gam+1)*x**2)/((gam-1)*x**2+2)\n",
    "    return out"
   ]
  },
  {
   "cell_type": "markdown",
   "metadata": {},
   "source": [
    "**Interprétation graphique :**  "
   ]
  },
  {
   "cell_type": "code",
   "execution_count": 10,
   "metadata": {},
   "outputs": [
    {
     "data": {
      "text/plain": [
       "Text(1.7, 6.2, ' statiques pour une ODC droite')"
      ]
     },
     "execution_count": 10,
     "metadata": {},
     "output_type": "execute_result"
    },
    {
     "data": {
      "image/png": "[encoded data removed]",
      "text/plain": [
       "<Figure size 432x288 with 1 Axes>"
      ]
     },
     "metadata": {
      "needs_background": "light"
     },
     "output_type": "display_data"
    }
   ],
   "source": [
    "M1 = linspace(1, 4, num=40)\n",
    "gam=1.4\n",
    "plt.ylim(1,6)\n",
    "plt.xlim(1,4)\n",
    "jump_pressure = 1 + 2*gam/(gam+1)*(M1**2-1)\n",
    "jump_rho = ( (gam+1)*M1**2)/((gam-1)*M1**2+2)\n",
    "jump_temp = jump_pressure/jump_rho\n",
    "jump_sound = jump_temp**(0.5)\n",
    "ax = plt.gca()\n",
    "ax.grid(which='major', axis='x', linewidth=0.75, linestyle='-', color='0.85')\n",
    "ax.grid(which='major', axis='y', linewidth=0.75, linestyle='-', color='0.85')\n",
    "plot(M1,jump_pressure,color=\"red\", linewidth=2.0, linestyle=\"-\", label=\"pressure jump\")\n",
    "plot(M1,jump_temp,color=\"green\", linewidth=2.0, linestyle=\"-\", label=\"temperature jump\")\n",
    "plot(M1,jump_sound,color=\"brown\", linewidth=2.0, linestyle=\"-\", label=\"sound velocity\")\n",
    "plot(M1,jump_rho,color=\"blue\", linewidth=2.0, linestyle=\"-\", label=\"density\")\n",
    "#plot(M1,jump_rho,color=\"blue\", linewidth=2.0, linestyle=\"-\", label=\"saut de masse volumique\")\n",
    "plt.legend(loc='upper left', frameon=False)\n",
    "ax.text(4.1,0.7, '$M_1$',fontsize=18)\n",
    "ax.text(1.1,6.6, ' Fig. 3 : Relation de sauts des grandeurs statiques',fontsize=12)\n",
    "ax.text(1.7,6.2, ' statiques pour une ODC droite',fontsize=12)\n",
    "# Save figure using 72 dots per inch\n",
    "# savefig(\"./figures/Jump_relation.png\",dpi=72)"
   ]
  },
  {
   "cell_type": "markdown",
   "metadata": {},
   "source": [
    "## 6. Saut de pression totale"
   ]
  },
  {
   "cell_type": "markdown",
   "metadata": {},
   "source": [
    "**Résultat :**    $\\displaystyle \\frac{P_{t_2}}{P_{t_1}} = \\left( \\frac{(\\gamma+1)M_1^2}{2+(\\gamma-1)M_1^2}\\right)^{\\frac{\\gamma}{\\gamma-1}}  \\left( \\frac{2\\gamma M_1^2 +1-\\gamma}{\\gamma+1} \\right)^{-\\frac{1}{\\gamma-1}} \\qquad (6.1)$ "
   ]
  },
  {
   "cell_type": "markdown",
   "metadata": {},
   "source": [
    "**Démonstration:** Partons de la décomposition suivante : \n",
    "\n",
    "$\\displaystyle \\frac{P_{t_2}}{P_{t_1}} = $\n",
    "..........................................\n",
    "\n",
    "\n",
    "\n",
    "Le dernier rapport s'évalue directement par la relation isentropique : \n",
    "\n",
    "$\\displaystyle \\frac{P_1}{P_{t_1}} = $.....................................................................................\n",
    "\n",
    "De même, on a : \n",
    "\n",
    "$\\displaystyle \\frac{P_{t_2}}{P_2} = \\left ( 1+\\frac{\\gamma-1}{2} M_2^2 \\right)^{\\frac{\\gamma}{\\gamma-1}}$\n",
    "où le $M_2$ sera relié à $M_1$ par ......................................\n",
    "\n",
    "Enfin, la relation de saut pour la pression statique (5.2) sera utlisée pour exprimer $P_2/P_1$ en fonction de $M_1$.\n",
    "\n",
    "Le regroupement de ces 3 rapports, exprimés en fonction de $M_1$, permet d'aboutir à la relation recherchée aprés calculs élémentaires.\n",
    "\n",
    "\n"
   ]
  },
  {
   "cell_type": "markdown",
   "metadata": {},
   "source": [
    "**Remarque :**  Sachant que la température totale se converse à travers une ODC (2.6), la loi d'état permet d'établir immédiatement que $\\rho_{t_2}/\\rho_{t_1} = P_{t_2}/P_{t_1}$."
   ]
  },
  {
   "cell_type": "markdown",
   "metadata": {},
   "source": [
    "**Fonction python**"
   ]
  },
  {
   "cell_type": "code",
   "execution_count": 11,
   "metadata": {},
   "outputs": [
    {
     "name": "stdout",
     "output_type": "stream",
     "text": [
      "Pt2/Pt1 = 0.72\n"
     ]
    },
    {
     "ename": "TypeError",
     "evalue": "can't multiply sequence by non-int of type 'float'",
     "output_type": "error",
     "traceback": [
      "\u001b[0;31m---------------------------------------------------------------------------\u001b[0m",
      "\u001b[0;31mTypeError\u001b[0m                                 Traceback (most recent call last)",
      "\u001b[0;32m<ipython-input-11-5116793b5ef8>\u001b[0m in \u001b[0;36m<module>\u001b[0;34m\u001b[0m\n\u001b[1;32m     16\u001b[0m \u001b[0mpt2_pt1\u001b[0m \u001b[0;34m=\u001b[0m \u001b[0mfunc_jump_Pt\u001b[0m\u001b[0;34m(\u001b[0m\u001b[0;36m1.4\u001b[0m\u001b[0;34m,\u001b[0m\u001b[0;36m2\u001b[0m\u001b[0;34m)\u001b[0m\u001b[0;34m\u001b[0m\u001b[0m\n\u001b[1;32m     17\u001b[0m \u001b[0mprint\u001b[0m \u001b[0;34m(\u001b[0m\u001b[0;34m'Pt2/Pt1 = %4.2f'\u001b[0m\u001b[0;34m%\u001b[0m\u001b[0mpt2_pt1\u001b[0m\u001b[0;34m)\u001b[0m\u001b[0;34m\u001b[0m\u001b[0m\n\u001b[0;32m---> 18\u001b[0;31m \u001b[0mprint\u001b[0m \u001b[0;34m(\u001b[0m\u001b[0;34m'Pt2     = %4.2f'\u001b[0m\u001b[0;34m%\u001b[0m\u001b[0mpt2_pt1\u001b[0m\u001b[0;34m*\u001b[0m\u001b[0;36m7.92\u001b[0m\u001b[0;34m)\u001b[0m\u001b[0;34m\u001b[0m\u001b[0m\n\u001b[0m",
      "\u001b[0;31mTypeError\u001b[0m: can't multiply sequence by non-int of type 'float'"
     ]
    }
   ],
   "source": [
    "#status= validated (oct 2016 - jcc)\n",
    "#LIB_ipynb = ODCn_v2\n",
    "def func_jump_Pt(gam,M1):\n",
    "    # total pressurejump\n",
    "    M2      = sqrt(((gam-1)*M1**2+2)/(2*gam*M1**2-gam+1))\n",
    "    pt2_p2  = (1+0.5*(gam-1)*M2**2)**(gam/(gam-1))\n",
    "    p1_pt1  = (1+0.5*(gam-1)*M1**2)**(-gam/(gam-1))\n",
    "    jump_P  = 1 + 2*gam/(gam+1)*(M1**2-1)\n",
    "    out     = pt2_p2*jump_P*p1_pt1\n",
    "    #print ('M2 = ',M2)\n",
    "    #print ('Pt2/P1 = ',pt2_p2)\n",
    "    #print ('P1/PT1 = ',p1_pt1)\n",
    "    #print ('P2/P1 = ',jump_P)\n",
    "    return out\n",
    "   \n",
    "pt2_pt1 = func_jump_Pt(1.4,2)\n",
    "print ('Pt2/Pt1 = %4.2f'%pt2_pt1)\n",
    "print ('Pt2     = %4.2f'%pt2_pt1*7.92)"
   ]
  },
  {
   "cell_type": "markdown",
   "metadata": {},
   "source": [
    "**Interprétation graphique**"
   ]
  },
  {
   "cell_type": "code",
   "execution_count": 12,
   "metadata": {},
   "outputs": [
    {
     "data": {
      "text/plain": [
       "Text(1.5, 1.1, ' Fig. 4 : Saut de la pression totale')"
      ]
     },
     "execution_count": 12,
     "metadata": {},
     "output_type": "execute_result"
    },
    {
     "data": {
      "image/png": "[encoded data removed]",
      "text/plain": [
       "<Figure size 432x288 with 1 Axes>"
      ]
     },
     "metadata": {
      "needs_background": "light"
     },
     "output_type": "display_data"
    }
   ],
   "source": [
    "M1 = linspace(1, 4, num=40)\n",
    "plt.ylim(0,1)\n",
    "plt.xlim(1,4)\n",
    "#M2 = sqrt(((gam-1)*M1**2+2)/(2*gam*M1**2-gam+1))\n",
    "#pt2_p2 = (1+(gam-1)*M2**2)**(gam/(gam-1))\n",
    "#p1_pt1 = (1+(gam-1)*M1**2)**(-gam/(gam-1))\n",
    "#jump_Pt = pt2_p2*jump_pressure*p1_pt1\n",
    "jump_Pt = func_jump_Pt(gam,M1)\n",
    "ax = plt.gca()\n",
    "ax.grid(which='major', axis='x', linewidth=0.75, linestyle='-', color='0.85')\n",
    "ax.grid(which='major', axis='y', linewidth=0.75, linestyle='-', color='0.85')\n",
    "plot(M1,jump_Pt,color=\"red\", linewidth=2.0, linestyle=\"-\", label=\"total pressure jump\")\n",
    "#plot(M1,jump_rho,color=\"blue\", linewidth=2.0, linestyle=\"-\", label=\"saut de masse volumique\")\n",
    "plt.legend(loc='upper left', frameon=False)\n",
    "ax.text(4.1,0.05, '$M_1$',fontsize=18)\n",
    "ax.text(1.5,1.1, ' Fig. 4 : Saut de la pression totale',fontsize=12)\n",
    "#ax.text(2.1,0.55, 'COURBE A VERIFIER !',fontsize=18)\n",
    "#ax.text(1.7,6.2, ' statiques pour une ODC droite',fontsize=12)\n",
    "# Save figure using 72 dots per inch\n",
    "# savefig(\"./figures/Jump_relation.png\",dpi=72)"
   ]
  },
  {
   "cell_type": "markdown",
   "metadata": {},
   "source": [
    "## 7. Bilan d'entropie au passage du choc"
   ]
  },
  {
   "cell_type": "markdown",
   "metadata": {},
   "source": [
    "**Résultat :**   La variation d'entropie au passage du choc est donnée par en fonction du nombre de Mach amont par :\n",
    "\n",
    "$\\displaystyle s_2 - s_1 = c_v ln \\left[ \\left( \\frac{2\\gamma M_1^2 +1-\\gamma}{\\gamma+1} \\right)\n",
    "\\left( \\frac{2+(\\gamma-1)M_1^2}{(\\gamma+1)M_1^2} \\right)^\\gamma \\right] \\quad (7)$\n",
    "\n"
   ]
  },
  {
   "cell_type": "markdown",
   "metadata": {},
   "source": [
    "**Démonstration:**\n",
    "\n",
    "Dans le notebook consacré aux rappels en thermodynamique (cf Chap. I), nous avons montré que la variation d'entropie pouvait s'exprimer en fonction des variations de température et masse volumique par :\n",
    "\n",
    "$\\displaystyle \\frac{s_2-s_1}{r} = \\frac{\\gamma}{\\gamma-1} ln\\frac{T_2}{T_1} - ln\\frac{\\rho_2}{\\rho_1}$\n",
    "\n",
    "Soit encore (à détailler) :\n",
    "\n",
    "$\\displaystyle s_2-s_1 = c_v ln\\left[  \\frac{P_2}{P_1} \\left(\\frac{\\rho_2}{\\rho_1}\\right)^\\gamma   \\right]$\n",
    "\n",
    "Utilisant alors les relations de saut pour la pression statique et pour la masse volumique, nous en déduisons alors immédiatement\n",
    "la relation recherchée."
   ]
  },
  {
   "cell_type": "markdown",
   "metadata": {},
   "source": [
    "**Fonction python**"
   ]
  },
  {
   "cell_type": "code",
   "execution_count": 14,
   "metadata": {},
   "outputs": [
    {
     "name": "stdout",
     "output_type": "stream",
     "text": [
      "s2-s1 = 2.07 J/K/Kg\n"
     ]
    }
   ],
   "source": [
    "#status= validated (oct 2016 - jcc)\n",
    "def func_jump_ds(gam,r,M1):\n",
    "    # Mach number jump\n",
    "    x1 = (2*gam*M1**2+1-gam)/(gam+1)\n",
    "    x2 = (2+(gam-1)*M1**2)/(gam+1)/M1**2\n",
    "    out =  r/(gam-1)*log(x1*x2**gam)\n",
    "    return out\n",
    "print ('s2-s1 = %4.2f'%func_jump_ds(1.4,287,1.2),'J/K/Kg')"
   ]
  },
  {
   "cell_type": "markdown",
   "metadata": {},
   "source": [
    "**Interprétation graphique**"
   ]
  },
  {
   "cell_type": "code",
   "execution_count": 15,
   "metadata": {},
   "outputs": [
    {
     "name": "stderr",
     "output_type": "stream",
     "text": [
      "/Users/kussner/Projects/flutty/these_CTN/CTNpack_v1/ctn_env/lib/python3.6/site-packages/ipykernel_launcher.py:5: RuntimeWarning: divide by zero encountered in true_divide\n",
      "  \"\"\"\n",
      "/Users/kussner/Projects/flutty/these_CTN/CTNpack_v1/ctn_env/lib/python3.6/site-packages/ipykernel_launcher.py:6: RuntimeWarning: invalid value encountered in log\n",
      "  \n"
     ]
    },
    {
     "data": {
      "text/plain": [
       "Text(0.9, 0.11, 'Fig. 5 : $\\\\Delta s/c_v$ vs $M_1$')"
      ]
     },
     "execution_count": 15,
     "metadata": {},
     "output_type": "execute_result"
    },
    {
     "data": {
      "image/png": "[encoded data removed]",
      "text/plain": [
       "<Figure size 432x288 with 1 Axes>"
      ]
     },
     "metadata": {
      "needs_background": "light"
     },
     "output_type": "display_data"
    }
   ],
   "source": [
    "M1 = linspace(0, 4, num=80)\n",
    "plt.ylim(-0.2,0.1)\n",
    "plt.xlim(0.5,1.6)\n",
    "cv = r/(gam-1)\n",
    "#x1 = (2*gam*M1**2+1-gam)/(gam+1)\n",
    "#x2 = (2+(gam-1)*M1**2)/(gam+1)/M1**2\n",
    "#jump_entropy = cv*log(x1*x2**gam)\n",
    "#\n",
    "jump_entropy = func_jump_ds(gam,r,M1)/cv\n",
    "#\n",
    "x=linspace(-1, 1.6, num=40)\n",
    "y=numpy.zeros((40,1))\n",
    "y=array([1 for i in range(40)])\n",
    "plot(y,x, color ='blue', linewidth=2., linestyle=\"--\")\n",
    "#\n",
    "ax = plt.gca()\n",
    "ax.grid(which='major', axis='x', linewidth=0.75, linestyle='-', color='0.85')\n",
    "ax.grid(which='major', axis='y', linewidth=0.75, linestyle='-', color='0.85')\n",
    "plot(M1,jump_entropy,color=\"red\", linewidth=2.0, linestyle=\"-\", label=\"entropy loss\")\n",
    "#plot(M1,jump_rho,color=\"blue\", linewidth=2.0, linestyle=\"-\", label=\"saut de masse volumique\")\n",
    "plt.legend(loc='upper left', frameon=False)\n",
    "ax.text(0.9,0.11, 'Fig. 5 : $\\Delta s/c_v$ vs $M_1$',fontsize=16)\n",
    "# Save figure using 72 dots per inch\n",
    "# savefig(\"./figures/Jump_relation.png\",dpi=72)"
   ]
  },
  {
   "cell_type": "markdown",
   "metadata": {},
   "source": [
    "On constate que la production d'entropie à travers une ODC droite est une fonction croissante du nombre de Mach amont.\n",
    "\n",
    "Il apparait par ailleurs, que $M_1 <1$ entraine que $\\Delta s <0$ ce qui n'est physiquement **............................................** car cette condition\n",
    "entre en contradiction avec celle du **..................................................................**.\n",
    "\n",
    "En conséquence, on démontre ainsi bien que pour un gaz thermodynamiquement et calorifiquement parfait, le phénomène d'ODC ne peut\n",
    "être observé qu'en présence d'écoulement amont supersonique.\n"
   ]
  },
  {
   "cell_type": "markdown",
   "metadata": {},
   "source": [
    "## 8. Pour aller plus loin !"
   ]
  },
  {
   "cell_type": "markdown",
   "metadata": {},
   "source": [
    "### 8.1 Cas d'une ODC droite de faible intensité"
   ]
  },
  {
   "cell_type": "markdown",
   "metadata": {},
   "source": [
    "Intéressons-nous désormais au cas ou le nombre de Mach en amont de l'ODC est légèrement supérieur à 1, soit $M^2_1 = 1 + \\epsilon$ avec $\\epsilon << 1$.\n",
    "\n",
    "Dans cette condition, il n'y a que peu de variations des grandeurs statiques et totales au passage du choc (Figs. 3 &4)  de sorte qu'on parle alors d'onde de choc droite de **......................**.\n",
    "\n",
    "Il est alors possible d'obtenir une expression du saut d'entropie pour une ODC de faible intensité en effectuant un développement en série de Taylor pour $M_1$\n",
    "à partir de l'équation (2.7)."
   ]
  },
  {
   "cell_type": "markdown",
   "metadata": {},
   "source": [
    "## 9. Calculette compressible et générateur de tables de saut"
   ]
  },
  {
   "cell_type": "markdown",
   "metadata": {},
   "source": [
    "### 9.1 Calcul direct"
   ]
  },
  {
   "cell_type": "code",
   "execution_count": 16,
   "metadata": {},
   "outputs": [
    {
     "name": "stdout",
     "output_type": "stream",
     "text": [
      "Input : Mach  = 3.25\n",
      "Output: T2_T1 = 2.99\n",
      "Output: P2_P1 = 12.16\n",
      "Output: R2_R1 = 4.07\n"
     ]
    }
   ],
   "source": [
    "#status= validated (oct 2016 - jcc)\n",
    "Mach = 3.25\n",
    "\n",
    "#solve Jump relations\n",
    "T2_T1 = func_jump_T  (gam,Mach)\n",
    "P2_P1 = func_jump_P  (gam,Mach)\n",
    "R2_R1 = func_jump_rho(gam,Mach)\n",
    "\n",
    "print ('Input : Mach  = %4.2f'%Mach)\n",
    "print ('Output: T2_T1 = %4.2f'%T2_T1)\n",
    "print ('Output: P2_P1 = %4.2f'%P2_P1)\n",
    "print ('Output: R2_R1 = %4.2f'%R2_R1)"
   ]
  },
  {
   "cell_type": "markdown",
   "metadata": {},
   "source": [
    "### 9.2 Calcul inverse"
   ]
  },
  {
   "cell_type": "code",
   "execution_count": 17,
   "metadata": {},
   "outputs": [
    {
     "ename": "TypeError",
     "evalue": "must be real number, not str",
     "output_type": "error",
     "traceback": [
      "\u001b[0;31m---------------------------------------------------------------------------\u001b[0m",
      "\u001b[0;31mTypeError\u001b[0m                                 Traceback (most recent call last)",
      "\u001b[0;32m<ipython-input-17-b857834b44a4>\u001b[0m in \u001b[0;36m<module>\u001b[0;34m\u001b[0m\n\u001b[1;32m     12\u001b[0m \u001b[0mval\u001b[0m \u001b[0;34m=\u001b[0m \u001b[0mfsolve\u001b[0m\u001b[0;34m(\u001b[0m\u001b[0mfunc_inv_jump_rho\u001b[0m\u001b[0;34m,\u001b[0m \u001b[0minitval\u001b[0m\u001b[0;34m,\u001b[0m \u001b[0margs\u001b[0m\u001b[0;34m=\u001b[0m\u001b[0;34m(\u001b[0m\u001b[0mgam\u001b[0m\u001b[0;34m,\u001b[0m\u001b[0mR2_R1\u001b[0m\u001b[0;34m)\u001b[0m \u001b[0;34m)\u001b[0m   \u001b[0;31m# bug !!!\u001b[0m\u001b[0;34m\u001b[0m\u001b[0m\n\u001b[1;32m     13\u001b[0m \u001b[0;34m\u001b[0m\u001b[0m\n\u001b[0;32m---> 14\u001b[0;31m \u001b[0mprint\u001b[0m \u001b[0;34m(\u001b[0m\u001b[0;34m'Input : %4.2f'\u001b[0m\u001b[0;34m%\u001b[0m\u001b[0mvariable\u001b[0m\u001b[0;34m,\u001b[0m \u001b[0;34m'= %4.2f'\u001b[0m\u001b[0;34m%\u001b[0m\u001b[0mval_in\u001b[0m\u001b[0;34m)\u001b[0m\u001b[0;34m\u001b[0m\u001b[0m\n\u001b[0m\u001b[1;32m     15\u001b[0m \u001b[0mprint\u001b[0m \u001b[0;34m(\u001b[0m\u001b[0;34m'Output: M1    = %4.2f'\u001b[0m\u001b[0;34m%\u001b[0m\u001b[0mval\u001b[0m\u001b[0;34m[\u001b[0m\u001b[0;36m0\u001b[0m\u001b[0;34m]\u001b[0m\u001b[0;34m,\u001b[0m \u001b[0;34m' '\u001b[0m\u001b[0;34m)\u001b[0m\u001b[0;34m\u001b[0m\u001b[0m\n",
      "\u001b[0;31mTypeError\u001b[0m: must be real number, not str"
     ]
    }
   ],
   "source": [
    "#status= validated (oct 2016 - jcc)\n",
    "T2_T1    = 2.98511464497\n",
    "P2_P1    = 12.15625\n",
    "R2_R1    = 4.07228915663\n",
    "variable = 'T2/T1'\n",
    "val_in   = T2_T1\n",
    "initval  = 1.5\n",
    "\n",
    "#solve Mach number\n",
    "#val = fsolve(func_inv_jump_T, initval, args=(gam,T2_T1) )\n",
    "#val = fsolve(func_inv_jump_P, initval, args=(gam,P2_P1) )\n",
    "val = fsolve(func_inv_jump_rho, initval, args=(gam,R2_R1) )   # bug !!!\n",
    "\n",
    "print ('Input : %4.2f'%variable, '= %4.2f'%val_in)\n",
    "print ('Output: M1    = %4.2f'%val[0], ' ')"
   ]
  },
  {
   "cell_type": "markdown",
   "metadata": {},
   "source": [
    "#### Réferences "
   ]
  },
  {
   "cell_type": "markdown",
   "metadata": {},
   "source": [
    "[1] J.D. Anderson, \"Modern Compressible Flow with Historical Perspective, Third Edition\", McGRAW-HILL Ed.,ISBN 0-07-112161-7, 2003"
   ]
  },
  {
   "cell_type": "markdown",
   "metadata": {},
   "source": [
    "\n",
    "-------\n",
    "_J-C Chassaing, Sorbonne Université, Janv. 2020_ (http://www.dalembert.upmc.fr/home/chassaing)"
   ]
  }
 ],
 "metadata": {
  "kernelspec": {
   "display_name": "Python 3",
   "language": "python",
   "name": "python3"
  },
  "language_info": {
   "codemirror_mode": {
    "name": "ipython",
    "version": 3
   },
   "file_extension": ".py",
   "mimetype": "text/x-python",
   "name": "python",
   "nbconvert_exporter": "python",
   "pygments_lexer": "ipython3",
   "version": "3.6.5"
  },
  "latex_envs": {
   "LaTeX_envs_menu_present": true,
   "autoclose": false,
   "autocomplete": true,
   "bibliofile": "biblio.bib",
   "cite_by": "apalike",
   "current_citInitial": 1,
   "eqLabelWithNumbers": true,
   "eqNumInitial": 1,
   "hotkeys": {
    "equation": "Ctrl-E",
    "itemize": "Ctrl-I"
   },
   "labels_anchors": false,
   "latex_user_defs": false,
   "report_style_numbering": false,
   "user_envs_cfg": false
  }
 },
 "nbformat": 4,
 "nbformat_minor": 2
}
