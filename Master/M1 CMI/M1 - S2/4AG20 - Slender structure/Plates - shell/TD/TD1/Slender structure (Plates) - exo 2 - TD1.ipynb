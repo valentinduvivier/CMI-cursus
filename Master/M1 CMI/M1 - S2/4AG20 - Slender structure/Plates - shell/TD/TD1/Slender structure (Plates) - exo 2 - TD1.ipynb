{
 "cells": [
  {
   "cell_type": "markdown",
   "metadata": {},
   "source": [
    "#### MU4MES03 - Slender Structures - Plates\n",
    "\n",
    "*DUVIVIER Valentin*"
   ]
  },
  {
   "cell_type": "markdown",
   "metadata": {},
   "source": [
    "#### Librairies"
   ]
  },
  {
   "cell_type": "code",
   "execution_count": 3,
   "metadata": {},
   "outputs": [],
   "source": [
    "import numpy as np\n",
    "import matplotlib.pyplot as plt\n",
    "\n",
    "from matplotlib import animation\n",
    "from IPython.display import HTML\n",
    "%matplotlib inline"
   ]
  },
  {
   "cell_type": "markdown",
   "metadata": {},
   "source": [
    "#### Code"
   ]
  },
  {
   "cell_type": "code",
   "execution_count": 2,
   "metadata": {
    "scrolled": true
   },
   "outputs": [
    {
     "data": {
      "image/png": "[encoded data removed]",
      "text/plain": [
       "<Figure size 432x288 with 1 Axes>"
      ]
     },
     "metadata": {
      "needs_background": "light"
     },
     "output_type": "display_data"
    }
   ],
   "source": [
    "## Data\n",
    "\n",
    "# Material - steel\n",
    "nu = 0.3\n",
    "E  = 210 * 10**9  #[Pa]\n",
    "\n",
    "# Geometry\n",
    "h  = 1  * 10**-3  #[m]  #beam's thickness\n",
    "R  = 10 * 10**-2  #[m]  #beam's radius\n",
    "\n",
    "# Force\n",
    "P  = -10          #[N]  #distributed loading  #downwards\n",
    "\n",
    "# ---------------------------------------------\n",
    "\n",
    "## Solution\n",
    "\n",
    "r = np.linspace(0, R, 100)\n",
    "D = E * h**3 / (12 * (1 - nu**2))\n",
    "\n",
    "w = P/(64*D) * ( (r**4 - R**4) - 2*(3+nu)/(1+nu) * (r**2 - R**2) * R**2 )\n",
    "\n",
    "# ---------------------------------------------\n",
    "\n",
    "plt.figure()\n",
    "\n",
    "plt.plot(r, w, 'r--')\n",
    "plt.plot(-r, w, 'r--')\n",
    "\n",
    "plt.title('Vertical displacement')\n",
    "plt.ylabel('w [m]')\n",
    "plt.xlabel('r [m]')\n",
    "\n",
    "plt.grid(True)"
   ]
  },
  {
   "cell_type": "code",
   "execution_count": null,
   "metadata": {},
   "outputs": [],
   "source": []
  }
 ],
 "metadata": {
  "kernelspec": {
   "display_name": "Python 3",
   "language": "python",
   "name": "python3"
  },
  "language_info": {
   "codemirror_mode": {
    "name": "ipython",
    "version": 3
   },
   "file_extension": ".py",
   "mimetype": "text/x-python",
   "name": "python",
   "nbconvert_exporter": "python",
   "pygments_lexer": "ipython3",
   "version": "3.8.3"
  }
 },
 "nbformat": 4,
 "nbformat_minor": 4
}
