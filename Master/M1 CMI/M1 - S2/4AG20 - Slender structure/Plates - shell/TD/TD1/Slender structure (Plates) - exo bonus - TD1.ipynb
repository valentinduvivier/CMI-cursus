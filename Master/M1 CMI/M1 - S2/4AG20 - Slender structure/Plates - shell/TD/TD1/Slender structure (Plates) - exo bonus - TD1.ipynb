{
 "cells": [
  {
   "cell_type": "markdown",
   "metadata": {},
   "source": [
    "#### MU4MES03 - Slender Structures - Plates\n",
    "\n",
    "*DUVIVIER Valentin*"
   ]
  },
  {
   "cell_type": "markdown",
   "metadata": {},
   "source": [
    "##### Librairies"
   ]
  },
  {
   "cell_type": "code",
   "execution_count": 1,
   "metadata": {},
   "outputs": [],
   "source": [
    "import numpy as np\n",
    "import matplotlib.pyplot as plt\n",
    "\n",
    "from matplotlib import animation\n",
    "from IPython.display import HTML\n",
    "%matplotlib inline"
   ]
  },
  {
   "cell_type": "markdown",
   "metadata": {},
   "source": [
    "##### Code"
   ]
  },
  {
   "cell_type": "code",
   "execution_count": 29,
   "metadata": {},
   "outputs": [],
   "source": [
    "## Data\n",
    "\n",
    "# Material - steel\n",
    "E  = 210 * 10**9  #[Pa]\n",
    "nu = 0.3\n",
    "\n",
    "# Geometry\n",
    "h  = 1  * 10**-3  #[m]  #beam's thickness\n",
    "R  = 1   #[m]  #beam's radius\n",
    "R0 = .2  #[m]  #beam's radius\n",
    "\n",
    "# Force\n",
    "P  = -1          #[N]  #distributed loading  #downwards\n",
    "\n",
    "# ---------------------------------------------\n",
    "\n",
    "## Solution\n",
    "\n",
    "r1 = np.linspace(0, R0, 100)\n",
    "r2 = np.linspace(R0, R, 10)\n",
    "\n",
    "D = E * h**3 / (12 * (1 - nu**2))\n",
    "\n",
    "A = P / (64 * D)"
   ]
  },
  {
   "cell_type": "markdown",
   "metadata": {},
   "source": [
    "#### Coeffs"
   ]
  },
  {
   "cell_type": "code",
   "execution_count": 30,
   "metadata": {},
   "outputs": [],
   "source": [
    "# We calculate first one and give expression of the following one from previous coeffs\n",
    "\n",
    "C1_tilde = 8*A*R0**2\n",
    "C3_tilde = -A * (R0**4/R**2) * (5 + 3*nu + 8*(R**2/R0**2)*np.log(R) * (1+nu))\n",
    "\n",
    "C2_tilde = -R**2 * (2*C3_tilde + 8*A * R0**2 * (2*np.log(R) + 1))\n",
    "C4_tilde = - (C1_tilde * R**2 * np.log(R) + C2_tilde * np.log(R) + C3_tilde * R**2)\n",
    "\n",
    "C3       = (1 / (2 * R0)) * (C1_tilde * R0 * (2*np.log(R0) + 1) + C2_tilde/R0 + 2*C3_tilde * R0 - 4*A * R0**3)\n",
    "C4       = C1_tilde * R0**2 * np.log(R0) + C2_tilde * np.log(R0) + C3_tilde * R0**2 + C4_tilde - A * R0**4 - C3 * R0**2"
   ]
  },
  {
   "cell_type": "markdown",
   "metadata": {},
   "source": [
    "##### Displacement"
   ]
  },
  {
   "cell_type": "code",
   "execution_count": 46,
   "metadata": {},
   "outputs": [
    {
     "data": {
      "image/png": "[encoded data removed]",
      "text/plain": [
       "<Figure size 432x288 with 1 Axes>"
      ]
     },
     "metadata": {
      "needs_background": "light"
     },
     "output_type": "display_data"
    }
   ],
   "source": [
    "# Solution\n",
    "\n",
    "w1 = A * r1**4 + C3 * r1**2 + C4\n",
    "w2 = C1_tilde * r2**2 * np.log(r2) + C2_tilde * np.log(r2) + C3_tilde * r2**2 + C4_tilde\n",
    "\n",
    "# ---------------------------------------------\n",
    "\n",
    "plt.figure()\n",
    "\n",
    "plt.plot(r1, w1, 'r--')\n",
    "plt.plot(-r1, w1, 'r--')\n",
    "\n",
    "plt.plot(r2, w2, 'b--')\n",
    "plt.plot(-r2, w2, 'b--')\n",
    "\n",
    "plt.title(r'Vertical displacement - $\\dfrac{R0}{R}$ = '+f'{R0/R}')\n",
    "plt.ylabel('w [m]')\n",
    "plt.xlabel('r [m]')\n",
    "\n",
    "# ---------------------------------------------\n",
    "\n",
    "# Normalisation graph\n",
    "x_lim = R + R/15\n",
    "y_lim = h + h/15\n",
    "\n",
    "plt.axis([-x_lim, x_lim, -y_lim, h/15])\n",
    "plt.ticklabel_format(axis='y', style='scientific', scilimits=(-1, 2))\n",
    "\n",
    "plt.tight_layout\n",
    "\n",
    "plt.grid(True)"
   ]
  },
  {
   "cell_type": "code",
   "execution_count": null,
   "metadata": {},
   "outputs": [],
   "source": []
  }
 ],
 "metadata": {
  "kernelspec": {
   "display_name": "Python 3",
   "language": "python",
   "name": "python3"
  },
  "language_info": {
   "codemirror_mode": {
    "name": "ipython",
    "version": 3
   },
   "file_extension": ".py",
   "mimetype": "text/x-python",
   "name": "python",
   "nbconvert_exporter": "python",
   "pygments_lexer": "ipython3",
   "version": "3.8.3"
  }
 },
 "nbformat": 4,
 "nbformat_minor": 4
}
