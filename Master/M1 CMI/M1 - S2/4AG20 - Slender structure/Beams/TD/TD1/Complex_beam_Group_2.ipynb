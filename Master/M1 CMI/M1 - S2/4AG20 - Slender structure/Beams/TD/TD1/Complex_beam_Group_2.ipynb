{
  "nbformat": 4,
  "nbformat_minor": 0,
  "metadata": {
    "colab": {
      "name": "Complex beam - Group 2.ipynb",
      "provenance": [],
      "collapsed_sections": []
    },
    "kernelspec": {
      "name": "python3",
      "display_name": "Python 3"
    }
  },
  "cells": [
    {
      "cell_type": "markdown",
      "metadata": {
        "id": "iovKIgbOzcde"
      },
      "source": [
        "**4AG20 - Slender Structure** - RICHARD Alexandre, WANG JYAYU, ACKBARALLY Faiz, DUVIVIER Valentin\r\n",
        "\r\n",
        "---\r\n",
        "\r\n"
      ]
    },
    {
      "cell_type": "code",
      "metadata": {
        "id": "nGX5OIeoaZ44"
      },
      "source": [
        "# python packages\r\n",
        "import numpy as np\r\n",
        "import matplotlib.pylab as plt\r\n",
        "\r\n",
        "from IPython.display import display, Image, Math\r\n",
        "\r\n",
        "%matplotlib inline"
      ],
      "execution_count": 74,
      "outputs": []
    },
    {
      "cell_type": "markdown",
      "metadata": {
        "id": "ov8c1tfu0An_"
      },
      "source": [
        "### A - Measure"
      ]
    },
    {
      "cell_type": "code",
      "metadata": {
        "id": "NrO646RweU_G"
      },
      "source": [
        "### Data\r\n",
        "\r\n",
        "## Geometry\r\n",
        "\r\n",
        "# Beam\r\n",
        "H  = 0.6  * 10**-2       #[m] # diameter beam\r\n",
        "delta_H = 1 * 10**-3     #[m] # # precision diameter beam\r\n",
        "\r\n",
        "Ls = 7.5  * 10**-2       #[m] # length short beam\r\n",
        "Ll = 16.5 * 10**-2       #[m] # length long  beam\r\n",
        "\r\n",
        "delta_L = 1 * 10**-3     #[m] # # precision length beam\r\n",
        "\r\n",
        "# Coil\r\n",
        "d       = 0.7 * 10**-3   #[m] # diameter coil\r\n",
        "delta_d = 0.1 * 10**-3   #[m] # # precision diameter coil\r\n",
        "\r\n",
        "Ns = 38                  #[]  # number coils - short beam\r\n",
        "Nl = 78                  #[]  # number coils - long  beam\r\n",
        "delta_N = 1              #[m] # # precision length beam\r\n",
        "\r\n",
        "# -----------------------------------------------------------------\r\n",
        "\r\n",
        "## Material\r\n",
        "E  = 210  * 10**9        #[Pa] # Young modulus\r\n",
        "delta_E = 10**9          #[Pa] # # precision Young modulus beam\r\n",
        "\r\n",
        "nu = .3\r\n",
        "G  = E / (2*(1 + nu))    #[Pa] # Shearing coefficient\r\n",
        "\r\n",
        "I = np.pi * (d/2)**4 / 4 #[kg.m²] # Moment of inertia coil : Igy or Igz\r\n",
        "J = 2*I                  #[kg.m²] # Moment of inertia coil : Igy + Igz\r\n",
        "delta_I = round(I)              #[kg.m²] # # precision moment of inertia coil\r\n",
        "\r\n",
        "# -----------------------------------------------------------------\r\n",
        "\r\n",
        "## Force\r\n",
        "m = 15 * 10**-3          #[kg]    # mass to add in chosen point\r\n",
        "g = 9.81                 #[m.s-2] # gravity acceleration\r\n",
        "\r\n",
        "P = m * g                #[N]     # Force applied at chosen point"
      ],
      "execution_count": null,
      "outputs": []
    },
    {
      "cell_type": "markdown",
      "metadata": {
        "id": "rnXdG9rf0C-w"
      },
      "source": [
        "### B - Calculate"
      ]
    },
    {
      "cell_type": "markdown",
      "metadata": {
        "id": "auzU00RzaKqM"
      },
      "source": [
        "##### 1. $\\underline{\\text{Extensional stiffness}}$"
      ]
    },
    {
      "cell_type": "markdown",
      "metadata": {
        "id": "I9HH5IQlAXAu"
      },
      "source": [
        "i=Image(filename='A.png', width=600)\r\n",
        "display(i)"
      ]
    },
    {
      "cell_type": "code",
      "metadata": {
        "colab": {
          "base_uri": "https://localhost:8080/"
        },
        "id": "kw34DF5ReT4g",
        "outputId": "2dd73f3b-5b3d-4531-d2d5-79bffc418779"
      },
      "source": [
        "Aeq_s = G*d**4*Ls / (8*Ns*H**3)\r\n",
        "Aeq_l = G*d**4*Ll / (8*Nl*H**3)\r\n",
        "\r\n",
        "print(Aeq_s, Aeq_l)"
      ],
      "execution_count": null,
      "outputs": [
        {
          "output_type": "stream",
          "text": [
            "22.14991354588394 23.740163749178176\n"
          ],
          "name": "stdout"
        }
      ]
    },
    {
      "cell_type": "markdown",
      "metadata": {
        "id": "vvFUnnupd8ri"
      },
      "source": [
        "##### 2. $\\underline{\\text{Bending stiffness}}$"
      ]
    },
    {
      "cell_type": "code",
      "metadata": {
        "colab": {
          "base_uri": "https://localhost:8080/"
        },
        "id": "STBNKps8mxoH",
        "outputId": "ea1141ff-6146-4f38-d7b6-18cab348fcd6"
      },
      "source": [
        "Deq_s = 4*Ls*E*G * I / (Ns*np.pi*H * (E+2*G))\r\n",
        "Deq_l = 4*Ll*E*G * I / (Nl*np.pi*H * (E+2*G))\r\n",
        "\r\n",
        "print(Deq_s, Deq_l)"
      ],
      "execution_count": null,
      "outputs": [
        {
          "output_type": "stream",
          "text": [
            "0.00022535129433638444 0.00024153036162207357\n"
          ],
          "name": "stdout"
        }
      ]
    },
    {
      "cell_type": "markdown",
      "metadata": {
        "id": "wIylfZ-TeAzF"
      },
      "source": [
        "##### 3. $\\underline{\\text{Shear stiffness}}$"
      ]
    },
    {
      "cell_type": "code",
      "metadata": {
        "colab": {
          "base_uri": "https://localhost:8080/"
        },
        "id": "KCFZi8idnT3n",
        "outputId": "84a8d3b6-742c-4008-ad3a-58b6850171fd"
      },
      "source": [
        "Feq_s        = (2*Ls - Ns*np.pi*H) / (Ns*np.pi*H * (1/Aeq_s + H**2/(4*E*I)) - 2*Ls**3/(3*Deq_s))\r\n",
        "Feq_l        = (2*Ll - Nl*np.pi*H) / (Nl*np.pi*H * (1/Aeq_l + H**2/(4*E*I)) - 2*Ll**3/(3*Deq_l))\r\n",
        "\r\n",
        "Feq_simple_s = 8*Ls*E*I / (np.pi * H**3 * Ns)\r\n",
        "Feq_simple_l = 8*Ll*E*I / (np.pi * H**3 * Nl)\r\n",
        "\r\n",
        "print(Feq_s, Feq_l, Feq_simple_s, Feq_simple_l)"
      ],
      "execution_count": null,
      "outputs": [
        {
          "output_type": "stream",
          "text": [
            "0.4668032404070427 0.0924655609933552 57.58977521929825 61.72442574786324\n"
          ],
          "name": "stdout"
        }
      ]
    },
    {
      "cell_type": "code",
      "metadata": {
        "id": "P9St8eO685mB"
      },
      "source": [
        "# Precision over previous result\r\n",
        "\r\n",
        "delta_Feq_s = Feq_s * (delta_L/Ls + delta_E/E + delta_I/I - 3*delta_H/H - delta_N/Ns)\r\n",
        "delta_Feq_l = Feq_l * (delta_L/Ll + delta_E/E + delta_I/I - 3*delta_H/H - delta_N/Nl)"
      ],
      "execution_count": null,
      "outputs": []
    },
    {
      "cell_type": "code",
      "metadata": {
        "colab": {
          "base_uri": "https://localhost:8080/"
        },
        "id": "8meTsj1U-r0q",
        "outputId": "ed3a0d98-f383-4545-f144-2e0e4e203b9b"
      },
      "source": [
        "print(f'We have Feq = {Feq_s:.2E} +/- {np.abs(delta_Feq_s):.2E} for the short beam')\r\n",
        "print(f'We have Feq = {Feq_l:.2E} +/- {np.abs(delta_Feq_l):.2E} for the long beam')"
      ],
      "execution_count": null,
      "outputs": [
        {
          "output_type": "stream",
          "text": [
            "We have Feq = 4.67E-01 +/- 2.37E-01 for the short beam\n",
            "We have Feq = 9.25E-02 +/- 4.64E-02 for the long beam\n"
          ],
          "name": "stdout"
        }
      ]
    },
    {
      "cell_type": "markdown",
      "metadata": {
        "id": "GOcVimXb2yVQ"
      },
      "source": [
        "##### 4. $\\underline{\\text{Displacement} ~ v_{L} ~ \\text{- short beam}}$"
      ]
    },
    {
      "cell_type": "code",
      "metadata": {
        "colab": {
          "base_uri": "https://localhost:8080/"
        },
        "id": "ar23pwGU3UXB",
        "outputId": "9deba82f-1282-443f-a037-a156e46d81aa"
      },
      "source": [
        "v_L_s = P*Ls * (1/Feq_s - Ls**2/(3*Deq_s))\r\n",
        "print(f'Displacement in x=L is v = {v_L_s:1.2E} m')"
      ],
      "execution_count": null,
      "outputs": [
        {
          "output_type": "stream",
          "text": [
            "Displacement in x=L is v = -9.16E-02 m\n"
          ],
          "name": "stdout"
        }
      ]
    },
    {
      "cell_type": "markdown",
      "metadata": {
        "id": "JE6NgD5Q26nt"
      },
      "source": [
        "##### 5. $\\underline{\\text{Displacement} ~ v_{L} ~ \\text{- long  beam}}$\r\n"
      ]
    },
    {
      "cell_type": "code",
      "metadata": {
        "colab": {
          "base_uri": "https://localhost:8080/"
        },
        "id": "9Y508rRc4Zes",
        "outputId": "5e4bdb0c-b5fc-4c2f-eb8f-bd6008725ba1"
      },
      "source": [
        "v_L_l = P*Ll * (1/Feq_l - Ll**2/(3*Deq_l))\r\n",
        "print(f'Displacement in x=L is v = {v_L_l:1.2E} m')"
      ],
      "execution_count": null,
      "outputs": [
        {
          "output_type": "stream",
          "text": [
            "Displacement in x=L is v = -6.50E-01 m\n"
          ],
          "name": "stdout"
        }
      ]
    },
    {
      "cell_type": "markdown",
      "metadata": {
        "id": "f4EWVPCn0JKc"
      },
      "source": [
        "### C - Comparison two beams"
      ]
    },
    {
      "cell_type": "code",
      "metadata": {
        "id": "Sv3cyGdGxDfP"
      },
      "source": [
        ""
      ],
      "execution_count": null,
      "outputs": []
    }
  ]
}