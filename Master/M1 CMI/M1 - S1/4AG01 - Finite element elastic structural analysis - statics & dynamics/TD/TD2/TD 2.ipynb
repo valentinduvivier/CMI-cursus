{
 "cells": [
  {
   "cell_type": "code",
   "execution_count": 4,
   "metadata": {},
   "outputs": [],
   "source": [
    "import numpy as np\n",
    "import matplotlib.pyplot as plt"
   ]
  },
  {
   "cell_type": "markdown",
   "metadata": {},
   "source": [
    "### 1 - Parametrical representation"
   ]
  },
  {
   "cell_type": "markdown",
   "metadata": {},
   "source": [
    "#### Q 1 - Matrix coordinates"
   ]
  },
  {
   "cell_type": "code",
   "execution_count": 23,
   "metadata": {},
   "outputs": [],
   "source": [
    "L = 3\n",
    "H = 1\n",
    "\n",
    "coord = np.array([\n",
    "         [L,     H], \n",
    "         [L,   H/2],\n",
    "         [L,     0],\n",
    "         [L/2,   H],\n",
    "         [L/2, H/2],\n",
    "         [L/2,   0],\n",
    "         [0,     H],\n",
    "         [0,   H/2],\n",
    "         [0,     0]\n",
    "                  ])"
   ]
  },
  {
   "cell_type": "code",
   "execution_count": 24,
   "metadata": {
    "scrolled": true
   },
   "outputs": [
    {
     "data": {
      "text/plain": [
       "[<matplotlib.lines.Line2D at 0x1c84ac11bb0>]"
      ]
     },
     "execution_count": 24,
     "metadata": {},
     "output_type": "execute_result"
    },
    {
     "data": {
      "image/png": "[encoded data removed]",
      "text/plain": [
       "<Figure size 432x288 with 1 Axes>"
      ]
     },
     "metadata": {
      "needs_background": "light"
     },
     "output_type": "display_data"
    }
   ],
   "source": [
    "plt.plot(coord[:,0], coord[:,1], \"o\")"
   ]
  },
  {
   "cell_type": "markdown",
   "metadata": {},
   "source": [
    "#### Q 2 - Connectivity Matrix"
   ]
  },
  {
   "cell_type": "code",
   "execution_count": 25,
   "metadata": {},
   "outputs": [],
   "source": [
    "connect_subject = np.array([\n",
    "                   [5,2,1],\n",
    "                   [2,5,3],\n",
    "                   [5,6,3],\n",
    "                   [5,9,6],\n",
    "                   [5,8,9],\n",
    "                   [5,7,8],\n",
    "                   [5,4,7],\n",
    "                   [5,1,4],\n",
    "                    ])\n",
    "\n",
    "# the order isn't what we must look at here. We rather look at the rotational direction (hour or anti-hour)"
   ]
  },
  {
   "cell_type": "code",
   "execution_count": 26,
   "metadata": {},
   "outputs": [],
   "source": [
    "connect_python = connect_subject - 1 # as the first term in python is 0\n",
    "\n",
    "# the order isn't what we must look at here. We rather look at the rotational direction (hour or anti-hour)"
   ]
  },
  {
   "cell_type": "code",
   "execution_count": 27,
   "metadata": {},
   "outputs": [
    {
     "data": {
      "text/plain": [
       "[<matplotlib.lines.Line2D at 0x1c84acbedf0>]"
      ]
     },
     "execution_count": 27,
     "metadata": {},
     "output_type": "execute_result"
    },
    {
     "data": {
      "image/png": "[encoded data removed]",
      "text/plain": [
       "<Figure size 432x288 with 1 Axes>"
      ]
     },
     "metadata": {
      "needs_background": "light"
     },
     "output_type": "display_data"
    }
   ],
   "source": [
    "# displaying one element\n",
    "\n",
    "plt.plot(coord[connect_python[0]][:,0], \n",
    "         coord[connect_python[0]][:,1], \"o\")"
   ]
  },
  {
   "cell_type": "code",
   "execution_count": 28,
   "metadata": {},
   "outputs": [
    {
     "data": {
      "image/png": "[encoded data removed]",
      "text/plain": [
       "<Figure size 432x288 with 1 Axes>"
      ]
     },
     "metadata": {
      "needs_background": "light"
     },
     "output_type": "display_data"
    }
   ],
   "source": [
    "# displaying the mesh\n",
    "for cell in connect_python:\n",
    "    plt.plot(coord[cell][:,0], coord[cell][:,1], \"o-\")"
   ]
  },
  {
   "cell_type": "markdown",
   "metadata": {},
   "source": [
    "#### Q3 - Shape function N_k(a)"
   ]
  },
  {
   "cell_type": "code",
   "execution_count": 29,
   "metadata": {},
   "outputs": [],
   "source": [
    "import sympy as sp"
   ]
  },
  {
   "cell_type": "code",
   "execution_count": 43,
   "metadata": {},
   "outputs": [],
   "source": [
    "def J(xs):\n",
    "    return np.array(\n",
    "        [[xs[0,0] - xs[2,0], xs[1,0] - xs[2,0]],\n",
    "         [xs[0,1] - xs[2,1], xs[1,1] - xs[2,1]]\n",
    "        ])"
   ]
  },
  {
   "cell_type": "code",
   "execution_count": 50,
   "metadata": {},
   "outputs": [
    {
     "name": "stdout",
     "output_type": "stream",
     "text": [
      "--------------------------------------------------------------\n",
      "This is the Jacobian of the element 1 for L = 2, H = 1\n",
      "J = [[-1.   0. ]\n",
      " [-0.5 -0.5]]\n",
      "\n",
      "The surface of element 1 is 0.25\n",
      "\n",
      "--------------------------------------------------------------\n",
      "This is the Jacobian of the element 2 for L = 2, H = 1\n",
      "J = [[ 0.  -1. ]\n",
      " [ 0.5  0.5]]\n",
      "\n",
      "The surface of element 2 is 0.25\n",
      "\n",
      "--------------------------------------------------------------\n",
      "This is the Jacobian of the element 3 for L = 2, H = 1\n",
      "J = [[-1.  -1. ]\n",
      " [ 0.5  0. ]]\n",
      "\n",
      "The surface of element 3 is 0.25\n",
      "\n",
      "--------------------------------------------------------------\n",
      "This is the Jacobian of the element 4 for L = 2, H = 1\n",
      "J = [[ 0.  -1. ]\n",
      " [ 0.5  0. ]]\n",
      "\n",
      "The surface of element 4 is 0.25\n",
      "\n",
      "--------------------------------------------------------------\n",
      "This is the Jacobian of the element 5 for L = 2, H = 1\n",
      "J = [[1.  0. ]\n",
      " [0.5 0.5]]\n",
      "\n",
      "The surface of element 5 is 0.25\n",
      "\n",
      "--------------------------------------------------------------\n",
      "This is the Jacobian of the element 6 for L = 2, H = 1\n",
      "J = [[1.  0. ]\n",
      " [0.  0.5]]\n",
      "\n",
      "The surface of element 6 is 0.25\n",
      "\n",
      "--------------------------------------------------------------\n",
      "This is the Jacobian of the element 7 for L = 2, H = 1\n",
      "J = [[ 1.   1. ]\n",
      " [-0.5  0. ]]\n",
      "\n",
      "The surface of element 7 is 0.25\n",
      "\n",
      "--------------------------------------------------------------\n",
      "This is the Jacobian of the element 8 for L = 2, H = 1\n",
      "J = [[ 0.   1. ]\n",
      " [-0.5  0. ]]\n",
      "\n",
      "The surface of element 8 is 0.25\n",
      "\n"
     ]
    }
   ],
   "source": [
    "for i in range(len(connect_python)):\n",
    "    coordinates_element = coord[connect_python[i]]\n",
    "    Ji = J(coordinates_element)\n",
    "    print(f\"--------------------------------------------------------------\")\n",
    "    print(f\"This is the Jacobian of the element {i+1} for L = {L}, H = {H}\")\n",
    "    print(f\"J = {J(coordinates_element)}\\n\")\n",
    "    print(f\"The surface of element {i+1} is {np.linalg.det(Ji)/2}\\n\")\n"
   ]
  }
 ],
 "metadata": {
  "kernelspec": {
   "display_name": "Python 3",
   "language": "python",
   "name": "python3"
  },
  "language_info": {
   "codemirror_mode": {
    "name": "ipython",
    "version": 3
   },
   "file_extension": ".py",
   "mimetype": "text/x-python",
   "name": "python",
   "nbconvert_exporter": "python",
   "pygments_lexer": "ipython3",
   "version": "3.8.3"
  }
 },
 "nbformat": 4,
 "nbformat_minor": 4
}
