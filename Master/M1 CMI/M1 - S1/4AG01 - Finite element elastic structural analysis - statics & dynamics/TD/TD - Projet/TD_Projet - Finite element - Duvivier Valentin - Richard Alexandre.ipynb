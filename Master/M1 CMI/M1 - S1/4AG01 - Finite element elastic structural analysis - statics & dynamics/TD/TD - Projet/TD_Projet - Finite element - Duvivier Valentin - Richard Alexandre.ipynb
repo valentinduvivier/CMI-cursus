{
 "cells": [
  {
   "cell_type": "markdown",
   "metadata": {},
   "source": [
    "Finite element course MU4MES01 - S1\n",
    "\n",
    "$\\underline{\\text{Students name}}$ : Duvivier Valentin & Richard Alexandre\n",
    "\n",
    "$\\underline{\\text{Under the direction of}}$ : Maurini Corrado & Angela Vincenti\n",
    "    \n",
    "$\\underline{\\text{Last modified}}$ : 18/12/2020"
   ]
  },
  {
   "cell_type": "markdown",
   "metadata": {},
   "source": [
    " "
   ]
  },
  {
   "cell_type": "markdown",
   "metadata": {},
   "source": [
    "$\\underline{Abstract}$ : This report is part of the Td/Project of the Finite Element course. It's conducted in order to study numerically a 2D structure and derive the displacement field from it.\n",
    "\n",
    "It has been done excluesively by Duvivier Valentin and Richard Alexandre, and so we engage ourselves by confirming that no part of the following have been plagiarized in anyway."
   ]
  },
  {
   "cell_type": "markdown",
   "metadata": {},
   "source": [
    " "
   ]
  },
  {
   "cell_type": "markdown",
   "metadata": {},
   "source": [
    "### Presentation of the problem"
   ]
  },
  {
   "cell_type": "markdown",
   "metadata": {},
   "source": [
    "$\\underline{Material}$"
   ]
  },
  {
   "cell_type": "markdown",
   "metadata": {},
   "source": [
    "The system  is made of an isotropic homogeneous linear elastic material. Its elastic rigidity tensor is referred to as $\\mathbb{A}$, while $\\mathbb{S}$ stands for its elastic compliance tensor."
   ]
  },
  {
   "cell_type": "markdown",
   "metadata": {},
   "source": [
    "$\\underline{Domain}$"
   ]
  },
  {
   "cell_type": "markdown",
   "metadata": {},
   "source": [
    "The structure at stake in this problem is called $\\Omega$. At last symmetries of the problem in terms of geometry, material properties and load allow to perform the study on only half of the part, namely of subpart located in the half space $x_1>0$."
   ]
  },
  {
   "cell_type": "markdown",
   "metadata": {},
   "source": [
    "<img src=\"ChgtMeca.png\"  width=\"400\" />"
   ]
  },
  {
   "cell_type": "markdown",
   "metadata": {},
   "source": [
    "$\\underline{Equations - Case ~ A}$"
   ]
  },
  {
   "cell_type": "markdown",
   "metadata": {},
   "source": [
    "For better understanding, we advise to refer to written report for distinction case A and case B.\n",
    "\n",
    "The part lays on a rigid horizontal stand. The part is supposed to remain in contact with the stand all along its lower plane surface located at $(x_2=0)$. It is moreover submitted to gravity as well as a pressure load on its upper boundary ($x_2=H$).\n",
    " \n",
    "From the material subsection and this one, one sees that Hooke's law is to be applied. Moreover, we assume to be under HPP."
   ]
  },
  {
   "cell_type": "markdown",
   "metadata": {},
   "source": [
    " "
   ]
  },
  {
   "cell_type": "markdown",
   "metadata": {},
   "source": [
    "##### Libraries"
   ]
  },
  {
   "cell_type": "code",
   "execution_count": 1,
   "metadata": {},
   "outputs": [],
   "source": [
    "import numpy as np\n",
    "import matplotlib.pyplot as plt"
   ]
  },
  {
   "cell_type": "markdown",
   "metadata": {},
   "source": [
    "### 4.1 Numerical application - Elementary matrices"
   ]
  },
  {
   "cell_type": "markdown",
   "metadata": {},
   "source": [
    "##### Matrix coordinates"
   ]
  },
  {
   "cell_type": "code",
   "execution_count": 2,
   "metadata": {},
   "outputs": [],
   "source": [
    "#Data\n",
    "L = 3. #Length\n",
    "H = 1. #Height\n",
    "\n",
    "coords = np.array([\n",
    "                  [L,     H], \n",
    "                  [L,   H/2],\n",
    "                  [L,     0],\n",
    "                  [L/2,   H],\n",
    "                  [L/2, H/2],\n",
    "                  [L/2,   0],\n",
    "                  [0,     H],\n",
    "                  [0,   H/2],\n",
    "                  [0,     0]\n",
    "                           ])"
   ]
  },
  {
   "cell_type": "code",
   "execution_count": 3,
   "metadata": {
    "scrolled": true
   },
   "outputs": [
    {
     "data": {
      "image/png": "[encoded data removed]",
      "text/plain": [
       "<Figure size 432x288 with 1 Axes>"
      ]
     },
     "metadata": {
      "needs_background": "light"
     },
     "output_type": "display_data"
    }
   ],
   "source": [
    "# Display\n",
    "\n",
    "def plot_nodes(coords, L, H):\n",
    "    plt.plot(coords[:,0], coords[:,1], \"o\")\n",
    "\n",
    "    plt.title('Nods of mesh')\n",
    "    plt.xlabel('x [m]')\n",
    "    plt.ylabel('y [m]')\n",
    "\n",
    "    plt.xlim(-0.2, L +.2)\n",
    "    plt.ylim(-0.1, H +.1)\n",
    "\n",
    "    plt.grid('True')\n",
    "    \n",
    "plot_nodes(coords, L, H)"
   ]
  },
  {
   "cell_type": "markdown",
   "metadata": {},
   "source": [
    "##### Connectivity Matrix"
   ]
  },
  {
   "cell_type": "code",
   "execution_count": 4,
   "metadata": {},
   "outputs": [
    {
     "data": {
      "text/plain": [
       "array([[4, 1, 0],\n",
       "       [4, 2, 1],\n",
       "       [4, 5, 2],\n",
       "       [4, 8, 5],\n",
       "       [4, 7, 8],\n",
       "       [4, 6, 7],\n",
       "       [4, 3, 6],\n",
       "       [4, 0, 3]])"
      ]
     },
     "execution_count": 4,
     "metadata": {},
     "output_type": "execute_result"
    }
   ],
   "source": [
    "# Connectivity matrix from figure\n",
    "\n",
    "connect_mat = np.array([\n",
    "                       [5, 2, 1],\n",
    "                       [5, 3, 2],\n",
    "                       [5, 6, 3],\n",
    "                       [5, 9, 6],\n",
    "                       [5, 8, 9],\n",
    "                       [5, 7, 8],\n",
    "                       [5, 4, 7],\n",
    "                       [5, 1, 4]\n",
    "                               ])\n",
    "\n",
    "# Normalisation to python notation\n",
    "connect_mat = connect_mat - 1 # as the first term in python is 0\n",
    "\n",
    "# Display\n",
    "connect_mat"
   ]
  },
  {
   "cell_type": "code",
   "execution_count": 5,
   "metadata": {
    "scrolled": true
   },
   "outputs": [
    {
     "data": {
      "image/png": "[encoded data removed]",
      "text/plain": [
       "<Figure size 432x288 with 1 Axes>"
      ]
     },
     "metadata": {
      "needs_background": "light"
     },
     "output_type": "display_data"
    }
   ],
   "source": [
    "# Displaying one element\n",
    "\n",
    "# element considered\n",
    "k = 1\n",
    "\n",
    "plt.figure()\n",
    "plt.plot(coords[connect_mat[k-1]][:,0],  # k-1 to transform element into python (1==0)\n",
    "         coords[connect_mat[k-1]][:,1], \"o\")\n",
    "\n",
    "plt.title(f'Nods of element {k}')\n",
    "plt.xlabel('x [m]')\n",
    "plt.ylabel('y [m]')\n",
    "\n",
    "plt.xlim(-0.2, L +.2)\n",
    "plt.ylim(-0.1, H +.1)\n",
    "\n",
    "plt.grid('True')"
   ]
  },
  {
   "cell_type": "code",
   "execution_count": 6,
   "metadata": {
    "scrolled": true
   },
   "outputs": [
    {
     "data": {
      "image/png": "[encoded data removed]",
      "text/plain": [
       "<Figure size 432x288 with 1 Axes>"
      ]
     },
     "metadata": {
      "needs_background": "light"
     },
     "output_type": "display_data"
    }
   ],
   "source": [
    "# Display the mesh + labels\n",
    "\n",
    "def meshplot(coords, connect_mat):\n",
    "\n",
    "    # circles for elements\n",
    "    theta = np.linspace(0, 2*np.pi, 100)\n",
    "    r = .08\n",
    "\n",
    "    x = r*np.cos(theta)\n",
    "    y = r*np.sin(theta)\n",
    "\n",
    "    # ----------------------------------------------------------------------------\n",
    "\n",
    "    # Display nods and the lines bounding them, and defining the mesh's shape\n",
    "    for cell in connect_mat:\n",
    "        plt.plot(coords[cell][:,0], coords[cell][:,1], \"o-\")\n",
    "\n",
    "    # Annotate the nodes with corresponding number\n",
    "    for i in range(np.size(coords, 0)):\n",
    "        plt.plot(coords[i:,0],coords[i:,1],\"bo\")\n",
    "        plt.annotate(str(f'({i+1})'), xy = (coords[i,0],coords[i,1]), xytext = (coords[i,0]+0.02, coords[i,1]+0.01))\n",
    "\n",
    "    # Annotate the elements with corresponding number    \n",
    "    for i in range(np.size(connect_mat, 0)):\n",
    "\n",
    "        # Calculation center of the triangles\n",
    "        centerX = sum(coords[connect_mat[i]][:,0])/3;\n",
    "        centerY = sum(coords[connect_mat[i]][:,1])/3;\n",
    "\n",
    "        # Display number of element at the center of each triangle\n",
    "        plt.annotate(str(i+1), xy = (centerX, centerY), xytext = (centerX-0.04, centerY-0.01))        \n",
    "        plt.plot(x+centerX, y*np.sqrt(2)/(L/H) +centerY, 'k')\n",
    "\n",
    "    plt.title('Mesh')\n",
    "    plt.xlabel('x [m]')\n",
    "    plt.ylabel('y [m]')\n",
    " \n",
    "# Display mesh \n",
    "meshplot(coords, connect_mat)"
   ]
  },
  {
   "cell_type": "markdown",
   "metadata": {},
   "source": [
    "##### Shape function $N_k(a)$"
   ]
  },
  {
   "cell_type": "code",
   "execution_count": 7,
   "metadata": {},
   "outputs": [],
   "source": [
    "# Shape function\n",
    "\n",
    "def N_k(a, i):\n",
    "    N = np.array([a[0], a[1], 1-a[0]-a[1]])\n",
    "    return N[i]"
   ]
  },
  {
   "cell_type": "markdown",
   "metadata": {},
   "source": [
    "##### Jacobian matrix $1^{st}$ method"
   ]
  },
  {
   "cell_type": "code",
   "execution_count": 8,
   "metadata": {},
   "outputs": [],
   "source": [
    "# Jacobian matrix\n",
    "\n",
    "def J(i, coords, connect_mat):\n",
    "    \n",
    "    # Coordinates of i_th T3 element\n",
    "    xs = coords[connect_mat[i]]\n",
    "    \n",
    "    J_matrix = np.array([\n",
    "                        [xs[0,0] - xs[2,0], xs[1,0] - xs[2,0]],\n",
    "                        [xs[0,1] - xs[2,1], xs[1,1] - xs[2,1]]\n",
    "                                                             ])\n",
    "    \n",
    "    Jacobian = np.linalg.det(J_matrix)\n",
    "    \n",
    "    return (J_matrix, Jacobian)"
   ]
  },
  {
   "cell_type": "code",
   "execution_count": 9,
   "metadata": {},
   "outputs": [
    {
     "name": "stdout",
     "output_type": "stream",
     "text": [
      "--------------------------------------------------------------\n",
      "\n",
      "This is the Jacobian of element 1 for L = 3.0, H = 1.0\n",
      "J =\n",
      "[[-1.5  0. ]\n",
      " [-0.5 -0.5]]\n",
      "\n",
      "The surface of element 1 is 0.375 m²\n",
      "\n",
      "--------------------------------------------------------------\n",
      "\n",
      "This is the Jacobian of element 2 for L = 3.0, H = 1.0\n",
      "J =\n",
      "[[-1.5  0. ]\n",
      " [ 0.  -0.5]]\n",
      "\n",
      "The surface of element 2 is 0.375 m²\n",
      "\n",
      "--------------------------------------------------------------\n",
      "\n",
      "This is the Jacobian of element 3 for L = 3.0, H = 1.0\n",
      "J =\n",
      "[[-1.5 -1.5]\n",
      " [ 0.5  0. ]]\n",
      "\n",
      "The surface of element 3 is 0.375 m²\n",
      "\n",
      "--------------------------------------------------------------\n",
      "\n",
      "This is the Jacobian of element 4 for L = 3.0, H = 1.0\n",
      "J =\n",
      "[[ 0.  -1.5]\n",
      " [ 0.5  0. ]]\n",
      "\n",
      "The surface of element 4 is 0.375 m²\n",
      "\n",
      "--------------------------------------------------------------\n",
      "\n",
      "This is the Jacobian of element 5 for L = 3.0, H = 1.0\n",
      "J =\n",
      "[[1.5 0. ]\n",
      " [0.5 0.5]]\n",
      "\n",
      "The surface of element 5 is 0.375 m²\n",
      "\n",
      "--------------------------------------------------------------\n",
      "\n",
      "This is the Jacobian of element 6 for L = 3.0, H = 1.0\n",
      "J =\n",
      "[[1.5 0. ]\n",
      " [0.  0.5]]\n",
      "\n",
      "The surface of element 6 is 0.375 m²\n",
      "\n",
      "--------------------------------------------------------------\n",
      "\n",
      "This is the Jacobian of element 7 for L = 3.0, H = 1.0\n",
      "J =\n",
      "[[ 1.5  1.5]\n",
      " [-0.5  0. ]]\n",
      "\n",
      "The surface of element 7 is 0.375 m²\n",
      "\n",
      "--------------------------------------------------------------\n",
      "\n",
      "This is the Jacobian of element 8 for L = 3.0, H = 1.0\n",
      "J =\n",
      "[[ 0.   1.5]\n",
      " [-0.5  0. ]]\n",
      "\n",
      "The surface of element 8 is 0.375 m²\n",
      "\n"
     ]
    }
   ],
   "source": [
    "# Display Jacobian of each element\n",
    "\n",
    "for i in range(len(connect_mat)):\n",
    "    \n",
    "    (Ji, detJ) = J(i, coords, connect_mat)\n",
    "    \n",
    "    print(f\"--------------------------------------------------------------\\n\")\n",
    "    print(f\"This is the Jacobian of element {i+1} for L = {L}, H = {H}\")\n",
    "    print(f\"J =\")\n",
    "    print(Ji)\n",
    "    print(f\"\\nThe surface of element {i+1} is {detJ/2} m²\\n\")"
   ]
  },
  {
   "cell_type": "code",
   "execution_count": 10,
   "metadata": {
    "scrolled": false
   },
   "outputs": [
    {
     "name": "stdout",
     "output_type": "stream",
     "text": [
      "From Jacobian, the total surface = 3.00 m²\n",
      "And as expected with L = 3.0 m and H = 1.0 m we have S = 3.00 m²\n"
     ]
    }
   ],
   "source": [
    "# Surface total that has to be in agreement with H*L\n",
    "print(\"From Jacobian, the total surface = {:.2f} m²\".format(len(connect_mat)*np.linalg.det(Ji)/2))\n",
    "print(f'And as expected with L = {L} m and H = {H} m we have S = {H*L:.2f} m²')"
   ]
  },
  {
   "cell_type": "markdown",
   "metadata": {},
   "source": [
    "##### D_N matrix - Jacobian matrix $2^{nd}$ method"
   ]
  },
  {
   "cell_type": "code",
   "execution_count": 11,
   "metadata": {
    "scrolled": true
   },
   "outputs": [
    {
     "name": "stdout",
     "output_type": "stream",
     "text": [
      "--------------------------------------------------------------\n",
      "This is the Jacobian of the element 1 for L = 3.0, H = 1.0\n",
      "J =\n",
      "[[-1.5  0. ]\n",
      " [-0.5 -0.5]]\n",
      "\n",
      "The surface of element 1 is 0.375 m²\n",
      "\n",
      "--------------------------------------------------------------\n",
      "This is the Jacobian of the element 2 for L = 3.0, H = 1.0\n",
      "J =\n",
      "[[-1.5  0. ]\n",
      " [ 0.  -0.5]]\n",
      "\n",
      "The surface of element 2 is 0.375 m²\n",
      "\n",
      "--------------------------------------------------------------\n",
      "This is the Jacobian of the element 3 for L = 3.0, H = 1.0\n",
      "J =\n",
      "[[-1.5 -1.5]\n",
      " [ 0.5  0. ]]\n",
      "\n",
      "The surface of element 3 is 0.375 m²\n",
      "\n",
      "--------------------------------------------------------------\n",
      "This is the Jacobian of the element 4 for L = 3.0, H = 1.0\n",
      "J =\n",
      "[[ 0.  -1.5]\n",
      " [ 0.5  0. ]]\n",
      "\n",
      "The surface of element 4 is 0.375 m²\n",
      "\n",
      "--------------------------------------------------------------\n",
      "This is the Jacobian of the element 5 for L = 3.0, H = 1.0\n",
      "J =\n",
      "[[1.5 0. ]\n",
      " [0.5 0.5]]\n",
      "\n",
      "The surface of element 5 is 0.375 m²\n",
      "\n",
      "--------------------------------------------------------------\n",
      "This is the Jacobian of the element 6 for L = 3.0, H = 1.0\n",
      "J =\n",
      "[[1.5 0. ]\n",
      " [0.  0.5]]\n",
      "\n",
      "The surface of element 6 is 0.375 m²\n",
      "\n",
      "--------------------------------------------------------------\n",
      "This is the Jacobian of the element 7 for L = 3.0, H = 1.0\n",
      "J =\n",
      "[[ 1.5  1.5]\n",
      " [-0.5  0. ]]\n",
      "\n",
      "The surface of element 7 is 0.375 m²\n",
      "\n",
      "--------------------------------------------------------------\n",
      "This is the Jacobian of the element 8 for L = 3.0, H = 1.0\n",
      "J =\n",
      "[[ 0.   1.5]\n",
      " [-0.5  0. ]]\n",
      "\n",
      "The surface of element 8 is 0.375 m²\n",
      "\n"
     ]
    }
   ],
   "source": [
    "# D_N matrix of derivatives of shape function with respect to a\n",
    "\n",
    "D_N = np.array([\n",
    "               [1 ,  0],\n",
    "               [0 ,  1],\n",
    "               [-1, -1]\n",
    "                      ])\n",
    "\n",
    "# 2nd method of calculating the Jacobian matrix\n",
    "\n",
    "for i in range(len(connect_mat)):\n",
    "    \n",
    "    Jii = np.dot(D_N.T, coords[connect_mat[i]]).T\n",
    "\n",
    "    print(f\"--------------------------------------------------------------\")\n",
    "    print(f\"This is the Jacobian of the element {i+1} for L = {L}, H = {H}\")\n",
    "    print(f\"J =\")\n",
    "    print(Jii)\n",
    "    print(f\"\\nThe surface of element {i+1} is {np.linalg.det(Jii)/2} m²\\n\")"
   ]
  },
  {
   "cell_type": "markdown",
   "metadata": {},
   "source": [
    "##### Shape functions representtion"
   ]
  },
  {
   "cell_type": "code",
   "execution_count": 12,
   "metadata": {},
   "outputs": [
    {
     "data": {
      "image/png": "[encoded data removed]",
      "text/plain": [
       "<Figure size 576x288 with 3 Axes>"
      ]
     },
     "metadata": {
      "needs_background": "light"
     },
     "output_type": "display_data"
    }
   ],
   "source": [
    "# N (shape function) for T3 element\n",
    "\n",
    "from matplotlib.pyplot import cm\n",
    "\n",
    "fig = plt.figure(figsize=(8,4))\n",
    "\n",
    "N  = 100\n",
    "a1 = np.linspace(0, 1, N)\n",
    "a2 = np.linspace(0, 1, N)\n",
    "\n",
    "# -----------------------------------------\n",
    "\n",
    "n = 3\n",
    "color = cm.rainbow(np.linspace(0,1,n))\n",
    "\n",
    "for k, c in zip(range(3), color):\n",
    "    ax = fig.add_subplot(1,3,k+1)\n",
    "\n",
    "    ax.plot(a1, N_k([a1,a2], k), '.', c=c)\n",
    "\n",
    "    plt.title('Shape function')\n",
    "    plt.xlabel('x [m]')\n",
    "    plt.ylabel('y [m]')\n",
    "\n",
    "    plt.legend([f'N{k+1}'])\n",
    "    plt.grid('True')\n",
    "\n",
    "plt.tight_layout()\n",
    "\n",
    "plt.savefig('Shape_function_T3.png')"
   ]
  },
  {
   "cell_type": "markdown",
   "metadata": {},
   "source": [
    "### Alternate modeling - T6"
   ]
  },
  {
   "cell_type": "code",
   "execution_count": 13,
   "metadata": {},
   "outputs": [],
   "source": [
    "# Coordinates\n",
    "\n",
    "# Data\n",
    "L = 3. #Length\n",
    "H = 1. #Height"
   ]
  },
  {
   "cell_type": "markdown",
   "metadata": {},
   "source": [
    "##### Coordinate matrix"
   ]
  },
  {
   "cell_type": "code",
   "execution_count": 14,
   "metadata": {},
   "outputs": [],
   "source": [
    "# Coordinates matrix\n",
    "coords_T6 = np.array([\n",
    "                     [L,     H],\n",
    "                     [L,   H/2],\n",
    "                     [L,     0],\n",
    "                     [L/2,   H],\n",
    "                     [L/2, H/2],\n",
    "                     [L/2,   0],\n",
    "                     [0,     H],\n",
    "                     [0,   H/2],\n",
    "                     [0,     0]\n",
    "                              ])\n",
    "\n",
    "# Connectivity matrix\n",
    "connect_mat_T6 = np.array([\n",
    "                          [7, 9, 1, 8, 5, 4],\n",
    "                          [9, 3, 1, 6, 2, 5],\n",
    "                                           ])\n",
    "\n",
    "# Python notation\n",
    "connect_mat_T6 = connect_mat_T6-1"
   ]
  },
  {
   "cell_type": "code",
   "execution_count": 15,
   "metadata": {},
   "outputs": [
    {
     "data": {
      "image/png": "[encoded data removed]",
      "text/plain": [
       "<Figure size 432x288 with 1 Axes>"
      ]
     },
     "metadata": {
      "needs_background": "light"
     },
     "output_type": "display_data"
    }
   ],
   "source": [
    "# Dispaly nodes\n",
    "plot_nodes(coords_T6, L, H)"
   ]
  },
  {
   "cell_type": "code",
   "execution_count": 16,
   "metadata": {
    "scrolled": true
   },
   "outputs": [
    {
     "data": {
      "image/png": "[encoded data removed]",
      "text/plain": [
       "<Figure size 576x288 with 2 Axes>"
      ]
     },
     "metadata": {
      "needs_background": "light"
     },
     "output_type": "display_data"
    }
   ],
   "source": [
    "# Displaying both elements separately\n",
    "\n",
    "fig = plt.figure(figsize=(8,4))\n",
    "\n",
    "# ----------------------------------------------------\n",
    "\n",
    "for k in range(np.size(connect_mat_T6, 0)):\n",
    "\n",
    "    ax = fig.add_subplot(1,2,k+1)\n",
    "\n",
    "    ax.plot(coords_T6[connect_mat_T6[k]][:,0], \n",
    "             coords_T6[connect_mat_T6[k]][:,1], \"o\")\n",
    "\n",
    "    plt.title(f'Nods of element {k+1} - T6')\n",
    "    plt.xlabel('x position [m]')\n",
    "    plt.ylabel('y position [m]')\n",
    "\n",
    "    plt.xlim(-0.2, L +.2)\n",
    "    plt.ylim(-0.1, H +.1)\n",
    "\n",
    "    plt.grid('True')\n",
    "\n",
    "fig.tight_layout()"
   ]
  },
  {
   "cell_type": "markdown",
   "metadata": {},
   "source": [
    "##### Shape functions"
   ]
  },
  {
   "cell_type": "code",
   "execution_count": 17,
   "metadata": {},
   "outputs": [],
   "source": [
    "# Shape functions \n",
    "\n",
    "# Code line to eliminate numerical error (ex 10^-17 instead of 0)\n",
    "np.set_printoptions(suppress=True)\n",
    "\n",
    "# ---------------------------------------------------------------------------\n",
    "\n",
    "# N = c1.a2² + c2.a1² + c3.a1.a2 + c4.a2 + c5.a1 + c6\n",
    "# c1, c2, c3, c4, c5, c6 real constant (different for each N) values\n",
    "\n",
    "# ---------------------------------------------------------------------------\n",
    "\n",
    "# Calculation coeff N_k\n",
    "\n",
    "def shape_function_T6(coords, v):\n",
    "\n",
    "    # a_2**2\n",
    "    M_1 = np.array([a**2 for a in coords[:,1]])\n",
    "    # a_1**2\n",
    "    M_2 = np.array([a**2 for a in coords[:,0]])\n",
    "    # a_1*a_2\n",
    "    M_3 = np.array([a for a in coords[:,0]*coords[:,1]])\n",
    "    # a_2\n",
    "    M_4 = np.array([a for a in coords[:,1]])\n",
    "    # a_1\n",
    "    M_5 = np.array([a for a in coords[:,0]])\n",
    "    # 1\n",
    "    ONE = np.linspace(1, 1, np.size(coords,0))\n",
    "    \n",
    "    # -----------------------------------------------\n",
    "\n",
    "    # Transposes of the above vectors\n",
    "    M_1 = M_1.reshape(-1, 1)\n",
    "    M_2 = M_2.reshape(-1, 1)\n",
    "    M_3 = M_3.reshape(-1, 1)\n",
    "    M_4 = M_4.reshape(-1, 1)\n",
    "    M_5 = M_5.reshape(-1, 1)\n",
    "    ONE = ONE.reshape(-1, 1)\n",
    "\n",
    "    # Concatenation\n",
    "    M = np.append(M_1, M_2, axis=1)\n",
    "    M = np.append(M, M_3, axis=1)\n",
    "    M = np.append(M, M_4, axis=1)\n",
    "    M = np.append(M, M_5, axis=1)\n",
    "    M = np.append(M, ONE, axis=1)\n",
    "\n",
    "    # -----------------------------------------------\n",
    "\n",
    "    # Resolution system\n",
    "    N = np.linalg.solve(M, v)\n",
    "\n",
    "    print(\"\\nN's coefficients are : \\n\")\n",
    "    print(N)\n",
    "\n",
    "    return N\n",
    "\n",
    "# Vectors from nods cd° : N1 = 1 in (0,0) ...\n",
    "# ex : N1 = v1[0]*a2² + v1[1]*a1² + v1[2]*a1a2 + v1[3]*a2 + v1[4]*a1 + v1[5]\n",
    "\n",
    "v = np.eye(6)\n",
    "\n"
   ]
  },
  {
   "cell_type": "code",
   "execution_count": 18,
   "metadata": {},
   "outputs": [
    {
     "name": "stdout",
     "output_type": "stream",
     "text": [
      "\n",
      "N's coefficients are : \n",
      "\n",
      "[[ 2.  0.  2.  0.  0. -4.]\n",
      " [ 2.  2.  0. -4.  0.  0.]\n",
      " [ 4.  0.  0. -4.  4. -4.]\n",
      " [-3.  0. -1. -0. -0.  4.]\n",
      " [-3. -1.  0.  4.  0.  0.]\n",
      " [ 1.  0.  0.  0.  0.  0.]]\n",
      "  (1) (2) (3) (4) (5) (6)\n"
     ]
    }
   ],
   "source": [
    "# Unit T6\n",
    "\n",
    "coords_norm = np.array([\n",
    "                       [0,     0],\n",
    "                       [1,     0],\n",
    "                       [0,     1],                   \n",
    "                       [1/2,   0],\n",
    "                       [1/2, 1/2],\n",
    "                       [0,   1/2]                   \n",
    "                                ])\n",
    "\n",
    "N = shape_function_T6(coords_norm, v)\n",
    "print('  (1) (2) (3) (4) (5) (6)')"
   ]
  },
  {
   "cell_type": "markdown",
   "metadata": {},
   "source": [
    "Each column corresponds to the associated N :\n",
    "for instance (1) $\\rightarrow$ N1, (4) $\\rightarrow$ N4, etc."
   ]
  },
  {
   "cell_type": "code",
   "execution_count": 19,
   "metadata": {},
   "outputs": [
    {
     "name": "stdout",
     "output_type": "stream",
     "text": [
      "Interpolation matrix of element 1 :\n",
      "\n",
      "N's coefficients are : \n",
      "\n",
      "[[ 2.          2.          0.         -4.          0.          0.        ]\n",
      " [ 0.22222222  0.          0.22222222  0.         -0.         -0.44444444]\n",
      " [-1.33333333  0.         -0.          1.33333333 -1.33333333  1.33333333]\n",
      " [-1.         -3.          0.          4.         -0.         -0.        ]\n",
      " [ 0.33333333  0.         -0.33333333 -1.33333333  1.33333333  0.        ]\n",
      " [ 0.          1.          0.          0.          0.          0.        ]]\n",
      "  (7)         (9)         (1)         (8)         (5)         (4)\n",
      "\n",
      "# -------------------------------------------------------------- #\n",
      "\n",
      "Interpolation matrix of element 2\n",
      "\n",
      "N's coefficients are : \n",
      "\n",
      "[[ 0.          2.          2.         -0.         -4.         -0.        ]\n",
      " [ 0.22222222  0.22222222  0.         -0.44444444  0.          0.        ]\n",
      " [ 0.         -1.33333333  0.          1.33333333  1.33333333 -1.33333333]\n",
      " [ 0.          1.         -1.         -4.         -0.          4.        ]\n",
      " [-1.         -0.33333333  0.          1.33333333  0.          0.        ]\n",
      " [ 1.          0.          0.          0.          0.          0.        ]]\n",
      "  (9)         (3)         (1)         (6)         (2)         (5)\n"
     ]
    }
   ],
   "source": [
    "# Interpolation matrix for both elements\n",
    "\n",
    "print('Interpolation matrix of element 1 :')\n",
    "N1 = shape_function_T6(coords_T6[connect_mat_T6[0]], v)\n",
    "print('  (7)         (9)         (1)         (8)         (5)         (4)')\n",
    "\n",
    "print('\\n# -------------------------------------------------------------- #\\n')\n",
    "\n",
    "print('Interpolation matrix of element 2')\n",
    "N2 = shape_function_T6(coords_T6[connect_mat_T6[1]], v)\n",
    "print('  (9)         (3)         (1)         (6)         (2)         (5)')"
   ]
  },
  {
   "cell_type": "markdown",
   "metadata": {},
   "source": [
    "##### Representation T6"
   ]
  },
  {
   "cell_type": "code",
   "execution_count": 20,
   "metadata": {},
   "outputs": [],
   "source": [
    "# Shape function\n",
    "def N_k_T6(a1, a2, N, i):\n",
    "    N_k = N[0,i]*a2**2 + N[1,i]*a1**2 + N[2,i]*a1*a2 + N[3,i]*a2 + N[4,i]*a1 + N[5,i]\n",
    "    return N_k"
   ]
  },
  {
   "cell_type": "code",
   "execution_count": 21,
   "metadata": {},
   "outputs": [
    {
     "data": {
      "image/png": "[encoded data removed]",
      "text/plain": [
       "<Figure size 576x288 with 6 Axes>"
      ]
     },
     "metadata": {
      "needs_background": "light"
     },
     "output_type": "display_data"
    }
   ],
   "source": [
    "from matplotlib.pyplot import cm\n",
    "\n",
    "fig = plt.figure(figsize=(8,4))\n",
    "\n",
    "Nx  = 100\n",
    "a1 = np.linspace(0, 1, Nx)\n",
    "a2 = np.linspace(0, 1, Nx)\n",
    "\n",
    "# -----------------------------------------\n",
    "\n",
    "n = 6\n",
    "color = cm.rainbow(np.linspace(0,1,n))\n",
    "\n",
    "for k, c in zip(range(1,6+1),color):\n",
    "    ax = fig.add_subplot(2,3,k)\n",
    "    ax.plot(a1, N_k_T6(a1, a2, N, k-1), '.', c=c)\n",
    "\n",
    "    plt.title('Shape function')\n",
    "    plt.xlabel('x position')\n",
    "    plt.ylabel('y position')\n",
    "\n",
    "    plt.legend(['N{}'.format(k)])\n",
    "    plt.grid('True')\n",
    "\n",
    "fig.tight_layout()\n",
    "\n",
    "plt.savefig('Shape_function_T6.png')"
   ]
  },
  {
   "cell_type": "markdown",
   "metadata": {},
   "source": [
    "##### 3D representation shape functions"
   ]
  },
  {
   "cell_type": "code",
   "execution_count": 22,
   "metadata": {},
   "outputs": [
    {
     "data": {
      "image/png": "[encoded data removed]",
      "text/plain": [
       "<Figure size 1008x432 with 1 Axes>"
      ]
     },
     "metadata": {
      "needs_background": "light"
     },
     "output_type": "display_data"
    }
   ],
   "source": [
    "import matplotlib as mpl\n",
    "from mpl_toolkits.mplot3d.axes3d import Axes3D\n",
    "\n",
    "mpl.rcParams['legend.fontsize'] = 10\n",
    "\n",
    "fig = plt.figure(figsize=(14,6))\n",
    "ax = fig.add_subplot(1, 2, 1, projection='3d')\n",
    "\n",
    "# -----------------------------------------\n",
    "\n",
    "Nx  = 100\n",
    "a1 = np.linspace(0, 1, Nx)\n",
    "a2 = np.linspace(0, 1, Nx)\n",
    "a2 = a2.reshape(-1,1)\n",
    "\n",
    "for i in range(len(N)):\n",
    "    ax.plot_surface(a1, a2, N_k_T6(a1, a2, N, i), rstride=4, cstride=4, linewidth=0)    \n",
    "\n",
    "plt.title('Shape functions')\n",
    "plt.xlabel('x position')\n",
    "plt.ylabel('y position')\n",
    "\n",
    "plt.show()"
   ]
  },
  {
   "cell_type": "markdown",
   "metadata": {},
   "source": [
    "##### Example with $N_4$"
   ]
  },
  {
   "cell_type": "code",
   "execution_count": 23,
   "metadata": {},
   "outputs": [
    {
     "data": {
      "image/png": "[encoded data removed]",
      "text/plain": [
       "<Figure size 1008x432 with 1 Axes>"
      ]
     },
     "metadata": {
      "needs_background": "light"
     },
     "output_type": "display_data"
    }
   ],
   "source": [
    "from mpl_toolkits.mplot3d.axes3d import Axes3D\n",
    "\n",
    "mpl.rcParams['legend.fontsize'] = 10\n",
    "\n",
    "fig = plt.figure(figsize=(14,6))\n",
    "ax = fig.add_subplot(1, 2, 1, projection='3d')\n",
    "\n",
    "# -----------------------------------------\n",
    "\n",
    "Nx  = 100\n",
    "a1 = np.linspace(0, 1, Nx)\n",
    "a2 = np.linspace(0, 1, Nx)\n",
    "a2 = a2.reshape(-1,1)\n",
    "\n",
    "ax.plot_surface(a1, a2, N_k_T6(a1, a2, N, 3), rstride=4, cstride=4, linewidth=0)    \n",
    "\n",
    "plt.title(r'Shape function $N_4(a)$')\n",
    "plt.xlabel('x position')\n",
    "plt.ylabel('y position')\n",
    "\n",
    "plt.show()"
   ]
  },
  {
   "cell_type": "markdown",
   "metadata": {},
   "source": [
    "##### Jacobian matrix"
   ]
  },
  {
   "cell_type": "code",
   "execution_count": 24,
   "metadata": {},
   "outputs": [],
   "source": [
    "# Jacobian matrix\n",
    "\n",
    "# Redefying these variables\n",
    "a1 = int()\n",
    "a2 = int()\n",
    "\n",
    "def JT6(i, coords, connect_mat):\n",
    "\n",
    "    # Coordinates of i_th T3 element\n",
    "    xs = coords[connect_mat[i]]\n",
    "                \n",
    "    # Jacobian of this i_th T6 element now that we have its coordinates (the one of its three nods) \n",
    "    \n",
    "    J11_a1 = xs[0,0]+xs[1,0]-2*xs[3,0]; J11_a2 = xs[0,0]-xs[3,0]+xs[4,0]-xs[5,0]; J11_c = -3*xs[0,0] - xs[1,0] + 4*xs[3,0];\n",
    "    J21_a1 = xs[0,1]+xs[1,1]-2*xs[3,1]; J21_a2 = xs[0,1]-xs[3,1]+xs[4,1]-xs[5,1]; J21_c = -3*xs[0,1] - xs[1,1] + 4*xs[3,1];\n",
    "    \n",
    "    J12_a1 = xs[0,0]-xs[3,0]+xs[4,0]-xs[5,0]; J12_a2 = xs[0,0]+xs[2,0]-2*xs[5,0]; J12_c = -3*xs[0,0] - xs[2,0] + 4*xs[5,0];\n",
    "    J22_a1 = xs[0,1]-xs[3,1]+xs[4,1]-xs[5,1]; J22_a2 = xs[0,1]+xs[2,1]-2*xs[5,1]; J22_c = -3*xs[0,1] - xs[2,1] + 4*xs[5,1];\n",
    "\n",
    "    J = np.array([\n",
    "                 [4*a1*(J11_a1) + 4*a2*(J11_a2) + J11_c, 4*a1*(J12_a1) + 4*a2*(J12_a2) + J12_c], \n",
    "                 [4*a1*(J21_a1) + 4*a2*(J21_a2) + J21_c, 4*a1*(J22_a1) + 4*a2*(J22_a2) + J22_c]\n",
    "                                                                                              ])\n",
    "    detJ = np.linalg.det(J)\n",
    "    \n",
    "    return (J, detJ)"
   ]
  },
  {
   "cell_type": "code",
   "execution_count": 25,
   "metadata": {},
   "outputs": [
    {
     "name": "stdout",
     "output_type": "stream",
     "text": [
      "--------------------------------------------------------------\n",
      "\n",
      "This is the Jacobian of the element 1 for L = 3.0, H = 1.0\n",
      "J =\n",
      "[[ 0.  3.]\n",
      " [-1.  0.]]\n",
      "\n",
      "The surface of element 1 is 1.50 m²\n",
      "\n",
      "--------------------------------------------------------------\n",
      "\n",
      "This is the Jacobian of the element 2 for L = 3.0, H = 1.0\n",
      "J =\n",
      "[[3. 3.]\n",
      " [0. 1.]]\n",
      "\n",
      "The surface of element 2 is 1.50 m²\n",
      "\n"
     ]
    }
   ],
   "source": [
    "nb_elem = np.size(connect_mat_T6, 0)\n",
    "\n",
    "# Surface of the mesh from Jaconian calculation\n",
    "surf = 0\n",
    "\n",
    "for e in range(nb_elem):\n",
    "    (J6, detJ) = JT6(e, coords_T6, connect_mat_T6)\n",
    "    surf += detJ/2\n",
    "    \n",
    "    print(f\"--------------------------------------------------------------\\n\")\n",
    "    print(f\"This is the Jacobian of the element {e+1} for L = {L}, H = {H}\")\n",
    "    print(f\"J =\")\n",
    "    print(J6)\n",
    "    print(f\"\\nThe surface of element {e+1} is {detJ/2:.2f} m²\\n\")"
   ]
  },
  {
   "cell_type": "code",
   "execution_count": 26,
   "metadata": {},
   "outputs": [
    {
     "name": "stdout",
     "output_type": "stream",
     "text": [
      "From Jacobian, the total surface = 3.00 m²\n",
      "And as expected with L = 3.0 m and H = 1.0 m we have S = 3.00 m²\n"
     ]
    }
   ],
   "source": [
    "# Surface total that has to be in agreement with H*L\n",
    "print(\"From Jacobian, the total surface = {:.2f} m²\".format(surf))\n",
    "print(f'And as expected with L = {L} m and H = {H} m we have S = {H*L:.2f} m²')"
   ]
  },
  {
   "cell_type": "markdown",
   "metadata": {},
   "source": [
    " "
   ]
  },
  {
   "cell_type": "markdown",
   "metadata": {},
   "source": [
    "### 5.1 - Numerical application - Strains"
   ]
  },
  {
   "cell_type": "code",
   "execution_count": 27,
   "metadata": {},
   "outputs": [],
   "source": [
    "# RECALL\n",
    "\n",
    "# Data\n",
    "L = 3. #Length\n",
    "H = 1. #Height\n",
    "\n",
    "coords = np.array([\n",
    "                  [L,     H], \n",
    "                  [L,   H/2],\n",
    "                  [L,     0],\n",
    "                  [L/2,   H],\n",
    "                  [L/2, H/2],\n",
    "                  [L/2,   0],\n",
    "                  [0,     H],\n",
    "                  [0,   H/2],\n",
    "                  [0,     0]\n",
    "                           ])\n",
    "\n",
    "# ------------------------------------------------------------\n",
    "\n",
    "# Connectivity matrix from figure\n",
    "\n",
    "connect_mat = np.array([\n",
    "                       [5, 2, 1],\n",
    "                       [5, 3, 2],\n",
    "                       [5, 6, 3],\n",
    "                       [5, 9, 6],\n",
    "                       [5, 8, 9],\n",
    "                       [5, 7, 8],\n",
    "                       [5, 4, 7],\n",
    "                       [5, 1, 4]\n",
    "                               ])\n",
    "\n",
    "# Normalisation to python notation\n",
    "connect_mat = connect_mat - 1"
   ]
  },
  {
   "cell_type": "markdown",
   "metadata": {},
   "source": [
    "### Strains"
   ]
  },
  {
   "cell_type": "markdown",
   "metadata": {},
   "source": [
    "##### $G_N$ Matrix"
   ]
  },
  {
   "cell_type": "code",
   "execution_count": 28,
   "metadata": {},
   "outputs": [],
   "source": [
    "# Code line to eliminate numerical error (ex 10^-17 instead of 0)\n",
    "np.set_printoptions(suppress=True)\n",
    "\n",
    "# ----------------------------------------------------------\n",
    "# ----------------------------------------------------------\n",
    "\n",
    "# Gn matrix\n",
    "\n",
    "def Gn(D_N, Ji):\n",
    "    \n",
    "    \"\"\" Fuction returning the product Dn.(J^-1) also known as Gn \"\"\"\n",
    "    \n",
    "    J_inv = np.linalg.inv(Ji)\n",
    "    G_N   = np.dot(D_N, J_inv)\n",
    "                        \n",
    "    return G_N"
   ]
  },
  {
   "cell_type": "code",
   "execution_count": 29,
   "metadata": {},
   "outputs": [
    {
     "name": "stdout",
     "output_type": "stream",
     "text": [
      "This is the matrix Gn of the element 1 for L = 3.0, H = 1.0\n",
      "[[-0.66666667  0.        ]\n",
      " [ 0.66666667 -2.        ]\n",
      " [ 0.          2.        ]]\n",
      "\n",
      "\n",
      "This is the matrix Gn of the element 2 for L = 3.0, H = 1.0\n",
      "[[-0.66666667  0.        ]\n",
      " [ 0.         -2.        ]\n",
      " [ 0.66666667  2.        ]]\n",
      "\n",
      "\n",
      "This is the matrix Gn of the element 3 for L = 3.0, H = 1.0\n",
      "[[-0.          2.        ]\n",
      " [-0.66666667 -2.        ]\n",
      " [ 0.66666667  0.        ]]\n",
      "\n",
      "\n",
      "This is the matrix Gn of the element 4 for L = 3.0, H = 1.0\n",
      "[[ 0.          2.        ]\n",
      " [-0.66666667  0.        ]\n",
      " [ 0.66666667 -2.        ]]\n",
      "\n",
      "\n",
      "This is the matrix Gn of the element 5 for L = 3.0, H = 1.0\n",
      "[[ 0.66666667  0.        ]\n",
      " [-0.66666667  2.        ]\n",
      " [ 0.         -2.        ]]\n",
      "\n",
      "\n",
      "This is the matrix Gn of the element 6 for L = 3.0, H = 1.0\n",
      "[[ 0.66666667  0.        ]\n",
      " [ 0.          2.        ]\n",
      " [-0.66666667 -2.        ]]\n",
      "\n",
      "\n",
      "This is the matrix Gn of the element 7 for L = 3.0, H = 1.0\n",
      "[[ 0.         -2.        ]\n",
      " [ 0.66666667  2.        ]\n",
      " [-0.66666667  0.        ]]\n",
      "\n",
      "\n",
      "This is the matrix Gn of the element 8 for L = 3.0, H = 1.0\n",
      "[[ 0.         -2.        ]\n",
      " [ 0.66666667  0.        ]\n",
      " [-0.66666667  2.        ]]\n",
      "\n",
      "\n"
     ]
    }
   ],
   "source": [
    "for i in range(len(connect_mat)):\n",
    "    \n",
    "    (Ji, detJ) = J(i, coords, connect_mat)\n",
    "    G_N = Gn(D_N, Ji)\n",
    "    \n",
    "    print(f\"This is the matrix Gn of the element {i+1} for L = {L}, H = {H}\")\n",
    "    print(G_N)\n",
    "    print('\\n')"
   ]
  },
  {
   "cell_type": "code",
   "execution_count": 30,
   "metadata": {},
   "outputs": [
    {
     "data": {
      "text/plain": [
       "' In detail for T3\\n\\n    return ([\\n            [G_N[0,0],        0, G_N[0,1],        0, G_N[0,2],        0],\\n            [       0, G_N[1,0],        0, G_N[1,1],        0, G_N[1,2]],\\n            [G_N[1,0], G_N[0,0], G_N[1,1], G_N[0,1], G_N[1,2], G_N[0,2]]\\n                                                                       ])\\n'"
      ]
     },
     "execution_count": 30,
     "metadata": {},
     "output_type": "execute_result"
    }
   ],
   "source": [
    "def Be_a(i, coords, connect_mat):\n",
    "    \n",
    "    \"\"\" Fuction returning a sort of reshape of function Gn result, \n",
    "     in order to fit the vectorial notation of deformation tensor. \"\"\"\n",
    "    \n",
    "    (Ji, detJ)  = J(i, coords, connect_mat)\n",
    "\n",
    "    G_N = Gn(D_N, Ji)\n",
    "    G_N = G_N.T\n",
    "\n",
    "    Be = np.zeros((3, 6))\n",
    "    \n",
    "    for i in range(3):\n",
    "        Be[0][i*2]   = G_N[0][i]\n",
    "        Be[1][i*2+1] = G_N[1][i]\n",
    "        Be[2][i*2]   = G_N[1][i]\n",
    "        Be[2][i*2+1] = G_N[0][i]\n",
    "  \n",
    "    return Be\n",
    "\n",
    "\"\"\" In detail for T3\n",
    "\n",
    "    return ([\n",
    "            [G_N[0,0],        0, G_N[0,1],        0, G_N[0,2],        0],\n",
    "            [       0, G_N[1,0],        0, G_N[1,1],        0, G_N[1,2]],\n",
    "            [G_N[1,0], G_N[0,0], G_N[1,1], G_N[0,1], G_N[1,2], G_N[0,2]]\n",
    "                                                                       ])\n",
    "\"\"\""
   ]
  },
  {
   "cell_type": "code",
   "execution_count": 31,
   "metadata": {},
   "outputs": [
    {
     "name": "stdout",
     "output_type": "stream",
     "text": [
      "Be_1(x) is as follows : \n",
      "[[-0.66666667  0.          0.66666667  0.          0.          0.        ]\n",
      " [ 0.          0.          0.         -2.          0.          2.        ]\n",
      " [ 0.         -0.66666667 -2.          0.66666667  2.          0.        ]]\n",
      "\n",
      "# ------------------------------------------------------------------------ #\n",
      "\n",
      "Be_2(x) is as follows : \n",
      "[[-0.66666667  0.          0.          0.          0.66666667  0.        ]\n",
      " [ 0.          0.          0.         -2.          0.          2.        ]\n",
      " [ 0.         -0.66666667 -2.          0.          2.          0.66666667]]\n",
      "\n",
      "# ------------------------------------------------------------------------ #\n",
      "\n",
      "Be_3(x) is as follows : \n",
      "[[-0.          0.         -0.66666667  0.          0.66666667  0.        ]\n",
      " [ 0.          2.          0.         -2.          0.          0.        ]\n",
      " [ 2.         -0.         -2.         -0.66666667  0.          0.66666667]]\n"
     ]
    }
   ],
   "source": [
    "# Display result\n",
    "\n",
    "# Be matrix to get the deformation vector from T3 normalized (all derives from our N = N1,N2,N3)\n",
    "\n",
    "print('Be_1(x) is as follows : ')\n",
    "print(Be_a(0, coords, connect_mat))\n",
    "\n",
    "print('\\n# ------------------------------------------------------------------------ #\\n')\n",
    "\n",
    "print('Be_2(x) is as follows : ')\n",
    "print(Be_a(1, coords, connect_mat))\n",
    "\n",
    "print('\\n# ------------------------------------------------------------------------ #\\n')\n",
    "\n",
    "print(f\"Be_3(x) is as follows : \")\n",
    "print(Be_a(2, coords, connect_mat))"
   ]
  },
  {
   "cell_type": "markdown",
   "metadata": {},
   "source": [
    " "
   ]
  },
  {
   "cell_type": "markdown",
   "metadata": {},
   "source": [
    "These useful tools are to be exploited afterward to build the system KU = F with K built in part from Be.\n",
    "\n",
    "Besides, they will give us information on the sizes of global matrices and vectors."
   ]
  },
  {
   "cell_type": "markdown",
   "metadata": {},
   "source": [
    " "
   ]
  },
  {
   "cell_type": "markdown",
   "metadata": {},
   "source": [
    "### Assembly"
   ]
  },
  {
   "cell_type": "markdown",
   "metadata": {},
   "source": [
    "##### Rigidity tensor under matricial form - $\\mathbb{A}$"
   ]
  },
  {
   "cell_type": "code",
   "execution_count": 32,
   "metadata": {},
   "outputs": [],
   "source": [
    "# Data to define A from K = T.Be*A*Be\n",
    "\n",
    "# -----------------------------------------------------\n",
    "\n",
    "# Young modulus - low enough to see displacement\n",
    "E   = 100  # much lower than real value : e.g. steel for building - E = 210 * 10^9\n",
    "\n",
    "# Shearing coefficient\n",
    "nu  = .49\n",
    "\n",
    "# -----------------------------------------------------\n",
    "\n",
    "# lambda\n",
    "lam = 2*nu*E/((1+nu)*(1-2*nu))\n",
    "\n",
    "# mu\n",
    "mu  = E/(1+nu)\n",
    "\n",
    "# -----------------------------------------------------\n",
    "\n",
    "# Components obtained from : {epsilon} = [A]{sigma}\n",
    "A = np.array([\n",
    "             [lam+2*mu,      lam,  0],\n",
    "             [     lam, lam+2*mu,  0],\n",
    "             [       0,        0, mu]\n",
    "                                    ])"
   ]
  },
  {
   "cell_type": "markdown",
   "metadata": {},
   "source": [
    " "
   ]
  },
  {
   "cell_type": "markdown",
   "metadata": {},
   "source": [
    "#### Dimensions"
   ]
  },
  {
   "cell_type": "markdown",
   "metadata": {},
   "source": [
    "The dimension of $Ke(a)$ is obtained from the one of $Be(a)$ as :\n",
    "$$K = [Be]^T[A][Be]$$\n",
    "and so $$dim[K] = ((ne\\times D)\\times 3)\\times dim(A) \\times (3 \\times (ne\\times D)) $$\n",
    "$$ = (ne\\times D) \\times (ne\\times D) $$\n",
    "\n",
    "- 3  : as T3 element\n",
    "\n",
    "- D = 2  : as 2D\n",
    "\n",
    "- ne = 8 : as 8 elements\n",
    "\n",
    "so finally : $$dim[K] = (18 \\times 18)$$"
   ]
  },
  {
   "cell_type": "markdown",
   "metadata": {},
   "source": [
    " "
   ]
  },
  {
   "cell_type": "markdown",
   "metadata": {},
   "source": [
    "Dimension of F is of course similar to Ke's size. We have in fact 2 coordinates for the force in each nods and so :\n",
    "\n",
    "$$F = F_s + F_v$$\n",
    "and $$dim[F] = ((ne\\times D)\\times 1) = (18 \\times 1)$$"
   ]
  },
  {
   "cell_type": "markdown",
   "metadata": {},
   "source": [
    "##### Zero values in K"
   ]
  },
  {
   "cell_type": "markdown",
   "metadata": {},
   "source": [
    "There are zeros in K where nods aren't from the same element (ex : nod(7) and nod(1) or (3)).\n",
    "\n",
    "This will help us to build global stiffness matrix."
   ]
  },
  {
   "cell_type": "markdown",
   "metadata": {},
   "source": [
    "### 5.2 Numerical application - Elementary stiffness matrix $K_e$"
   ]
  },
  {
   "cell_type": "code",
   "execution_count": 33,
   "metadata": {},
   "outputs": [],
   "source": [
    "# Matrix Ke of size (ne*D)*(ne*D)\n",
    "\n",
    "def Ke_a(i, coords, connect_mat, A):\n",
    "    \n",
    "    \"\"\" Function returning the stifness matrix provided \n",
    "    the coordinates of the mesh, its shape (through the \n",
    "    connectivity matrix) and the matrix A \"\"\"\n",
    "    \n",
    "    Be             = Be_a(i, coords, connect_mat)\n",
    "    (Ji, detJ) = J(i, coords, connect_mat)\n",
    "    \n",
    "    Ke   = np.dot(np.dot(np.transpose(Be), A), Be) * detJ * (1/2)\n",
    "    return Ke"
   ]
  },
  {
   "cell_type": "code",
   "execution_count": 34,
   "metadata": {
    "scrolled": true
   },
   "outputs": [
    {
     "name": "stdout",
     "output_type": "stream",
     "text": [
      "Stifness matrix of element 2 is :\n",
      "\n",
      "Ke_2 = \n",
      "[[  570.46979866     0.             0.          1644.29530201\n",
      "   -570.46979866 -1644.29530201]\n",
      " [    0.            11.18568233    33.55704698     0.\n",
      "    -33.55704698   -11.18568233]\n",
      " [    0.            33.55704698   100.67114094     0.\n",
      "   -100.67114094   -33.55704698]\n",
      " [ 1644.29530201     0.             0.          5134.22818792\n",
      "  -1644.29530201 -5134.22818792]\n",
      " [ -570.46979866   -33.55704698  -100.67114094 -1644.29530201\n",
      "    671.1409396   1677.85234899]\n",
      " [-1644.29530201   -11.18568233   -33.55704698 -5134.22818792\n",
      "   1677.85234899  5145.41387025]]\n"
     ]
    }
   ],
   "source": [
    "# Display result\n",
    "\n",
    "# element considered\n",
    "i = 2\n",
    "\n",
    "print(f'Stifness matrix of element {i} is :\\n')\n",
    "print('Ke_{} = \\n{}'.format(i, Ke_a(i-1, coords, connect_mat, A)))"
   ]
  },
  {
   "cell_type": "markdown",
   "metadata": {},
   "source": [
    "### 5.3 Numerical application - Force vector"
   ]
  },
  {
   "cell_type": "markdown",
   "metadata": {},
   "source": [
    "##### Local and global F"
   ]
  },
  {
   "cell_type": "markdown",
   "metadata": {},
   "source": [
    "We use in the same functin local and global coordinates as we provide possibility to account for several areal forces, and that they can be imposed on both direction. Therefore, the local force vector may vary from cases and they appear in the following in their vectorized form under appelation vec_vol and vec_surf."
   ]
  },
  {
   "cell_type": "code",
   "execution_count": 35,
   "metadata": {},
   "outputs": [],
   "source": [
    "import scipy.sparse as sp\n",
    "\n",
    "def Force(nb_Force, g, H, L, coords, connect_mat, size_F, nb_elem, nb_nodes_elem, dim):\n",
    "       \n",
    "    \"\"\" Function to provide automatic values for areal and volumic forces \"\"\"\n",
    "        \n",
    "    # Initialisation\n",
    "    F_vol  = sp.lil_matrix((size_F, nb_Force))\n",
    "    F_surf = sp.lil_matrix((size_F, nb_Force))\n",
    "    \n",
    "    # We define ourselves sets of forces to test displacement and show it eventually\n",
    "    \n",
    "    # Volumic force\n",
    "    mass = np.array([5 + 10*mass for mass in range(nb_Force)])   # [kg]  # mass of the structure\n",
    "    rho  = mass/(H*L*1)    # volumic mass structure\n",
    "\n",
    "    # Areal force\n",
    "    p = np.array([5 + 10*pressure for pressure in range(nb_Force)]) # [Pa]  # pressure applied on the upper surface\n",
    "\n",
    "    vec_vol  = np.array([0, 1, 0, 1, 0, 1]).reshape(-1,1)  \n",
    "    vec_surf = np.array([0, 0, 0, 1, 0, 1]).reshape(-1,1)\n",
    "    \n",
    "    for k in range(nb_Force):\n",
    "        \n",
    "        # VOLUMIC FORCE(S)\n",
    "\n",
    "        J = H*L/4\n",
    "        F_e = -(rho[k]*g/6) * J * vec_vol\n",
    "        for e in range(nb_elem):\n",
    "            for l in range(nb_nodes_elem):\n",
    "                for a in range(dim):\n",
    "                    F_vol[2*connect_mat[e,l]+a, k] += F_e[2*l+a]\n",
    "                    \n",
    "        # ------------------------------------------------------------------------------------------------------------\n",
    "\n",
    "        # AREAL FORCE(S)\n",
    "\n",
    "        J = L/4 # Jacobian associated to N_e[a]\n",
    "        F_s = -p[k]* J * vec_surf\n",
    "        for e in range(nb_elem):\n",
    "            for l in range(nb_nodes_elem):\n",
    "                for a in range(dim):\n",
    "                    if coords[connect_mat[e,l]][1]==H: #0 -> force where x1=?? ; 1 -> force where x2=??\n",
    "                        F_surf[2*connect_mat[e,l]+a, k] += F_s[2*l+a]\n",
    "                    else:\n",
    "                        1==0\n",
    "                        \n",
    "    return (F_surf, F_vol)\n",
    "\n",
    "\n",
    "def Force_vol(nb_Force, dir_Force, sense_Force, imposed_forces, coords, connect_mat, size_F, nb_elem, nb_nodes_elem, dim):     \n",
    "        \n",
    "    \"\"\" Function to account for several volumic forces \"\"\"\n",
    "\n",
    "    for k in range(nb_Force):\n",
    "        if dir_Force[k,0]==0:\n",
    "            vec_vol = np.array([[1, 0, 1, 0, 1, 0]]).reshape(-1,1)\n",
    "        elif dir_Force[k,0]==1:\n",
    "            vec_vol = np.array([[0, 1, 0, 1, 0, 1]]).reshape(-1,1)\n",
    "        else:\n",
    "            print(f'Look for dir_Force array as you\\'ve been entering something else than 0 or 1 : {dir_Force[k,0]}')\n",
    "\n",
    "        J = H*L/4 # Jacobian associated to N_e[a]\n",
    "        F_v = (-1)**sense_Force[k,0] * imposed_forces[k,0] * J * vec_vol\n",
    "        \n",
    "        for e in range(nb_elem):\n",
    "            for l in range(nb_nodes_elem):\n",
    "                for a in range(dim):\n",
    "                    F_vol[2*connect_mat[e,l]+a, k] += F_v[2*l+a]\n",
    "                    \n",
    "    return F_vol\n",
    "\n",
    "\n",
    "def Force_surf(nb_Force, x_Force, cd_Force, dir_Force, sense_Force, imposed_forces, coords, connect_mat, size_F, nb_elem, nb_nodes_elem, dim):\n",
    "                \n",
    "    \"\"\" Function to account for several areal forces \"\"\"\n",
    "        \n",
    "    for k in range(nb_Force):\n",
    "        if dir_Force[k,0]==0:\n",
    "            vec_surf = np.array([[0, 0, 1, 0, 1, 0]]).reshape(-1,1)\n",
    "        elif dir_Force[k,0]==1:\n",
    "            vec_surf = np.array([[0, 0, 0, 1, 0, 1]]).reshape(-1,1)\n",
    "        else:\n",
    "            print(f'Look for dir_Force array as you\\'ve been entering something else than 0 or 1 : {dir_Force[k,0]}')\n",
    "            \n",
    "        if x_Force[k,0]==0:\n",
    "            J = H/4\n",
    "        else:\n",
    "            J = L/4\n",
    "\n",
    "        F_s = (-1)**sense_Force[k,0] * imposed_forces[k,0] * J * vec_surf\n",
    "        for e in range(nb_elem):\n",
    "            for l in range(nb_nodes_elem):\n",
    "                for a in range(dim):\n",
    "                    if coords[connect_mat[e,l]][x_Force[k,0]]==cd_Force[k,0]: #0 -> force where x1=?? ; 1 -> force where x2=??\n",
    "                        F_surf[2*connect_mat[e,l]+a, k] += F_s[2*l+a]\n",
    "                    else:\n",
    "                        1==0\n",
    "                        \n",
    "    return F_surf  "
   ]
  },
  {
   "cell_type": "code",
   "execution_count": 36,
   "metadata": {},
   "outputs": [
    {
     "name": "stdout",
     "output_type": "stream",
     "text": [
      "F_vol :\n",
      "  (1, 0)\t-4.0875\n",
      "  (3, 0)\t-4.0875\n",
      "  (5, 0)\t-4.0875\n",
      "  (7, 0)\t-4.0875\n",
      "  (9, 0)\t-16.349999999999998\n",
      "  (11, 0)\t-4.0875\n",
      "  (13, 0)\t-4.0875\n",
      "  (15, 0)\t-4.0875\n",
      "  (17, 0)\t-4.0875\n",
      "\n",
      "# ----------------------------------------------------\n",
      "\n",
      "F_surf :\n",
      "  (1, 0)\t-7.5\n",
      "  (7, 0)\t-7.5\n",
      "  (13, 0)\t-7.5\n"
     ]
    }
   ],
   "source": [
    "# Calculate both volumic and areal force vectors\n",
    "\n",
    "# ---------------------------------------------------\n",
    "\n",
    "# Sizes\n",
    "size_F        = np.size(coords,0)*np.size(coords,1)\n",
    "\n",
    "nb_elem       = len(connect_mat)\n",
    "nb_nodes_elem = np.size(connect_mat,1)\n",
    "nb_nodes      = len(coords)\n",
    "    \n",
    "dim           = 2\n",
    "\n",
    "# Data\n",
    "g   = 9.81 # [m.s^-2]\n",
    "\n",
    "# ---------------------------------------------------\n",
    "# ---------------------------------------------------\n",
    "\n",
    "# HOW MUCH FORCES TO BE CONSIDERED ? (to be used to display displacement afterwards)\n",
    "\n",
    "nb_Force = 1 # same for surf and volume # 1 at least\n",
    "\n",
    "# ---------------------------------------------------\n",
    "# ---------------------------------------------------\n",
    "\n",
    "# DO YOU WANT TO IMPOSE SPECIFIC FORCES ?\n",
    "impose_own_forces = False\n",
    "        \n",
    "if impose_own_forces==True:\n",
    "\n",
    "    # ----------------------------------------------------------\n",
    "    # ----------------------------------------------------------\n",
    "    # ------------------ STEP 1 - Choice Forces ----------------\n",
    "    # ----------------------------------------------------------\n",
    "    # ----------------------------------------------------------\n",
    "    \n",
    "    # ON VOLUMIC FORCES\n",
    "    impose_own_forces_vol  = True\n",
    "    \n",
    "    # ON AREAL FORCES\n",
    "    impose_own_forces_surf = True\n",
    "    \n",
    "    vec_vol = np.zeros((6, 1))\n",
    "    vec_surf = np.zeros((6, 1))\n",
    "    \n",
    "    # ----------------------------------------------------------\n",
    "\n",
    "    if impose_own_forces_vol == True :\n",
    "\n",
    "        # ----------------------------------------------------------\n",
    "        # ----------------------------------------------------------\n",
    "        # ------------ Case 1 - Specific Volumic Force -------------\n",
    "        # ----------------------------------------------------------\n",
    "        # ----------------------------------------------------------\n",
    "    \n",
    "        # Initialisation\n",
    "        F_vol  = sp.lil_matrix((size_F, nb_Force))\n",
    "        F_surf = sp.lil_matrix((size_F, nb_Force))\n",
    "\n",
    "        # ALONG WHICH AXIS ?\n",
    "\n",
    "        dir_Force_vol = np.zeros((nb_Force, 1))\n",
    "\n",
    "        # ex : 0 -> condition along ex\n",
    "        #    : 1 -> condition along ey\n",
    "\n",
    "        dir_Force_vol = np.array([1]).reshape(-1, 1) # change here\n",
    "\n",
    "        # ----------------------------------------------------------\n",
    "\n",
    "        # IN WHICH SENSE ?\n",
    "\n",
    "        sense_Force_vol = np.zeros((nb_Force, 1))\n",
    "\n",
    "        # ex : 0 -> positive force\n",
    "        #    : 1 -> negative force\n",
    "\n",
    "        sense_Force_vol = np.array([1]).reshape(-1, 1) # change here\n",
    "\n",
    "        # ----------------------------------------------------------\n",
    "\n",
    "        # PLEASE ENTER THE SPECIFIC FORCE(S) ([Pa]) :\n",
    "        imposed_forces_vol = np.array([10]).reshape(-1, 1) # change here\n",
    "\n",
    "        # ----------------------------------------------------------\n",
    "        # ----------------------------------------------------------\n",
    "\n",
    "        F_vol  = Force_vol(nb_Force, dir_Force_vol, sense_Force_vol, imposed_forces_vol, coords, connect_mat, size_F, nb_elem, nb_nodes_elem, dim)\n",
    "        (F_surf, blank) = Force(nb_Force, g, H, L, coords, connect_mat, size_F, nb_elem, nb_nodes_elem, dim)\n",
    "\n",
    "    else:\n",
    "        1==0\n",
    "    \n",
    "    if impose_own_forces_surf == True:\n",
    "\n",
    "        # ----------------------------------------------------------\n",
    "        # ----------------------------------------------------------\n",
    "        # ------------- Case 2 - Specific Areal Force --------------\n",
    "        # ----------------------------------------------------------\n",
    "        # ----------------------------------------------------------\n",
    "        \n",
    "        # Initialisation\n",
    "        F_vol  = sp.lil_matrix((size_F, nb_Force))\n",
    "        F_surf = sp.lil_matrix((size_F, nb_Force))\n",
    "\n",
    "        # ON WHICH VARIABLE ?\n",
    "\n",
    "        x_Force_surf = np.zeros((nb_Force, 1)) # Vector variables on which we put BC\n",
    "\n",
    "        # 0 : condition on x1 (row)\n",
    "        # 1 : condition on x2 (col)\n",
    "\n",
    "        x_Force_surf = np.array([1]).reshape(-1, 1) # change here\n",
    "\n",
    "        # ----------------------------------------------------------\n",
    "\n",
    "        # WHAT CONDITON ON THIS VARIABLE ?\n",
    "\n",
    "        cd_Force_surf = np.zeros((nb_Force, 1))\n",
    "\n",
    "        # ex : cd1=0 -> condition on x1 or x2=0 (row) (recall : x1 if you put 0 before while x2 if you put 1)\n",
    "        #    : cd2=H -> condition on x1 or x2=H (col)\n",
    "\n",
    "        cd_Force_surf = np.array([H]).reshape(-1, 1) # change here\n",
    "\n",
    "        # ----------------------------------------------------------\n",
    "\n",
    "        # ALONG WHICH AXIS ?\n",
    "\n",
    "        dir_Force_surf = np.zeros((nb_Force, 1))\n",
    "\n",
    "        # ex : 0 -> condition along ex\n",
    "        #    : 1 -> condition along ey\n",
    "\n",
    "        dir_Force_surf = np.array([1]).reshape(-1, 1) # change here\n",
    "\n",
    "        # ----------------------------------------------------------\n",
    "\n",
    "        # IN WHICH SENSE ?\n",
    "\n",
    "        sense_Force_surf = np.zeros((nb_Force, 1))\n",
    "\n",
    "        # ex : 0 -> positive force\n",
    "        #    : 1 -> negative force\n",
    "\n",
    "        sense_Force_surf = np.array([1]).reshape(-1, 1) # change here\n",
    "\n",
    "        # ----------------------------------------------------------\n",
    "\n",
    "        # PLEASE ENTER THE SPECIFIC FORCES ([Pa]) :\n",
    "        imposed_forces_surf = np.array([20]).reshape(-1, 1) # change here\n",
    "\n",
    "        # ----------------------------------------------------------\n",
    "        # ----------------------------------------------------------\n",
    "\n",
    "        F_surf = Force_surf(nb_Force, x_Force_surf, cd_Force_surf, dir_Force_surf, sense_Force_surf, imposed_forces_surf, coords, connect_mat, size_F, nb_elem, nb_nodes_elem, dim)\n",
    "        (blank, F_vol) = Force(nb_Force, g, H, L, coords, connect_mat, size_F, nb_elem, nb_nodes_elem, dim)\n",
    "\n",
    "    else:\n",
    "        1==0\n",
    "        \n",
    "    if (impose_own_forces_surf == True) and (impose_own_forces_vol == True):\n",
    "        \n",
    "        # ----------------------------------------------------------\n",
    "        # ----------------------------------------------------------\n",
    "        # -------------- Case 3 - Both Specific Forces -------------\n",
    "        # ----------------------------------------------------------\n",
    "        # ----------------------------------------------------------\n",
    "        \n",
    "        # Initialisation\n",
    "        F_vol  = sp.lil_matrix((size_F, nb_Force))\n",
    "        F_surf = sp.lil_matrix((size_F, nb_Force))\n",
    "\n",
    "        F_surf = Force_surf(nb_Force, x_Force_surf, cd_Force_surf, dir_Force_surf, sense_Force_surf, imposed_forces_surf, coords, connect_mat, size_F, nb_elem, nb_nodes_elem, dim)\n",
    "        F_vol  = Force_vol(nb_Force, dir_Force_vol, sense_Force_vol, imposed_forces_vol, coords, connect_mat, size_F, nb_elem, nb_nodes_elem, dim)\n",
    "\n",
    "    else:\n",
    "        1==0\n",
    "        \n",
    "else:\n",
    "    \n",
    "    # ----------------------------------------------------------\n",
    "    # ----------------------------------------------------------\n",
    "    # ---------------- Case 4 - Automatic Forces ---------------\n",
    "    # ----------------------------------------------------------\n",
    "    # ----------------------------------------------------------\n",
    "    \n",
    "    (F_surf, F_vol) = Force(nb_Force, g, H, L, coords, connect_mat, size_F, nb_elem, nb_nodes_elem, dim)\n",
    "    \n",
    "# ----------------------------------------------------------\n",
    "# ----------------------------------------------------------\n",
    "\n",
    "print('F_vol :')\n",
    "print(F_vol)\n",
    "\n",
    "print('\\n# ----------------------------------------------------\\n')\n",
    "\n",
    "print('F_surf :')\n",
    "print(F_surf)"
   ]
  },
  {
   "cell_type": "markdown",
   "metadata": {},
   "source": [
    "### 6.1 Numerical application - Assembly K - F"
   ]
  },
  {
   "cell_type": "markdown",
   "metadata": {},
   "source": [
    "##### Global stiffness matrix - K"
   ]
  },
  {
   "cell_type": "code",
   "execution_count": 37,
   "metadata": {},
   "outputs": [
    {
     "name": "stdout",
     "output_type": "stream",
     "text": [
      "Global stiffness matrix from unit elementary matrix K_e :\n"
     ]
    },
    {
     "data": {
      "text/plain": [
       "array([[2., 2., 1., 1., 0., 0., 1., 1., 2., 2., 0., 0., 0., 0., 0., 0.,\n",
       "        0., 0.],\n",
       "       [2., 2., 1., 1., 0., 0., 1., 1., 2., 2., 0., 0., 0., 0., 0., 0.,\n",
       "        0., 0.],\n",
       "       [1., 1., 2., 2., 1., 1., 0., 0., 2., 2., 0., 0., 0., 0., 0., 0.,\n",
       "        0., 0.],\n",
       "       [1., 1., 2., 2., 1., 1., 0., 0., 2., 2., 0., 0., 0., 0., 0., 0.,\n",
       "        0., 0.],\n",
       "       [0., 0., 1., 1., 2., 2., 0., 0., 2., 2., 1., 1., 0., 0., 0., 0.,\n",
       "        0., 0.],\n",
       "       [0., 0., 1., 1., 2., 2., 0., 0., 2., 2., 1., 1., 0., 0., 0., 0.,\n",
       "        0., 0.],\n",
       "       [1., 1., 0., 0., 0., 0., 2., 2., 2., 2., 0., 0., 1., 1., 0., 0.,\n",
       "        0., 0.],\n",
       "       [1., 1., 0., 0., 0., 0., 2., 2., 2., 2., 0., 0., 1., 1., 0., 0.,\n",
       "        0., 0.],\n",
       "       [2., 2., 2., 2., 2., 2., 2., 2., 8., 8., 2., 2., 2., 2., 2., 2.,\n",
       "        2., 2.],\n",
       "       [2., 2., 2., 2., 2., 2., 2., 2., 8., 8., 2., 2., 2., 2., 2., 2.,\n",
       "        2., 2.],\n",
       "       [0., 0., 0., 0., 1., 1., 0., 0., 2., 2., 2., 2., 0., 0., 0., 0.,\n",
       "        1., 1.],\n",
       "       [0., 0., 0., 0., 1., 1., 0., 0., 2., 2., 2., 2., 0., 0., 0., 0.,\n",
       "        1., 1.],\n",
       "       [0., 0., 0., 0., 0., 0., 1., 1., 2., 2., 0., 0., 2., 2., 1., 1.,\n",
       "        0., 0.],\n",
       "       [0., 0., 0., 0., 0., 0., 1., 1., 2., 2., 0., 0., 2., 2., 1., 1.,\n",
       "        0., 0.],\n",
       "       [0., 0., 0., 0., 0., 0., 0., 0., 2., 2., 0., 0., 1., 1., 2., 2.,\n",
       "        1., 1.],\n",
       "       [0., 0., 0., 0., 0., 0., 0., 0., 2., 2., 0., 0., 1., 1., 2., 2.,\n",
       "        1., 1.],\n",
       "       [0., 0., 0., 0., 0., 0., 0., 0., 2., 2., 1., 1., 0., 0., 1., 1.,\n",
       "        2., 2.],\n",
       "       [0., 0., 0., 0., 0., 0., 0., 0., 2., 2., 1., 1., 0., 0., 1., 1.,\n",
       "        2., 2.]])"
      ]
     },
     "execution_count": 37,
     "metadata": {},
     "output_type": "execute_result"
    }
   ],
   "source": [
    "import scipy.sparse as sp\n",
    "\n",
    "size_K = np.size(coords,0)*np.size(coords,1)\n",
    "\n",
    "nb_elem       = len(connect_mat)\n",
    "nb_nodes_elem = np.size(connect_mat,1)\n",
    "dim           = 2\n",
    "\n",
    "# ----------------------------------------------------------------------------------\n",
    "\n",
    "# Global stiffness matrix\n",
    "K_g = sp.lil_matrix((size_K, size_K)) # 2D*9nods=18\n",
    "\n",
    "for e in range(nb_elem):\n",
    "    K_e = Ke_a(e, coords, connect_mat, A)#sp.lil_matrix(Ke_a(e, coords, connect_mat, A))\n",
    "    for l in range(nb_nodes_elem):\n",
    "        for a in range(dim):\n",
    "            for k in range(nb_nodes_elem):\n",
    "                for b in range(dim):\n",
    "                    K_g[2*connect_mat[e,l]+a, 2*connect_mat[e,k]+b] += K_e[2*l+a, 2*k+b]\n",
    "\n",
    "# ----------------------------------------------------------------------------------\n",
    "\n",
    "# \"unit\" Matrix to check fiability (in terms of superposition and position in K_g)\n",
    "K_g_unit = np.zeros((size_K,size_K))\n",
    "\n",
    "for e in range(nb_elem):\n",
    "    K_e = np.ones((6,6))\n",
    "    for l in range(nb_nodes_elem):      # 3nods } T3\n",
    "        for a in range(dim):            # 2D    } 6x6 coordonnées\n",
    "            for k in range(nb_nodes_elem):\n",
    "                for b in range(dim):\n",
    "                    K_g_unit[2*connect_mat[e,l]+a, 2*connect_mat[e,k]+b] += K_e[2*l+a, 2*k+b]\n",
    "\n",
    "# To uncomment to see well doing of the code\n",
    "print(r\"Global stiffness matrix from unit elementary matrix K_e :\")\n",
    "K_g_unit"
   ]
  },
  {
   "cell_type": "code",
   "execution_count": 38,
   "metadata": {
    "scrolled": true
   },
   "outputs": [
    {
     "data": {
      "image/png": "[encoded data removed]",
      "text/plain": [
       "<Figure size 720x360 with 2 Axes>"
      ]
     },
     "metadata": {
      "needs_background": "light"
     },
     "output_type": "display_data"
    }
   ],
   "source": [
    "# Disposition K_g matrix compared to normalized K_g_unit matrix\n",
    "\n",
    "fig, ax = plt.subplots(1, 2, figsize=(10,5))\n",
    "\n",
    "ax[0].spy(sp.lil_matrix(K_g_unit))\n",
    "\n",
    "ax[0].set_title('Unit K_g')\n",
    "ax[0].set_xlabel('columns')\n",
    "ax[0].set_ylabel('rows')\n",
    "\n",
    "# -----------------------------------------------\n",
    "\n",
    "ax[1].spy(K_g)\n",
    "\n",
    "ax[1].set_title('K_g')\n",
    "ax[1].set_xlabel('columns')\n",
    "ax[1].set_ylabel('rows')\n",
    "\n",
    "# -----------------------------------------------\n",
    "\n",
    "fig.tight_layout()\n",
    "\n",
    "plt.savefig('K_matrix.png')"
   ]
  },
  {
   "cell_type": "markdown",
   "metadata": {},
   "source": [
    "One can see that some values of K_g are cancelling. This confirm the necessity of using a normalized unit matrix to check if disposition to global coordinates occurs well or not.\n",
    "\n",
    "Not that you can display K_g_unit to check for weight at each coordinates."
   ]
  },
  {
   "cell_type": "code",
   "execution_count": 39,
   "metadata": {},
   "outputs": [
    {
     "name": "stdout",
     "output_type": "stream",
     "text": [
      "Analytically : K55 = 671.1409395973149\n",
      "Numerically  : K55 = 671.1409395973149\n"
     ]
    }
   ],
   "source": [
    "# Checking K55 value, numerically and analytically\n",
    "print(f'Analytically : K55 = {.5*(mu*L/H + (lam+2*mu)*H/L)}')\n",
    "print(f'Numerically  : K55 = {K_g[4,4]}')"
   ]
  },
  {
   "cell_type": "markdown",
   "metadata": {},
   "source": [
    "A result like this one tends to confirm the well runing of the code."
   ]
  },
  {
   "cell_type": "markdown",
   "metadata": {},
   "source": [
    "##### Boundary condition to get singular solution"
   ]
  },
  {
   "cell_type": "code",
   "execution_count": 40,
   "metadata": {},
   "outputs": [],
   "source": [
    "def BC(coords, nb_BC, x_BC, cd, disp_BC):\n",
    "    \n",
    "    \"\"\" Function calculating indicies where BC is applied \n",
    "    and displaying this BC \"\"\"\n",
    "    \n",
    "    # ----------------------------------------------------------\n",
    "\n",
    "    # INDICIES\n",
    "    \n",
    "    # Size\n",
    "    nb_nodes = len(coords)\n",
    "    \n",
    "    idx = np.zeros((np.size(coords, 0), nb_BC))\n",
    "    \n",
    "    for i in range(nb_nodes):\n",
    "        for j in range(nb_BC):\n",
    "            idx[i,j] = (coords[i,x_BC[j]]==cd[j])\n",
    "\n",
    "    # ----------------------------------------------------------\n",
    "\n",
    "    # DISPLAY indices where we apply BC - local formulation \n",
    "    \n",
    "    blank    = np.zeros(1) # value to be removed afterward\n",
    "    indice   = np.zeros((3, nb_BC)) # 3 as we know on a surface 3 nods share the same coordinate, either on x1 or x2\n",
    "\n",
    "    for j in range(nb_BC):\n",
    "        indice[:,j]  = np.append(blank, np.where(idx[:,j]))[1:]\n",
    "        \n",
    "    indice = indice.astype(int)\n",
    "\n",
    "    print('BC on speed imposed\\n')\n",
    "    \n",
    "    for k in range(nb_BC):\n",
    "        print(f\"Indices where condition on x{x_BC[k]+1}={cd[k]} : {indice[:,k]} (condition on U{disp_BC[k]+1})\")\n",
    "        \n",
    "    return indice"
   ]
  },
  {
   "cell_type": "markdown",
   "metadata": {},
   "source": [
    "##### Unit diagonal term method - rebuilding of K and F"
   ]
  },
  {
   "cell_type": "code",
   "execution_count": 41,
   "metadata": {},
   "outputs": [],
   "source": [
    "# FUNCTION TO ACCOUNT FOR DIRICHLET BOUNDARY CONDITIONS\n",
    "\n",
    "def K_F_BC(K_g, F, U_BC, indice, nb_BC, disp_BC):\n",
    "    \n",
    "    \"\"\" Building new force vector removing K components associated to position of BC \n",
    "    + F concerned values to U \"\"\"\n",
    "\n",
    "    # ----------------------------------------------------------\n",
    "\n",
    "    size_K = np.size(K_g, 0)\n",
    "    size_F = np.size(F, 1)\n",
    "\n",
    "    nb_elem       = len(connect_mat)\n",
    "    nb_nodes_elem = np.size(connect_mat,1)\n",
    "    nb_nodes      = len(coords)\n",
    "    \n",
    "    # Vertical size K_g (square matrix) & number of indices where BC occurs (3) times nb_BC\n",
    "    K_BC = sp.lil_matrix((size_K, nb_BC*np.size(indice, 0)))\n",
    "\n",
    "    for i in range(size_F):\n",
    "        for j in range(nb_BC):\n",
    "            for k in range(np.size(indice, 0)):\n",
    "\n",
    "                j_global = k+j*np.size(indice, 0)\n",
    "\n",
    "                K_BC[:,j_global] = K_g[:,2*indice[:,j]+disp_BC[j]][:,k]  # ex : 2*indice[:,0]+i1 = from local(indice[:,0]) to global. One might note that i1 = 0 or 1 --> we have even/odd terms --> component along ex or ey respectively\n",
    "                F[:,i] += -K_BC[:,k:k+1]*U_BC[j]\n",
    "\n",
    "            # ---------------------------------------------------------------\n",
    "\n",
    "            # removing necessary rows and columns in K_g + F=U\n",
    "\n",
    "        for j in range(nb_BC):\n",
    "\n",
    "            k_zero = 2*indice[:,j]+disp_BC[j] # indice to where we modify value of K_g (recall : index where BC imposed)\n",
    "\n",
    "            for k in k_zero:\n",
    "                K_g[:,k] = 0  # col at zero\n",
    "                K_g[k,:] = 0  # row at zero\n",
    "\n",
    "                K_g[k,k] = 1  # intersection at one\n",
    "\n",
    "                # ---------------------------\n",
    "\n",
    "                F[k,i] = U_BC[j]         \n",
    "            \n",
    "    # ---------------------------------------------------------------\n",
    "\n",
    "    print('\\n# ---------------------------------------------------------------\\n')\n",
    "\n",
    "    # Building new force vector removing K components associated to position of BC\n",
    "\n",
    "    print('Recalculation of K_g & F through unit diagonal term method\\n')\n",
    "    \n",
    "    print('Calculating .......\\n')\n",
    "\n",
    "    print('New K_g & F calculated\\n')\n",
    "            \n",
    "    return (K_g, F)"
   ]
  },
  {
   "cell_type": "markdown",
   "metadata": {},
   "source": [
    "### 7.1 Numerical application - Assembly - Resolution"
   ]
  },
  {
   "cell_type": "code",
   "execution_count": 42,
   "metadata": {
    "scrolled": true
   },
   "outputs": [
    {
     "name": "stdout",
     "output_type": "stream",
     "text": [
      "BC on speed imposed\n",
      "\n",
      "Indices where condition on x[1]=[0] : [6 7 8] (condition on U[1])\n",
      "Indices where condition on x[2]=[0] : [2 5 8] (condition on U[2])\n",
      "\n",
      "# ---------------------------------------------------------------\n",
      "\n",
      "Recalculation of K_g & F through unit diagonal term method\n",
      "\n",
      "Calculating .......\n",
      "\n",
      "New K_g & F calculated\n",
      "\n",
      "# ----------------------------------------------------------\n",
      "\n",
      "U solution to the problem is :\n",
      "\n",
      "  (0, 0)\t0.1615134915143664\n",
      "  (1, 0)\t-0.061082838315944535\n",
      "  (2, 0)\t0.17358575475355076\n",
      "  (3, 0)\t-0.030886541086145167\n",
      "  (4, 0)\t0.1779740489785291\n",
      "  (6, 0)\t0.08159027041431426\n",
      "  (7, 0)\t-0.05827440905274969\n",
      "  (8, 0)\t0.08623260268182532\n",
      "  (9, 0)\t-0.03127709231375095\n",
      "  (10, 0)\t0.08857386121814866\n",
      "  (13, 0)\t-0.06059699357855504\n",
      "  (15, 0)\t-0.030697822540417675\n"
     ]
    },
    {
     "name": "stderr",
     "output_type": "stream",
     "text": [
      "C:\\Users\\vltn0\\anaconda3\\lib\\site-packages\\scipy\\sparse\\linalg\\dsolve\\linsolve.py:144: SparseEfficiencyWarning: spsolve requires A be CSC or CSR matrix format\n",
      "  warn('spsolve requires A be CSC or CSR matrix format',\n"
     ]
    }
   ],
   "source": [
    "# ASSEMBLY\n",
    "\n",
    "# ----------------------------------------------------------\n",
    "\n",
    "# DO YOU WANT TO IMPOSE BC ON SPEED ?\n",
    "impose_BC = True\n",
    "\n",
    "if impose_BC==True:\n",
    "\n",
    "    # ----------------------------------------------------------    \n",
    "    # ----------------------------------------------------------\n",
    "    # ---------------------- STEP 1 - BC -----------------------\n",
    "    # ----------------------------------------------------------\n",
    "    # ----------------------------------------------------------\n",
    "\n",
    "    # HOW MUCH BC ?\n",
    "    \n",
    "    nb_BC = 2\n",
    "        \n",
    "    # ----------------------------------------------------------\n",
    "    \n",
    "    # ON WHICH VARIABLE ?\n",
    "    \n",
    "    x_BC = np.zeros((nb_BC, 1)) # Vector variables on which we put BC\n",
    "    \n",
    "    # 0 : condition on x1 (row)\n",
    "    # 1 : condition on x2 (col)\n",
    "    # (terms that'll be useful to consider global coordinates)\n",
    "    \n",
    "    x_BC = np.array([0, 1]).reshape(-1, 1) # change here\n",
    "\n",
    "    # ----------------------------------------------------------\n",
    "\n",
    "    # WHAT CONDITON ?\n",
    "\n",
    "    cd = np.zeros((nb_BC, 1))\n",
    "\n",
    "    # ex : cd1=0 -> condition on x1 or x2=0 (row) (recall : x1 if you put 0 before while x2 if you put 1)\n",
    "    #    : cd2=H -> condition on x1 or x2=H (col)\n",
    "    # (terms that'll be useful to print indices in local coordinates)\n",
    "\n",
    "    cd = np.array([0, 0]).reshape(-1, 1) # change here\n",
    "\n",
    "    # ----------------------------------------------------------\n",
    "\n",
    "    # ALONG WHICH AXIS ?\n",
    "    \n",
    "    # ex : 0 -> condition on u1 (along ex)\n",
    "    #    : 1 -> condition on u2 (along ey)\n",
    "    \n",
    "    # to be used in STEP 2\n",
    "    disp_BC = np.array([0, 1]).reshape(-1, 1) # change here\n",
    "    \n",
    "    # ----------------------------------------------------------\n",
    "    # ----------------------------------------------------------\n",
    "\n",
    "    # Applying boundary conditions - get associated indices\n",
    "\n",
    "    indice = BC(coords, nb_BC, x_BC, cd, disp_BC)\n",
    "\n",
    "    # ----------------------------------------------------------\n",
    "    # ----------------------------------------------------------\n",
    "    # --------------------- STEP 2 - F & K ---------------------\n",
    "    # ----------------------------------------------------------\n",
    "    # ----------------------------------------------------------\n",
    "    \n",
    "    # force vector\n",
    "    F = sp.lil_matrix(F_surf+F_vol)\n",
    "\n",
    "    # ----------------------------------------------------------\n",
    "\n",
    "    # WHAT CONDITION ON DISPLACEMENT ?\n",
    "    \n",
    "    U_BC = np.zeros((nb_BC,1))\n",
    "\n",
    "    # We impose  U\n",
    "    # U_{disp_BC}(id1=cd1)=U1  # ex : U_1(x1=L)=0\n",
    "    # U_{disp_BC}(id1=cd1)=U2\n",
    "\n",
    "    U_BC = np.array([0, 0]) # change here\n",
    "\n",
    "    # ----------------------------------------------------------\n",
    "    # ----------------------------------------------------------\n",
    "    \n",
    "    # Building new force vector removing K components associated to position of BC\n",
    "    \n",
    "    (K_g, F) = K_F_BC(K_g, F, U_BC, indice, nb_BC, disp_BC)  # \"reshaped\" K_g & F\n",
    "\n",
    "    # ----------------------------------------------------------\n",
    "    # ----------------------------------------------------------\n",
    "    # ----------------------- STEP 3 - U -----------------------\n",
    "    # ----------------------------------------------------------\n",
    "    # ----------------------------------------------------------\n",
    "    \n",
    "    from scipy.sparse.linalg import spsolve\n",
    "\n",
    "    # ----------------------------------------------------------\n",
    "    # ----------------------------------------------------------\n",
    "    \n",
    "    # solving problem - calcul of U\n",
    "\n",
    "    size_K = np.size(K_g,0)\n",
    "    size_F = np.size(F,1)\n",
    "    \n",
    "    U = sp.lil_matrix((size_K, size_F))\n",
    "    \n",
    "    for i in range(np.size(F,1)):\n",
    "        U[:,i] = spsolve(K_g, F[:,i]).reshape(-1,1)\n",
    "\n",
    "    print('# ----------------------------------------------------------\\n')\n",
    "    \n",
    "    print('U solution to the problem is :\\n')\n",
    "    print(U)\n",
    "\n",
    "else:\n",
    "    1==0\n",
    "    print('No BC on speed imposed')\n",
    "    print('As this, the system might be ill-defined and brgin an infinity of solution')\n",
    "    "
   ]
  },
  {
   "cell_type": "markdown",
   "metadata": {},
   "source": [
    "##### Deformation tensor in 2D :"
   ]
  },
  {
   "cell_type": "code",
   "execution_count": 43,
   "metadata": {},
   "outputs": [],
   "source": [
    "# Use of U solution on calculation of interpretable tensor \n",
    "# such as strain and stress\n",
    "\n",
    "# --------------------------------------------------------\n",
    "\n",
    "# Method 1 - Gn -> E under vector form\n",
    "\n",
    "def get_ind(i, connect_mat):\n",
    "    \n",
    "    i_ind  = np.empty([])\n",
    "\n",
    "    for a in range(2):\n",
    "        i_intern = np.array([2*connect_mat[i]+a])\n",
    "        i_ind    = np.append(i_ind, i_intern)\n",
    "    return i_ind[1:]\n",
    "\n",
    "def E_e1(k_load, i, connect_mat, U):\n",
    "    \n",
    "    (Ji, detJ) = J(i, coords, connect_mat)\n",
    "    G_N = Gn(D_N, Ji)\n",
    "\n",
    "    ind = get_ind(i, connect_mat)\n",
    "    \n",
    "    u   = U[ind,k_load].reshape(-1,2) # to fit Gn size\n",
    "    return sp.lil_matrix(G_N).T * u\n",
    "\n",
    "# --------------------------------------------------------\n",
    "\n",
    "# Method 2 - Be -> E under matrix form\n",
    "\n",
    "def E_e2(k_load, i, connect_mat, U):\n",
    "    \n",
    "    Be  = Be_a(i, coords, connect_mat)\n",
    "    \n",
    "    ind = get_ind(i, connect_mat)\n",
    "     \n",
    "    u   = U[ind, k_load]\n",
    "    return sp.lil_matrix(Be) * u"
   ]
  },
  {
   "cell_type": "markdown",
   "metadata": {},
   "source": [
    "##### E - Method 1"
   ]
  },
  {
   "cell_type": "code",
   "execution_count": 44,
   "metadata": {
    "scrolled": true
   },
   "outputs": [
    {
     "name": "stdout",
     "output_type": "stream",
     "text": [
      "Tenseur de deformation de l'élément 1 and loading 1 :\n",
      "\n",
      "ε =\n",
      "  (0, 0)\t0.05018725922169405\n",
      "  (0, 1)\t-0.2606876482896121\n",
      "  (1, 0)\t-0.2606876482896121\n",
      "  (1, 1)\t-0.05961149200438717\n"
     ]
    }
   ],
   "source": [
    "# Choose element\n",
    "elem = 1\n",
    "elem -= 1\n",
    "\n",
    "# Choose loading\n",
    "load = 1\n",
    "load -= 1\n",
    "\n",
    "E_1 = .5*(E_e1(load, elem, connect_mat, U) + E_e1(load, elem, connect_mat, U).T)\n",
    "\n",
    "print(f\"Tenseur de deformation de l'élément {elem+1} and loading {load+1} :\")\n",
    "print(f'\\n\\u03B5 =')\n",
    "print(E_1)"
   ]
  },
  {
   "cell_type": "markdown",
   "metadata": {},
   "source": [
    "##### E - Method 2"
   ]
  },
  {
   "cell_type": "code",
   "execution_count": 45,
   "metadata": {},
   "outputs": [
    {
     "name": "stdout",
     "output_type": "stream",
     "text": [
      "Vecteur de deformation de l'élément 2 :\n",
      "\n",
      "ε =\n",
      "  (0, 0)\t0.05018725922169405\n",
      "  (1, 0)\t-0.05961149200438717\n",
      "  (2, 0)\t-0.5213752965792243\n",
      "\n",
      "We recall that ε[3]=2*ε12=2*ε21, hence the factor 2 contrary to method 1\n"
     ]
    }
   ],
   "source": [
    "E2 = sp.lil_matrix((3, np.size(connect_mat, 0)*np.size(F, 1)))\n",
    "\n",
    "# Deformation tensor under vectorized notation\n",
    "\n",
    "for e in range(np.size(connect_mat, 0)):\n",
    "    for f in range(np.size(F, 1)):\n",
    "        E2[:,np.size(F,1)*e+f] = E_e2(f, e, connect_mat, U)\n",
    "\n",
    "# ----------------------------------------------\n",
    "\n",
    "# Choose element to print\n",
    "\n",
    "elem = 1\n",
    "elem -= 1\n",
    "\n",
    "# Choose considered loading\n",
    "\n",
    "load = 1\n",
    "load -= 1\n",
    "\n",
    "# ----------------------------------------------\n",
    "\n",
    "print(f\"Vecteur de deformation de l'élément {k} :\")\n",
    "print(f'\\n\\u03B5 =')\n",
    "print(E2[:,np.size(F,1)*elem+load])\n",
    "print('\\nWe recall that \\u03B5[3]=2*\\u03B512=2*\\u03B521, hence the factor 2 contrary to method 1')"
   ]
  },
  {
   "cell_type": "markdown",
   "metadata": {},
   "source": [
    "#### Stress tensor"
   ]
  },
  {
   "cell_type": "code",
   "execution_count": 46,
   "metadata": {},
   "outputs": [
    {
     "name": "stdout",
     "output_type": "stream",
     "text": [
      "Stress vector of element 1 for loading 1 :\n",
      "\n",
      "σ =\n",
      "  (0, 0)\t-24.255898517353984\n",
      "  (1, 0)\t-38.9939859302508\n",
      "  (2, 0)\t-34.991630642900965\n",
      "\n",
      "σ33 =\n",
      "-30.992443379326346\n",
      "\n",
      "We recall that σ[3]=2*σ12=2*σ21, hence the factor 2 contrary to method 1\n"
     ]
    }
   ],
   "source": [
    "# Use of vectorized method only (method 2)\n",
    "\n",
    "E = E2.copy()\n",
    "\n",
    "# ----------------------------------------------\n",
    "\n",
    "sigma = sp.lil_matrix((3, np.size(connect_mat, 0)*np.size(F, 1)))\n",
    "\n",
    "for f in range(np.size(F, 1)):\n",
    "    for e in range(np.size(connect_mat, 0)):\n",
    "        sigma[:,np.size(F,1)*e+f] = np.dot(sp.lil_matrix(A), E[:,np.size(F,1)*e+f])\n",
    "\n",
    "# ----------------------------------------------\n",
    "\n",
    "# Choose element to print\n",
    "\n",
    "elem = 1\n",
    "elem -= 1\n",
    "\n",
    "# Choose considered loading\n",
    "\n",
    "load = 1\n",
    "load -= 1\n",
    "\n",
    "# ----------------------------------------------\n",
    "\n",
    "print(f\"Stress vector of element {elem+1} for loading {load+1} :\")\n",
    "print(f'\\n\\u03C3 =')\n",
    "print(sigma[:,np.size(F,1)*elem+load])\n",
    "\n",
    "# Use Epsilon from method 1 to calculate trace Epsilon\n",
    "\n",
    "print(f'\\n\\u03C333 =\\n{lam*np.trace(sp.csr_matrix.toarray(E_1))}') # from sparse to dense matrix to get trace\n",
    "print('\\nWe recall that \\u03C3[3]=2*\\u03C312=2*\\u03C321, hence the factor 2 contrary to method 1')"
   ]
  },
  {
   "cell_type": "markdown",
   "metadata": {},
   "source": [
    "#### Energy from deformation"
   ]
  },
  {
   "cell_type": "code",
   "execution_count": 47,
   "metadata": {},
   "outputs": [
    {
     "name": "stdout",
     "output_type": "stream",
     "text": [
      "Energy of deformation :\n",
      "-1.42 J\n"
     ]
    }
   ],
   "source": [
    "# Energy of deformation\n",
    "\n",
    "Energy = .5*np.dot(np.dot(U.T, K_g), U) - np.dot(np.dot(K_g, U).T, U)\n",
    "print('Energy of deformation :')\n",
    "print(f'{Energy[0,0]:.2f} J')"
   ]
  },
  {
   "cell_type": "markdown",
   "metadata": {},
   "source": [
    "#### Work from force vector"
   ]
  },
  {
   "cell_type": "code",
   "execution_count": 48,
   "metadata": {},
   "outputs": [
    {
     "name": "stdout",
     "output_type": "stream",
     "text": [
      "Work of external forces :\n",
      "2.85 J\n"
     ]
    }
   ],
   "source": [
    "Work = np.dot(U.T, F)\n",
    "\n",
    "print('Work of external forces :')\n",
    "print(f'{Work[0,0]:.2f} J')"
   ]
  },
  {
   "cell_type": "markdown",
   "metadata": {},
   "source": [
    "These low values were expected considering the ductile material we're using as well as the forces we apply to it.\n",
    "\n",
    "However, these results are useful to determine the well-doing of the code and to confirm if we are physically reliable when doing these calculations."
   ]
  },
  {
   "cell_type": "markdown",
   "metadata": {},
   "source": [
    "### Showing displacement"
   ]
  },
  {
   "cell_type": "code",
   "execution_count": 49,
   "metadata": {},
   "outputs": [],
   "source": [
    "# Data\n",
    "L = 3. #Length\n",
    "H = 1. #Height\n",
    "\n",
    "coords = np.array([\n",
    "                  [L,     H], \n",
    "                  [L,   H/2],\n",
    "                  [L,     0],\n",
    "                  [L/2,   H],\n",
    "                  [L/2, H/2],\n",
    "                  [L/2,   0],\n",
    "                  [0,     H],\n",
    "                  [0,   H/2],\n",
    "                  [0,     0]\n",
    "                           ])"
   ]
  },
  {
   "cell_type": "code",
   "execution_count": 50,
   "metadata": {},
   "outputs": [],
   "source": [
    "# RECALL SIZES & DATA\n",
    "\n",
    "# Sizes\n",
    "size_F        = np.size(coords,0)*np.size(coords,1)\n",
    "\n",
    "nb_elem       = len(connect_mat)\n",
    "nb_nodes_elem = np.size(connect_mat,1)\n",
    "nb_nodes      = len(coords)\n",
    "    \n",
    "dim           = 2\n",
    "\n",
    "# Data\n",
    "g             = 9.81 # [m.s^-2]"
   ]
  },
  {
   "cell_type": "markdown",
   "metadata": {},
   "source": [
    "#### You may change the number of forces in nb_Force to display as much force as you want. \n",
    "Please refer to associated part to know the magnitude of these froces."
   ]
  },
  {
   "cell_type": "code",
   "execution_count": 58,
   "metadata": {},
   "outputs": [
    {
     "name": "stdout",
     "output_type": "stream",
     "text": [
      "\n",
      "# ---------------------------------------------------------------\n",
      "\n",
      "Recalculation of K_g & F through unit diagonal term method\n",
      "\n",
      "Calculating .......\n",
      "\n",
      "New K_g & F calculated\n",
      "\n",
      "# ----------------------------------------------------------\n",
      "\n",
      "U solution to the problem is :\n",
      "\n",
      "  (0, 0)\t0.1615134915143664\n",
      "  (0, 1)\t0.48454047454309873\n",
      "  (1, 0)\t-0.061082838315944535\n",
      "  (1, 1)\t-0.18324851494783354\n",
      "  (2, 0)\t0.17358575475355076\n",
      "  (2, 1)\t0.5207572642606522\n",
      "  (3, 0)\t-0.030886541086145167\n",
      "  (3, 1)\t-0.09265962325843548\n",
      "  (4, 0)\t0.1779740489785291\n",
      "  (4, 1)\t0.5339221469355871\n",
      "  (6, 0)\t0.08159027041431426\n",
      "  (6, 1)\t0.24477081124294256\n",
      "  (7, 0)\t-0.05827440905274969\n",
      "  (7, 1)\t-0.17482322715824897\n",
      "  (8, 0)\t0.08623260268182532\n",
      "  (8, 1)\t0.25869780804547593\n",
      "  (9, 0)\t-0.03127709231375095\n",
      "  (9, 1)\t-0.09383127694125282\n",
      "  (10, 0)\t0.08857386121814866\n",
      "  (10, 1)\t0.2657215836544459\n",
      "  (13, 0)\t-0.06059699357855504\n",
      "  (13, 1)\t-0.18179098073566508\n",
      "  (15, 0)\t-0.030697822540417675\n",
      "  (15, 1)\t-0.09209346762125302\n"
     ]
    },
    {
     "name": "stderr",
     "output_type": "stream",
     "text": [
      "C:\\Users\\vltn0\\anaconda3\\lib\\site-packages\\scipy\\sparse\\linalg\\dsolve\\linsolve.py:144: SparseEfficiencyWarning: spsolve requires A be CSC or CSR matrix format\n",
      "  warn('spsolve requires A be CSC or CSR matrix format',\n"
     ]
    }
   ],
   "source": [
    "# Display displacement\n",
    "\n",
    "nb_Force = 2\n",
    "size_F   = np.size(coords,0)*np.size(coords,1)\n",
    "\n",
    "# Initialisation\n",
    "F_vol  = sp.lil_matrix((size_F, nb_Force))\n",
    "F_surf = sp.lil_matrix((size_F, nb_Force))\n",
    "\n",
    "# Building force vector\n",
    "(F_vol, F_surf) = Force(nb_Force, g, H, L, coords, connect_mat, size_F, nb_elem, nb_nodes_elem, dim)\n",
    "\n",
    "F = sp.lil_matrix(F_surf + F_vol)\n",
    "\n",
    "# ----------------------------------------------------\n",
    "\n",
    "# Applying BC to stiffness matrix & force vector\n",
    "(K_g, F) = K_F_BC(K_g, F, U_BC, indice, nb_BC, disp_BC)\n",
    "\n",
    "# ----------------------------------------------------\n",
    "\n",
    "# Sizes\n",
    "size_K = np.size(K_g, 0)\n",
    "\n",
    "# Solving system - displacement vector\n",
    "U = sp.lil_matrix((size_K, nb_Force))\n",
    "    \n",
    "for i in range(np.size(F,1)):\n",
    "    U[:,i] = spsolve(K_g, F[:,i]).reshape(-1,1)\n",
    "    \n",
    "print('# ----------------------------------------------------------\\n')\n",
    "\n",
    "print('U solution to the problem is :\\n')\n",
    "print(U)"
   ]
  },
  {
   "cell_type": "markdown",
   "metadata": {},
   "source": [
    "#### Re-building of initial structure - symmetry"
   ]
  },
  {
   "cell_type": "code",
   "execution_count": 59,
   "metadata": {
    "scrolled": true
   },
   "outputs": [
    {
     "data": {
      "image/png": "[encoded data removed]",
      "text/plain": [
       "<Figure size 720x360 with 1 Axes>"
      ]
     },
     "metadata": {
      "needs_background": "light"
     },
     "output_type": "display_data"
    }
   ],
   "source": [
    "# coords as a function of F\n",
    "\n",
    "size_F = np.size(F,1)\n",
    "\n",
    "fig, ax = plt.subplots(figsize=(10,5))\n",
    "\n",
    "for cell in connect_mat:\n",
    "    ax.plot(coords[cell][:,0], coords[cell][:,1], \"k-.\", linewidth=1.5)\n",
    "    ax.plot(-coords[cell][:,0], coords[cell][:,1], \"k-.\", linewidth=1.5)\n",
    "\n",
    "for i in range(size_F):\n",
    "\n",
    "    # Apply displacement\n",
    "    \n",
    "    # reshape coords to fit U shape & apply displacement\n",
    "    coords_U = coords.reshape(-1,1).copy()\n",
    "    coords_U += U[:,i]\n",
    "\n",
    "    # reshape coords back\n",
    "    coords_U = coords_U.reshape(-1, 2)\n",
    "    \n",
    "    # -------------------------------------------------\n",
    "\n",
    "    # Display Displacement\n",
    "        \n",
    "    # Coordinates nods\n",
    "    n = nb_Force\n",
    "    c = cm.rainbow(np.linspace(0, 1, n))[i]\n",
    "    for cell in connect_mat:\n",
    "        ax.plot(coords_U[cell][:,0], coords_U[cell][:,1], \"o-\", c=c)\n",
    "        ax.plot(-coords_U[cell][:,0], coords_U[cell][:,1], \"o-\", c=c)\n",
    "\n",
    "    ax.set_title(f'Nods of mesh - E = {100} Pa and nu = {0.30}')\n",
    "    ax.set_xlabel('x [m]')\n",
    "    ax.set_ylabel('y [m]')\n",
    "\n",
    "    ax.set_xlim(-.2 - max(coords_U[:,0]), max(coords_U[:,0]) +.2)\n",
    "    ax.set_ylim(-0.1, H + .2) \n",
    "\n",
    "plt.grid('True')\n",
    "\n",
    "plt.savefig('displacement_nu_03.png')"
   ]
  },
  {
   "cell_type": "markdown",
   "metadata": {},
   "source": [
    "This figure has for only purpose to show the displacements and effect of the considered forces.\n",
    "\n",
    "If you want to look at a more physically reliable result, you may change young modulus from $E=10^2$ Pa to $E=10^9$ Pa.\n",
    "\n",
    "$\\Rightarrow$ Doing so, you will have practically no deformation : of magnitude $10^{-6}$ m for rubber ($\\nu \\approx 0.49$) while $10^{-20}$ m for steel ($\\nu \\approx 0.30$).\n",
    "\n",
    "You may as well change the number of forces to fit your convenience. "
   ]
  },
  {
   "cell_type": "markdown",
   "metadata": {},
   "source": [
    " "
   ]
  },
  {
   "cell_type": "markdown",
   "metadata": {},
   "source": [
    "$\\underline{Conclusion}$"
   ]
  },
  {
   "cell_type": "markdown",
   "metadata": {},
   "source": [
    "As a conclusion, we have been building during this course a set of competences used here in the case of a rectangular 2D mesh. You may note that the obtained result is to be duplicated as, as we recall it, we have a symmetry in $x=0$. \n",
    "\n",
    "We have been building the most consistent code possible to enable for consideration of any BC as well as own defined forces. The graph displayed here in the end has been a way for us to see how behaves the structure given the forces we apply to it. Doing a general code as we have has the purpose to facilitate future modifications. Therefore, one can add both areal and volumic forces to his convenience. We could similarly considering a restoring force to the bottom instead of an embedded connection.\n",
    "\n",
    "In the end, the obtained displacements are in agreement with the direction and intensity one could expect given the material's caracteristics."
   ]
  }
 ],
 "metadata": {
  "kernelspec": {
   "display_name": "Python 3",
   "language": "python",
   "name": "python3"
  },
  "language_info": {
   "codemirror_mode": {
    "name": "ipython",
    "version": 3
   },
   "file_extension": ".py",
   "mimetype": "text/x-python",
   "name": "python",
   "nbconvert_exporter": "python",
   "pygments_lexer": "ipython3",
   "version": "3.8.3"
  }
 },
 "nbformat": 4,
 "nbformat_minor": 4
}
