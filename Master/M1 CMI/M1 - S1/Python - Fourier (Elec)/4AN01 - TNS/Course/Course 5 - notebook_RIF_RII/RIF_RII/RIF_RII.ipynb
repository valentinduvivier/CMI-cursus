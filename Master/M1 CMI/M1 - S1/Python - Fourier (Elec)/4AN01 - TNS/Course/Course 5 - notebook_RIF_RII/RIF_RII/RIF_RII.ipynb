{
 "cells": [
  {
   "cell_type": "markdown",
   "metadata": {},
   "source": [
    "<img src=\"./figures/logo_su.png\" />"
   ]
  },
  {
   "cell_type": "markdown",
   "metadata": {},
   "source": [
    "# Traitement numérique du signal"
   ]
  },
  {
   "cell_type": "markdown",
   "metadata": {},
   "source": [
    "## Les filtres RIF et RII"
   ]
  },
  {
   "cell_type": "code",
   "execution_count": 1,
   "metadata": {},
   "outputs": [],
   "source": [
    "%matplotlib notebook\n",
    "from RIF_RII_ntb import *"
   ]
  },
  {
   "cell_type": "markdown",
   "metadata": {},
   "source": [
    "## Filtre RIF du 1er ordre"
   ]
  },
  {
   "cell_type": "markdown",
   "metadata": {},
   "source": [
    "On appelle filtre RIF du 1er ordre :\n",
    "    "
   ]
  },
  {
   "cell_type": "code",
   "execution_count": 2,
   "metadata": {},
   "outputs": [
    {
     "data": {
      "application/vnd.jupyter.widget-view+json": {
       "model_id": "ddf2823b00bd4eed92089c8ed049d3a1",
       "version_major": 2,
       "version_minor": 0
      },
      "text/plain": [
       "interactive(children=(FloatSlider(value=-1.0, description='z1', max=2.0, min=-2.0), Output()), _dom_classes=('…"
      ]
     },
     "metadata": {},
     "output_type": "display_data"
    },
    {
     "data": {
      "text/plain": [
       "<function RIF_RII_ntb.RIF_1(z1=-1)>"
      ]
     },
     "execution_count": 2,
     "metadata": {},
     "output_type": "execute_result"
    }
   ],
   "source": [
    "interact(RIF_1, z1=(-2,2,0.1), continuous_update=False)"
   ]
  },
  {
   "cell_type": "markdown",
   "metadata": {},
   "source": [
    "## RIF ordre 2"
   ]
  },
  {
   "cell_type": "markdown",
   "metadata": {},
   "source": [
    "L'équation récurrente est de la forme :\n",
    "$$y[n]  = b_{0} x[n] + b_1 x[n-1] + b_2 x[n-2]$$\n",
    "\n",
    "La fonction de transfert en $z$ :\n",
    "$$Y(z) = b_0 X(z) + b_1 z^{-1} X(z) + b_2 z^{-2} X(z)$$\n",
    "$$H(z) = \\frac{Y(z)}{X(z)} = b_0 + b_1 z^{-1} + b_2 z^{-2} = \\frac{b_0 z^2 + b_1 z + b_2}{z^2} = \\frac{b_0(z-z_1)(z-z_2)}{z^2}$$ \n",
    "avec $z_1$ et $z_2$ les zéros qui s'expriment en fonction de $b_1$ et $b_2$ (on suppose que $a_1 \\in \\mathcal{R}$, $a_2 \\in \\mathcal{R}$ donc $z_1 \\in \\mathcal{C}$, $z_2 \\in \\mathcal{C}$ avec $z_1=z_2^*$, les racines sont complexes conjuguées).\n",
    "\n",
    "Le gain en fréquences est $|H(z=e^{2j\\pi f T_e})| =b_0|z-z_1||z-z_2|$\n",
    "Le gain en fréquences est proportionnel au produit des distances entre le point d'affixe courante qui parcourt le cercle unité et les zéros. "
   ]
  },
  {
   "cell_type": "code",
   "execution_count": 3,
   "metadata": {},
   "outputs": [
    {
     "data": {
      "application/vnd.jupyter.widget-view+json": {
       "model_id": "19eb40028a6a4c5faf59f09d65a7abb6",
       "version_major": 2,
       "version_minor": 0
      },
      "text/plain": [
       "interactive(children=(FloatSlider(value=0.0, description='z1m', max=1.0, min=-1.0), FloatSlider(value=3.0, des…"
      ]
     },
     "metadata": {},
     "output_type": "display_data"
    },
    {
     "data": {
      "text/plain": [
       "<function RIF_RII_ntb.RIF2(z1m, theta1)>"
      ]
     },
     "execution_count": 3,
     "metadata": {},
     "output_type": "execute_result"
    }
   ],
   "source": [
    "interact(RIF2, z1m=(-1,1,0.1), theta1=(0,2*np.pi,0.2))"
   ]
  },
  {
   "cell_type": "markdown",
   "metadata": {},
   "source": [
    "## Système RII"
   ]
  },
  {
   "cell_type": "markdown",
   "metadata": {},
   "source": [
    "### Système RII du 1er ordre"
   ]
  },
  {
   "cell_type": "markdown",
   "metadata": {},
   "source": [
    "L'équation récurrente est de la forme :\n",
    "$$y[n] + a_1 y[n-1] = b_{0} x[n]$$\n",
    "\n",
    "La fonction de transfert en $z$ :\n",
    "$$Y(z) + a_1 z^{-1} Y(z) = b_0 X(z)$$\n",
    "$$H(z) = \\frac{Y(z)}{X(z)} = \\frac{b_0}{1 + a_1 z^{-1}} = \\frac{z b_0 }{z + a_1} = \\frac{z b_0 }{z - p_1}   $$\n",
    "avec $p_1 = -a_1$\n",
    "\n",
    "Le gain en fréquences est $|H(z=e^{2j\\pi f T_e})| = \\frac{|b_0|}{|z-p_1|}$\n",
    "Le gain en fréquences est inversement proportionnel à la distance entre le point d'affixe courante qui parcourt le cercle unité et la position du pôle."
   ]
  },
  {
   "cell_type": "code",
   "execution_count": 4,
   "metadata": {},
   "outputs": [
    {
     "data": {
      "application/vnd.jupyter.widget-view+json": {
       "model_id": "5a05fc2124174092bdea6ba8828e940f",
       "version_major": 2,
       "version_minor": 0
      },
      "text/plain": [
       "interactive(children=(FloatSlider(value=-1.0, description='p1', max=1.0, min=-1.0), FloatSlider(value=0.0, des…"
      ]
     },
     "metadata": {},
     "output_type": "display_data"
    },
    {
     "data": {
      "text/plain": [
       "<function RIF_RII_ntb.RII_1(p1=-1, zz_arg=0)>"
      ]
     },
     "execution_count": 4,
     "metadata": {},
     "output_type": "execute_result"
    }
   ],
   "source": [
    "interact(RII_1, p1=(-1,1,0.1), zz_arg=(0,2*np.pi, 0.1))"
   ]
  },
  {
   "cell_type": "markdown",
   "metadata": {},
   "source": [
    "### RII purement récursif d'ordre 2\n"
   ]
  },
  {
   "cell_type": "markdown",
   "metadata": {},
   "source": [
    "\n",
    "L'équation récurrente est de la forme :\n",
    "$$y[n] + a_1 y[n-1] + a_2y[n-2] = b_{0} x[n]$$\n",
    "\n",
    "La fonction de transfert en $z$ :\n",
    "$$Y(z) + a_1 z^{-1} Y(z) + a_2 z^{-2}= b_0 X(z)$$\n",
    "$$H(z) = \\frac{Y(z)}{X(z)} = \\frac{b_0}{1 + a_1 z^{-1} + a_2 z^{-2}} = \\frac{z^2 b_0 }{z^2 + a_1 z + a_2} = \\frac{z^2 b_0}{(z - p_1)(z-p_2)}   $$\n",
    "avec $p_1$ et $p_2$ les pôles qui s'expriment en fonction de $a_1$ et $a_2$.\n",
    "\n",
    "Le gain en fréquences est $|H(z=e^{2j\\pi f T_e})| = \\frac{b_0}{|z-p_1||z-p_2|}$\n",
    "Le gain en fréquences est inversement proportionnel au produit des distances entre le point d'affixe courante qui parcourt le cercle unité et les pôles. "
   ]
  },
  {
   "cell_type": "code",
   "execution_count": 5,
   "metadata": {},
   "outputs": [
    {
     "data": {
      "application/vnd.jupyter.widget-view+json": {
       "model_id": "f17d9781e15743fa9742d2989be7e8ca",
       "version_major": 2,
       "version_minor": 0
      },
      "text/plain": [
       "interactive(children=(FloatSlider(value=0.0, description='p1_mod', max=1.0), FloatSlider(value=0.0, descriptio…"
      ]
     },
     "metadata": {},
     "output_type": "display_data"
    },
    {
     "data": {
      "text/plain": [
       "<function RIF_RII_ntb.RII_2_rec(p1_mod=-1, p1_arg=-1, zz_arg=0)>"
      ]
     },
     "execution_count": 5,
     "metadata": {},
     "output_type": "execute_result"
    }
   ],
   "source": [
    "interact(RII_2_rec, p1_mod=(0,1,0.1), p1_arg=(0,2*np.pi,0.1),zz_arg=(0,2*np.pi, 0.1))"
   ]
  },
  {
   "cell_type": "markdown",
   "metadata": {},
   "source": [
    "### Système RII 2ème ordre"
   ]
  },
  {
   "cell_type": "code",
   "execution_count": 7,
   "metadata": {},
   "outputs": [
    {
     "data": {
      "application/vnd.jupyter.widget-view+json": {
       "model_id": "6219a7b3f80e427e8e02e5e3109bf6eb",
       "version_major": 2,
       "version_minor": 0
      },
      "text/plain": [
       "interactive(children=(FloatSlider(value=0.0, description='p1_mod', max=1.0, step=0.01), FloatSlider(value=0.0,…"
      ]
     },
     "metadata": {},
     "output_type": "display_data"
    },
    {
     "data": {
      "text/plain": [
       "<function RIF_RII_ntb.RII_2(p1_mod=-1, p1_arg=-1, z1_mod=-1, z1_arg=-1, zz_arg=0)>"
      ]
     },
     "execution_count": 7,
     "metadata": {},
     "output_type": "execute_result"
    }
   ],
   "source": [
    "interact(RII_2, p1_mod=(0,1,0.01), p1_arg=(0,np.pi,0.1), z1_mod=(0,1,0.1), z1_arg=(0,np.pi,0.1),zz_arg=(0,2*np.pi, 0.1))"
   ]
  },
  {
   "cell_type": "code",
   "execution_count": null,
   "metadata": {},
   "outputs": [],
   "source": []
  }
 ],
 "metadata": {
  "kernelspec": {
   "display_name": "Python 3",
   "language": "python",
   "name": "python3"
  },
  "language_info": {
   "codemirror_mode": {
    "name": "ipython",
    "version": 3
   },
   "file_extension": ".py",
   "mimetype": "text/x-python",
   "name": "python",
   "nbconvert_exporter": "python",
   "pygments_lexer": "ipython3",
   "version": "3.8.3"
  },
  "latex_envs": {
   "LaTeX_envs_menu_present": true,
   "autoclose": false,
   "autocomplete": true,
   "bibliofile": "biblio.bib",
   "cite_by": "apalike",
   "current_citInitial": 1,
   "eqLabelWithNumbers": true,
   "eqNumInitial": 0,
   "hotkeys": {
    "equation": "Ctrl-E",
    "itemize": "Ctrl-I"
   },
   "labels_anchors": false,
   "latex_user_defs": false,
   "report_style_numbering": true,
   "user_envs_cfg": false
  },
  "varInspector": {
   "cols": {
    "lenName": 16,
    "lenType": 16,
    "lenVar": 40
   },
   "kernels_config": {
    "python": {
     "delete_cmd_postfix": "",
     "delete_cmd_prefix": "del ",
     "library": "var_list.py",
     "varRefreshCmd": "print(var_dic_list())"
    },
    "r": {
     "delete_cmd_postfix": ") ",
     "delete_cmd_prefix": "rm(",
     "library": "var_list.r",
     "varRefreshCmd": "cat(var_dic_list()) "
    }
   },
   "types_to_exclude": [
    "module",
    "function",
    "builtin_function_or_method",
    "instance",
    "_Feature"
   ],
   "window_display": false
  },
  "widgets": {
   "state": {
    "19704f00482d454dbeb0acc4741c2117": {
     "views": [
      {
       "cell_index": 19
      }
     ]
    },
    "23c2a9bc14714cfe8e06c0fef349d487": {
     "views": [
      {
       "cell_index": 9
      }
     ]
    },
    "4f514a581c0e4a2c97573484ceb57b72": {
     "views": [
      {
       "cell_index": 6
      }
     ]
    },
    "557da42b88b24922a0d3730b6966d633": {
     "views": [
      {
       "cell_index": 16
      }
     ]
    },
    "b930bf773f054064ac3bf8c5287b01cb": {
     "views": [
      {
       "cell_index": 13
      }
     ]
    }
   },
   "version": "1.2.0"
  }
 },
 "nbformat": 4,
 "nbformat_minor": 4
}
