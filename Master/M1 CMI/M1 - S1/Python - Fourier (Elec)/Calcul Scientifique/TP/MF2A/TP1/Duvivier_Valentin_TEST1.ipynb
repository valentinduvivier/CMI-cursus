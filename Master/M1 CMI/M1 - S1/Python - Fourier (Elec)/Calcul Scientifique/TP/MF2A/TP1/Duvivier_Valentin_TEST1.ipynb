{
 "cells": [
  {
   "cell_type": "markdown",
   "metadata": {},
   "source": [
    "# An introduction to Jupyter Notebooks\n",
    "\n",
    "#### First practical work, Monday,  November 28, 2020\n",
    "In this first practical work, we will go through the very basics of scientific computing with Jupyter Notebooks, namely how to use Markdown and code cells and how to plot data. By the end of this session, you should be able to create a notebook, generate a plot and introduce it with some properly formatted text.\n",
    "\n",
    "### Exercise 1: getting used to Markdown cells\n",
    "\n",
    "\n",
    "1. Edit this cell to remove this first item: double-click on it, edit the text then click on `Run` (`Exécuter` in french)\n",
    "1. Add a new cell below by using the `Insert` menu (`Insérer` in french)\n",
    "2. Change the cell type of this new cell to Markdown by using the `Cell` menu (`Cellule`)\n",
    "3. Enter your name in *italic* or **bold** by surrounding it with a single or double * respectively\n",
    "4. Run this new cell"
   ]
  },
  {
   "cell_type": "markdown",
   "metadata": {},
   "source": [
    "**Duvivier Valentin**"
   ]
  },
  {
   "cell_type": "markdown",
   "metadata": {},
   "source": [
    "$\\LaTeX$ equations can also be written down in markdown cells both inlined (e.g., $\\cos(\\pi)=-1$) and on their own line,\n",
    "\n",
    "$$\\int_0^\\pi \\sin^2(x) \\mathrm{d}x = \\frac{\\pi}{2}.$$\n",
    "\n",
    "6. Fill in the following text with the right equations\n",
    "\n",
    "*One of the simplest example of harmonic oscillator is the spring/mass system sketched below.*\n",
    "\n",
    "<img src=\"add_files/TP1_1.png\"  width=\"300\" />\n",
    "\n",
    "*Consider a mass m and denote its displacement with respect to the equilibrium position by x(t). A spring of stiffness k and rest length ℓ<sub>0</sub>  develops a restoring force along the x-direction. The equation of motion therefore reads*\n",
    "\n",
    "$$mx''(t) + k(x(t) - l_0) = 0$$ \n",
    "\n",
    "*and the resulting motion is periodic, of angular frequency* $\\omega =  \\sqrt{\\frac{k}{m}}$\n",
    "\n"
   ]
  },
  {
   "cell_type": "markdown",
   "metadata": {},
   "source": [
    "### Exercise 2: introducing code cells\n",
    "\n",
    "The cell below is a code cell. Similar to Markown cells, they must be created, edited then run.\n",
    "1. Run the cell below to print the result of 10+2\n",
    "2. Edit it to compute 10<sup>2</sup>+2<sup>3</sup> instead\n",
    "3. Insert a new cell and print the value of `c` to check that it is actually stored in memory"
   ]
  },
  {
   "cell_type": "code",
   "execution_count": 10,
   "metadata": {},
   "outputs": [
    {
     "name": "stdout",
     "output_type": "stream",
     "text": [
      "108\n"
     ]
    }
   ],
   "source": [
    "a = pow(10,2) # = 10**2\n",
    "b = pow(2,3)\n",
    "c = a+b\n",
    "print(c)"
   ]
  },
  {
   "cell_type": "code",
   "execution_count": 11,
   "metadata": {},
   "outputs": [
    {
     "name": "stdout",
     "output_type": "stream",
     "text": [
      "108\n"
     ]
    }
   ],
   "source": [
    "print(c)"
   ]
  },
  {
   "cell_type": "markdown",
   "metadata": {},
   "source": [
    "You are now all set to create you own code, but first import the NumPy and MatPlotLib librairies by running the cell below."
   ]
  },
  {
   "cell_type": "code",
   "execution_count": 12,
   "metadata": {},
   "outputs": [],
   "source": [
    "import numpy as np\n",
    "import matplotlib.pyplot as plt"
   ]
  },
  {
   "cell_type": "markdown",
   "metadata": {},
   "source": [
    "### Exercise 3: a first plot\n",
    "\n",
    "1. Create an array `Y` of size 10 filled with zeros, these zeros being set as integers, using `np.zeros`. Then, change the fifth value to 3 and print `Y` [(discover how to use the np.zeros function here)](https://docs.scipy.org/doc/numpy-1.9.3/reference/generated/numpy.zeros.html)\n",
    "2. Create an array `X` with values ranging from 0 to 9 using `np.arange` then print it [(the numpy function arange is introduced here)](https://numpy.org/doc/stable/reference/generated/numpy.arange.html)\n",
    "3. Plot `Y` versus `X` with `plt.plot` followed by `plt.show()` \n",
    "4. Redo this plot with red circle markers [(have a look at the documentation)](https://matplotlib.org/3.1.1/api/_as_gen/matplotlib.pyplot.plot.html)\n",
    "5. Add a title and labels to your graph (`plt.title`, `plt.xlabel`, `plt.ylabel`)"
   ]
  },
  {
   "cell_type": "code",
   "execution_count": 37,
   "metadata": {},
   "outputs": [
    {
     "name": "stdout",
     "output_type": "stream",
     "text": [
      "[0. 0. 0. 0. 0. 0. 0. 0. 0. 0.]\n",
      "[3. 3. 3. 0. 0. 0. 0. 0. 0. 0.]\n",
      "[0 1 2 3 4 5 6 7 8 9]\n"
     ]
    },
    {
     "data": {
      "text/plain": [
       "Text(0, 0.5, 'Y')"
      ]
     },
     "execution_count": 37,
     "metadata": {},
     "output_type": "execute_result"
    },
    {
     "data": {
      "image/png": "[encoded data removed]",
      "text/plain": [
       "<Figure size 432x288 with 1 Axes>"
      ]
     },
     "metadata": {
      "needs_background": "light"
     },
     "output_type": "display_data"
    }
   ],
   "source": [
    "# 1\n",
    "#a\n",
    "Y = np.zeros(10)\n",
    "print(Y)\n",
    "\n",
    "#b\n",
    "Y[0:3] = 3\n",
    "print(Y)\n",
    "\n",
    "#2\n",
    "X = np.arange(10)\n",
    "print(X)\n",
    "\n",
    "#3\n",
    "plt.plot(X,Y,'ro')\n",
    "plt.title('Y as a function of X with X = Y')\n",
    "plt.xlabel('X')\n",
    "plt.ylabel('Y')"
   ]
  },
  {
   "cell_type": "markdown",
   "metadata": {},
   "source": [
    "### Exercise 4: a more involved plot\n",
    "\n",
    "We want to generate the following plot :\n",
    "<img src=\"add_files/TP1_2.png\"  width=\"500\" />\n",
    "\n",
    "\n",
    "1. Create a 1D array `x`  with 100 evenly spaced numbers between 0 and $\\pi$ (have a look at the function `np.linspace`, `np.pi` being the constant $\\pi$)\n",
    "2. Define an array `y1=np.sin(x)`. Similarly define `y2`, `y3` and `y4` by\n",
    "$$ y_2 =x,~~~~~ y_3 = x - \\frac{x^3}{3!},~~~~~ y_4 =  x - \\frac{x^3}{3!} + \\frac{x^5}{5!}$$\n",
    "3. Plot these four arrays versus `x` with the right colors, linetypes and labels for the legend\n",
    "4. Add the legend with `plt.legend()`\n",
    "5. Set axis limits, add the title and axis labels\n",
    "6. You should get the same plot as above! Try to save it on your computer with the command `plt.savefig(\"My_plot.png\",dpi=300)` just before `plt.show()`."
   ]
  },
  {
   "cell_type": "code",
   "execution_count": 62,
   "metadata": {},
   "outputs": [
    {
     "name": "stdout",
     "output_type": "stream",
     "text": [
      "[0.         0.03173326 0.06346652 0.09519978 0.12693304 0.1586663\n",
      " 0.19039955 0.22213281 0.25386607 0.28559933 0.31733259 0.34906585\n",
      " 0.38079911 0.41253237 0.44426563 0.47599889 0.50773215 0.53946541\n",
      " 0.57119866 0.60293192 0.63466518 0.66639844 0.6981317  0.72986496\n",
      " 0.76159822 0.79333148 0.82506474 0.856798   0.88853126 0.92026451\n",
      " 0.95199777 0.98373103 1.01546429 1.04719755 1.07893081 1.11066407\n",
      " 1.14239733 1.17413059 1.20586385 1.23759711 1.26933037 1.30106362\n",
      " 1.33279688 1.36453014 1.3962634  1.42799666 1.45972992 1.49146318\n",
      " 1.52319644 1.5549297  1.58666296 1.61839622 1.65012947 1.68186273\n",
      " 1.71359599 1.74532925 1.77706251 1.80879577 1.84052903 1.87226229\n",
      " 1.90399555 1.93572881 1.96746207 1.99919533 2.03092858 2.06266184\n",
      " 2.0943951  2.12612836 2.15786162 2.18959488 2.22132814 2.2530614\n",
      " 2.28479466 2.31652792 2.34826118 2.37999443 2.41172769 2.44346095\n",
      " 2.47519421 2.50692747 2.53866073 2.57039399 2.60212725 2.63386051\n",
      " 2.66559377 2.69732703 2.72906028 2.76079354 2.7925268  2.82426006\n",
      " 2.85599332 2.88772658 2.91945984 2.9511931  2.98292636 3.01465962\n",
      " 3.04639288 3.07812614 3.10985939 3.14159265]\n",
      "[0.00000000e+00 3.17279335e-02 6.34239197e-02 9.50560433e-02\n",
      " 1.26592454e-01 1.58001396e-01 1.89251244e-01 2.20310533e-01\n",
      " 2.51147987e-01 2.81732557e-01 3.12033446e-01 3.42020143e-01\n",
      " 3.71662456e-01 4.00930535e-01 4.29794912e-01 4.58226522e-01\n",
      " 4.86196736e-01 5.13677392e-01 5.40640817e-01 5.67059864e-01\n",
      " 5.92907929e-01 6.18158986e-01 6.42787610e-01 6.66769001e-01\n",
      " 6.90079011e-01 7.12694171e-01 7.34591709e-01 7.55749574e-01\n",
      " 7.76146464e-01 7.95761841e-01 8.14575952e-01 8.32569855e-01\n",
      " 8.49725430e-01 8.66025404e-01 8.81453363e-01 8.95993774e-01\n",
      " 9.09631995e-01 9.22354294e-01 9.34147860e-01 9.45000819e-01\n",
      " 9.54902241e-01 9.63842159e-01 9.71811568e-01 9.78802446e-01\n",
      " 9.84807753e-01 9.89821442e-01 9.93838464e-01 9.96854776e-01\n",
      " 9.98867339e-01 9.99874128e-01 9.99874128e-01 9.98867339e-01\n",
      " 9.96854776e-01 9.93838464e-01 9.89821442e-01 9.84807753e-01\n",
      " 9.78802446e-01 9.71811568e-01 9.63842159e-01 9.54902241e-01\n",
      " 9.45000819e-01 9.34147860e-01 9.22354294e-01 9.09631995e-01\n",
      " 8.95993774e-01 8.81453363e-01 8.66025404e-01 8.49725430e-01\n",
      " 8.32569855e-01 8.14575952e-01 7.95761841e-01 7.76146464e-01\n",
      " 7.55749574e-01 7.34591709e-01 7.12694171e-01 6.90079011e-01\n",
      " 6.66769001e-01 6.42787610e-01 6.18158986e-01 5.92907929e-01\n",
      " 5.67059864e-01 5.40640817e-01 5.13677392e-01 4.86196736e-01\n",
      " 4.58226522e-01 4.29794912e-01 4.00930535e-01 3.71662456e-01\n",
      " 3.42020143e-01 3.12033446e-01 2.81732557e-01 2.51147987e-01\n",
      " 2.20310533e-01 1.89251244e-01 1.58001396e-01 1.26592454e-01\n",
      " 9.50560433e-02 6.34239197e-02 3.17279335e-02 1.22464680e-16]\n"
     ]
    },
    {
     "data": {
      "image/png": "[encoded data removed]",
      "text/plain": [
       "<Figure size 432x288 with 1 Axes>"
      ]
     },
     "metadata": {
      "needs_background": "light"
     },
     "output_type": "display_data"
    }
   ],
   "source": [
    "import math as m\n",
    "#1\n",
    "x = np.linspace(0,np.pi,100)\n",
    "print(x)\n",
    "\n",
    "#2\n",
    "y1 = np.sin(x)\n",
    "print(y1)\n",
    "\n",
    "y2 = x\n",
    "y3 = x - x**3/m.factorial(3)\n",
    "y4 = x - x**3/m.factorial(3) + x**5/m.factorial(5)\n",
    "\n",
    "plt.plot(x, y1, 'b', label = r'$sin(x)$')\n",
    "plt.plot(x, y2, '--y', label = r'$x$')\n",
    "plt.plot(x, y3, '--g', label = r'$x - \\frac{x^3}{3}$')\n",
    "plt.plot(x, y4, '--r', label = r'$x - \\frac{x^3}{3!} + \\frac{x^5}{5!}$')\n",
    "\n",
    "plt.title('DL of sinus up to fifth derivative')\n",
    "plt.xlabel('x')\n",
    "plt.ylabel('y')\n",
    "plt.legend()\n",
    "\n",
    "plt.xlim(0,np.pi)\n",
    "plt.ylim(0,1.1)\n",
    "\n",
    "plt.savefig(\"My_plot.png\",dpi=300) # Copy code\n",
    "\n",
    "plt.show()"
   ]
  },
  {
   "cell_type": "markdown",
   "metadata": {},
   "source": [
    "### Exercise 5: functions in Python\n",
    "\n",
    "We want to use Python to compute the first ninety [Fibonacci numbers](https://en.wikipedia.org/wiki/Fibonacci_number).\n",
    "\n",
    "1. Create a function `next_fib_nb(X,Y)` returning the next Fibonacci number given the last two terms of this sequence `X` and `Y`.\n",
    "\n",
    "2. Define an array `Fib_seq` filled with zeros (set as integers) of size `N`. Thereafter, set `N` to ninety.\n",
    "\n",
    "3. Fill this array with the Fibonacci numbers and check that the ninetieth Fibonacci number is 1779979416004714189"
   ]
  },
  {
   "cell_type": "code",
   "execution_count": 95,
   "metadata": {},
   "outputs": [
    {
     "name": "stdout",
     "output_type": "stream",
     "text": [
      "[0. 0. 0. 0. 0. 0. 0. 0. 0. 0. 0. 0. 0. 0. 0. 0. 0. 0. 0. 0. 0. 0. 0. 0.\n",
      " 0. 0. 0. 0. 0. 0. 0. 0. 0. 0. 0. 0. 0. 0. 0. 0. 0. 0. 0. 0. 0. 0. 0. 0.\n",
      " 0. 0. 0. 0. 0. 0. 0. 0. 0. 0. 0. 0. 0. 0. 0. 0. 0. 0. 0. 0. 0. 0. 0. 0.\n",
      " 0. 0. 0. 0. 0. 0. 0. 0. 0. 0. 0. 0. 0. 0. 0. 0. 0. 0.]\n",
      "1.779979416004714e+18\n"
     ]
    }
   ],
   "source": [
    "#1\n",
    "def next_fib_nb(X,Y):\n",
    "    return X+Y\n",
    "\n",
    "#2\n",
    "N = 90\n",
    "Fib_seq = np.zeros(N)\n",
    "print(Fib_seq)\n",
    "\n",
    "\n",
    "Fib_seq[1] = 1 # Defining sec term\n",
    "\n",
    "def fill_array(Variable):\n",
    "    for i in range(2,N):\n",
    "        Variable[i] = next_fib_nb(Variable[i-1], Variable[i-2])\n",
    "        \n",
    "fill_array(Fib_seq)\n",
    "print(Fib_seq[N-1])"
   ]
  },
  {
   "cell_type": "markdown",
   "metadata": {},
   "source": [
    "### First test: your turn now\n",
    "\n",
    "Create a new Jupyter Notebook and save it as *firstname_lastname_TEST1.ipynb*. In this notebook, write a title and introduce the Fibonacci sequence in a few lines with Markdown cells and $\\LaTeX$ equations, then compute the first terms of this sequence and plot the ratio of consecutive Fibonacci numbers. This quantity converges to the golden ratio: how accurately can you estimate this quantity?\n",
    "\n",
    "**This .ipynb file will have to be uploaded on Moodle by Monday, October 5, 2020 at 10:30am**\n",
    "\n",
    "**It will be rated out of 10 (this course unit being rated out of 100)**"
   ]
  },
  {
   "cell_type": "markdown",
   "metadata": {},
   "source": [
    "# Introduction to Fibonacci sequence"
   ]
  },
  {
   "cell_type": "markdown",
   "metadata": {},
   "source": [
    "The fibonacci sequence consist in a sequence of number where the current term is made by additionning the two last term.\n",
    "\n",
    "Here below, you can find a few of the first term of this sequence :"
   ]
  },
  {
   "cell_type": "markdown",
   "metadata": {},
   "source": [
    "0, 1, 1, 2, 3 (2+1), 5(3+2), ..."
   ]
  },
  {
   "cell_type": "code",
   "execution_count": 164,
   "metadata": {},
   "outputs": [
    {
     "name": "stdout",
     "output_type": "stream",
     "text": [
      "[0.         0.         1.         2.         1.5        1.66666667\n",
      " 1.6        1.625      1.61538462 1.61904762 1.61764706 1.61818182\n",
      " 1.61797753 1.61805556 1.61802575 1.61803714 1.61803279 1.61803445\n",
      " 1.61803381 1.61803406 1.61803396 1.618034   1.61803399 1.61803399\n",
      " 1.61803399 1.61803399 1.61803399 1.61803399 1.61803399 1.61803399\n",
      " 1.61803399 1.61803399 1.61803399 1.61803399 1.61803399 1.61803399\n",
      " 1.61803399 1.61803399 1.61803399 1.61803399 1.61803399 1.61803399\n",
      " 1.61803399 1.61803399 1.61803399 1.61803399 1.61803399 1.61803399\n",
      " 1.61803399 1.61803399 1.61803399 1.61803399 1.61803399 1.61803399\n",
      " 1.61803399 1.61803399 1.61803399 1.61803399 1.61803399 1.61803399\n",
      " 1.61803399 1.61803399 1.61803399 1.61803399 1.61803399 1.61803399\n",
      " 1.61803399 1.61803399 1.61803399 1.61803399 1.61803399 1.61803399\n",
      " 1.61803399 1.61803399 1.61803399 1.61803399 1.61803399 1.61803399\n",
      " 1.61803399 1.61803399 1.61803399 1.61803399 1.61803399 1.61803399\n",
      " 1.61803399 1.61803399 1.61803399 1.61803399 1.61803399 1.61803399]\n",
      "3.162577165601152\n"
     ]
    },
    {
     "data": {
      "text/plain": [
       "<matplotlib.legend.Legend at 0x2b3774c1b50>"
      ]
     },
     "execution_count": 164,
     "metadata": {},
     "output_type": "execute_result"
    },
    {
     "data": {
      "image/png": "[encoded data removed]",
      "text/plain": [
       "<Figure size 432x288 with 2 Axes>"
      ]
     },
     "metadata": {
      "needs_background": "light"
     },
     "output_type": "display_data"
    }
   ],
   "source": [
    "import math as m\n",
    "\n",
    "\n",
    "# We re-use the previous code providing the Fibonacci sequence up to the 90th iteration.\n",
    "\n",
    "# Ratio\n",
    "ratio_number = np.zeros(90)\n",
    "\n",
    "for i in range(2,N):\n",
    "    ratio_number[i] = Fib_seq[i] / Fib_seq[i-1]\n",
    "\n",
    "print(ratio_number)\n",
    "\n",
    "\n",
    "# Nb or\n",
    "nb_or = np.zeros(N)\n",
    "\n",
    "# Loop to define a vector repeting the gold number in each cell\n",
    "for i in range(0,N):\n",
    "    nb_or[i] = (1 + m.sqrt(5))/2\n",
    "\n",
    "\n",
    "# Error calculation\n",
    "\n",
    "sum = 0\n",
    "\n",
    "for i in range (1,90):\n",
    "    sum += (nb_or[1] - ratio_number[i])**2 # H1 error\n",
    "\n",
    "print(sum)   \n",
    "\n",
    "\n",
    "# Accuracy\n",
    "\n",
    "abs_error = np.zeros(90)\n",
    "\n",
    "for i in range (1,90):\n",
    "    abs_error[i] = np.abs(nb_or[1] - ratio_number[i])/nb_or[1]\n",
    "    \n",
    "    \n",
    "# Display results\n",
    "x = np.arange(90)\n",
    "    \n",
    "fig,axes = plt.subplots(nrows = 1, ncols = 2)\n",
    "axes[0].plot(x, abs_error, '.g', label = r'$relative error$')\n",
    "axes[1].plot(x, ratio_number, '.b', label = r'$Fibonacci-ratio$')\n",
    "axes[1].plot(x, nb_or, '-r', label = r'$nb-or$')\n",
    "\n",
    "# label\n",
    "axes[0].set_xlabel('N° Fibonacci number')\n",
    "axes[0].set_ylabel('relative error')\n",
    "axes[0].set_title('relative error between Fibonacci ratio & nb-or')\n",
    "\n",
    "axes[1].set_xlabel('N° Fibonacci number')\n",
    "axes[1].set_ylabel('Fibonacci ratio & nb_or')\n",
    "axes[1].set_title('Comparison Fibonacci ratio & nb_or')\n",
    "\n",
    "\n",
    "plt.legend()\n"
   ]
  },
  {
   "cell_type": "markdown",
   "metadata": {},
   "source": [
    "To conclude, we have a relative error of 1.4e-16 at iteration 90. The convergence of the calculation towards the gold number can easily be assumed as true. \n",
    "Moreover, this convergence, as it can be seen in the left plot above, is fullfilled after just 5 to 10 Fibonacci number. "
   ]
  },
  {
   "cell_type": "code",
   "execution_count": 166,
   "metadata": {},
   "outputs": [
    {
     "name": "stdout",
     "output_type": "stream",
     "text": [
      "1.3723111286221163e-16\n"
     ]
    }
   ],
   "source": [
    "E = abs_error[89]\n",
    "print(E)"
   ]
  }
 ],
 "metadata": {
  "kernelspec": {
   "display_name": "Python 3",
   "language": "python",
   "name": "python3"
  },
  "language_info": {
   "codemirror_mode": {
    "name": "ipython",
    "version": 3
   },
   "file_extension": ".py",
   "mimetype": "text/x-python",
   "name": "python",
   "nbconvert_exporter": "python",
   "pygments_lexer": "ipython3",
   "version": "3.8.3"
  }
 },
 "nbformat": 4,
 "nbformat_minor": 2
}
