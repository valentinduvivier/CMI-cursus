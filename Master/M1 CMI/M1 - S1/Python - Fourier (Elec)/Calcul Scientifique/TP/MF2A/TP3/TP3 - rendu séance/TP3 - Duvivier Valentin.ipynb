{
 "cells": [
  {
   "cell_type": "markdown",
   "metadata": {},
   "source": [
    "# TP 3 \n",
    "#### Monday,  October 12, 2020\n",
    "\n",
    "## Diffusion equation"
   ]
  },
  {
   "cell_type": "markdown",
   "metadata": {},
   "source": [
    "The diffusion equation (also called heat equation) \n",
    "\n",
    "$$ \\partial_t u(x,t) = D \\ \\nabla^2 u(x,t) $$\n",
    "\n",
    "where $D$ is the diffusion coefficient, appears on a lot of physical phenomena in mechanics.\n",
    "\n",
    "The 1D version gives\n",
    "$$ \\partial_t u(x,t) = D \\ \\partial^2_{xx} u(x,t) $$\n"
   ]
  },
  {
   "cell_type": "markdown",
   "metadata": {},
   "source": [
    "### I - Explicit integration scheme"
   ]
  },
  {
   "cell_type": "markdown",
   "metadata": {},
   "source": [
    "A trivial discretization of the diffusion equation is\n",
    "\n",
    "$$ \\frac{u_i^{n+1}-u_i^n}{\\Delta t}  = F(u_i^n) \\simeq D \\frac{u_{i-1}^{n}- 2 u_i^n + u_{i+1}^{n} }{(\\Delta x)^2} $$\n",
    "\n",
    "with $i$ the space index and $n$ the time index.\n",
    "\n",
    "Using the Euler method of TP2 write a function **euler(U0,BC,L,dt,t_max)** with $U0$ the initial conditions, $BC$ a scalar for choosing the boundary conditions, $L$ the domain length, $dt$ the time step and $t_{max}$ the total time of the simulation. We suppose $D=1$. \n",
    "\n",
    "We want to study the effects of the boundary conditions ($BC$) and the initial conditions ($U0$) using the following relations\n",
    "\n",
    "- BC1 ==>  $u(0,t) = 0$ and $u(L,t) = 0$\n",
    "- BC2 ==>  $u(0,t) = 0$  $\\partial_x u(L,t) = 0$\n",
    "- U01 ==>  smooth initial condition $u(x,0) \\sim f(\\sin(x))$\n",
    "- U02 ==>  discontinous initial condition $u(x,0) \\sim \\mathcal{H}(L/2)$ using Heaviside or step function.\n",
    "    \n",
    "To illustrate the solution behavior, plot every 100 time steps the solution $u(x\\in[0:L])$ on the same figure.\n",
    " \n",
    "Test the stability of the numerical scheme\n",
    "\n",
    "1. for BC1 and U01 by changing the time step $dt$ ;\n",
    "2. for the boundary condition BC2 for U01 and U02.    "
   ]
  },
  {
   "cell_type": "markdown",
   "metadata": {},
   "source": [
    "#### Q 1 - Stability of the numerical scheme"
   ]
  },
  {
   "cell_type": "code",
   "execution_count": 437,
   "metadata": {},
   "outputs": [],
   "source": [
    "def euler(U0, BC, L, dt, t_max, Nx):    \n",
    "    # space step\n",
    "    dx = L/Nx\n",
    "    x = 0\n",
    "    \n",
    "    # initial time t0 = 0\n",
    "    t = 0\n",
    "    \n",
    "    # factor\n",
    "    F = dt/dx**2\n",
    "    \n",
    "    # Initial repartition\n",
    "    u0 = U0[0] # sinus here\n",
    "\n",
    "    u_n   = u0                      # u_n\n",
    "    u_n_1 = np.zeros(np.size(u_n))  # u_n+1\n",
    "    \n",
    "    U  = np.array([])\n",
    "    UU = np.array([])\n",
    "\n",
    "    for k in range(np.size(dt)):\n",
    "        for t in range(int(t_max/dt[k])):\n",
    "            u_n[0]    = 0\n",
    "            u_n[Nx-1] = 0\n",
    "            for x in range(1, Nx-1):\n",
    "                u_n_1[x] = u_n[x] + F[k]*(u_n[x+1] - 2*u_n[x] + u_n[x-1]) \n",
    "            u_n = u_n_1\n",
    "            U = np.append(U, u_n)\n",
    "        UU = np.append(UU, U)\n",
    "    return UU"
   ]
  },
  {
   "cell_type": "code",
   "execution_count": 661,
   "metadata": {},
   "outputs": [
    {
     "data": {
      "image/png": "[encoded data removed]",
      "text/plain": [
       "<Figure size 432x288 with 1 Axes>"
      ]
     },
     "metadata": {
      "needs_background": "light"
     },
     "output_type": "display_data"
    }
   ],
   "source": [
    "import numpy as np\n",
    "import matplotlib.pyplot as plt\n",
    "\n",
    "# -----------------------------------------------------------------------\n",
    "\n",
    "# Length\n",
    "L     = 1    # Length of the mesh\n",
    "T_max = 0.25    # Time of the study\n",
    "\n",
    "Nx    = 10*5\n",
    "N_t   = 1250\n",
    "\n",
    "# steps\n",
    "dx = L/Nx\n",
    "dt = np.array(np.dot((T_max/N_t), np.arange(0.8, 1.2, 0.1))) # time step\n",
    "\n",
    "x  = np.arange(0, L, L/Nx)\n",
    "\n",
    "U0_1 = np.zeros(Nx)\n",
    "U0_2 = np.zeros(Nx)\n",
    "\n",
    "# Initial repartition\n",
    "U0_1             = np.sin(x*2*np.pi/L) # normalisation sinus\n",
    "U0_2[:]          = 1\n",
    "U0_2[:int(Nx/2)] = 0\n",
    "\n",
    "# -----------------------------------------------------------------------\n",
    "\n",
    "# Initial repartition\n",
    "U0 = [U0_1, U0_2]\n",
    "\n",
    "# BC\n",
    "BC = [0, 0]\n",
    "\n",
    "# -----------------------------------------------------------------------\n",
    "\n",
    "u_sol = np.zeros(Nx)\n",
    "\n",
    "u_sol = euler(U0, BC, L, dt, T_max, Nx)\n",
    "\n",
    "# -----------------------------------------------------------------------\n",
    "\n",
    "# We split the vector u_sol into three subvectors, representing the same solution for different dt\n",
    "\n",
    "# initialisation vector\n",
    "u_sol_split  = np.array([])\n",
    "lim  = np.zeros(256)\n",
    "\n",
    "# -----------------------------------------------------------------------\n",
    "\n",
    "# function returning the number of iteration to get to UU, depending on the size of dt\n",
    "def loop(Nx, T_max, dt, n):\n",
    "    l = 0\n",
    "    for i in range(n):\n",
    "        l += Nx * int(T_max/dt[i])\n",
    "    return l\n",
    "\n",
    "# -----------------------------------------------------------------------\n",
    "\n",
    "# building the limits for the splitted solutions\n",
    "for k in range(1,p+1):\n",
    "    lim[k] = loop(Nx, T_max, dt, n=k)\n",
    "\n",
    "# splitted solutions (one for each dt)\n",
    "u_sol_split_1 = u_sol[           :int(lim[1])]\n",
    "u_sol_split_2 = u_sol[int(lim[1]):int(lim[2])]\n",
    "u_sol_split_3 = u_sol[int(lim[2]):int(lim[3])]\n",
    "\n",
    "# -----------------------------------------------------------------------\n",
    "\n",
    "# displaying results\n",
    "t = 100\n",
    "\n",
    "c1 = u_sol_split_1[(t-1)*Nx:t*Nx]\n",
    "c2 = u_sol_split_2[(t-1)*Nx:t*Nx]\n",
    "c3 = u_sol_split_3[(t-1)*Nx:t*Nx]\n",
    "\n",
    "plt.plot(x, c1, 'b.', label  = 'dt = {}'.format(dt[0]))\n",
    "plt.plot(x, c2, 'r-', label  = 'dt = {}'.format(dt[1]))\n",
    "plt.plot(x, c3, 'y--', label = 'dt = {}'.format(dt[2]))\n",
    "\n",
    "plt.title('Shape of the repartition in the mesh')\n",
    "plt.xlabel('position x')\n",
    "plt.ylabel('u_n+1')\n",
    "\n",
    "plt.grid('True')\n",
    "\n",
    "plt.legend()\n",
    "\n",
    "plt.show()\n",
    "plt.close()\n",
    "\n"
   ]
  },
  {
   "cell_type": "markdown",
   "metadata": {},
   "source": [
    "### II - Explicit integration scheme - vectorized version"
   ]
  },
  {
   "cell_type": "markdown",
   "metadata": {},
   "source": [
    "#### We want to accelerate the computation, then we have to vectorize the loop into the Euler function. \n",
    "\n",
    "1. Give a vectorization of the loop over space in Euler function.\n",
    "2. Propose a new function **Euler_new(U0,BC,Vectorized,L,dt,t_max))**\n",
    "with Vectorized a scalar (equal to 1 or 0) switching between \"vectorized\" and \"non-vectorized\" implementation.\n",
    "3. Compute and compare the execution time of both approaches.\n"
   ]
  },
  {
   "cell_type": "markdown",
   "metadata": {},
   "source": [
    "### III - Implicit integration schema"
   ]
  },
  {
   "cell_type": "markdown",
   "metadata": {},
   "source": [
    "The implicit version comes from \n",
    "$$ \\frac{u_i^{n+1}-u_i^n}{\\Delta t}  = F(u_{i+1}^n)$$\n",
    "\n",
    "1. Write the implicit scheme as $A x = b$\n",
    "2. Implement the algorithm into a **Euler_imp(U0,BC,Vectorized,L,dt,t_max))** function.\n",
    "3. Redo the same analyse than before.\n",
    "4. Compute the time execution and compare it against the explicit approach."
   ]
  },
  {
   "cell_type": "code",
   "execution_count": null,
   "metadata": {},
   "outputs": [],
   "source": []
  }
 ],
 "metadata": {
  "kernelspec": {
   "display_name": "Python 3",
   "language": "python",
   "name": "python3"
  },
  "language_info": {
   "codemirror_mode": {
    "name": "ipython",
    "version": 3
   },
   "file_extension": ".py",
   "mimetype": "text/x-python",
   "name": "python",
   "nbconvert_exporter": "python",
   "pygments_lexer": "ipython3",
   "version": "3.8.3"
  }
 },
 "nbformat": 4,
 "nbformat_minor": 4
}
