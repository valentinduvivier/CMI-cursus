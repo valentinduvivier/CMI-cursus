{
 "cells": [
  {
   "cell_type": "markdown",
   "metadata": {},
   "source": [
    "# Numpy TP3\n",
    "\n",
    "#### Monday,  October 12, 2020"
   ]
  },
  {
   "cell_type": "markdown",
   "metadata": {},
   "source": [
    "## Linear Algebra\n",
    "\n",
    "Given three 2-D matrices (A, B and C) and two vectors (V and W)\n",
    "\n",
    "$$\n",
    "A = \\begin{bmatrix}\n",
    "1 &  2 & 3\\\\ \n",
    "4 & -5 & 6 \\\\ \n",
    "7 &  8 & 9 \\\\\n",
    "\\end{bmatrix} \\quad ; \\quad\n",
    "B = \\begin{bmatrix}\n",
    "1 &  2 & 3\\\\ \n",
    "-4 & -5 & -6 \\\\ \n",
    "7 &  8 & 9 \\\\\n",
    "\\end{bmatrix} \\quad ; \\quad\n",
    "C = \\begin{bmatrix}\n",
    "1 &  2 & 3\\\\ \n",
    "4 & -5 & 6 \\\\ \n",
    "7 &  8 & 9 \\\\\n",
    "0 &  1 & -2 \\\\\n",
    "\\end{bmatrix} \n",
    "$$\n",
    "\n",
    "$$\n",
    "V = \\begin{bmatrix}\n",
    "2 & 4 & -10  \\\\\n",
    "\\end{bmatrix}\\quad ; \\quad\n",
    "W = \\begin{bmatrix}\n",
    "2 \\\\ \n",
    "4  \\\\ \n",
    "-10  \\\\\n",
    "\\end{bmatrix} \n",
    "$$"
   ]
  },
  {
   "cell_type": "code",
   "execution_count": 1,
   "metadata": {},
   "outputs": [
    {
     "ename": "NameError",
     "evalue": "name 'plt' is not defined",
     "output_type": "error",
     "traceback": [
      "\u001b[1;31m---------------------------------------------------------------------------\u001b[0m",
      "\u001b[1;31mNameError\u001b[0m                                 Traceback (most recent call last)",
      "\u001b[1;32m<ipython-input-1-002f1b0cac0d>\u001b[0m in \u001b[0;36m<module>\u001b[1;34m\u001b[0m\n\u001b[0;32m      1\u001b[0m \u001b[1;32mimport\u001b[0m \u001b[0mnumpy\u001b[0m \u001b[1;32mas\u001b[0m \u001b[0mnp\u001b[0m\u001b[1;33m\u001b[0m\u001b[1;33m\u001b[0m\u001b[0m\n\u001b[1;32m----> 2\u001b[1;33m \u001b[0mplt\u001b[0m\u001b[1;33m.\u001b[0m\u001b[0mrcParams\u001b[0m\u001b[1;33m[\u001b[0m\u001b[1;34m\"figure.figsize\"\u001b[0m\u001b[1;33m]\u001b[0m \u001b[1;33m=\u001b[0m \u001b[1;33m(\u001b[0m\u001b[1;36m12\u001b[0m\u001b[1;33m,\u001b[0m\u001b[1;36m6\u001b[0m\u001b[1;33m)\u001b[0m\u001b[1;33m\u001b[0m\u001b[1;33m\u001b[0m\u001b[0m\n\u001b[0m",
      "\u001b[1;31mNameError\u001b[0m: name 'plt' is not defined"
     ]
    }
   ],
   "source": [
    "import numpy as np\n",
    "plt.rcParams[\"figure.figsize\"] = (12,6)"
   ]
  },
  {
   "cell_type": "markdown",
   "metadata": {},
   "source": [
    "### Numpy array constructor"
   ]
  },
  {
   "cell_type": "code",
   "execution_count": 2,
   "metadata": {},
   "outputs": [
    {
     "name": "stdout",
     "output_type": "stream",
     "text": [
      "[[ 1  2  3]\n",
      " [-4 -5 -6]\n",
      " [ 7  8  9]]\n",
      "[[ 1  2  3]\n",
      " [-4 -5 -6]\n",
      " [ 7  8  9]]\n",
      "[[  2   4 -10]]\n",
      "[[  2]\n",
      " [  4]\n",
      " [-10]]\n"
     ]
    }
   ],
   "source": [
    "# create the 2-D matrices: a, b and the vectors v and w\n",
    "# Matrices\n",
    "A = np.array([[1,2,3],[4,5,6],[7,8,9]])\n",
    "A[1,1] = - A[1,1]\n",
    "\n",
    "B = A\n",
    "B[1,:] = - A[1,:]\n",
    "B[1,1] = - B[1,1]\n",
    "\n",
    "# Vectors\n",
    "v = np.array([[2,   4,   -10]])\n",
    "w = np.array([[2], [4], [-10]])\n",
    "\n",
    "# print them\n",
    "print(A)\n",
    "print(B)\n",
    "\n",
    "print(v)\n",
    "print(w)              \n"
   ]
  },
  {
   "cell_type": "code",
   "execution_count": 3,
   "metadata": {},
   "outputs": [
    {
     "name": "stdout",
     "output_type": "stream",
     "text": [
      "(3, 3) (1, 3) (3, 1)\n"
     ]
    }
   ],
   "source": [
    "# verify the shape of a, v and w\n",
    "print(A.shape, v.shape, w.shape)"
   ]
  },
  {
   "cell_type": "code",
   "execution_count": 4,
   "metadata": {},
   "outputs": [
    {
     "name": "stdout",
     "output_type": "stream",
     "text": [
      "int32\n"
     ]
    }
   ],
   "source": [
    "# verify the data type of a\n",
    "print(A.dtype)"
   ]
  },
  {
   "cell_type": "markdown",
   "metadata": {},
   "source": [
    "### Element-wise and matrix operations"
   ]
  },
  {
   "cell_type": "code",
   "execution_count": 16,
   "metadata": {},
   "outputs": [
    {
     "name": "stdout",
     "output_type": "stream",
     "text": [
      "[[  4   8 -20]\n",
      " [  8  16 -40]\n",
      " [-20 -40 100]]\n",
      "[[120]]\n",
      "[[  4   8 -20]\n",
      " [  8  16 -40]\n",
      " [-20 -40 100]]\n"
     ]
    }
   ],
   "source": [
    "# analyse the differences between\n",
    "# v*w\n",
    "r1 = v*w\n",
    "\n",
    "# np.dot(v,w)\n",
    "r2 = np.dot(v,w)\n",
    "\n",
    "# np.dot(w,v)\n",
    "r3 = np.dot(w,v)\n",
    "\n",
    "# Displaying results\n",
    "print(r1)\n",
    "print(r2)\n",
    "print(r3)"
   ]
  },
  {
   "cell_type": "markdown",
   "metadata": {},
   "source": [
    "Two of the calculations provide the usual matrix multiplication.\n",
    "One is therfore the scalar product, whil the other are matrices multiplications.\n",
    "\n",
    "Therefore, the product * works as the usual product sign\n",
    "The np.dot function however works either as a a scalar product or a matriw multiplication. "
   ]
  },
  {
   "cell_type": "code",
   "execution_count": 6,
   "metadata": {
    "scrolled": true
   },
   "outputs": [
    {
     "name": "stdout",
     "output_type": "stream",
     "text": [
      "[[ 1  4  9]\n",
      " [16 25 36]\n",
      " [49 64 81]]\n",
      "[[ 14  16  18]\n",
      " [-26 -31 -36]\n",
      " [ 38  46  54]]\n"
     ]
    }
   ],
   "source": [
    "# analyse the differences between\n",
    "# a*b\n",
    "r1 = A*B\n",
    "\n",
    "# np.dot(a,b)\n",
    "r2 = np.dot(A,B)\n",
    "\n",
    "# Displaying results\n",
    "print(r1)\n",
    "print(r2)"
   ]
  },
  {
   "cell_type": "markdown",
   "metadata": {},
   "source": [
    "Quiet naturally, we see that the * sign acts as for matrice multiplicaton that one could obtain by hand, while the np.dot function multiply only element at a position by element at the same position."
   ]
  },
  {
   "cell_type": "code",
   "execution_count": 7,
   "metadata": {},
   "outputs": [
    {
     "name": "stdout",
     "output_type": "stream",
     "text": [
      "[[ 14  16  18]\n",
      " [ 66  81  96]\n",
      " [ 38  46  54]\n",
      " [-18 -21 -24]]\n"
     ]
    }
   ],
   "source": [
    "# create the 2-D matrix: c\n",
    "C = np.array([[1,2,3],[4,-5,6],[7,8,9],[0,1,-2]])\n",
    "\n",
    "# compute b . c and c . b\n",
    "#r1 = np.dot(B,C)\n",
    "r2 = np.dot(C,B)\n",
    "\n",
    "# Displaying results\n",
    "#print(r1)\n",
    "print(r2)"
   ]
  },
  {
   "cell_type": "markdown",
   "metadata": {},
   "source": [
    "Matrices' shape are such that the matrix product between C (4x3) and B(3x3) isnt' possible.\n",
    "The inverse is though."
   ]
  },
  {
   "cell_type": "code",
   "execution_count": 8,
   "metadata": {},
   "outputs": [
    {
     "name": "stdout",
     "output_type": "stream",
     "text": [
      "B . C[0:3,:] =  [[ 30  16  42]\n",
      " [-66 -31 -96]\n",
      " [102  46 150]]\n"
     ]
    }
   ],
   "source": [
    "# take the three uppe lines of matrix c to compute b . c\n",
    "print(\"B . C[0:3,:] = \", np.dot(B, C[0:3,:]))"
   ]
  },
  {
   "cell_type": "markdown",
   "metadata": {},
   "source": [
    "### Solving a linear system with linalg from scipy"
   ]
  },
  {
   "cell_type": "code",
   "execution_count": 9,
   "metadata": {},
   "outputs": [],
   "source": [
    "# import linalg and print the manual for linalg\n",
    "from scipy import linalg as algl\n",
    "\n",
    "algl?"
   ]
  },
  {
   "cell_type": "code",
   "execution_count": 10,
   "metadata": {},
   "outputs": [
    {
     "name": "stdout",
     "output_type": "stream",
     "text": [
      "[[ 0.2]\n",
      " [-8.4]\n",
      " [ 6.2]]\n"
     ]
    },
    {
     "name": "stderr",
     "output_type": "stream",
     "text": [
      "<ipython-input-10-ad88e37a0c27>:2: LinAlgWarning: Ill-conditioned matrix (rcond=2.20282e-18): result may not be accurate.\n",
      "  x = algl.solve(A, w)\n"
     ]
    }
   ],
   "source": [
    "# solve a x = w\n",
    "x = algl.solve(A, w)\n",
    "\n",
    "print(x)"
   ]
  },
  {
   "cell_type": "code",
   "execution_count": 11,
   "metadata": {},
   "outputs": [
    {
     "name": "stdout",
     "output_type": "stream",
     "text": [
      "[[ 0.2]\n",
      " [-8.4]\n",
      " [ 6.2]]\n"
     ]
    },
    {
     "name": "stderr",
     "output_type": "stream",
     "text": [
      "<ipython-input-11-67bf1c39a215>:2: LinAlgWarning: Ill-conditioned matrix (rcond=2.20282e-18): result may not be accurate.\n",
      "  x = algl.solve(A, v.T)\n"
     ]
    }
   ],
   "source": [
    "# solve a x = v (do not hesitate to take a transpose if necessary)\n",
    "x = algl.solve(A, v.T)\n",
    "\n",
    "print(x)"
   ]
  },
  {
   "cell_type": "code",
   "execution_count": 12,
   "metadata": {},
   "outputs": [
    {
     "name": "stdout",
     "output_type": "stream",
     "text": [
      "[[-1.]\n",
      " [-6.]\n",
      " [ 3.]]\n"
     ]
    }
   ],
   "source": [
    "# Compute the inverse of a to solve a x = v \n",
    "\n",
    "x = np.dot(algl.inv(A), v.T)\n",
    "\n",
    "print(x)"
   ]
  },
  {
   "cell_type": "markdown",
   "metadata": {},
   "source": [
    "### Execution CPU time"
   ]
  },
  {
   "cell_type": "code",
   "execution_count": 13,
   "metadata": {},
   "outputs": [
    {
     "name": "stdout",
     "output_type": "stream",
     "text": [
      "(10,) <class 'numpy.float64'>\n"
     ]
    }
   ],
   "source": [
    "# create a random vector av of length N=10 using np.random.random\n",
    "\n",
    "N = 10\n",
    "\n",
    "# np.random?\n",
    "av = np.random.random(N)\n",
    "\n",
    "# verify the length, the shape and the type of av\n",
    "\n",
    "len(av)\n",
    "print(av.shape, type(av[0]))"
   ]
  },
  {
   "cell_type": "code",
   "execution_count": 14,
   "metadata": {},
   "outputs": [],
   "source": [
    "# create a function mysum which sums all vector's elements of av"
   ]
  },
  {
   "cell_type": "code",
   "execution_count": 15,
   "metadata": {},
   "outputs": [
    {
     "name": "stdout",
     "output_type": "stream",
     "text": [
      "4.566288384868043\n"
     ]
    }
   ],
   "source": [
    "def mysum(av):\n",
    "    \"\"\"\n",
    "     The function mysum adds up arbitrary\n",
    "     number form av to restitute the sum of it\n",
    "     sum : float\n",
    "    \"\"\"\n",
    "    sum = 0\n",
    "    for i in range(np.size(av)):\n",
    "        sum += av[i]\n",
    "    return(sum)\n",
    "\n",
    "r1 = mysum(av)\n",
    "\n",
    "# Displaying results\n",
    "print(r1)"
   ]
  },
  {
   "cell_type": "code",
   "execution_count": 16,
   "metadata": {},
   "outputs": [
    {
     "name": "stdout",
     "output_type": "stream",
     "text": [
      "Time for mysum to execute = \n",
      "Time for np.sum to execute = \n"
     ]
    }
   ],
   "source": [
    "# import the time function from the time library\n",
    "from time import time\n",
    "\n",
    "#time?\n",
    "# using time function, compare the executing time of\n",
    "# mysum and np.sum \n",
    "\n",
    "print(\"Time for mysum to execute = \".format(mysum(av)))\n",
    "print(\"Time for np.sum to execute = \".format(np.sum(av)))"
   ]
  },
  {
   "cell_type": "code",
   "execution_count": 17,
   "metadata": {},
   "outputs": [
    {
     "name": "stdout",
     "output_type": "stream",
     "text": [
      "49998224.606517315\n",
      "optimized python function np.sum 0.11968040466308594 secondes\n",
      "49998224.606520444\n",
      "optimized python function mysum 0.11968040466308594 secondes\n",
      "+ 20497.51%\n",
      "mysum flops 4.1e+06 for \"+\"\n"
     ]
    }
   ],
   "source": [
    "# create a random vector av(N) of length N=1e5 \n",
    "# for N=10, 1e3, 1e5, 1e6, 1e7, 1e8 ... depending the processors (CPU) performances of your laptop.\n",
    "\n",
    "N  = int(1e8)\n",
    "av = np.random.random(N)\n",
    "\n",
    "# compute the execution time\n",
    "t  = time()    # time before calculation\n",
    "s  = np.sum(av) # time after calculation (it registers the time nedded to do the calculation)\n",
    "t1 = time() - t\n",
    "print(s)\n",
    "\n",
    "print(\"optimized python function np.sum\", t1, \"secondes\")\n",
    "\n",
    "# ------------------------------------------------------------------\n",
    "\n",
    "t  = time()    # time before calculation\n",
    "s  = mysum(av) # time after calculation (it registers the time nedded to do the calculation)\n",
    "t2 = time() - t\n",
    "print(s)\n",
    "\n",
    "print(\"optimized python function mysum\", t1, \"secondes\")\n",
    "\n",
    "# ------------------------------------------------------------------\n",
    "\n",
    "# calculate the flops (floating point operations per second) for the addition \n",
    "print(\"+\", \"{:.2%}\".format((t2 - t1)/t1))\n",
    "print(\"mysum flops\", '{:03.2g}'.format(N/t2), 'for \"+\"')"
   ]
  },
  {
   "cell_type": "code",
   "execution_count": 25,
   "metadata": {},
   "outputs": [
    {
     "name": "stdout",
     "output_type": "stream",
     "text": [
      "time 0.0010368824005126953 secondes\n",
      "diff(N-2) =  0.005403100750997258\n"
     ]
    }
   ],
   "source": [
    "N = int(1e3) # +2 accounts for the limits\n",
    "av = np.random.random(N)\n",
    "diff = np.zeros(N)\n",
    "t = time()\n",
    "for j in range(1, N-1): # to not be out of the table's limits\n",
    "    diff[j] = av[j+1] - av[j-1]\n",
    "t1 = time() - t\n",
    "\n",
    "print(\"time\", t1, \"secondes\")\n",
    "\n",
    "# ------------------------------------------------------------------\n",
    "\n",
    "# print the last non-zero value of the vector diff\n",
    "\n",
    "print(\"diff(N-2) = \", diff[N-2])"
   ]
  },
  {
   "cell_type": "code",
   "execution_count": 40,
   "metadata": {},
   "outputs": [
    {
     "name": "stdout",
     "output_type": "stream",
     "text": [
      "time 0.0 secondes\n",
      "diff(N-2) =  0.005403100750997258\n"
     ]
    },
    {
     "ename": "ZeroDivisionError",
     "evalue": "float division by zero",
     "output_type": "error",
     "traceback": [
      "\u001b[1;31m---------------------------------------------------------------------------\u001b[0m",
      "\u001b[1;31mZeroDivisionError\u001b[0m                         Traceback (most recent call last)",
      "\u001b[1;32m<ipython-input-40-af57ff317f23>\u001b[0m in \u001b[0;36m<module>\u001b[1;34m\u001b[0m\n\u001b[0;32m      5\u001b[0m \u001b[0mprint\u001b[0m\u001b[1;33m(\u001b[0m\u001b[1;34m\"time\"\u001b[0m\u001b[1;33m,\u001b[0m \u001b[0mt2\u001b[0m\u001b[1;33m,\u001b[0m \u001b[1;34m\"secondes\"\u001b[0m\u001b[1;33m)\u001b[0m\u001b[1;33m\u001b[0m\u001b[1;33m\u001b[0m\u001b[0m\n\u001b[0;32m      6\u001b[0m \u001b[0mprint\u001b[0m\u001b[1;33m(\u001b[0m\u001b[1;34m\"diff(N-2) = \"\u001b[0m\u001b[1;33m,\u001b[0m \u001b[0mdiff\u001b[0m\u001b[1;33m[\u001b[0m\u001b[0mN\u001b[0m\u001b[1;33m-\u001b[0m\u001b[1;36m2\u001b[0m\u001b[1;33m]\u001b[0m\u001b[1;33m)\u001b[0m\u001b[1;33m\u001b[0m\u001b[1;33m\u001b[0m\u001b[0m\n\u001b[1;32m----> 7\u001b[1;33m \u001b[0mprint\u001b[0m\u001b[1;33m(\u001b[0m\u001b[1;34m\"element-wise against vectorized loop : \"\u001b[0m\u001b[1;33m,\u001b[0m \u001b[1;34m'{:.2%}'\u001b[0m\u001b[1;33m.\u001b[0m\u001b[0mformat\u001b[0m\u001b[1;33m(\u001b[0m\u001b[1;33m(\u001b[0m\u001b[0mt1\u001b[0m\u001b[1;33m-\u001b[0m\u001b[0mt2\u001b[0m\u001b[1;33m)\u001b[0m\u001b[1;33m/\u001b[0m\u001b[0mt2\u001b[0m\u001b[1;33m)\u001b[0m\u001b[1;33m)\u001b[0m\u001b[1;33m\u001b[0m\u001b[1;33m\u001b[0m\u001b[0m\n\u001b[0m",
      "\u001b[1;31mZeroDivisionError\u001b[0m: float division by zero"
     ]
    }
   ],
   "source": [
    "t = time()\n",
    "diff[1:-1] = av[2:] - av[:-2]\n",
    "t2 = time() - t\n",
    "\n",
    "print(\"time\", t2, \"secondes\")\n",
    "print(\"diff(N-2) = \", diff[N-2])\n",
    "print(\"element-wise against vectorized loop : \", '{:.2%}'.format((t1-t2)/t2))"
   ]
  },
  {
   "cell_type": "markdown",
   "metadata": {},
   "source": [
    "### Estimating $\\pi$ using the Monte Carlo Method"
   ]
  },
  {
   "cell_type": "code",
   "execution_count": 41,
   "metadata": {},
   "outputs": [
    {
     "name": "stdout",
     "output_type": "stream",
     "text": [
      "[0.84258652 0.73679816 0.56599522 0.62949724 0.07633064 0.34477776\n",
      " 0.40744248 0.90761223 0.22894331 0.52482835] [0.86301036 0.47587134 0.7577127  0.58901657 0.08174201 0.44374842\n",
      " 0.43562316 0.83219544 0.18876095 0.07591067]\n"
     ]
    }
   ],
   "source": [
    "# create a random matrix ([x,y]) of dimension 2 and length N = 1e3\n",
    "\n",
    "N = int(10)\n",
    "\n",
    "# random matrix\n",
    "([x,y]) = np.random.random((2, N))\n",
    "print(x, y)"
   ]
  },
  {
   "cell_type": "code",
   "execution_count": 42,
   "metadata": {},
   "outputs": [],
   "source": [
    "# count the points inside of the 1/4 circle of radius 1 and center (0,0)\n",
    "\n",
    "# center\n",
    "x0, y0 = [0, 0]\n",
    "\n",
    "# angle\n",
    "theta = np.linspace(0, 2*np.pi/4, 100)\n",
    "\n",
    "# radius\n",
    "r = 1\n",
    "\n",
    "# circle equation\n",
    "xx = r*np.cos(theta)\n",
    "yy = r*np.sin(theta)"
   ]
  },
  {
   "cell_type": "code",
   "execution_count": 146,
   "metadata": {},
   "outputs": [
    {
     "data": {
      "image/png": "[encoded data removed]",
      "text/plain": [
       "<Figure size 864x432 with 1 Axes>"
      ]
     },
     "metadata": {
      "needs_background": "light"
     },
     "output_type": "display_data"
    },
    {
     "name": "stdout",
     "output_type": "stream",
     "text": [
      "There are  773 + 773 = 1546 points inside the circle\n"
     ]
    }
   ],
   "source": [
    "import matplotlib.pyplot as plt\n",
    "\n",
    "N = int(1e3)\n",
    "\n",
    "# random matrix\n",
    "([x,y]) = np.random.random((2, N))\n",
    "\n",
    "# -----------------------------------------------------------------\n",
    "\n",
    "# ploting circle\n",
    "p1 = plt.plot(xx, yy, 'b-')\n",
    "\n",
    "# conditions c to differentiate points inside the circle from points outside of it\n",
    "c = (x**2 + y**2) < r**2\n",
    "\n",
    "# random points & circle altogether\n",
    "plt.plot(x, y, 'c.')       # putting every points in red\n",
    "plt.plot(x[c], y[c], 'r.') # hihlighting the points inside the circle\n",
    "\n",
    "plt.title('Highlighting the random points inside a circle on a [0,1]x[0,1] mesh')\n",
    "plt.xlabel('x')\n",
    "plt.ylabel('y')\n",
    "\n",
    "plt.grid('True')\n",
    "\n",
    "plt.xlim(0,1)\n",
    "plt.ylim(0,1)\n",
    "\n",
    "plt.show()\n",
    "plt.close()\n",
    "\n",
    "# -----------------------------------------------------------------\n",
    "\n",
    "inside_x = len(x[c])\n",
    "inside_y = len(y[c])\n",
    "inside_total = inside_x + inside_y\n",
    "\n",
    "print(\"There are \", str(inside_x), \"+\", str(inside_y), \"=\", str(inside_total),\"points inside the circle\")"
   ]
  },
  {
   "cell_type": "code",
   "execution_count": 147,
   "metadata": {
    "scrolled": true
   },
   "outputs": [
    {
     "name": "stdout",
     "output_type": "stream",
     "text": [
      "There are 1546 points inside and  2000 in total, thus a ratio inside/outside is equal to 0.77\n",
      "Real value of pi/4 =  0.7853981633974483\n"
     ]
    }
   ],
   "source": [
    "# compute the ratio of the points within the circle to the total number of points\n",
    "\n",
    "total_point = len(x) + len(y)\n",
    "\n",
    "print(\"There are\", str(inside_total), \"points inside and \", str(total_point), \"in total, thus a ratio inside/outside is equal to\", '{:.2}'.format(inside_total/total_point))\n",
    "\n",
    "print(\"Real value of pi/4 = \", np.pi/4)"
   ]
  },
  {
   "cell_type": "markdown",
   "metadata": {},
   "source": [
    "We see that we are able to get an approximation of $\\pi$ through this method."
   ]
  },
  {
   "cell_type": "code",
   "execution_count": 148,
   "metadata": {},
   "outputs": [],
   "source": [
    "def calculPi(N, r):\n",
    "    n = np.array(np.dot(np.arange(1, 10), N))\n",
    "    pi_arr = np.zeros(np.size(n))\n",
    "\n",
    "    for i in range(np.size(n)):\n",
    "        \n",
    "        # random matrix\n",
    "        ([x,y]) = np.random.random((2, n[i]))\n",
    "        \n",
    "        # conditions c to differentiate points inside the circle from points outside of it\n",
    "        c = (x**2 + y**2) < r**2\n",
    "\n",
    "        inside_x = len(x[c])\n",
    "        inside_y = len(y[c])\n",
    "        inside_total = inside_x + inside_y\n",
    "\n",
    "        total_point = len(x) + len(y)\n",
    "                \n",
    "        pi_arr[i] = inside_total/total_point\n",
    "    return (n, pi_arr)"
   ]
  },
  {
   "cell_type": "code",
   "execution_count": 163,
   "metadata": {},
   "outputs": [
    {
     "data": {
      "image/png": "[encoded data removed]",
      "text/plain": [
       "<Figure size 864x432 with 1 Axes>"
      ]
     },
     "metadata": {
      "needs_background": "light"
     },
     "output_type": "display_data"
    }
   ],
   "source": [
    "# write a function calculPi(N) that returns two vectors (n,pi_arr(n)) \n",
    "# with n=[1:N] and pi_arr an approximation of pi\n",
    "\n",
    "N = int(1e3)\n",
    "\n",
    "# ----------------------------------------------------------\n",
    "\n",
    "# Complete circle\n",
    "# center\n",
    "x0, y0 = [0, 0]\n",
    "\n",
    "# angle\n",
    "theta = np.linspace(0, 2*np.pi/4, 100)\n",
    "\n",
    "# radius\n",
    "r = 1\n",
    "\n",
    "# circle equation\n",
    "xx = r*np.cos(theta)\n",
    "yy = r*np.sin(theta)\n",
    "\n",
    "#plt.plot(xx, yy)\n",
    "\n",
    "# -----------------------------------------------------------------\n",
    "\n",
    "n, pi_arr = calculPi(N, r)\n",
    "\n",
    "plt.plot(n, 4*pi_arr, 'b-')\n",
    "\n",
    "plt.title('Approximation pi')\n",
    "plt.xlabel('number of iterations')\n",
    "plt.ylabel('approximated pi')\n",
    "\n",
    "plt.errorbar(n, 4*pi_arr, np.pi - 4*pi_arr, fmt = 'none',ecolor = 'red',label='Error for N=1000')\n",
    "\n",
    "plt.legend()\n",
    "\n",
    "plt.show()\n",
    "plt.close()"
   ]
  },
  {
   "cell_type": "markdown",
   "metadata": {},
   "source": [
    "## Introduction to sparse matrix\n",
    "\n",
    "Given the sparse matrices (A) \n",
    "\n",
    "$$\n",
    "A = \\begin{bmatrix}\n",
    "1 & 0 & 0 & 0 & 0 & 0\\\\ \n",
    "0 & 0 & 2 & 0 & 0 & 1 \\\\ \n",
    "0 & 0 & 0 & 2 & 0 & 0 \\\\\n",
    "\\end{bmatrix}\n",
    "$$"
   ]
  },
  {
   "cell_type": "code",
   "execution_count": 186,
   "metadata": {},
   "outputs": [
    {
     "name": "stdout",
     "output_type": "stream",
     "text": [
      "[[1 0 0 0 0 0]\n",
      " [0 0 2 0 0 1]\n",
      " [0 0 0 2 0 0]]\n"
     ]
    }
   ],
   "source": [
    "# Sparse matrices contain only a few non-zero values \n",
    "# to save space, we use sparse matrix by comparing with dense matrix.\n",
    "\n",
    "# import sparse library from scipy\n",
    "from scipy import sparse\n",
    "\n",
    "# create a dense matrix A, and print A\n",
    "A = np.zeros([3,6], dtype = int)\n",
    "A[0,0] = A[1,5] = 1\n",
    "A[1,2] = A[2,3] = 2\n",
    "\n",
    "print(A)"
   ]
  },
  {
   "cell_type": "code",
   "execution_count": 187,
   "metadata": {},
   "outputs": [
    {
     "name": "stdout",
     "output_type": "stream",
     "text": [
      "[1 2 2 1]\n"
     ]
    }
   ],
   "source": [
    "# convert A to a sparse matrix representation (S) using the function csc_matrix from scipy\n",
    "# explore the contain of the new matrix with S.data\n",
    "S = sparse.csc_matrix(A)\n",
    "\n",
    "print(S.data)"
   ]
  },
  {
   "cell_type": "code",
   "execution_count": 191,
   "metadata": {},
   "outputs": [
    {
     "name": "stdout",
     "output_type": "stream",
     "text": [
      "[[1 0 0 0 0 0]\n",
      " [0 0 2 0 0 1]\n",
      " [0 0 0 2 0 0]]\n"
     ]
    }
   ],
   "source": [
    "# Use S.todense to retrieve A\n",
    "\n",
    "A = sparse.csc_matrix.todense(S)\n",
    "\n",
    "# print the result\n",
    "print(A)"
   ]
  },
  {
   "cell_type": "code",
   "execution_count": 196,
   "metadata": {
    "scrolled": true
   },
   "outputs": [
    {
     "data": {
      "image/png": "[encoded data removed]",
      "text/plain": [
       "<Figure size 864x432 with 1 Axes>"
      ]
     },
     "metadata": {
      "needs_background": "light"
     },
     "output_type": "display_data"
    }
   ],
   "source": [
    "# Do a graph  with S, using plt.spy\n",
    "plt.spy(S, label = 'non-zero values')\n",
    "\n",
    "plt.title('Values of the sparse matrix under matricial form')\n",
    "plt.xlabel('i - columns')\n",
    "plt.ylabel('j - lines')\n",
    "\n",
    "plt.legend()\n",
    "\n",
    "plt.grid('True')"
   ]
  },
  {
   "cell_type": "code",
   "execution_count": null,
   "metadata": {},
   "outputs": [],
   "source": [
    "We get a visual representation of S (the sparse matrix), that recalls the one of our initial matrix,\n",
    "just that only the non-zero values appear."
   ]
  },
  {
   "cell_type": "markdown",
   "metadata": {},
   "source": [
    "# Take a look at\n",
    "https://docs.scipy.org/doc/scipy/reference/sparse.html"
   ]
  },
  {
   "cell_type": "markdown",
   "metadata": {},
   "source": []
  }
 ],
 "metadata": {
  "kernelspec": {
   "display_name": "Python 3",
   "language": "python",
   "name": "python3"
  },
  "language_info": {
   "codemirror_mode": {
    "name": "ipython",
    "version": 3
   },
   "file_extension": ".py",
   "mimetype": "text/x-python",
   "name": "python",
   "nbconvert_exporter": "python",
   "pygments_lexer": "ipython3",
   "version": "3.8.3"
  }
 },
 "nbformat": 4,
 "nbformat_minor": 4
}
