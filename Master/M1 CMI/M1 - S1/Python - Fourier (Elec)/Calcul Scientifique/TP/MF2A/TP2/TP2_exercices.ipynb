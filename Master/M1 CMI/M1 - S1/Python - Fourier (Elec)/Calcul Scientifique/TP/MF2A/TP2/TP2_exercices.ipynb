{
 "cells": [
  {
   "cell_type": "markdown",
   "metadata": {},
   "source": [
    "# Numpy pratice n°1\n",
    "\n",
    "#### Monday,  October 5, 2020\n"
   ]
  },
  {
   "cell_type": "code",
   "execution_count": 1,
   "metadata": {},
   "outputs": [
    {
     "name": "stdout",
     "output_type": "stream",
     "text": [
      "3.8.3 (default, Jul  2 2020, 17:30:36) [MSC v.1916 64 bit (AMD64)]\n"
     ]
    }
   ],
   "source": [
    "# print the Python version in your system.\n",
    "import sys\n",
    "print(sys.version)"
   ]
  },
  {
   "cell_type": "code",
   "execution_count": 2,
   "metadata": {},
   "outputs": [
    {
     "name": "stdout",
     "output_type": "stream",
     "text": [
      "1.18.5\n",
      "blas_mkl_info:\n",
      "    libraries = ['mkl_rt']\n",
      "    library_dirs = ['C:/Users/vltn0/anaconda3\\\\Library\\\\lib']\n",
      "    define_macros = [('SCIPY_MKL_H', None), ('HAVE_CBLAS', None)]\n",
      "    include_dirs = ['C:\\\\Program Files (x86)\\\\IntelSWTools\\\\compilers_and_libraries_2019.0.117\\\\windows\\\\mkl', 'C:\\\\Program Files (x86)\\\\IntelSWTools\\\\compilers_and_libraries_2019.0.117\\\\windows\\\\mkl\\\\include', 'C:\\\\Program Files (x86)\\\\IntelSWTools\\\\compilers_and_libraries_2019.0.117\\\\windows\\\\mkl\\\\lib', 'C:/Users/vltn0/anaconda3\\\\Library\\\\include']\n",
      "blas_opt_info:\n",
      "    libraries = ['mkl_rt']\n",
      "    library_dirs = ['C:/Users/vltn0/anaconda3\\\\Library\\\\lib']\n",
      "    define_macros = [('SCIPY_MKL_H', None), ('HAVE_CBLAS', None)]\n",
      "    include_dirs = ['C:\\\\Program Files (x86)\\\\IntelSWTools\\\\compilers_and_libraries_2019.0.117\\\\windows\\\\mkl', 'C:\\\\Program Files (x86)\\\\IntelSWTools\\\\compilers_and_libraries_2019.0.117\\\\windows\\\\mkl\\\\include', 'C:\\\\Program Files (x86)\\\\IntelSWTools\\\\compilers_and_libraries_2019.0.117\\\\windows\\\\mkl\\\\lib', 'C:/Users/vltn0/anaconda3\\\\Library\\\\include']\n",
      "lapack_mkl_info:\n",
      "    libraries = ['mkl_rt']\n",
      "    library_dirs = ['C:/Users/vltn0/anaconda3\\\\Library\\\\lib']\n",
      "    define_macros = [('SCIPY_MKL_H', None), ('HAVE_CBLAS', None)]\n",
      "    include_dirs = ['C:\\\\Program Files (x86)\\\\IntelSWTools\\\\compilers_and_libraries_2019.0.117\\\\windows\\\\mkl', 'C:\\\\Program Files (x86)\\\\IntelSWTools\\\\compilers_and_libraries_2019.0.117\\\\windows\\\\mkl\\\\include', 'C:\\\\Program Files (x86)\\\\IntelSWTools\\\\compilers_and_libraries_2019.0.117\\\\windows\\\\mkl\\\\lib', 'C:/Users/vltn0/anaconda3\\\\Library\\\\include']\n",
      "lapack_opt_info:\n",
      "    libraries = ['mkl_rt']\n",
      "    library_dirs = ['C:/Users/vltn0/anaconda3\\\\Library\\\\lib']\n",
      "    define_macros = [('SCIPY_MKL_H', None), ('HAVE_CBLAS', None)]\n",
      "    include_dirs = ['C:\\\\Program Files (x86)\\\\IntelSWTools\\\\compilers_and_libraries_2019.0.117\\\\windows\\\\mkl', 'C:\\\\Program Files (x86)\\\\IntelSWTools\\\\compilers_and_libraries_2019.0.117\\\\windows\\\\mkl\\\\include', 'C:\\\\Program Files (x86)\\\\IntelSWTools\\\\compilers_and_libraries_2019.0.117\\\\windows\\\\mkl\\\\lib', 'C:/Users/vltn0/anaconda3\\\\Library\\\\include']\n",
      "None\n"
     ]
    }
   ],
   "source": [
    "# print the NumPy version in your system.\n",
    "import numpy as np\n",
    "print(np.__version__)\n",
    "print(np.show_config())"
   ]
  },
  {
   "cell_type": "code",
   "execution_count": 3,
   "metadata": {},
   "outputs": [
    {
     "name": "stdout",
     "output_type": "stream",
     "text": [
      "Original List: [-2.23, 13, -100, -36.3]\n",
      "One-dimensional NumPy array:  [  -2.23   13.   -100.    -36.3 ]\n"
     ]
    }
   ],
   "source": [
    "# convert a list of numeric value into a one-dimensional NumPy array. \n",
    "l = [-2.23, 13, -100, -36.3]\n",
    "print(\"Original List:\",l)\n",
    "a = np.array(l)\n",
    "print(\"One-dimensional NumPy array: \",a)"
   ]
  },
  {
   "cell_type": "code",
   "execution_count": 5,
   "metadata": {},
   "outputs": [
    {
     "name": "stdout",
     "output_type": "stream",
     "text": [
      "Positive 1-D NumPy array:  [  2.23  13.   100.    36.3 ]\n"
     ]
    }
   ],
   "source": [
    "# make positive all the values of the array\n",
    "b = np.abs(a)\n",
    "print(\"Positive 1-D NumPy array: \",b)"
   ]
  },
  {
   "cell_type": "code",
   "execution_count": 6,
   "metadata": {},
   "outputs": [
    {
     "name": "stdout",
     "output_type": "stream",
     "text": [
      "[-5.  -4.8 -4.6 -4.4 -4.2 -4.  -3.8 -3.6 -3.4 -3.2 -3.  -2.8 -2.6 -2.4\n",
      " -2.2 -2.  -1.8 -1.6 -1.4 -1.2 -1.  -0.8 -0.6 -0.4 -0.2  0.   0.2  0.4\n",
      "  0.6  0.8  1.   1.2  1.4  1.6  1.8  2.   2.2  2.4  2.6  2.8  3. ]\n"
     ]
    }
   ],
   "source": [
    "# Create a 1-D array of 41 evenly spaced elements between -5. and 3, inclusive. \n",
    "x = np.linspace(-5, 3, 41)\n",
    "print(x)"
   ]
  },
  {
   "cell_type": "code",
   "execution_count": 12,
   "metadata": {},
   "outputs": [
    {
     "name": "stdout",
     "output_type": "stream",
     "text": [
      "[1.47364613e-195 2.27757748e-170 6.44725997e-147 3.34271444e-125\n",
      " 3.17428155e-105 5.52094836e-087 1.75874954e-070 1.02616307e-055\n",
      " 1.09660656e-042 2.14638374e-031 7.69459863e-022 5.05227108e-014\n",
      " 6.07588285e-008 1.33830226e-003 5.39909665e-001 3.98942280e+000\n",
      " 5.39909665e-001 1.33830226e-003 6.07588285e-008 5.05227108e-014\n",
      " 7.69459863e-022 2.14638374e-031 1.09660656e-042 1.02616307e-055\n",
      " 1.75874954e-070 5.52094836e-087 3.17428155e-105 3.34271444e-125\n",
      " 6.44725997e-147 2.27757748e-170 1.47364613e-195 1.74636626e-222\n",
      " 3.79052640e-251 1.50690472e-281 1.09722105e-313 0.00000000e+000\n",
      " 0.00000000e+000 0.00000000e+000 0.00000000e+000 0.00000000e+000\n",
      " 0.00000000e+000]\n"
     ]
    },
    {
     "data": {
      "text/plain": [
       "[<matplotlib.lines.Line2D at 0x24ad1931d30>]"
      ]
     },
     "execution_count": 12,
     "metadata": {},
     "output_type": "execute_result"
    },
    {
     "data": {
      "image/png": "[encoded data removed]",
      "text/plain": [
       "<Figure size 432x288 with 1 Axes>"
      ]
     },
     "metadata": {
      "needs_background": "light"
     },
     "output_type": "display_data"
    }
   ],
   "source": [
    "#  generate a Gaussian curve of mean mu =-2 and variance var = 0.5\n",
    "mu = -2\n",
    "var = 0.5\n",
    "sigma = 0.1                   # standard deviation\n",
    "g = (1/(sigma*np.sqrt(2*np.pi)))*np.exp(-var*((x - mu)/sigma)**2)\n",
    "print(g)"
   ]
  },
  {
   "cell_type": "code",
   "execution_count": 13,
   "metadata": {},
   "outputs": [
    {
     "data": {
      "image/png": "[encoded data removed]",
      "text/plain": [
       "<Figure size 432x288 with 1 Axes>"
      ]
     },
     "metadata": {
      "needs_background": "light"
     },
     "output_type": "display_data"
    }
   ],
   "source": [
    "# plot the gaussian curve\n",
    "import matplotlib.pyplot as plt\n",
    "plt.plot(x, g, 'r', label = 'Gaussian function')\n",
    "plt.title('Gaussian function n = 41')\n",
    "plt.legend()\n",
    "plt.xlabel('x position')\n",
    "plt.ylabel('g(x) = gaussian function')\n",
    "plt.grid(True)\n",
    "plt.show()\n",
    "plt.close()"
   ]
  },
  {
   "cell_type": "code",
   "execution_count": 20,
   "metadata": {},
   "outputs": [
    {
     "name": "stdout",
     "output_type": "stream",
     "text": [
      "maximum of g = 15\n",
      "position of the maximum, x =  -2.0\n"
     ]
    }
   ],
   "source": [
    "# verify that the mean value is well placed (try to use np.argmax)\n",
    "a = np.argmax(g, axis=None, out=None)\n",
    "print(\"maximum of g = {}\".format(a))\n",
    "print(\"position of the maximum, x = \", x[a])\n"
   ]
  },
  {
   "cell_type": "code",
   "execution_count": 50,
   "metadata": {},
   "outputs": [
    {
     "name": "stdout",
     "output_type": "stream",
     "text": [
      "[ 1.24521012e-311  9.58487353e-322  0.00000000e+000  0.00000000e+000\n",
      "  1.31423071e-173  5.02034658e+175  1.43287354e+161  2.32162692e-056\n",
      "  1.00500225e-070  7.86497725e-067  1.47763641e+248  1.16096346e-028\n",
      "  7.69165785e+218  1.35617292e+248  1.21155934e-046  3.14444301e+179\n",
      "  7.11290751e-038  1.41599139e-076  4.25775804e-096  6.32299154e+233\n",
      "  6.48224638e+170  5.22411352e+257  5.74020278e+180  8.37174974e-144\n",
      "  1.41529402e+161  6.00736899e-067  4.52576981e+097  7.50276704e-067\n",
      "  4.09801556e+126 -1.02748637e-128]\n"
     ]
    }
   ],
   "source": [
    "# create an un-initialized vector dt of length N=30 of float type\n",
    "N = 30\n",
    "dt = np.empty([N], dtype = float)\n",
    "print (dt)"
   ]
  },
  {
   "cell_type": "code",
   "execution_count": 51,
   "metadata": {},
   "outputs": [
    {
     "name": "stdout",
     "output_type": "stream",
     "text": [
      "[ -777568208         586  -890641680         586  -890641680         586\n",
      "  -777590288         586  -777573776         586  -777573712         586\n",
      "  -777571024         586  1459695664 -2147475638  -777573648         586\n",
      "  -777573584         586  -777568128         586  -777568048         586\n",
      "  -890641680         586  -777573520         586  -777573456         586]\n"
     ]
    }
   ],
   "source": [
    "# create an uninitialized vector dt of length N=30 of integer type\n",
    "N = 30\n",
    "dt = np.empty(N, dtype = int)\n",
    "print (dt)"
   ]
  },
  {
   "cell_type": "code",
   "execution_count": 68,
   "metadata": {},
   "outputs": [
    {
     "data": {
      "image/png": "[encoded data removed]",
      "text/plain": [
       "<Figure size 432x288 with 1 Axes>"
      ]
     },
     "metadata": {
      "needs_background": "light"
     },
     "output_type": "display_data"
    }
   ],
   "source": [
    "# plot the three following functions with colors: f = 10^x (red), g = x (green), h = log(x) (blue), for 0.2<=x<=4\n",
    "# save the figure in a PNG file with plt.savefig\n",
    "x = np.linspace(0.1, 4, 100)\n",
    "plt.plot(x, 10**x, 'r')\n",
    "plt.plot(x, x, 'g')\n",
    "plt.plot(x, np.log(x), 'b', label = 'test')\n",
    "\n",
    "plt.xlim(0.1, 4)\n",
    "plt.ylim(0, 4)\n",
    "\n",
    "plt.savefig(\"figure.png\")\n",
    "\n",
    "plt.show()\n",
    "plt.close()"
   ]
  },
  {
   "cell_type": "code",
   "execution_count": 74,
   "metadata": {},
   "outputs": [
    {
     "data": {
      "image/png": "[encoded data removed]",
      "text/plain": [
       "<Figure size 432x288 with 1 Axes>"
      ]
     },
     "metadata": {
      "needs_background": "light"
     },
     "output_type": "display_data"
    }
   ],
   "source": [
    "# create the same figure, but using np.append and a WHILE loop\n",
    "\n",
    "x = 0.2\n",
    "dx = 0.1\n",
    "\n",
    "f_arr = np.array(10**x)\n",
    "g_arr = np.array(x)\n",
    "h_arr = np.array(np.log(x))\n",
    "\n",
    "\n",
    "# The function np.append adds the term to the right of the coma to the already existing value (left size of the coma)\n",
    "while x < 4:\n",
    "    f_arr = np.append(f_arr, 10**x)\n",
    "    g_arr = np.append(g_arr, x)\n",
    "    h_arr = np.append(h_arr, np.log(x))\n",
    "    x += dx\n",
    "\n",
    "plt.plot(g_arr, f_arr, 'r-')\n",
    "plt.plot(g_arr, g_arr, 'g-')\n",
    "plt.plot(g_arr, h_arr, 'b-')\n",
    "\n",
    "plt.xlim(0.1, 4)\n",
    "plt.ylim(0, 4)\n",
    "\n",
    "plt.savefig(\"same_figure_while.png\")"
   ]
  }
 ],
 "metadata": {
  "kernelspec": {
   "display_name": "Python 3",
   "language": "python",
   "name": "python3"
  },
  "language_info": {
   "codemirror_mode": {
    "name": "ipython",
    "version": 3
   },
   "file_extension": ".py",
   "mimetype": "text/x-python",
   "name": "python",
   "nbconvert_exporter": "python",
   "pygments_lexer": "ipython3",
   "version": "3.8.3"
  }
 },
 "nbformat": 4,
 "nbformat_minor": 4
}
