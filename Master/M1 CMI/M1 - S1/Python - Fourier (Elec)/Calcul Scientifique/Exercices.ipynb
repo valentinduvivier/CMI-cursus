{
 "cells": [
  {
   "cell_type": "markdown",
   "metadata": {},
   "source": [
    "# Assignement 1 : Scientific Python basics\n",
    "The following exercises (1.1 to 1.13)  have been written by Anders Malthe-Sørenssen\n",
    "\n",
    "The solutions will be provided on request through the moodle platform"
   ]
  },
  {
   "cell_type": "markdown",
   "metadata": {},
   "source": [
    "##### 1.1  Seconds.\n",
    "\n",
    "(a) Write a script that calculates the number of seconds, $s$, given the number of hours, $h$."
   ]
  },
  {
   "cell_type": "markdown",
   "metadata": {},
   "source": [
    "(b) Use the script to find the number of seconds in 1.5 hours,\n",
    "12 hours, and 24 hours."
   ]
  },
  {
   "cell_type": "markdown",
   "metadata": {},
   "source": [
    "##### 1.2 Spherical mass.\n",
    "\n",
    "(a) Write a script that calculates the mass of a sphere given its radius $r$ and mass density $\\rho$ "
   ]
  },
  {
   "cell_type": "markdown",
   "metadata": {},
   "source": [
    "(b) Use the script to find the mass of a sphere of steel of radius\n",
    "$r = [1mm, 1m, 10m]$."
   ]
  },
  {
   "cell_type": "markdown",
   "metadata": {},
   "source": [
    "##### 1.3 Angle.\n",
    "\n",
    "(a) Write a function that for a point $(x, y)$ returns the angle $\\theta$ from the x-axis"
   ]
  },
  {
   "cell_type": "markdown",
   "metadata": {},
   "source": [
    "(b) Find the angles $\\theta$ for the points $(1, 1), (−1, 1), (−1, −1),(1, −1)$."
   ]
  },
  {
   "cell_type": "markdown",
   "metadata": {},
   "source": [
    "(c) How would you need to change the function to return values of $\\theta$ in the range $[0, 2\\pi]$?"
   ]
  },
  {
   "cell_type": "markdown",
   "metadata": {},
   "source": [
    "##### 1.4 Unit vector.\n",
    "\n",
    "(a) Write a function that returns the two-dimensional unit vector corresponding to an angle $\\theta$ with the x-axis, where $\\theta$ is given in radians."
   ]
  },
  {
   "cell_type": "markdown",
   "metadata": {},
   "source": [
    "(b) Find the unit vectors for $\\theta = 0, \\pi /6, \\pi /3, \\pi /2, 3 \\pi /2$."
   ]
  },
  {
   "cell_type": "markdown",
   "metadata": {},
   "source": [
    "(c) Rewrite the function to instead take the argument $\\theta$ in degrees."
   ]
  },
  {
   "cell_type": "markdown",
   "metadata": {},
   "source": [
    "##### 1.5 Plotting the normal distribution.\n",
    "\n",
    "The normal distribution, often called the Gaussian distribution, is given as:\n",
    "$$P(x, \\mu, \\sigma) =\\frac{e^{-\\frac{(x-\\mu)^2}{2\\sigma^2}}}{\\sqrt{2 \\pi \\sigma^2}}$$\n",
    "\n",
    "where $\\mu$ is the average and $\\sigma$ is the standard deviation."
   ]
  },
  {
   "cell_type": "markdown",
   "metadata": {},
   "source": [
    "(a) Make a function `normal(x,mu,sigma)` that returns the normal distribution value"
   ]
  },
  {
   "cell_type": "markdown",
   "metadata": {},
   "source": [
    "(b) Use this function to plot the normal distribution for −5 <\n",
    "x < 5 for µ = 0 and σ = 1."
   ]
  },
  {
   "cell_type": "markdown",
   "metadata": {},
   "source": [
    "(c) Plot the normal distribution for −5 < x < 5 for µ = 0 and\n",
    "σ = 2 and for σ = 0.5 in the same plot."
   ]
  },
  {
   "cell_type": "markdown",
   "metadata": {},
   "source": [
    "(d) Plot the normal distribution for −5 < x < 5 for σ = 0.5 and\n",
    "µ = 0, 1, 2 in three subplots above each other"
   ]
  },
  {
   "cell_type": "markdown",
   "metadata": {},
   "source": [
    "##### 1.6  Plotting $1/x^n$\n",
    "\n",
    "The function $f(x, n)$ is given as:\n",
    "$$f(x, n) = \\frac{1}{x^n}$$"
   ]
  },
  {
   "cell_type": "markdown",
   "metadata": {},
   "source": [
    "(a) Make a function `fvalue(x,n)` which returns the value of $f(x, n)$."
   ]
  },
  {
   "cell_type": "markdown",
   "metadata": {},
   "source": [
    "(b) Use this function to plot $1/x, 1/x^2$ and $ 1/x^3$ in the same plot for −1 < x < 1."
   ]
  },
  {
   "cell_type": "markdown",
   "metadata": {},
   "source": [
    "##### 1.7 Plotting $ sin(x)/x^n$\n",
    "\n",
    "\n",
    "The function $g(x, n)$ is given as:\n",
    "$$ g(x, n) = \\frac{sin(x)}{x^n}$$"
   ]
  },
  {
   "cell_type": "markdown",
   "metadata": {},
   "source": [
    "(a) Make a function `gvalue(x,n)` which returns the value of $g(x, n)$."
   ]
  },
  {
   "cell_type": "markdown",
   "metadata": {},
   "source": [
    "(b) Use this function to plot $sin(x)/x$, $sin(x)/x2$\n",
    "and $sin(x)/x3$\n",
    "in the same plot for −5 < x < 5."
   ]
  },
  {
   "cell_type": "markdown",
   "metadata": {},
   "source": [
    "(c) Use the help function to find out how to place legends for\n",
    "each of the plots into the figure."
   ]
  },
  {
   "cell_type": "markdown",
   "metadata": {},
   "source": [
    "##### 1.8 Logistic map. \n",
    "\n",
    "The iterative mapping $$x(i + 1) = r x(i) (1 − x(i))$$ is called the logistic map."
   ]
  },
  {
   "cell_type": "markdown",
   "metadata": {},
   "source": [
    "(a) Make a function `logistic(x,r)` which returns the value of\n",
    "$x(i + 1)$ given $x(i)$ and $r$ as inputs."
   ]
  },
  {
   "cell_type": "markdown",
   "metadata": {},
   "source": [
    "(b) Write a script with a loop to calculate the first 100 steps\n",
    "of the logistic map starting from x(1) = 0.5. Store all the\n",
    "values in an array x with n = 100 elements and plot x as\n",
    "a function of the number of steps i:"
   ]
  },
  {
   "cell_type": "markdown",
   "metadata": {},
   "source": [
    "(c) Explore the logistic map for r = 1.0, 2.0, 3.0 and 4.0."
   ]
  },
  {
   "cell_type": "markdown",
   "metadata": {},
   "source": [
    "##### 1.9 Numerical integration.\n",
    "\n",
    "Given a function $f(x)$ we can approximate the integral from $0$ to $b$ using the following formula:\n",
    "$$\\int_0^b f(x)dx \\approx \\sum_{i=0}^n f(x_i)\\Delta x$$\n",
    "    where $x_i = i.b/n$ and $\\Delta x = b/n$.\n",
    "    \n",
    "Let us use use this technique to calculate the integral of $f(x) = sin(x)/x$"
   ]
  },
  {
   "cell_type": "markdown",
   "metadata": {},
   "source": [
    "(a) Define a function `myfunc(x)` which returns the value of $f(x)$ for a given value of $x$."
   ]
  },
  {
   "cell_type": "markdown",
   "metadata": {},
   "source": [
    "(b) Write a script that calculates the integral of f(x) = sin(x)/x from 0 to 1 using the numerical scheme presented above using a for-loop."
   ]
  },
  {
   "cell_type": "markdown",
   "metadata": {},
   "source": [
    "(d) What would you need to change to instead find the integral of $f(x) = x e^{−x^4}$ on the interval from 0 to 2?"
   ]
  },
  {
   "cell_type": "markdown",
   "metadata": {},
   "source": [
    "So far you have calculated the specific integral from 0 to b.\n",
    "\n",
    "Now, we want to find the function $g(x)$ which is given as the integral:\n",
    "\n",
    "$$g(x) = \\int_0^x f(x)dx \\approx \\sum_{i=0}^n f(x_i)\\Delta x$$\n",
    "\n",
    "where $f(x) = sin(x)/x$ as above. \n",
    "\n",
    "We find this function by simply calculating the values of the integral at all the points\n",
    "$x_i = b · (i/n)$ according to : \n",
    "$$g(x_n) = g(x_n−1) + f(x_n−1) · ∆x$$"
   ]
  },
  {
   "cell_type": "markdown",
   "metadata": {},
   "source": [
    "(c) Write a script to calculate the values $g(x_i)$ given $f(x) =\n",
    "sin(x)/x$ for n = 1000 and $x$ in the range from 0 to b = 1.\n",
    "\n",
    "(d) Plot $g(x)$ as a function of $x$"
   ]
  },
  {
   "cell_type": "markdown",
   "metadata": {},
   "source": [
    "#### 1.10 Euler’s method. \n",
    "\n",
    "In mechanics, we often use Euler’s method to determine the motion of an object given how the acceleration depends on the velocity and position of an object. For example, we may know that the acceleration $a(x, v)$ is given as:\n",
    "\n",
    "$$a(x, v) = −kx − cv$$\n",
    "\n",
    "If we know the position $x$ and the velocity $v$ at a time $t = 0$, $x(0) = x_0 = 0$ and $v(0) = v_0 = 1$ \n",
    "\n",
    "we can use Euler’s method to find the position and velocity after a small timestep ∆t:\n",
    "$$\n",
    "v_n = v(t_{n-1} + ∆t) = v(t_{n-1}) + a(v(t_{n-1}), x(t_{n-1}))∆t\\\\\n",
    "x_n = x(t_{n-1} + ∆t) = x(t_{n-1}) + v(t_{n-1})∆t\n",
    "$$\n",
    "We can therefore use this scheme to find the position $x(t)$ and the velocity $v(t)$ as a function of time at the discrete values $t_i = i∆t$ in time."
   ]
  },
  {
   "cell_type": "markdown",
   "metadata": {},
   "source": [
    "(a) Write a function `acceleration(v,x,k,C)` which returns the value of $a(x, v)$"
   ]
  },
  {
   "cell_type": "markdown",
   "metadata": {},
   "source": [
    "(b) Write a script that calculates the first 100 values of x(ti)\n",
    "and v(ti) when k = 10, C = 5, and ∆t = 0.01. Plot x(t),\n",
    "v(t), and a(t) as functions of time."
   ]
  },
  {
   "cell_type": "markdown",
   "metadata": {},
   "source": [
    "(c) What would you need to change to find x(t) and v(t)\n",
    "if the acceleration was given as $a(v, x) = k sin(x) − Cv$ ?"
   ]
  },
  {
   "cell_type": "markdown",
   "metadata": {},
   "source": [
    "#### 1.11 Throwing two dice. \n",
    "\n",
    "You throw a pair of six-sided\n",
    "dice and sum the number from each of the dice:\n",
    "\n",
    "$$Z = X1 + X2$$\n",
    "\n",
    "where Z is the sum of the results from dice 1, X1, and dice 2, X2\n",
    "If we perform this experiment many times (N), we can find the\n",
    "average and standard deviation from standard estimators from\n",
    "statistics. \n",
    "The average, $\\bar Z$, of Z is estimated from:\n",
    "$$\\bar Z = \\frac{1}{N}\\sum_{i=1}^N Z_i$$\n",
    "and the standard deviation, $\\Delta Z$, is estimated from:\n",
    "$$\\Delta Z = \\frac{1}{N-1}\\left(\\sum_{i=1}^N (Z_i-\\bar Z)\\right)^2$$"
   ]
  },
  {
   "cell_type": "markdown",
   "metadata": {},
   "source": [
    "(a) Write a function that returns an array of N values for Z."
   ]
  },
  {
   "cell_type": "markdown",
   "metadata": {},
   "source": [
    "(b) Write a function that returns an estimate of the average of\n",
    "an array z."
   ]
  },
  {
   "cell_type": "markdown",
   "metadata": {},
   "source": [
    "(c) Write a function that returns an estimate of the standard\n",
    "deviation of an array z."
   ]
  },
  {
   "cell_type": "markdown",
   "metadata": {},
   "source": [
    "(d) Find the average and standard deviation for N = 100\n",
    "throws of two dice."
   ]
  },
  {
   "cell_type": "markdown",
   "metadata": {},
   "source": [
    " #### 1.12 Reading data. \n",
    " \n",
    " The file trajectory.dat contains a list of numbers:\n",
    " \n",
    "$$t_0, x_0, y_0\\\\t_1, x_1, y_1\\\\t_2, x_2, y_2\\\\.., .., ..\\\\t_n, x_n, y_n$$\n",
    "\n",
    "\n",
    "corresponding to the time $t(i)$ measured in seconds, and the $x$ and $y$ positions $x(i)$ and $y(i)$ measured in meters for the trajectory of a rolling drone."
   ]
  },
  {
   "cell_type": "markdown",
   "metadata": {},
   "source": [
    "(a) Read the data file into the arrays t, x, and y."
   ]
  },
  {
   "cell_type": "markdown",
   "metadata": {},
   "source": [
    "(b) Plot the x and y positions as function of time in two plots\n",
    "above each other."
   ]
  },
  {
   "cell_type": "markdown",
   "metadata": {},
   "source": [
    "(c) Plot the (x, y) position of the object in a plot with x and y\n",
    "on the two axes"
   ]
  },
  {
   "cell_type": "markdown",
   "metadata": {},
   "source": [
    "#### 1.13 Reading data\n",
    "\n",
    "The file DataPTS.txt contains measurements at an arbitrary location in the ocean of static pressure P (Bar), Temperature T (°C) ans Salinity S (g/L).\n"
   ]
  },
  {
   "cell_type": "markdown",
   "metadata": {},
   "source": [
    "(a) Read the data file into the array `data`"
   ]
  },
  {
   "cell_type": "markdown",
   "metadata": {},
   "source": [
    "(b) Plot Temperature and Salinity with respect to depth"
   ]
  },
  {
   "cell_type": "markdown",
   "metadata": {},
   "source": [
    "(c) Plot Temperature with respect to Salinity"
   ]
  },
  {
   "cell_type": "markdown",
   "metadata": {},
   "source": [
    "(d) Estimate their correlation coefficient defined by \n",
    "$$C = \\frac{\\bar{S.T}}{\\bar S\\bar T}$$"
   ]
  },
  {
   "cell_type": "markdown",
   "metadata": {},
   "source": [
    "#### 1.14 Synthesizing and writing simulated data\n",
    "\n",
    "We aim to simulate the noisy  trajectory of a rolling drone in the 2D cartesian coordinate system.\n",
    "\n",
    "The ideal trajectory is an ellipse with radii (100m, 75m) centered at (-44m, 15m).\n",
    "\n",
    "(a) Write a script to process the $x$ and $y$ ideal coordinates of the drone.\n",
    "\n",
    "(b) Plot the ideal trajectory.\n"
   ]
  },
  {
   "cell_type": "markdown",
   "metadata": {},
   "source": [
    "(c) Add the necessary statements to simulate a trajectory $(x_{noisy}, y_{noisy})$ with a 1.5m standard deviation from the ideal trajectory\n"
   ]
  },
  {
   "cell_type": "markdown",
   "metadata": {},
   "source": [
    "(d) The trajectory is traveled in a total time of 5 minutes. Process the associated time vector $t$"
   ]
  },
  {
   "cell_type": "markdown",
   "metadata": {},
   "source": [
    "(e) Save the simulated data $(t, x, y)$ in a csv file"
   ]
  },
  {
   "cell_type": "markdown",
   "metadata": {},
   "source": [
    "#### 1.15 Plotting a 2D arbitrary field\n",
    "\n",
    "The aim is to represent a 2D field from an analytical expression.\n",
    "\n",
    "For instance the displacement field of a simply supported vibrating rectangular plate writes for the $i^{th}$ mode, $(i = (n,m))$ : ¶\n",
    "$$ w(x,y,z) = \\sin \\frac{n\\pi x}{L_x} \\sin \\frac{n\\pi y}{L_y}$$\n",
    "where $L_x$ and $L_y$ are the lengths of the plate according to x and y respectively.\n",
    "\n",
    "(a) Build a 2D mesh with equal step $\\Delta = min(L_x,L_y)/1000$ according to $x$ and $y$"
   ]
  },
  {
   "cell_type": "markdown",
   "metadata": {},
   "source": [
    "(b) Plot the displacement field of the 10 first modes of the plate."
   ]
  }
 ],
 "metadata": {
  "kernelspec": {
   "display_name": "Python 3",
   "language": "python",
   "name": "python3"
  },
  "language_info": {
   "codemirror_mode": {
    "name": "ipython",
    "version": 3
   },
   "file_extension": ".py",
   "mimetype": "text/x-python",
   "name": "python",
   "nbconvert_exporter": "python",
   "pygments_lexer": "ipython3",
   "version": "3.7.4"
  },
  "latex_envs": {
   "LaTeX_envs_menu_present": true,
   "autoclose": false,
   "autocomplete": true,
   "bibliofile": "biblio.bib",
   "cite_by": "apalike",
   "current_citInitial": 1,
   "eqLabelWithNumbers": true,
   "eqNumInitial": 1,
   "hotkeys": {
    "equation": "Ctrl-E",
    "itemize": "Ctrl-I"
   },
   "labels_anchors": false,
   "latex_user_defs": false,
   "report_style_numbering": false,
   "user_envs_cfg": false
  },
  "varInspector": {
   "cols": {
    "lenName": 16,
    "lenType": 16,
    "lenVar": 40
   },
   "kernels_config": {
    "python": {
     "delete_cmd_postfix": "",
     "delete_cmd_prefix": "del ",
     "library": "var_list.py",
     "varRefreshCmd": "print(var_dic_list())"
    },
    "r": {
     "delete_cmd_postfix": ") ",
     "delete_cmd_prefix": "rm(",
     "library": "var_list.r",
     "varRefreshCmd": "cat(var_dic_list()) "
    }
   },
   "types_to_exclude": [
    "module",
    "function",
    "builtin_function_or_method",
    "instance",
    "_Feature"
   ],
   "window_display": false
  }
 },
 "nbformat": 4,
 "nbformat_minor": 2
}
