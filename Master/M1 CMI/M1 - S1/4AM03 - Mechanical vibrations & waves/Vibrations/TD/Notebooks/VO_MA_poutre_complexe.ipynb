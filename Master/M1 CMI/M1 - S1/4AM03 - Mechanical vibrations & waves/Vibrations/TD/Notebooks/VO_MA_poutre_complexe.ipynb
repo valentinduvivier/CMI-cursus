{
 "cells": [
  {
   "cell_type": "markdown",
   "metadata": {},
   "source": [
    "<img src=\"./figures/logo_SU.png\" style=\"height:100px\">"
   ]
  },
  {
   "cell_type": "markdown",
   "metadata": {},
   "source": [
    "# Méthode de Rayleigh pour estimer la fréquence propre d'un système complexe"
   ]
  },
  {
   "cell_type": "markdown",
   "metadata": {},
   "source": [
    "On considère une même poutre supportant à son extrémité libre une charge de masse $M$ et supportée en son milieu par un matériau élastique de raideur $k$. Calculer la fréquence fondamentale des vibrations en flexion de ce système, en utilisant la fonction de déplacement $v(x,t)= \\phi(t) \\left[ 3\\left(\\dfrac{x}{L}\\right)^2 - \\left(\\dfrac{x}{L}\\right)^3 \\right].$"
   ]
  },
  {
   "cell_type": "markdown",
   "metadata": {},
   "source": [
    "<img src=\"./figures/Poutre_F2.png\" style=\"height:200px\">"
   ]
  },
  {
   "cell_type": "markdown",
   "metadata": {},
   "source": [
    "La méthodologie à employer est celle présentée en cours :\n",
    "    \n",
    "* Calculer l'énergie potentielle\n",
    "* Calculer l'énergie cinétique\n",
    "* Construire les matrices masse et raideur\n",
    "* Calculer les pulsations propres\n",
    "* Calculer les modes propres"
   ]
  },
  {
   "cell_type": "code",
   "execution_count": 2,
   "metadata": {},
   "outputs": [],
   "source": [
    "from sympy import *\n",
    "from sympy.interactive.printing import init_printing\n",
    "\n",
    "init_printing(use_unicode=False, wrap_line=False, no_global=True)\n",
    "\n",
    "import sympy as sym\n",
    "import numpy as np\n",
    "\n",
    "from numpy import linalg as LA\n",
    "%matplotlib inline\n",
    "import pylab as plt\n",
    "\n",
    "# ----------------------------------------------------------------------\n",
    "\n",
    "x, E, S, k, S, m, CL, S0, Iz, CT = sym.symbols('x E S k S m CL S0 Iz CT')\n",
    "\n",
    "L = sym.symbols('L',positive=True)\n",
    "\n",
    "phi = sym.Symbol('phi')\n",
    "phi1 = sym.Symbol('phi_1')\n",
    "phi2 = sym.Symbol('phi_2')\n",
    "phi3 = sym.Symbol('phi_3')\n",
    "\n",
    "vphi = sym.Symbol('\\dot{\\phi}')\n",
    "vphi1 = sym.Symbol('\\dot{\\phi_1}')\n",
    "vphi2 = sym.Symbol('\\dot{\\phi_2}')\n",
    "vphi3 = sym.Symbol('\\dot{\\phi_3}')\n",
    "\n",
    "rho = sym.Symbol('rho')\n",
    "omg = sym.Symbol('omega')\n",
    "beta = sym.Symbol('beta')"
   ]
  },
  {
   "cell_type": "code",
   "execution_count": 3,
   "metadata": {},
   "outputs": [
    {
     "data": {
      "text/plain": [
       "Text(0.5, 0, 'x/L')"
      ]
     },
     "execution_count": 3,
     "metadata": {},
     "output_type": "execute_result"
    },
    {
     "data": {
      "image/png": "[encoded data removed]",
      "text/plain": [
       "<Figure size 432x288 with 1 Axes>"
      ]
     },
     "metadata": {
      "needs_background": "light"
     },
     "output_type": "display_data"
    }
   ],
   "source": [
    "# Visualisation des fonctions de forme\n",
    "\n",
    "LL = 1 \n",
    "xx = np.linspace(0, LL, 100)\n",
    "g  = 3*(xx / LL)**2 -  (xx / LL)**3\n",
    "\n",
    "plt.figure()\n",
    "plt.plot(xx,g)\n",
    "plt.title(\"fonctions propres $g(x)$\")\n",
    "plt.xlabel(\"x/L\")"
   ]
  },
  {
   "cell_type": "markdown",
   "metadata": {},
   "source": [
    "L'énergie cinétique de la poutre $T_{poutre} = \\displaystyle\\dfrac{1}{2} \\int_0^L \\rho S \\left(\\dfrac{\\partial v(x,t)}{\\partial t}\\right)^2 \\ dx$ a pour expression"
   ]
  },
  {
   "cell_type": "code",
   "execution_count": 4,
   "metadata": {},
   "outputs": [
    {
     "name": "stdout",
     "output_type": "stream",
     "text": [
      "Tpoutre =\n"
     ]
    },
    {
     "data": {
      "image/png": "[encoded data removed]",
      "text/latex": [
       "$\\displaystyle \\frac{33 L S \\dot{\\phi}^{2} \\rho}{70}$"
      ],
      "text/plain": [
       "                 2    \n",
       "33*L*S*\\dot{\\phi} *rho\n",
       "----------------------\n",
       "          70          "
      ]
     },
     "execution_count": 4,
     "metadata": {},
     "output_type": "execute_result"
    }
   ],
   "source": [
    "def vv2t(x):\n",
    "    return (3*(x/L)**2 - (x/L)**3)*vphi;\n",
    "\n",
    "Tpoutre = sym.simplify(Rational(1, 2)*integrate(rho*S*(vv2t(x))**2, (x, 0, L)));\n",
    "\n",
    "print(\"Tpoutre =\");\n",
    "Tpoutre"
   ]
  },
  {
   "cell_type": "markdown",
   "metadata": {},
   "source": [
    "L'énergie cinétique de la masse $T_{masse} = \\displaystyle\\dfrac{1}{2} \\int_0^L m \\left(\\dfrac{\\partial v(L,t)}{\\partial t}\\right)^2 \\ dx$ a pour expression"
   ]
  },
  {
   "cell_type": "code",
   "execution_count": 7,
   "metadata": {},
   "outputs": [
    {
     "name": "stdout",
     "output_type": "stream",
     "text": [
      "Tmasse =\n"
     ]
    },
    {
     "data": {
      "image/png": "[encoded data removed]",
      "text/latex": [
       "$\\displaystyle 2 L \\dot{\\phi}^{2} m$"
      ],
      "text/plain": [
       "              2  \n",
       "2*L*\\dot{\\phi} *m"
      ]
     },
     "execution_count": 7,
     "metadata": {},
     "output_type": "execute_result"
    }
   ],
   "source": [
    "Tmasse = sym.simplify(Rational(1,2)*integrate(m*(vv2t(L))**2, (x, 0, L)));\n",
    "\n",
    "print(\"Tmasse =\");\n",
    "Tmasse"
   ]
  },
  {
   "cell_type": "markdown",
   "metadata": {},
   "source": [
    "L'énergie cinétique totale est donc"
   ]
  },
  {
   "cell_type": "code",
   "execution_count": 9,
   "metadata": {},
   "outputs": [
    {
     "data": {
      "image/png": "[encoded data removed]",
      "text/latex": [
       "$\\displaystyle \\frac{33 L S \\dot{\\phi}^{2} \\rho}{70} + 2 L \\dot{\\phi}^{2} m$"
      ],
      "text/plain": [
       "                 2                        \n",
       "33*L*S*\\dot{\\phi} *rho                 2  \n",
       "---------------------- + 2*L*\\dot{\\phi} *m\n",
       "          70                              "
      ]
     },
     "execution_count": 9,
     "metadata": {},
     "output_type": "execute_result"
    }
   ],
   "source": [
    "T = Tpoutre + Tmasse;\n",
    "T"
   ]
  },
  {
   "cell_type": "markdown",
   "metadata": {},
   "source": [
    "L'énergie de déformation de la poutre $U_{poutre} = \\displaystyle\\dfrac{1}{2} \\int_0^L EI \\left(\\dfrac{\\partial^2 v(x,t)}{\\partial x^2}\\right)^2 \\ dx$ a pour expression"
   ]
  },
  {
   "cell_type": "code",
   "execution_count": 11,
   "metadata": {},
   "outputs": [
    {
     "name": "stdout",
     "output_type": "stream",
     "text": [
      "Upoutre =\n"
     ]
    },
    {
     "data": {
      "image/png": "[encoded data removed]",
      "text/latex": [
       "$\\displaystyle \\frac{6 E Iz \\phi^{2}}{L^{3}}$"
      ],
      "text/plain": [
       "          2\n",
       "6*E*Iz*phi \n",
       "-----------\n",
       "      3    \n",
       "     L     "
      ]
     },
     "execution_count": 11,
     "metadata": {},
     "output_type": "execute_result"
    }
   ],
   "source": [
    "def v2(x):\n",
    "    return (3*(x/L)**2 - (x/L)**3)*phi;\n",
    "\n",
    "Upoutre = sym.simplify(Rational(1,2)*integrate(E*Iz*(diff(v2(x), x, x))**2, (x, 0, L)));\n",
    "\n",
    "print('Upoutre =') \n",
    "Upoutre"
   ]
  },
  {
   "cell_type": "markdown",
   "metadata": {},
   "source": [
    "L'énergie de déformation associée au ressort $U_{ressort} = \\displaystyle\\dfrac{1}{2} k  \\, v(\\dfrac{L}{2},t)^2$ a pour expression"
   ]
  },
  {
   "cell_type": "code",
   "execution_count": 12,
   "metadata": {},
   "outputs": [
    {
     "name": "stdout",
     "output_type": "stream",
     "text": [
      "Uressort =\n"
     ]
    },
    {
     "data": {
      "image/png": "[encoded data removed]",
      "text/latex": [
       "$\\displaystyle \\frac{25 k \\phi^{2}}{128}$"
      ],
      "text/plain": [
       "        2\n",
       "25*k*phi \n",
       "---------\n",
       "   128   "
      ]
     },
     "execution_count": 12,
     "metadata": {},
     "output_type": "execute_result"
    }
   ],
   "source": [
    "Uressort = sym.simplify(Rational(1,2)*k*(v2(L/2))**2);\n",
    "\n",
    "print('Uressort =') \n",
    "Uressort"
   ]
  },
  {
   "cell_type": "markdown",
   "metadata": {},
   "source": [
    "L'énergie de déformation totale est donc"
   ]
  },
  {
   "cell_type": "code",
   "execution_count": 13,
   "metadata": {},
   "outputs": [
    {
     "data": {
      "image/png": "[encoded data removed]",
      "text/latex": [
       "$\\displaystyle \\frac{6 E Iz \\phi^{2}}{L^{3}} + \\frac{25 k \\phi^{2}}{128}$"
      ],
      "text/plain": [
       "          2           2\n",
       "6*E*Iz*phi    25*k*phi \n",
       "----------- + ---------\n",
       "      3          128   \n",
       "     L                 "
      ]
     },
     "execution_count": 13,
     "metadata": {},
     "output_type": "execute_result"
    }
   ],
   "source": [
    "U = Upoutre + Uressort;\n",
    "\n",
    "U"
   ]
  },
  {
   "cell_type": "markdown",
   "metadata": {},
   "source": [
    "D'après l'équation de Lagrange, on sait que $\\displaystyle\\frac{d}{dt}\\left[\\frac{\\partial T}{\\partial \\dot \\phi}\\right]+\\frac{\\partial U} {\\partial\\phi} = 0$"
   ]
  },
  {
   "cell_type": "markdown",
   "metadata": {},
   "source": [
    "L'équation à résoudre est donc la suivante :\n",
    "\t$\\left(\\dfrac{33\\rho SL}{35} + 4m\\right)\\ddot \\phi + \\left(\\dfrac{12EI}{L^3} + \\dfrac{25k}{64} \\right)\\phi = 0.$\n",
    "    \n",
    "On cherche une solution du type $\\quad \\phi(t) = \\Phi e^{j\\omega t} \\quad $ conduisant à l'équation\n",
    "\n",
    "$\\left(\\dfrac{12EI}{L^3} + \\dfrac{25k}{64} \\right) - \\left(\\dfrac{33\\rho SL}{35} + 4M\\right)\\omega^2 = 0.$\n",
    "\n",
    "La pulsation fondamentale $\\omega$ a alors pour expression \n",
    "\n",
    "$\\omega = \\displaystyle\\sqrt{\\dfrac{\\dfrac{12EI}{L^3} + \\dfrac{25k}{64}}{\\dfrac{33\\rho SL}{35} + 4m}}$."
   ]
  },
  {
   "cell_type": "code",
   "execution_count": null,
   "metadata": {},
   "outputs": [],
   "source": []
  }
 ],
 "metadata": {
  "kernelspec": {
   "display_name": "Python 3",
   "language": "python",
   "name": "python3"
  },
  "language_info": {
   "codemirror_mode": {
    "name": "ipython",
    "version": 3
   },
   "file_extension": ".py",
   "mimetype": "text/x-python",
   "name": "python",
   "nbconvert_exporter": "python",
   "pygments_lexer": "ipython3",
   "version": "3.8.3"
  }
 },
 "nbformat": 4,
 "nbformat_minor": 4
}
