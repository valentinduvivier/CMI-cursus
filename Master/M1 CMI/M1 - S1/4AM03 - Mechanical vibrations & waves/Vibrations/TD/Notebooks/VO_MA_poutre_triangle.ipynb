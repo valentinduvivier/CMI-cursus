{
 "cells": [
  {
   "cell_type": "markdown",
   "metadata": {},
   "source": [
    "<img src=\"./figures/logo_SU.png\" style=\"height:100px\">"
   ]
  },
  {
   "cell_type": "markdown",
   "metadata": {},
   "source": [
    "# Méthodes approchées pour la poutre à section variable"
   ]
  },
  {
   "cell_type": "code",
   "execution_count": null,
   "metadata": {},
   "outputs": [],
   "source": [
    "from sympy import *\n",
    "from sympy.interactive.printing import init_printing\n",
    "init_printing(use_unicode=False, wrap_line=False, no_global=True)\n",
    "import sympy as sym\n",
    "import numpy as np\n",
    "from numpy import linalg as LA\n",
    "%matplotlib inline\n",
    "import pylab as plt\n",
    "x, E, S, k, S, m, CL, S0, Iz, CT = sym.symbols('x E S k S m CL S0 Iz CT')\n",
    "L = sym.symbols('L',positive=True)\n",
    "phi = sym.Symbol('phi')\n",
    "phi1 = sym.Symbol('phi_1')\n",
    "phi2 = sym.Symbol('phi_2')\n",
    "phi3 = sym.Symbol('phi_3')\n",
    "vphi = sym.Symbol('\\dot{\\phi}')\n",
    "vphi1 = sym.Symbol('\\dot{\\phi_1}')\n",
    "vphi2 = sym.Symbol('\\dot{\\phi_2}')\n",
    "vphi3 = sym.Symbol('\\dot{\\phi_3}')\n",
    "rho = sym.Symbol('rho')\n",
    "omg = sym.Symbol('omega')\n",
    "beta = sym.Symbol('beta')"
   ]
  },
  {
   "cell_type": "markdown",
   "metadata": {},
   "source": [
    "#### La poutre ABC de longueur OA=$L$, telle que OB=OC=$h$ de masse $m(x)$ et de section rectangulaire $S(x)$, par unité de longueur, de faible épaisseur~$e$, encastrée à l'extrémité $x=0$ et libre en $x=L$, subit les vibrations harmoniques de son support agissant en traction-compression. On pourra poser $m_0 = \\rho S_0 = \\rho eh$"
   ]
  },
  {
   "cell_type": "markdown",
   "metadata": {},
   "source": [
    "<img src=\"./figures/Poutre_L3.png\" style=\"height:150px\">"
   ]
  },
  {
   "cell_type": "markdown",
   "metadata": {},
   "source": [
    "#### On prend le déplacement correspondant à une configuration encastrée libre :\n",
    "\\begin{equation*}\n",
    "\tu(x,t) \\simeq \\sin\\left(\\dfrac{\\pi}{2L}x\\right) \\phi_1(t) + \\sin\\left(\\dfrac{3\\pi}{2L}x\\right) \\phi_2(t),\n",
    "\\end{equation*}"
   ]
  },
  {
   "cell_type": "code",
   "execution_count": null,
   "metadata": {},
   "outputs": [],
   "source": [
    "# déplacement longitudinal\n",
    "def u(x):\n",
    "    return sin(pi*x/2/L)*phi1+sin(3*pi*x/2/L)*phi2\n",
    "# vitesse longitudinale (vt=du/dt)\n",
    "def vt(x):\n",
    "    return sin(pi*x/2/L)*vphi1+sin(3*pi*x/2/L)*vphi2"
   ]
  },
  {
   "cell_type": "markdown",
   "metadata": {},
   "source": [
    "#### Donner l'expression de la section $S(x)$ en fonction de $S_0$ et $L$.\n",
    "\n",
    "\n",
    "La relation entre le demi-angle du triangle et la position est donnée par la relation\n",
    "\n",
    "\\begin{equation*}\n",
    "\t\\tan\\alpha = \\dfrac{h}{L} = \\dfrac{b(x)}{L-x}.\n",
    "\\end{equation*}\n",
    "\n",
    "On en déduit\n",
    "\n",
    "\\begin{equation*}\n",
    "\tb(x) = \\dfrac{h(L-x)}{L} = h\\left(1-\\dfrac{x}{L}\\right).\n",
    "\\end{equation*}\n"
   ]
  },
  {
   "cell_type": "markdown",
   "metadata": {},
   "source": [
    "<img src=\"./figures/Triangle.png\" style=\"height:200px\">"
   ]
  },
  {
   "cell_type": "markdown",
   "metadata": {},
   "source": [
    "La section a donc pour expression\n",
    "\n",
    "\\begin{equation*}\n",
    "\tS(x) = 2b(x)e = 2S_0\\left( 1-\\dfrac{x}{L} \\right).\n",
    "\\end{equation*}"
   ]
  },
  {
   "cell_type": "markdown",
   "metadata": {},
   "source": [
    "#### Déterminer l'énergie cinétique et l'énergie de déformation de la poutre à partir des fonctions de déplacement choisies. En déduire les matrices d'inertie et de raideur."
   ]
  },
  {
   "cell_type": "markdown",
   "metadata": {},
   "source": [
    "\n",
    "### L'énergie cinétique de la poutre\n",
    "$$\\quad T_{poutre}= \\displaystyle\\dfrac{1}{2} \\int_0^L \\rho S(x) \\left(\\dfrac{\\partial u}{\\partial t}\\right)^2 dx \\quad$$"
   ]
  },
  {
   "cell_type": "markdown",
   "metadata": {},
   "source": [
    "L'énergie cinétique $T$ a donc pour expression : "
   ]
  },
  {
   "cell_type": "code",
   "execution_count": null,
   "metadata": {},
   "outputs": [],
   "source": [
    "def S1(x):\n",
    "    return 2*S0*(1-x/L);\n",
    "T = sym.simplify(Rational(1,2)*integrate(rho*S1(x)*(vt(x))**2,(x,0,L)));\n",
    "print(\"T =\");\n",
    "T"
   ]
  },
  {
   "cell_type": "code",
   "execution_count": null,
   "metadata": {},
   "outputs": [],
   "source": [
    "# Construction de la matrice de masse M\n",
    "M = sym.Matrix([[diff(T,vphi1,vphi1),diff(T,vphi1,vphi2)], [diff(T,vphi2,vphi1),diff(T,vphi2,vphi2)]])\n",
    "print(\"Matrice masse :\");\n",
    "M"
   ]
  },
  {
   "cell_type": "markdown",
   "metadata": {},
   "source": [
    "### L'énergie de déformation de la poutre\n",
    "$$\\quad U_{poutre}= \\displaystyle\\dfrac{1}{2} \\int_0^L ES \\left(\\dfrac{\\partial u}{\\partial x}\\right)^2 dx \\quad$$"
   ]
  },
  {
   "cell_type": "code",
   "execution_count": null,
   "metadata": {},
   "outputs": [],
   "source": [
    "U = sym.simplify(Rational(1,2)*integrate(E*S1(x)*(diff(u(x),x))**2,(x,0,L)));\n",
    "print('U =')\n",
    "U"
   ]
  },
  {
   "cell_type": "code",
   "execution_count": null,
   "metadata": {},
   "outputs": [],
   "source": [
    "# Construction de la matrice de raideur K\n",
    "K = sym.Matrix([[diff(U,phi1,phi1),diff(U,phi1,phi2)], [diff(U,phi2,phi1),diff(U,phi2,phi2)]])\n",
    "print(\"Matrice raideur :\");\n",
    "K"
   ]
  },
  {
   "cell_type": "markdown",
   "metadata": {},
   "source": [
    "### pulsations propres et modes propres"
   ]
  },
  {
   "cell_type": "code",
   "execution_count": null,
   "metadata": {},
   "outputs": [],
   "source": [
    "A = K - omg**2 * M\n",
    "print(u'On calcule le déterminant de la matrice suivante :')\n",
    "A"
   ]
  },
  {
   "cell_type": "code",
   "execution_count": null,
   "metadata": {},
   "outputs": [],
   "source": [
    "Amodif = simplify((K - (E*beta**2)/(rho*L**2)*M)*L/(E*S0)) #omg**2 = (E*beta**2)/(rho*L**2)=> omega=beta*CL/L\n",
    "Amodif"
   ]
  },
  {
   "cell_type": "code",
   "execution_count": null,
   "metadata": {},
   "outputs": [],
   "source": [
    "detAmodif = Amodif.det()\n",
    "beta2=sym.solve(detAmodif,beta**2)\n",
    "beta2"
   ]
  },
  {
   "cell_type": "code",
   "execution_count": null,
   "metadata": {},
   "outputs": [],
   "source": [
    "#Recherche des pulsations propres\n",
    "print('omega_1 =',sqrt(beta2[0]).evalf()*CL/L)\n",
    "print(' ')\n",
    "print('omega_2 =',sqrt(beta2[1]).evalf()*CL/L) "
   ]
  },
  {
   "cell_type": "code",
   "execution_count": null,
   "metadata": {},
   "outputs": [],
   "source": [
    "#Recherche des modes propres associés\n",
    "vec_propres = Amodif.eigenvects();\n",
    "print('X1 = ')\n",
    "X1=sym.simplify((vec_propres[1][2][0]).subs(beta,sqrt(beta2[0])).evalf())\n",
    "pprint(X1)\n",
    "print(' ')\n",
    "print('X2 = ')\n",
    "X2=sym.simplify((vec_propres[0][2][0]).subs(beta,sqrt(beta2[1])).evalf())\n",
    "pprint(X2)\n",
    "\n",
    "# Verification modes propres\n",
    "#pprint(Amodif.subs(beta,sqrt(beta2[0])).evalf()*X1)\n",
    "#pprint(Amodif.subs(beta,sqrt(beta2[1])).evalf()*X2)"
   ]
  }
 ],
 "metadata": {
  "kernelspec": {
   "display_name": "Python 3.7.6 64-bit ('acoustical_tweezers': conda)",
   "language": "python",
   "name": "python37664bitacousticaltweezersconda5dabf469ec224286ab9a7a3d47dcf84b"
  },
  "language_info": {
   "codemirror_mode": {
    "name": "ipython",
    "version": 3
   },
   "file_extension": ".py",
   "mimetype": "text/x-python",
   "name": "python",
   "nbconvert_exporter": "python",
   "pygments_lexer": "ipython3",
   "version": "3.7.6"
  }
 },
 "nbformat": 4,
 "nbformat_minor": 4
}
