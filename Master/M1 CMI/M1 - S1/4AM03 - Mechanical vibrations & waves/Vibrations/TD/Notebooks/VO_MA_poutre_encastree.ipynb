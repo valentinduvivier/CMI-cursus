{
 "cells": [
  {
   "cell_type": "markdown",
   "metadata": {},
   "source": [
    "<img src=\"./figures/logo_SU.png\" style=\"height:100px\">"
   ]
  },
  {
   "cell_type": "markdown",
   "metadata": {},
   "source": [
    "# Méthodes approchées pour la poutre encastrée"
   ]
  },
  {
   "cell_type": "markdown",
   "metadata": {},
   "source": [
    "On souhaite déterminer les pulsations propres et les modes propres de vibrations longitudinales d'une poutre encastrée par la méthode de Rayleigh-Ritz. \n",
    "\n",
    "Pour cela, on définit les fonctions propres associées aux deux premiers modes de vibration d'une poutre encastrée-libre :\n",
    "\n",
    "\\begin{equation}\n",
    "\\begin{cases}\n",
    "g_0(x) = \\sin(\\frac{\\pi x}{2L}) \\\\\n",
    "g_1(x) = \\sin(\\frac{3 \\pi x }{2L})\n",
    "\\end{cases}\n",
    "\\end{equation}\n",
    "\n",
    "\n",
    "Dans un premier temps, on considère le cas où l'autre extrémité est solidaire d'un matériau élastique de raideur $k$. La poutre subit les vibrations harmoniques de ses supports, ce qui engendre l'apparition d'ondes de traction-compression.\n",
    "\n",
    "En utilisant comme fonctions propres de déplacement $g_0(x)$ et $g_1(x)$, déterminer les deux premières pulsations propres et les modes correspondants. On étudiera le cas particulier où $k = ES/L$."
   ]
  },
  {
   "cell_type": "markdown",
   "metadata": {},
   "source": [
    "<img src=\"./figures/Poutre_L1.png\" style=\"height:150px\">"
   ]
  },
  {
   "cell_type": "markdown",
   "metadata": {},
   "source": [
    "La méthodologie à employer est celle présentée en cours :\n",
    "    \n",
    "* Calculer l'énergie potentielle\n",
    "* Calculer l'énergie cinétique\n",
    "* Construire les matrices masse et raideur\n",
    "* Calculer les pulsations propres\n",
    "* Calculer les modes propres"
   ]
  },
  {
   "cell_type": "code",
   "execution_count": 3,
   "metadata": {},
   "outputs": [],
   "source": [
    "from sympy import * \n",
    "# as we import all from it, every variable we're using (e.g. sin()) \n",
    "# are comming from sympy such that wa have sym.sin()\n",
    "\n",
    "# do not do # from numpy import * after that, otherwise one would get sin() == np.sin()\n",
    "\n",
    "from sympy.interactive.printing import init_printing\n",
    "\n",
    "init_printing(use_unicode=False, wrap_line=False, no_global=True)\n",
    "\n",
    "import sympy as sym\n",
    "import numpy as np\n",
    "\n",
    "from numpy import linalg as LA\n",
    "%matplotlib inline\n",
    "import pylab as plt\n",
    "\n",
    "# ----------------------------------------------------------------------\n",
    "\n",
    "# symbols to be used\n",
    "x, E, S, k, S, m, CL, S0, Iz, CT = sym.symbols('x E S k S m CL S0 Iz CT')\n",
    "\n",
    "L     = sym.symbols('L',positive=True)\n",
    "\n",
    "phi   = sym.Symbol('phi')\n",
    "phi1  = sym.Symbol('phi_1')\n",
    "phi2  = sym.Symbol('phi_2')\n",
    "phi3  = sym.Symbol('phi_3')\n",
    "\n",
    "vphi  = sym.Symbol('\\dot{\\phi}')\n",
    "vphi1 = sym.Symbol('\\dot{\\phi_1}')\n",
    "vphi2 = sym.Symbol('\\dot{\\phi_2}')\n",
    "vphi3 = sym.Symbol('\\dot{\\phi_3}')\n",
    "\n",
    "rho   = sym.Symbol('rho')\n",
    "omg   = sym.Symbol('omega')\n",
    "beta  = sym.Symbol('beta')"
   ]
  },
  {
   "cell_type": "markdown",
   "metadata": {},
   "source": [
    "On définit le déplacement par l'expression :\n",
    "\\begin{equation*}\n",
    "\tu(x,t) \\simeq \\sin\\left(\\dfrac{\\pi}{2L}x\\right) \\phi_1(t) + \\sin\\left(\\dfrac{3\\pi}{2L}x\\right) \\phi_2(t),\n",
    "\\end{equation*}"
   ]
  },
  {
   "cell_type": "code",
   "execution_count": 5,
   "metadata": {},
   "outputs": [
    {
     "data": {
      "image/png": "[encoded data removed]",
      "text/plain": [
       "<Figure size 432x288 with 1 Axes>"
      ]
     },
     "metadata": {
      "needs_background": "light"
     },
     "output_type": "display_data"
    }
   ],
   "source": [
    "# Visualisation des fonctions de forme\n",
    "\n",
    "LL = 1 \n",
    "xx = np.linspace(0, LL, 100)\n",
    "\n",
    "g0 = np.sin(np.pi * xx / (2*LL))\n",
    "g1 = np.sin(3 * np.pi * xx / (2*LL))\n",
    "\n",
    "plt.figure()\n",
    "plt.plot(xx, g0)\n",
    "plt.plot(xx, g1)\n",
    "\n",
    "plt.title(\"fonctions propres $g_0(x)$ et $g_1(x)$\")\n",
    "plt.xlabel(\"x/L\")\n",
    "\n",
    "plt.grid('True')"
   ]
  },
  {
   "cell_type": "code",
   "execution_count": 7,
   "metadata": {},
   "outputs": [],
   "source": [
    "def u(x):\n",
    "    return sin(pi*x/2/L)*phi1 + sin(3*pi*x/2/L)*phi2"
   ]
  },
  {
   "cell_type": "markdown",
   "metadata": {},
   "source": [
    "### Calcul de l'énergie potenitelle $U$ "
   ]
  },
  {
   "cell_type": "markdown",
   "metadata": {},
   "source": [
    "L'énergie de déformation $U$ est la somme de l'énergie de déformation de la poutre $U_{poutre}$ et de l'énergie de déformation du ressort $U_{ressort}$. \n"
   ]
  },
  {
   "cell_type": "markdown",
   "metadata": {},
   "source": [
    "#### L'énergie de déformation de la poutre"
   ]
  },
  {
   "cell_type": "markdown",
   "metadata": {},
   "source": [
    "$\\quad U_{poutre}= \\displaystyle\\dfrac{1}{2} \\int_0^L ES \\left(\\dfrac{\\partial u}{\\partial x}\\right)^2 dx \\quad$ a pour expression :"
   ]
  },
  {
   "cell_type": "code",
   "execution_count": 11,
   "metadata": {},
   "outputs": [
    {
     "name": "stdout",
     "output_type": "stream",
     "text": [
      "Upoutre =\n"
     ]
    },
    {
     "data": {
      "image/png": "[encoded data removed]",
      "text/latex": [
       "$\\displaystyle \\frac{\\pi^{2} E S \\left(\\phi_{1}^{2} + 9 \\phi_{2}^{2}\\right)}{16 L}$"
      ],
      "text/plain": [
       "  2     /     2          2\\\n",
       "pi *E*S*\\phi_1  + 9*phi_2 /\n",
       "---------------------------\n",
       "            16*L           "
      ]
     },
     "execution_count": 11,
     "metadata": {},
     "output_type": "execute_result"
    }
   ],
   "source": [
    "Upoutre = sym.simplify(Rational(1,2)*integrate(E*S*(diff(u(x), x))**2, (x, 0, L))); # we integrate over x between 0 & L\n",
    "\n",
    "print('Upoutre =')\n",
    "Upoutre "
   ]
  },
  {
   "cell_type": "markdown",
   "metadata": {},
   "source": [
    "#### L'énergie de déformation du ressort "
   ]
  },
  {
   "cell_type": "markdown",
   "metadata": {},
   "source": [
    "$\\quad U_{ressort}=\\dfrac{1}{2} k \\left[ u(B,t) - u(L,t) \\right]^2 \\quad$ ($B$ le point lié à l'encastrement à droite) $\\quad$ a pour expression :"
   ]
  },
  {
   "cell_type": "code",
   "execution_count": 12,
   "metadata": {},
   "outputs": [
    {
     "name": "stdout",
     "output_type": "stream",
     "text": [
      "Uressort=\n"
     ]
    },
    {
     "data": {
      "image/png": "[encoded data removed]",
      "text/latex": [
       "$\\displaystyle \\frac{k \\left(\\phi_{1} - \\phi_{2}\\right)^{2}}{2}$"
      ],
      "text/plain": [
       "                 2\n",
       "k*(phi_1 - phi_2) \n",
       "------------------\n",
       "        2         "
      ]
     },
     "execution_count": 12,
     "metadata": {},
     "output_type": "execute_result"
    }
   ],
   "source": [
    "def Uressort(k):\n",
    "    return sym.simplify(Rational(1,2)*k*(0-u(L))**2);\n",
    "\n",
    "print('Uressort =') \n",
    "Uressort(k)"
   ]
  },
  {
   "cell_type": "markdown",
   "metadata": {},
   "source": [
    "L'énergie de déformation $U$ pour $k = ES/L$ a donc pour expression : "
   ]
  },
  {
   "cell_type": "code",
   "execution_count": 15,
   "metadata": {},
   "outputs": [
    {
     "name": "stdout",
     "output_type": "stream",
     "text": [
      "U =\n"
     ]
    },
    {
     "data": {
      "image/png": "[encoded data removed]",
      "text/latex": [
       "$\\displaystyle \\frac{E S \\left(\\phi_{1} - \\phi_{2}\\right)^{2}}{2 L} + \\frac{\\pi^{2} E S \\left(\\phi_{1}^{2} + 9 \\phi_{2}^{2}\\right)}{16 L}$"
      ],
      "text/plain": [
       "                   2     2     /     2          2\\\n",
       "E*S*(phi_1 - phi_2)    pi *E*S*\\phi_1  + 9*phi_2 /\n",
       "-------------------- + ---------------------------\n",
       "        2*L                        16*L           "
      ]
     },
     "execution_count": 15,
     "metadata": {},
     "output_type": "execute_result"
    }
   ],
   "source": [
    "U = Upoutre + Uressort(E*S/L);\n",
    "\n",
    "print(\"U =\");\n",
    "U"
   ]
  },
  {
   "cell_type": "markdown",
   "metadata": {},
   "source": [
    "### Calcul de l'énergie cinétique $T$"
   ]
  },
  {
   "cell_type": "markdown",
   "metadata": {},
   "source": [
    "Ici le ressort est considéré de masse négligeable. L'énergie cinétique du système est égale à l'énergie cinétique de la poutre et a pour expression\n",
    "\n",
    " $\\quad T_{poutre}= \\displaystyle\\dfrac{1}{2} \\int_0^L \\rho S \\left(\\dfrac{\\partial u}{\\partial t}\\right)^2 dx \\quad$ a pour expression :"
   ]
  },
  {
   "cell_type": "code",
   "execution_count": 17,
   "metadata": {},
   "outputs": [
    {
     "name": "stdout",
     "output_type": "stream",
     "text": [
      "Tpoutre =\n"
     ]
    },
    {
     "data": {
      "image/png": "[encoded data removed]",
      "text/latex": [
       "$\\displaystyle \\frac{L S \\rho \\left(\\dot{\\phi_1}^{2} + \\dot{\\phi_2}^{2}\\right)}{4}$"
      ],
      "text/plain": [
       "        /            2               2\\\n",
       "L*S*rho*\\\\dot{\\phi_1}  + \\dot{\\phi_2} /\n",
       "---------------------------------------\n",
       "                   4                   "
      ]
     },
     "execution_count": 17,
     "metadata": {},
     "output_type": "execute_result"
    }
   ],
   "source": [
    "def vt(x):\n",
    "    return sin(pi*x/2/L)*vphi1 + sin(3*pi*x/2/L)*vphi2\n",
    "\n",
    "Tpoutre = sym.simplify(Rational(1,2)*integrate(rho*S*(vt(x))**2,(x,0,L)));\n",
    "\n",
    "print(\"Tpoutre =\");\n",
    "Tpoutre"
   ]
  },
  {
   "cell_type": "markdown",
   "metadata": {},
   "source": [
    "### Construction des matrices masse et raideur"
   ]
  },
  {
   "cell_type": "markdown",
   "metadata": {},
   "source": [
    "Comme $U=\\dfrac{1}{2} \\underline{\\phi}^{T} \\underline{\\underline{K}} \\underline{\\phi}$ on en déduit la matrice de raideur $K$ :"
   ]
  },
  {
   "cell_type": "code",
   "execution_count": 18,
   "metadata": {},
   "outputs": [
    {
     "name": "stdout",
     "output_type": "stream",
     "text": [
      "Matrice raideur K :\n"
     ]
    },
    {
     "data": {
      "text/latex": [
       "$\\displaystyle \\left[\\begin{matrix}\\frac{E S \\left(1 + \\frac{\\pi^{2}}{8}\\right)}{L} & - \\frac{E S}{L}\\\\- \\frac{E S}{L} & \\frac{E S \\left(1 + \\frac{9 \\pi^{2}}{8}\\right)}{L}\\end{matrix}\\right]$"
      ],
      "text/plain": [
       "[    /      2\\                 ]\n",
       "[    |    pi |                 ]\n",
       "[E*S*|1 + ---|                 ]\n",
       "[    \\     8 /       -E*S      ]\n",
       "[-------------       -----     ]\n",
       "[      L               L       ]\n",
       "[                              ]\n",
       "[                   /        2\\]\n",
       "[                   |    9*pi |]\n",
       "[               E*S*|1 + -----|]\n",
       "[    -E*S           \\      8  /]\n",
       "[    -----      ---------------]\n",
       "[      L               L       ]"
      ]
     },
     "execution_count": 18,
     "metadata": {},
     "output_type": "execute_result"
    }
   ],
   "source": [
    "K = sym.Matrix([[diff(U, phi1, phi1), diff(U, phi1, phi2)], [diff(U, phi2, phi1), diff(U, phi2, phi2)]])\n",
    "\n",
    "print(\"Matrice raideur K :\");\n",
    "K"
   ]
  },
  {
   "cell_type": "markdown",
   "metadata": {},
   "source": [
    "Comme $T=\\dfrac{1}{2} \\dot{\\underline{\\phi}}^{T} M \\dot{\\underline{\\phi}}$ on en déduit la matrice de masse $M$ :"
   ]
  },
  {
   "cell_type": "code",
   "execution_count": 19,
   "metadata": {},
   "outputs": [
    {
     "name": "stdout",
     "output_type": "stream",
     "text": [
      "Matrice masse M :\n"
     ]
    },
    {
     "data": {
      "text/latex": [
       "$\\displaystyle \\left[\\begin{matrix}\\frac{L S \\rho}{2} & 0\\\\0 & \\frac{L S \\rho}{2}\\end{matrix}\\right]$"
      ],
      "text/plain": [
       "[L*S*rho         ]\n",
       "[-------     0   ]\n",
       "[   2            ]\n",
       "[                ]\n",
       "[         L*S*rho]\n",
       "[   0     -------]\n",
       "[            2   ]"
      ]
     },
     "execution_count": 19,
     "metadata": {},
     "output_type": "execute_result"
    }
   ],
   "source": [
    "M = sym.Matrix([[diff(Tpoutre, vphi1, vphi1), diff(Tpoutre, vphi1, vphi2)], [diff(Tpoutre, vphi2, vphi1), diff(Tpoutre, vphi2, vphi2)]])\n",
    "\n",
    "print(\"Matrice masse M :\");\n",
    "M"
   ]
  },
  {
   "cell_type": "markdown",
   "metadata": {},
   "source": [
    "### Les pulsations propres sont les solutions de $det(K-\\omega^2 M)=0$ :"
   ]
  },
  {
   "cell_type": "code",
   "execution_count": 21,
   "metadata": {},
   "outputs": [
    {
     "name": "stdout",
     "output_type": "stream",
     "text": [
      "On calcule le déterminant de la matrice suivante :\n"
     ]
    },
    {
     "data": {
      "text/latex": [
       "$\\displaystyle \\left[\\begin{matrix}\\frac{E S \\left(1 + \\frac{\\pi^{2}}{8}\\right)}{L} - \\frac{L S \\omega^{2} \\rho}{2} & - \\frac{E S}{L}\\\\- \\frac{E S}{L} & \\frac{E S \\left(1 + \\frac{9 \\pi^{2}}{8}\\right)}{L} - \\frac{L S \\omega^{2} \\rho}{2}\\end{matrix}\\right]$"
      ],
      "text/plain": [
       "[    /      2\\                                                   ]\n",
       "[    |    pi |                                                   ]\n",
       "[E*S*|1 + ---|            2                                      ]\n",
       "[    \\     8 /   L*S*omega *rho               -E*S               ]\n",
       "[------------- - --------------               -----              ]\n",
       "[      L               2                        L                ]\n",
       "[                                                                ]\n",
       "[                                    /        2\\                 ]\n",
       "[                                    |    9*pi |                 ]\n",
       "[                                E*S*|1 + -----|            2    ]\n",
       "[            -E*S                    \\      8  /   L*S*omega *rho]\n",
       "[            -----               --------------- - --------------]\n",
       "[              L                        L                2       ]"
      ]
     },
     "execution_count": 21,
     "metadata": {},
     "output_type": "execute_result"
    }
   ],
   "source": [
    "A = K - omg**2 * M\n",
    "\n",
    "print('On calcule le déterminant de la matrice suivante :')\n",
    "A"
   ]
  },
  {
   "cell_type": "markdown",
   "metadata": {},
   "source": [
    "On peut simplifier cette matrice en introduisant le paramètre $\\beta = \\dfrac{L}{C_L} \\omega$ avec $C_L=\\sqrt{\\dfrac{E}{\\rho}}$ la vitesse des ondes longitudinales "
   ]
  },
  {
   "cell_type": "code",
   "execution_count": 22,
   "metadata": {},
   "outputs": [
    {
     "data": {
      "text/latex": [
       "$\\displaystyle \\left[\\begin{matrix}- \\frac{\\beta^{2}}{2} + 1 + \\frac{\\pi^{2}}{8} & -1\\\\-1 & - \\frac{\\beta^{2}}{2} + 1 + \\frac{9 \\pi^{2}}{8}\\end{matrix}\\right]$"
      ],
      "text/plain": [
       "[      2         2                     ]\n",
       "[  beta        pi                      ]\n",
       "[- ----- + 1 + ---          -1         ]\n",
       "[    2          8                      ]\n",
       "[                                      ]\n",
       "[                         2           2]\n",
       "[                     beta        9*pi ]\n",
       "[       -1          - ----- + 1 + -----]\n",
       "[                       2           8  ]"
      ]
     },
     "execution_count": 22,
     "metadata": {},
     "output_type": "execute_result"
    }
   ],
   "source": [
    "Amodif = simplify((K - (E*beta**2)/(rho*L**2)*M)*L/(E*S)) #omg**2 = (E*beta**2)/(rho*L**2)=> omega=beta*CL/L\n",
    "Amodif"
   ]
  },
  {
   "cell_type": "code",
   "execution_count": 24,
   "metadata": {},
   "outputs": [
    {
     "data": {
      "image/png": "[encoded data removed]",
      "text/latex": [
       "$\\displaystyle \\left[ 2 + \\sqrt{4 + \\pi^{4}} + \\frac{5 \\pi^{2}}{4}, \\  - \\sqrt{4 + \\pi^{4}} + 2 + \\frac{5 \\pi^{2}}{4}\\right]$"
      ],
      "text/plain": [
       "        _________       2       _________           2 \n",
       "       /       4    5*pi       /       4        5*pi  \n",
       "[2 + \\/  4 + pi   + -----, - \\/  4 + pi   + 2 + -----]\n",
       "                      4                           4   "
      ]
     },
     "execution_count": 24,
     "metadata": {},
     "output_type": "execute_result"
    }
   ],
   "source": [
    "detAmodif = Amodif.det()\n",
    "\n",
    "beta2=sym.solve(detAmodif, beta**2)\n",
    "beta2"
   ]
  },
  {
   "cell_type": "code",
   "execution_count": 25,
   "metadata": {},
   "outputs": [
    {
     "name": "stdout",
     "output_type": "stream",
     "text": [
      "omega_1 = 4.94036573486685*CL/L\n",
      " \n",
      "omega_2 = 2.06562276528821*CL/L\n"
     ]
    }
   ],
   "source": [
    "print('omega_1 =',sqrt(beta2[0]).evalf()*CL/L)\n",
    "print(' ')\n",
    "print('omega_2 =',sqrt(beta2[1]).evalf()*CL/L) "
   ]
  },
  {
   "cell_type": "code",
   "execution_count": 26,
   "metadata": {},
   "outputs": [
    {
     "name": "stdout",
     "output_type": "stream",
     "text": [
      "X1 = \n",
      "⎡-0.100301845897719⎤\n",
      "⎢                  ⎥\n",
      "⎣       1.0        ⎦\n",
      " \n",
      "X2 = \n",
      "⎡9.96990624698708⎤\n",
      "⎢                ⎥\n",
      "⎣      1.0       ⎦\n"
     ]
    }
   ],
   "source": [
    "vec_propres = Amodif.eigenvects();\n",
    "print('X1 = ')\n",
    "X1=sym.simplify((vec_propres[0][2][0]).subs(beta,sqrt(beta2[0])).evalf())\n",
    "pprint(X1)\n",
    "print(' ')\n",
    "print('X2 = ')\n",
    "X2=sym.simplify((vec_propres[1][2][0]).subs(beta,sqrt(beta2[1])).evalf())\n",
    "pprint(X2)\n",
    "\n",
    "# Verification modes propres\n",
    "#pprint(Amodif.subs(beta,sqrt(beta2[0])).evalf()*X1)\n",
    "#pprint(Amodif.subs(beta,sqrt(beta2[1])).evalf()*X2)"
   ]
  },
  {
   "cell_type": "code",
   "execution_count": 28,
   "metadata": {},
   "outputs": [
    {
     "data": {
      "image/png": "[encoded data removed]",
      "text/plain": [
       "<Figure size 432x288 with 1 Axes>"
      ]
     },
     "metadata": {
      "needs_background": "light"
     },
     "output_type": "display_data"
    }
   ],
   "source": [
    "plt.figure()\n",
    "\n",
    "plt.plot(xx, X1[0]*g0 + X1[1]*g1, label='mode 1')\n",
    "plt.plot(xx, X2[0]*g0 + X2[1]*g1, label='mode 2')\n",
    "\n",
    "plt.title(\"fonctions propres $g_0(x)$ et $g_1(x)$\")\n",
    "plt.xlabel(\"x/L\")\n",
    "\n",
    "plt.legend()\n",
    "plt.grid('True')"
   ]
  },
  {
   "cell_type": "markdown",
   "metadata": {},
   "source": [
    "### II.\n",
    "\n",
    "#### On suppose maintenant que l'extrémité libre supporte une charge de masse $m$. La poutre subissant la même excitation, en utilisant les mêmes fonctions de déplacement, déterminer les deux premières pulsations propres et les modes correspondants. On étudiera le cas particulier où $m = \\rho SL/10$"
   ]
  },
  {
   "cell_type": "markdown",
   "metadata": {},
   "source": [
    "<img src=\"./figures/Poutre_L2.png\" style=\"height:150px\">"
   ]
  },
  {
   "cell_type": "markdown",
   "metadata": {},
   "source": [
    "La méthodologie à employerla même que précédemment :\n",
    "    \n",
    "* Calculer l'énergie potentielle\n",
    "* Calculer l'énergie cinétique\n",
    "* Construire les matrices masse et raideur\n",
    "* Calculer les pulsations propres\n",
    "* Calculer les modes propres"
   ]
  },
  {
   "cell_type": "markdown",
   "metadata": {},
   "source": [
    "### Calcul de l'énergie de déformation $U$ et de l'énergie cinétique $T$"
   ]
  },
  {
   "cell_type": "markdown",
   "metadata": {},
   "source": [
    "L'énergie cinétique $T$ est la somme de l'énergie cinétique de la poutre $T_{poutre}$ (déjà calculée au I.) et de l'énergie cinétique de la masse $m$ masse $T_{masse}$."
   ]
  },
  {
   "cell_type": "markdown",
   "metadata": {},
   "source": [
    "#### énérgie cinétique de la poutre"
   ]
  },
  {
   "cell_type": "markdown",
   "metadata": {},
   "source": [
    "$\\quad T_{poutre}= \\displaystyle\\dfrac{1}{2} \\int_0^L \\rho S \\left(\\dfrac{\\partial u}{\\partial t}\\right)^2 dx \\quad$ a pour expression :"
   ]
  },
  {
   "cell_type": "code",
   "execution_count": 68,
   "metadata": {
    "scrolled": true
   },
   "outputs": [
    {
     "name": "stdout",
     "output_type": "stream",
     "text": [
      "Tpoutre =\n"
     ]
    },
    {
     "data": {
      "image/png": "[encoded data removed]",
      "text/latex": [
       "$\\displaystyle \\frac{L S \\rho \\left(\\dot{\\phi_1}^{2} + \\dot{\\phi_2}^{2}\\right)}{4}$"
      ],
      "text/plain": [
       "        /            2               2\\\n",
       "L*S*rho*\\\\dot{\\phi_1}  + \\dot{\\phi_2} /\n",
       "---------------------------------------\n",
       "                   4                   "
      ]
     },
     "execution_count": 68,
     "metadata": {},
     "output_type": "execute_result"
    }
   ],
   "source": [
    "Tpoutre = sym.simplify(Rational(1,2)*integrate(rho*S*(vt(x))**2, (x, 0, L)));\n",
    "\n",
    "print('Tpoutre =')\n",
    "Tpoutre"
   ]
  },
  {
   "cell_type": "markdown",
   "metadata": {},
   "source": [
    "#### énérgie cinétique de la masse"
   ]
  },
  {
   "cell_type": "code",
   "execution_count": 69,
   "metadata": {
    "scrolled": true
   },
   "outputs": [
    {
     "name": "stdout",
     "output_type": "stream",
     "text": [
      "T_masse =\n"
     ]
    },
    {
     "data": {
      "image/png": "[encoded data removed]",
      "text/latex": [
       "$\\displaystyle \\frac{m \\left(\\dot{\\phi_1} - \\dot{\\phi_2}\\right)^{2}}{2}$"
      ],
      "text/plain": [
       "                               2\n",
       "m*(\\dot{\\phi_1} - \\dot{\\phi_2}) \n",
       "--------------------------------\n",
       "               2                "
      ]
     },
     "execution_count": 69,
     "metadata": {},
     "output_type": "execute_result"
    }
   ],
   "source": [
    "def Tmasse(m):\n",
    "    Tmasse = sym.simplify(Rational(1,2)*m*(vt(L))**2);\n",
    "    return Tmasse\n",
    "\n",
    "print('T_masse =')\n",
    "Tmasse(m)"
   ]
  },
  {
   "cell_type": "markdown",
   "metadata": {},
   "source": [
    "#### énergie cintétique totale"
   ]
  },
  {
   "cell_type": "code",
   "execution_count": 72,
   "metadata": {
    "scrolled": true
   },
   "outputs": [
    {
     "name": "stdout",
     "output_type": "stream",
     "text": [
      "T=\n"
     ]
    },
    {
     "data": {
      "image/png": "[encoded data removed]",
      "text/latex": [
       "$\\displaystyle \\frac{L S \\rho \\left(3 \\dot{\\phi_1}^{2} - \\dot{\\phi_1} \\dot{\\phi_2} + 3 \\dot{\\phi_2}^{2}\\right)}{10}$"
      ],
      "text/plain": [
       "        /              2                                             2\\\n",
       "L*S*rho*\\3*\\dot{\\phi_1}  - \\dot{\\phi_1}*\\dot{\\phi_2} + 3*\\dot{\\phi_2} /\n",
       "-----------------------------------------------------------------------\n",
       "                                   10                                  "
      ]
     },
     "execution_count": 72,
     "metadata": {},
     "output_type": "execute_result"
    }
   ],
   "source": [
    "T = sym.simplify(Tpoutre + Tmasse(rho*S*L/10))\n",
    "\n",
    "print(\"T=\");\n",
    "T"
   ]
  },
  {
   "cell_type": "markdown",
   "metadata": {},
   "source": [
    "#### Energie potentielle"
   ]
  },
  {
   "cell_type": "markdown",
   "metadata": {},
   "source": [
    "$\\quad U_{poutre}= \\displaystyle\\dfrac{1}{2} \\int_0^L ES \\left(\\dfrac{\\partial u}{\\partial x}\\right)^2 dx \\quad$ a pour expression :"
   ]
  },
  {
   "cell_type": "code",
   "execution_count": 73,
   "metadata": {},
   "outputs": [
    {
     "name": "stdout",
     "output_type": "stream",
     "text": [
      "Upoutre =\n"
     ]
    },
    {
     "data": {
      "image/png": "[encoded data removed]",
      "text/latex": [
       "$\\displaystyle \\frac{\\pi^{2} E S \\left(\\phi_{1}^{2} + 9 \\phi_{2}^{2}\\right)}{16 L}$"
      ],
      "text/plain": [
       "  2     /     2          2\\\n",
       "pi *E*S*\\phi_1  + 9*phi_2 /\n",
       "---------------------------\n",
       "            16*L           "
      ]
     },
     "execution_count": 73,
     "metadata": {},
     "output_type": "execute_result"
    }
   ],
   "source": [
    "Upoutre = sym.simplify(Rational(1, 2)*integrate(E*S*(diff(u(x), x))**2, (x, 0, L))); # we integrate over x between 0 & L\n",
    "\n",
    "print('Upoutre =')\n",
    "Upoutre"
   ]
  },
  {
   "cell_type": "code",
   "execution_count": 76,
   "metadata": {},
   "outputs": [
    {
     "name": "stdout",
     "output_type": "stream",
     "text": [
      "Umasse =\n"
     ]
    },
    {
     "ename": "ValueError",
     "evalue": "\nCan't calculate derivative wrt 0.500000000000000.",
     "output_type": "error",
     "traceback": [
      "\u001b[1;31m---------------------------------------------------------------------------\u001b[0m",
      "\u001b[1;31mValueError\u001b[0m                                Traceback (most recent call last)",
      "\u001b[1;32m<ipython-input-76-e29961c8da96>\u001b[0m in \u001b[0;36m<module>\u001b[1;34m\u001b[0m\n\u001b[0;32m      4\u001b[0m \u001b[1;33m\u001b[0m\u001b[0m\n\u001b[0;32m      5\u001b[0m \u001b[0mprint\u001b[0m\u001b[1;33m(\u001b[0m\u001b[1;34m'Umasse ='\u001b[0m\u001b[1;33m)\u001b[0m\u001b[1;33m\u001b[0m\u001b[1;33m\u001b[0m\u001b[0m\n\u001b[1;32m----> 6\u001b[1;33m \u001b[0mUmasse\u001b[0m\u001b[1;33m(\u001b[0m\u001b[1;36m1\u001b[0m\u001b[1;33m/\u001b[0m\u001b[1;36m2\u001b[0m\u001b[1;33m)\u001b[0m\u001b[1;33m\u001b[0m\u001b[1;33m\u001b[0m\u001b[0m\n\u001b[0m",
      "\u001b[1;32m<ipython-input-76-e29961c8da96>\u001b[0m in \u001b[0;36mUmasse\u001b[1;34m(x)\u001b[0m\n\u001b[0;32m      1\u001b[0m \u001b[1;32mdef\u001b[0m \u001b[0mUmasse\u001b[0m\u001b[1;33m(\u001b[0m\u001b[0mx\u001b[0m\u001b[1;33m)\u001b[0m\u001b[1;33m:\u001b[0m\u001b[1;33m\u001b[0m\u001b[1;33m\u001b[0m\u001b[0m\n\u001b[1;32m----> 2\u001b[1;33m     \u001b[0mUmasse\u001b[0m \u001b[1;33m=\u001b[0m \u001b[0msym\u001b[0m\u001b[1;33m.\u001b[0m\u001b[0msimplify\u001b[0m\u001b[1;33m(\u001b[0m\u001b[0mRational\u001b[0m\u001b[1;33m(\u001b[0m\u001b[1;36m1\u001b[0m\u001b[1;33m,\u001b[0m \u001b[1;36m2\u001b[0m\u001b[1;33m)\u001b[0m\u001b[1;33m*\u001b[0m\u001b[0mintegrate\u001b[0m\u001b[1;33m(\u001b[0m\u001b[0mE\u001b[0m\u001b[1;33m*\u001b[0m\u001b[0mS\u001b[0m\u001b[1;33m*\u001b[0m\u001b[1;33m(\u001b[0m\u001b[0mdiff\u001b[0m\u001b[1;33m(\u001b[0m\u001b[0mu\u001b[0m\u001b[1;33m(\u001b[0m\u001b[0mx\u001b[0m\u001b[1;33m)\u001b[0m\u001b[1;33m,\u001b[0m \u001b[0mx\u001b[0m\u001b[1;33m)\u001b[0m\u001b[1;33m)\u001b[0m\u001b[1;33m**\u001b[0m\u001b[1;36m2\u001b[0m\u001b[1;33m,\u001b[0m \u001b[1;33m(\u001b[0m\u001b[0mx\u001b[0m\u001b[1;33m,\u001b[0m \u001b[1;36m0\u001b[0m\u001b[1;33m,\u001b[0m \u001b[0mL\u001b[0m\u001b[1;33m)\u001b[0m\u001b[1;33m)\u001b[0m\u001b[1;33m)\u001b[0m\u001b[1;33m;\u001b[0m \u001b[1;31m# we integrate over x between 0 & L\u001b[0m\u001b[1;33m\u001b[0m\u001b[1;33m\u001b[0m\u001b[0m\n\u001b[0m\u001b[0;32m      3\u001b[0m     \u001b[1;32mreturn\u001b[0m \u001b[0mUmasse\u001b[0m\u001b[1;33m\u001b[0m\u001b[1;33m\u001b[0m\u001b[0m\n\u001b[0;32m      4\u001b[0m \u001b[1;33m\u001b[0m\u001b[0m\n\u001b[0;32m      5\u001b[0m \u001b[0mprint\u001b[0m\u001b[1;33m(\u001b[0m\u001b[1;34m'Umasse ='\u001b[0m\u001b[1;33m)\u001b[0m\u001b[1;33m\u001b[0m\u001b[1;33m\u001b[0m\u001b[0m\n",
      "\u001b[1;32m~\\anaconda3\\lib\\site-packages\\sympy\\core\\function.py\u001b[0m in \u001b[0;36mdiff\u001b[1;34m(f, *symbols, **kwargs)\u001b[0m\n\u001b[0;32m   2430\u001b[0m     \"\"\"\n\u001b[0;32m   2431\u001b[0m     \u001b[1;32mif\u001b[0m \u001b[0mhasattr\u001b[0m\u001b[1;33m(\u001b[0m\u001b[0mf\u001b[0m\u001b[1;33m,\u001b[0m \u001b[1;34m'diff'\u001b[0m\u001b[1;33m)\u001b[0m\u001b[1;33m:\u001b[0m\u001b[1;33m\u001b[0m\u001b[1;33m\u001b[0m\u001b[0m\n\u001b[1;32m-> 2432\u001b[1;33m         \u001b[1;32mreturn\u001b[0m \u001b[0mf\u001b[0m\u001b[1;33m.\u001b[0m\u001b[0mdiff\u001b[0m\u001b[1;33m(\u001b[0m\u001b[1;33m*\u001b[0m\u001b[0msymbols\u001b[0m\u001b[1;33m,\u001b[0m \u001b[1;33m**\u001b[0m\u001b[0mkwargs\u001b[0m\u001b[1;33m)\u001b[0m\u001b[1;33m\u001b[0m\u001b[1;33m\u001b[0m\u001b[0m\n\u001b[0m\u001b[0;32m   2433\u001b[0m     \u001b[0mkwargs\u001b[0m\u001b[1;33m.\u001b[0m\u001b[0msetdefault\u001b[0m\u001b[1;33m(\u001b[0m\u001b[1;34m'evaluate'\u001b[0m\u001b[1;33m,\u001b[0m \u001b[1;32mTrue\u001b[0m\u001b[1;33m)\u001b[0m\u001b[1;33m\u001b[0m\u001b[1;33m\u001b[0m\u001b[0m\n\u001b[0;32m   2434\u001b[0m     \u001b[1;32mreturn\u001b[0m \u001b[0mDerivative\u001b[0m\u001b[1;33m(\u001b[0m\u001b[0mf\u001b[0m\u001b[1;33m,\u001b[0m \u001b[1;33m*\u001b[0m\u001b[0msymbols\u001b[0m\u001b[1;33m,\u001b[0m \u001b[1;33m**\u001b[0m\u001b[0mkwargs\u001b[0m\u001b[1;33m)\u001b[0m\u001b[1;33m\u001b[0m\u001b[1;33m\u001b[0m\u001b[0m\n",
      "\u001b[1;32m~\\anaconda3\\lib\\site-packages\\sympy\\core\\expr.py\u001b[0m in \u001b[0;36mdiff\u001b[1;34m(self, *symbols, **assumptions)\u001b[0m\n\u001b[0;32m   3385\u001b[0m     \u001b[1;32mdef\u001b[0m \u001b[0mdiff\u001b[0m\u001b[1;33m(\u001b[0m\u001b[0mself\u001b[0m\u001b[1;33m,\u001b[0m \u001b[1;33m*\u001b[0m\u001b[0msymbols\u001b[0m\u001b[1;33m,\u001b[0m \u001b[1;33m**\u001b[0m\u001b[0massumptions\u001b[0m\u001b[1;33m)\u001b[0m\u001b[1;33m:\u001b[0m\u001b[1;33m\u001b[0m\u001b[1;33m\u001b[0m\u001b[0m\n\u001b[0;32m   3386\u001b[0m         \u001b[0massumptions\u001b[0m\u001b[1;33m.\u001b[0m\u001b[0msetdefault\u001b[0m\u001b[1;33m(\u001b[0m\u001b[1;34m\"evaluate\"\u001b[0m\u001b[1;33m,\u001b[0m \u001b[1;32mTrue\u001b[0m\u001b[1;33m)\u001b[0m\u001b[1;33m\u001b[0m\u001b[1;33m\u001b[0m\u001b[0m\n\u001b[1;32m-> 3387\u001b[1;33m         \u001b[1;32mreturn\u001b[0m \u001b[0mDerivative\u001b[0m\u001b[1;33m(\u001b[0m\u001b[0mself\u001b[0m\u001b[1;33m,\u001b[0m \u001b[1;33m*\u001b[0m\u001b[0msymbols\u001b[0m\u001b[1;33m,\u001b[0m \u001b[1;33m**\u001b[0m\u001b[0massumptions\u001b[0m\u001b[1;33m)\u001b[0m\u001b[1;33m\u001b[0m\u001b[1;33m\u001b[0m\u001b[0m\n\u001b[0m\u001b[0;32m   3388\u001b[0m \u001b[1;33m\u001b[0m\u001b[0m\n\u001b[0;32m   3389\u001b[0m     \u001b[1;31m###########################################################################\u001b[0m\u001b[1;33m\u001b[0m\u001b[1;33m\u001b[0m\u001b[1;33m\u001b[0m\u001b[0m\n",
      "\u001b[1;32m~\\anaconda3\\lib\\site-packages\\sympy\\core\\function.py\u001b[0m in \u001b[0;36m__new__\u001b[1;34m(cls, expr, *variables, **kwargs)\u001b[0m\n\u001b[0;32m   1326\u001b[0m             \u001b[1;32mif\u001b[0m \u001b[1;32mnot\u001b[0m \u001b[0mv\u001b[0m\u001b[1;33m.\u001b[0m\u001b[0m_diff_wrt\u001b[0m\u001b[1;33m:\u001b[0m\u001b[1;33m\u001b[0m\u001b[1;33m\u001b[0m\u001b[0m\n\u001b[0;32m   1327\u001b[0m                 \u001b[0m__\u001b[0m \u001b[1;33m=\u001b[0m \u001b[1;34m''\u001b[0m  \u001b[1;31m# filler to make error message neater\u001b[0m\u001b[1;33m\u001b[0m\u001b[1;33m\u001b[0m\u001b[0m\n\u001b[1;32m-> 1328\u001b[1;33m                 raise ValueError(filldedent('''\n\u001b[0m\u001b[0;32m   1329\u001b[0m                     Can't calculate derivative wrt %s.%s''' % (v,\n\u001b[0;32m   1330\u001b[0m                     __)))\n",
      "\u001b[1;31mValueError\u001b[0m: \nCan't calculate derivative wrt 0.500000000000000."
     ]
    }
   ],
   "source": [
    "def Umasse(x):\n",
    "    Umasse = sym.simplify(Rational(1, 2)*integrate(E*S*(diff(u(x), x))**2, (x, 0, L))); # we integrate over x between 0 & L\n",
    "    return Umasse\n",
    "    \n",
    "print('Umasse =')\n",
    "Umasse(1/2)"
   ]
  },
  {
   "cell_type": "markdown",
   "metadata": {},
   "source": [
    "L'énergie de déformation $U$ pour $k = ES/L$ a donc pour expression : "
   ]
  },
  {
   "cell_type": "code",
   "execution_count": 57,
   "metadata": {},
   "outputs": [
    {
     "name": "stdout",
     "output_type": "stream",
     "text": [
      "U =\n"
     ]
    },
    {
     "data": {
      "image/png": "[encoded data removed]",
      "text/latex": [
       "$\\displaystyle \\frac{\\pi^{2} E S \\left(\\phi_{1}^{2} + 9 \\phi_{2}^{2}\\right)}{16 L}$"
      ],
      "text/plain": [
       "  2     /     2          2\\\n",
       "pi *E*S*\\phi_1  + 9*phi_2 /\n",
       "---------------------------\n",
       "            16*L           "
      ]
     },
     "execution_count": 57,
     "metadata": {},
     "output_type": "execute_result"
    }
   ],
   "source": [
    "U = Upoutre + Umasse(L);\n",
    "\n",
    "print(\"U =\");\n",
    "U"
   ]
  },
  {
   "cell_type": "markdown",
   "metadata": {},
   "source": [
    "### Construction des matrices masse et raideur"
   ]
  },
  {
   "cell_type": "code",
   "execution_count": 58,
   "metadata": {},
   "outputs": [
    {
     "name": "stdout",
     "output_type": "stream",
     "text": [
      "Matrice masse :\n"
     ]
    },
    {
     "data": {
      "text/latex": [
       "$\\displaystyle \\left[\\begin{matrix}\\frac{3 L S \\rho}{5} & - \\frac{L S \\rho}{10}\\\\- \\frac{L S \\rho}{10} & \\frac{3 L S \\rho}{5}\\end{matrix}\\right]$"
      ],
      "text/plain": [
       "[3*L*S*rho  -L*S*rho ]\n",
       "[---------  ---------]\n",
       "[    5          10   ]\n",
       "[                    ]\n",
       "[-L*S*rho   3*L*S*rho]\n",
       "[---------  ---------]\n",
       "[    10         5    ]"
      ]
     },
     "execution_count": 58,
     "metadata": {},
     "output_type": "execute_result"
    }
   ],
   "source": [
    "# Construction de la matrice de masse M\n",
    "M = sym.Matrix([[diff(T,vphi1,vphi1),diff(T,vphi1,vphi2)], [diff(T,vphi2,vphi1),diff(T,vphi2,vphi2)]])\n",
    "print(\"Matrice masse :\");\n",
    "M"
   ]
  },
  {
   "cell_type": "code",
   "execution_count": 59,
   "metadata": {},
   "outputs": [
    {
     "name": "stdout",
     "output_type": "stream",
     "text": [
      "Matrice raideur :\n"
     ]
    },
    {
     "data": {
      "text/latex": [
       "$\\displaystyle \\left[\\begin{matrix}\\frac{\\pi^{2} E S}{8 L} & 0\\\\0 & \\frac{9 \\pi^{2} E S}{8 L}\\end{matrix}\\right]$"
      ],
      "text/plain": [
       "[  2               ]\n",
       "[pi *E*S           ]\n",
       "[-------      0    ]\n",
       "[  8*L             ]\n",
       "[                  ]\n",
       "[             2    ]\n",
       "[         9*pi *E*S]\n",
       "[   0     ---------]\n",
       "[            8*L   ]"
      ]
     },
     "execution_count": 59,
     "metadata": {},
     "output_type": "execute_result"
    }
   ],
   "source": [
    "# Construction de la matrice de raideur K\n",
    "U=Upoutre\n",
    "K = sym.Matrix([[diff(U,phi1,phi1),diff(U,phi1,phi2)], [diff(U,phi2,phi1),diff(U,phi2,phi2)]])\n",
    "print(\"Matrice raideur :\");\n",
    "#sym.pprint(K)\n",
    "K"
   ]
  },
  {
   "cell_type": "markdown",
   "metadata": {},
   "source": [
    "### Les pulsations propres sont les solutions de $det(K-\\omega^2 M)=0$ :"
   ]
  },
  {
   "cell_type": "code",
   "execution_count": 60,
   "metadata": {},
   "outputs": [
    {
     "name": "stdout",
     "output_type": "stream",
     "text": [
      "On calcule le déterminant de la matrice suivante :\n"
     ]
    },
    {
     "data": {
      "text/latex": [
       "$\\displaystyle \\left[\\begin{matrix}\\frac{\\pi^{2} E S}{8 L} - \\frac{3 L S \\omega^{2} \\rho}{5} & \\frac{L S \\omega^{2} \\rho}{10}\\\\\\frac{L S \\omega^{2} \\rho}{10} & \\frac{9 \\pi^{2} E S}{8 L} - \\frac{3 L S \\omega^{2} \\rho}{5}\\end{matrix}\\right]$"
      ],
      "text/plain": [
       "[  2                  2                      2           ]\n",
       "[pi *E*S   3*L*S*omega *rho         L*S*omega *rho       ]\n",
       "[------- - ----------------         --------------       ]\n",
       "[  8*L            5                       10             ]\n",
       "[                                                        ]\n",
       "[               2                2                  2    ]\n",
       "[      L*S*omega *rho        9*pi *E*S   3*L*S*omega *rho]\n",
       "[      --------------        --------- - ----------------]\n",
       "[            10                 8*L             5        ]"
      ]
     },
     "execution_count": 60,
     "metadata": {},
     "output_type": "execute_result"
    }
   ],
   "source": [
    "A = K - omg**2 * M\n",
    "print(u'On calcule le déterminant de la matrice suivante :')\n",
    "A"
   ]
  },
  {
   "cell_type": "code",
   "execution_count": 61,
   "metadata": {},
   "outputs": [
    {
     "data": {
      "text/latex": [
       "$\\displaystyle \\left[\\begin{matrix}- \\frac{3 \\beta^{2}}{5} + \\frac{\\pi^{2}}{8} & \\frac{\\beta^{2}}{10}\\\\\\frac{\\beta^{2}}{10} & - \\frac{3 \\beta^{2}}{5} + \\frac{9 \\pi^{2}}{8}\\end{matrix}\\right]$"
      ],
      "text/plain": [
       "[        2     2            2      ]\n",
       "[  3*beta    pi         beta       ]\n",
       "[- ------- + ---        -----      ]\n",
       "[     5       8           10       ]\n",
       "[                                  ]\n",
       "[         2               2       2]\n",
       "[     beta          3*beta    9*pi ]\n",
       "[     -----       - ------- + -----]\n",
       "[       10             5        8  ]"
      ]
     },
     "execution_count": 61,
     "metadata": {},
     "output_type": "execute_result"
    }
   ],
   "source": [
    "Amodif = simplify((K - (E*beta**2)/(rho*L**2)*M)*L/(E*S)) #omg**2 = (E*beta**2)/(rho*L**2)=> omega=beta*CL/L\n",
    "Amodif"
   ]
  },
  {
   "cell_type": "code",
   "execution_count": 64,
   "metadata": {},
   "outputs": [
    {
     "data": {
      "image/png": "[encoded data removed]",
      "text/latex": [
       "$\\displaystyle \\left[ \\frac{3 \\pi^{2} \\left(10 - \\sqrt{65}\\right)}{28}, \\  \\frac{3 \\pi^{2} \\left(\\sqrt{65} + 10\\right)}{28}\\right]$"
      ],
      "text/plain": [
       "     2 /       ____\\      2 /  ____     \\ \n",
       " 3*pi *\\10 - \\/ 65 /  3*pi *\\\\/ 65  + 10/ \n",
       "[-------------------, -------------------]\n",
       "          28                   28         "
      ]
     },
     "execution_count": 64,
     "metadata": {},
     "output_type": "execute_result"
    }
   ],
   "source": [
    "detAmodif = Amodif.det()\n",
    "\n",
    "beta2 = sym.solve(detAmodif, beta**2)\n",
    "beta2"
   ]
  },
  {
   "cell_type": "code",
   "execution_count": 65,
   "metadata": {},
   "outputs": [
    {
     "name": "stdout",
     "output_type": "stream",
     "text": [
      "omega_1 = 1.43146089671042*CL/L\n",
      " \n",
      "omega_2 = 4.37036291276109*CL/L\n"
     ]
    }
   ],
   "source": [
    "#Recherche des pulsations propres\n",
    "print('omega_1 =', sqrt(beta2[0]).evalf()*CL/L)\n",
    "print(' ')\n",
    "print('omega_2 =', sqrt(beta2[1]).evalf()*CL/L) "
   ]
  },
  {
   "cell_type": "markdown",
   "metadata": {},
   "source": [
    "### Les modes propres "
   ]
  },
  {
   "cell_type": "code",
   "execution_count": 66,
   "metadata": {},
   "outputs": [
    {
     "name": "stdout",
     "output_type": "stream",
     "text": [
      "X1 = \n",
      "⎡-48.1867732448956⎤\n",
      "⎢                 ⎥\n",
      "⎣       1.0       ⎦\n",
      " \n",
      "X2 = \n",
      "⎡0.186773244895649⎤\n",
      "⎢                 ⎥\n",
      "⎣       1.0       ⎦\n"
     ]
    }
   ],
   "source": [
    "# Recherche des modes propres associés\n",
    "\n",
    "vec_propres = Amodif.eigenvects();\n",
    "\n",
    "print('X1 = ')\n",
    "X1=sym.simplify((vec_propres[0][2][0]).subs(beta,sqrt(beta2[0])).evalf())\n",
    "pprint(X1)\n",
    "\n",
    "print(' ')\n",
    "\n",
    "print('X2 = ')\n",
    "X2=sym.simplify((vec_propres[1][2][0]).subs(beta,sqrt(beta2[1])).evalf())\n",
    "pprint(X2)\n",
    "\n",
    "# Verification modes propres\n",
    "#pprint(Amodif.subs(beta,sqrt(beta2[0])).evalf()*X1)\n",
    "#pprint(Amodif.subs(beta,sqrt(beta2[1])).evalf()*X2)"
   ]
  },
  {
   "cell_type": "markdown",
   "metadata": {},
   "source": [
    "### visualisation"
   ]
  },
  {
   "cell_type": "code",
   "execution_count": 67,
   "metadata": {},
   "outputs": [
    {
     "data": {
      "image/png": "[encoded data removed]",
      "text/plain": [
       "<Figure size 432x288 with 1 Axes>"
      ]
     },
     "metadata": {
      "needs_background": "light"
     },
     "output_type": "display_data"
    }
   ],
   "source": [
    "plt.figure()\n",
    "\n",
    "plt.plot(xx, X1[0]*g0 + X1[1]*g1, label='mode 1')\n",
    "plt.plot(xx, X2[0]*g0 + X2[1]*g1, label='mode 2')\n",
    "\n",
    "plt.title(\"fonctions propres $g_0(x)$ et $g_1(x)$\")\n",
    "plt.xlabel(\"x/L\")\n",
    "\n",
    "plt.legend()\n",
    "plt.grid('True')"
   ]
  },
  {
   "cell_type": "code",
   "execution_count": null,
   "metadata": {},
   "outputs": [],
   "source": []
  }
 ],
 "metadata": {
  "kernelspec": {
   "display_name": "Python 3",
   "language": "python",
   "name": "python3"
  },
  "language_info": {
   "codemirror_mode": {
    "name": "ipython",
    "version": 3
   },
   "file_extension": ".py",
   "mimetype": "text/x-python",
   "name": "python",
   "nbconvert_exporter": "python",
   "pygments_lexer": "ipython3",
   "version": "3.8.3"
  }
 },
 "nbformat": 4,
 "nbformat_minor": 4
}
