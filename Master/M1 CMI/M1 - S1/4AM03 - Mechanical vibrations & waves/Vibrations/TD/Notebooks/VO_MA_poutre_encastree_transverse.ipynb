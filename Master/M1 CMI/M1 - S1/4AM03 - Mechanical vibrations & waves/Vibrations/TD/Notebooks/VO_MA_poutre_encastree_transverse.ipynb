{
 "cells": [
  {
   "cell_type": "markdown",
   "metadata": {},
   "source": [
    "<img src=\"./figures/logo_SU.png\" style=\"height:100px\">"
   ]
  },
  {
   "cell_type": "markdown",
   "metadata": {},
   "source": [
    "# Méthodes approchées pour les vibrations transverses d'une poutre encastrée libre"
   ]
  },
  {
   "cell_type": "markdown",
   "metadata": {},
   "source": [
    "Déterminer les pulsations propres et les modes propres de vibrations transverses de poutres complexes par la méthode de Rayleigh-Ritz.\n",
    "\n",
    "Pour une poutre encastrée-libre, les fonctions de déplacement $g_0(x)$ et $g_1(x)$ ont pour expressions respectives : \n",
    "\n",
    "\\begin{equation*}\n",
    "\t\t\\begin{cases}\n",
    "\t\t\tg_0(x) = \\left(\\dfrac{x}{L}\\right)^2, \\\\\n",
    "\t\t\tg_1(x) = \\left(\\dfrac{x}{L}\\right)^3.\n",
    "\t\t\\end{cases}\n",
    "\t\\end{equation*}"
   ]
  },
  {
   "cell_type": "markdown",
   "metadata": {},
   "source": [
    "<img src=\"./figures/Poutre_EL.png\" style=\"height:150px\">"
   ]
  },
  {
   "cell_type": "markdown",
   "metadata": {},
   "source": [
    "La méthodologie à employer est celle présentée en cours :\n",
    "    \n",
    "* Calculer l'énergie potentielle\n",
    "* Calculer l'énergie cinétique\n",
    "* Construire les matrices masse et raideur\n",
    "* Calculer les pulsations propres\n",
    "* Calculer les modes propres"
   ]
  },
  {
   "cell_type": "code",
   "execution_count": 10,
   "metadata": {},
   "outputs": [],
   "source": [
    "from sympy import *\n",
    "from sympy.interactive.printing import init_printing\n",
    "\n",
    "init_printing(use_unicode=False, wrap_line=False, no_global=True)\n",
    "\n",
    "import sympy as sym\n",
    "import numpy as np\n",
    "\n",
    "from numpy import linalg as LA\n",
    "%matplotlib inline\n",
    "import pylab as plt\n",
    "\n",
    "# ----------------------------------------------------------------------\n",
    "\n",
    "x, E, S, k, S, m, CL, S0, Iz, CT = sym.symbols('x E S k S m CL S0 Iz CT')\n",
    "\n",
    "L = sym.symbols('L',positive=True)\n",
    "\n",
    "phi = sym.Symbol('phi')\n",
    "phi1 = sym.Symbol('phi_1')\n",
    "phi2 = sym.Symbol('phi_2')\n",
    "phi3 = sym.Symbol('phi_3')\n",
    "\n",
    "vphi = sym.Symbol('\\dot{\\phi}')\n",
    "vphi1 = sym.Symbol('\\dot{\\phi_1}')\n",
    "vphi2 = sym.Symbol('\\dot{\\phi_2}')\n",
    "vphi3 = sym.Symbol('\\dot{\\phi_3}')\n",
    "\n",
    "rho = sym.Symbol('rho')\n",
    "omg = sym.Symbol('omega')\n",
    "beta = sym.Symbol('beta')"
   ]
  },
  {
   "cell_type": "markdown",
   "metadata": {},
   "source": [
    "#### On définit le déplacement par l'expression :\n",
    "\\begin{equation*}\n",
    "\tv(x,t) \\simeq \\left(\\dfrac{x}{L}\\right)^2 \\phi_1(t) + \\left(\\dfrac{x}{L}\\right)^3 \\phi_2(t),\n",
    "\\end{equation*}"
   ]
  },
  {
   "cell_type": "code",
   "execution_count": 11,
   "metadata": {},
   "outputs": [
    {
     "data": {
      "text/plain": [
       "Text(0.5, 0, 'x/L')"
      ]
     },
     "execution_count": 11,
     "metadata": {},
     "output_type": "execute_result"
    },
    {
     "data": {
      "image/png": "[encoded data removed]",
      "text/plain": [
       "<Figure size 432x288 with 1 Axes>"
      ]
     },
     "metadata": {
      "needs_background": "light"
     },
     "output_type": "display_data"
    }
   ],
   "source": [
    "# Visualisation des fonctions de forme\n",
    "\n",
    "LL = 1\n",
    "xx = np.linspace(0, LL, 100)\n",
    "\n",
    "g0 = (xx / LL)**2\n",
    "g1 = (xx / LL)**3\n",
    "\n",
    "plt.figure()\n",
    "plt.plot(xx, g0)\n",
    "plt.plot(xx, g1)\n",
    "\n",
    "plt.title(\"fonctions propres $g_0(x)$ et $g_1(x)$\")\n",
    "plt.xlabel(\"x/L\")"
   ]
  },
  {
   "cell_type": "code",
   "execution_count": 12,
   "metadata": {},
   "outputs": [],
   "source": [
    "def v(x):\n",
    "    return (x/L)**2*phi1+(x/L)**3*phi2"
   ]
  },
  {
   "cell_type": "markdown",
   "metadata": {},
   "source": [
    "### Calcul de l'énergie de déformation $U$ et de l'énergie cinétique $T$"
   ]
  },
  {
   "cell_type": "markdown",
   "metadata": {},
   "source": [
    "L'énergie de déformation $U$ est la déformation de la poutre $U_{poutre}$. \n",
    "\n",
    "$$\\quad U_{poutre}= \\displaystyle\\dfrac{1}{2} \\int_0^L EI \\left(\\dfrac{\\partial^2 v}{\\partial x^2}\\right)^2 dx \\quad$$"
   ]
  },
  {
   "cell_type": "code",
   "execution_count": 13,
   "metadata": {},
   "outputs": [
    {
     "name": "stdout",
     "output_type": "stream",
     "text": [
      "Upoutre =\n"
     ]
    },
    {
     "data": {
      "image/png": "[encoded data removed]",
      "text/latex": [
       "$\\displaystyle \\frac{2 E Iz \\left(\\phi_{1}^{2} + 3 \\phi_{1} \\phi_{2} + 3 \\phi_{2}^{2}\\right)}{L^{3}}$"
      ],
      "text/plain": [
       "       /     2                          2\\\n",
       "2*E*Iz*\\phi_1  + 3*phi_1*phi_2 + 3*phi_2 /\n",
       "------------------------------------------\n",
       "                     3                    \n",
       "                    L                     "
      ]
     },
     "execution_count": 13,
     "metadata": {},
     "output_type": "execute_result"
    }
   ],
   "source": [
    "Upoutre = sym.simplify(Rational(1,2)*integrate(E*Iz*(diff(v(x), x, x))**2, (x, 0, L)));\n",
    "\n",
    "print('Upoutre =') \n",
    "Upoutre"
   ]
  },
  {
   "cell_type": "markdown",
   "metadata": {},
   "source": [
    "L'énergie cinétique $T$ du système est égale à l'énergie cinétique de la poutre $T_{poutre}$ :\n",
    "$$\\quad T_{poutre}= \\displaystyle\\dfrac{1}{2} \\int_0^L \\rho S \\left(\\dfrac{\\partial^2 v}{\\partial t^2}\\right)^2 dx \\quad$$"
   ]
  },
  {
   "cell_type": "code",
   "execution_count": 15,
   "metadata": {},
   "outputs": [
    {
     "name": "stdout",
     "output_type": "stream",
     "text": [
      "Tpoutre =\n"
     ]
    },
    {
     "data": {
      "image/png": "[encoded data removed]",
      "text/latex": [
       "$\\displaystyle \\frac{L S \\rho \\left(21 \\dot{\\phi_1}^{2} + 35 \\dot{\\phi_1} \\dot{\\phi_2} + 15 \\dot{\\phi_2}^{2}\\right)}{210}$"
      ],
      "text/plain": [
       "        /               2                                                 2\\\n",
       "L*S*rho*\\21*\\dot{\\phi_1}  + 35*\\dot{\\phi_1}*\\dot{\\phi_2} + 15*\\dot{\\phi_2} /\n",
       "----------------------------------------------------------------------------\n",
       "                                    210                                     "
      ]
     },
     "execution_count": 15,
     "metadata": {},
     "output_type": "execute_result"
    }
   ],
   "source": [
    "def vvt(x):\n",
    "    return ((x/L)**2)*vphi1 + ((x/L)**3)*vphi2;\n",
    "\n",
    "Tpoutre = sym.simplify(Rational(1,2)*integrate(rho*S*(vvt(x))**2, (x, 0, L)));\n",
    "\n",
    "print(\"Tpoutre =\");\n",
    "Tpoutre"
   ]
  },
  {
   "cell_type": "markdown",
   "metadata": {},
   "source": [
    "### Construction des matrices masse et raideur"
   ]
  },
  {
   "cell_type": "code",
   "execution_count": 17,
   "metadata": {},
   "outputs": [
    {
     "name": "stdout",
     "output_type": "stream",
     "text": [
      "Matrice raideur :\n"
     ]
    },
    {
     "data": {
      "text/latex": [
       "$\\displaystyle \\left[\\begin{matrix}\\frac{4 E Iz}{L^{3}} & \\frac{6 E Iz}{L^{3}}\\\\\\frac{6 E Iz}{L^{3}} & \\frac{12 E Iz}{L^{3}}\\end{matrix}\\right]$"
      ],
      "text/plain": [
       "[4*E*Iz  6*E*Iz ]\n",
       "[------  ------ ]\n",
       "[   3       3   ]\n",
       "[  L       L    ]\n",
       "[               ]\n",
       "[6*E*Iz  12*E*Iz]\n",
       "[------  -------]\n",
       "[   3        3  ]\n",
       "[  L        L   ]"
      ]
     },
     "execution_count": 17,
     "metadata": {},
     "output_type": "execute_result"
    }
   ],
   "source": [
    "# Construction de la matrice de raideur K\n",
    "\n",
    "U = Upoutre\n",
    "K = sym.Matrix([[diff(U, phi1, phi1), diff(U, phi1, phi2)], [diff(U, phi2, phi1), diff(U, phi2, phi2)]])\n",
    "\n",
    "print(\"Matrice raideur :\");\n",
    "K"
   ]
  },
  {
   "cell_type": "code",
   "execution_count": 18,
   "metadata": {},
   "outputs": [
    {
     "name": "stdout",
     "output_type": "stream",
     "text": [
      "Matrice masse :\n"
     ]
    },
    {
     "data": {
      "text/latex": [
       "$\\displaystyle \\left[\\begin{matrix}\\frac{L S \\rho}{5} & \\frac{L S \\rho}{6}\\\\\\frac{L S \\rho}{6} & \\frac{L S \\rho}{7}\\end{matrix}\\right]$"
      ],
      "text/plain": [
       "[L*S*rho  L*S*rho]\n",
       "[-------  -------]\n",
       "[   5        6   ]\n",
       "[                ]\n",
       "[L*S*rho  L*S*rho]\n",
       "[-------  -------]\n",
       "[   6        7   ]"
      ]
     },
     "execution_count": 18,
     "metadata": {},
     "output_type": "execute_result"
    }
   ],
   "source": [
    "# Construction de la matrice de masse M\n",
    "\n",
    "T = Tpoutre\n",
    "M = sym.Matrix([[diff(T, vphi1, vphi1), diff(T, vphi1, vphi2)], [diff(T, vphi2, vphi1), diff(T, vphi2, vphi2)]])\n",
    "\n",
    "print(\"Matrice masse :\");\n",
    "M"
   ]
  },
  {
   "cell_type": "markdown",
   "metadata": {},
   "source": [
    "### Les pulsations propres sont les solutions de $det(K-\\omega^2 M)=0$ :"
   ]
  },
  {
   "cell_type": "code",
   "execution_count": 20,
   "metadata": {},
   "outputs": [
    {
     "name": "stdout",
     "output_type": "stream",
     "text": [
      "On calcule le déterminant de la matrice suivante :\n"
     ]
    },
    {
     "data": {
      "text/latex": [
       "$\\displaystyle \\left[\\begin{matrix}\\frac{4 E Iz}{L^{3}} - \\frac{L S \\omega^{2} \\rho}{5} & \\frac{6 E Iz}{L^{3}} - \\frac{L S \\omega^{2} \\rho}{6}\\\\\\frac{6 E Iz}{L^{3}} - \\frac{L S \\omega^{2} \\rho}{6} & \\frac{12 E Iz}{L^{3}} - \\frac{L S \\omega^{2} \\rho}{7}\\end{matrix}\\right]$"
      ],
      "text/plain": [
       "[                  2                        2     ]\n",
       "[4*E*Iz   L*S*omega *rho  6*E*Iz   L*S*omega *rho ]\n",
       "[------ - --------------  ------ - -------------- ]\n",
       "[   3           5            3           6        ]\n",
       "[  L                        L                     ]\n",
       "[                                                 ]\n",
       "[                  2                         2    ]\n",
       "[6*E*Iz   L*S*omega *rho  12*E*Iz   L*S*omega *rho]\n",
       "[------ - --------------  ------- - --------------]\n",
       "[   3           6             3           7       ]\n",
       "[  L                         L                    ]"
      ]
     },
     "execution_count": 20,
     "metadata": {},
     "output_type": "execute_result"
    }
   ],
   "source": [
    "A = K - omg**2 * M\n",
    "\n",
    "print('On calcule le déterminant de la matrice suivante :')\n",
    "A"
   ]
  },
  {
   "cell_type": "markdown",
   "metadata": {},
   "source": [
    "On peut simplifier cette matrice en introduisant le paramètre $\\beta = \\dfrac{L^2}{C_T} \\omega$ avec $C_L=\\sqrt{\\dfrac{E I}{\\rho S}}$ la vitesse des ondes transverses"
   ]
  },
  {
   "cell_type": "code",
   "execution_count": 21,
   "metadata": {},
   "outputs": [
    {
     "data": {
      "text/latex": [
       "$\\displaystyle \\left[\\begin{matrix}4 - \\frac{\\beta^{2}}{5} & 6 - \\frac{\\beta^{2}}{6}\\\\6 - \\frac{\\beta^{2}}{6} & 12 - \\frac{\\beta^{2}}{7}\\end{matrix}\\right]$"
      ],
      "text/plain": [
       "[        2          2 ]\n",
       "[    beta       beta  ]\n",
       "[4 - -----  6 - ----- ]\n",
       "[      5          6   ]\n",
       "[                     ]\n",
       "[        2           2]\n",
       "[    beta        beta ]\n",
       "[6 - -----  12 - -----]\n",
       "[      6           7  ]"
      ]
     },
     "execution_count": 21,
     "metadata": {},
     "output_type": "execute_result"
    }
   ],
   "source": [
    "Amodif = simplify((K - (E*Iz*beta**2)/(rho*S*L**4)*M))*L**3/E/Iz #omg**2 = (E*Iz*beta**2)/(rho*S*L**4)=> omega=beta*CT/L^2\n",
    "Amodif"
   ]
  },
  {
   "cell_type": "code",
   "execution_count": 23,
   "metadata": {},
   "outputs": [
    {
     "data": {
      "image/png": "[encoded data removed]",
      "text/latex": [
       "$\\displaystyle \\left[ 612 - 96 \\sqrt{39}, \\  96 \\sqrt{39} + 612\\right]$"
      ],
      "text/plain": [
       "            ____       ____       \n",
       "[612 - 96*\\/ 39 , 96*\\/ 39  + 612]"
      ]
     },
     "execution_count": 23,
     "metadata": {},
     "output_type": "execute_result"
    }
   ],
   "source": [
    "detAmodif = Amodif.det()\n",
    "\n",
    "beta2=sym.solve(detAmodif, beta**2)\n",
    "beta2"
   ]
  },
  {
   "cell_type": "code",
   "execution_count": 25,
   "metadata": {},
   "outputs": [
    {
     "name": "stdout",
     "output_type": "stream",
     "text": [
      "omega_1 = 3.53273154283676*CT/L**2\n",
      " \n",
      "omega_2 = 34.8068931082084*CT/L**2\n"
     ]
    }
   ],
   "source": [
    "# Recherche des pulsations propres\n",
    "\n",
    "print('omega_1 =', sqrt(beta2[0]).evalf()*CT/L**2)\n",
    "print(' ')\n",
    "print('omega_2 =', sqrt(beta2[1]).evalf()*CT/L**2) "
   ]
  },
  {
   "cell_type": "code",
   "execution_count": 28,
   "metadata": {},
   "outputs": [
    {
     "name": "stdout",
     "output_type": "stream",
     "text": [
      "X1 = \n",
      "⎡-2.60642828548549⎤\n",
      "⎢                 ⎥\n",
      "⎣       1.0       ⎦\n",
      " \n",
      "X2 = \n",
      "⎡-0.822143143085943⎤\n",
      "⎢                  ⎥\n",
      "⎣       1.0        ⎦\n",
      "⎡-4.44089209850063e-16⎤\n",
      "⎢                     ⎥\n",
      "⎣          0          ⎦\n",
      "⎡2.8421709430404e-14⎤\n",
      "⎢                   ⎥\n",
      "⎣         0         ⎦\n"
     ]
    }
   ],
   "source": [
    "# Recherche des modes propres associés\n",
    "\n",
    "vec_propres = Amodif.eigenvects();\n",
    "\n",
    "print('X1 = ')\n",
    "X1 = sym.simplify((vec_propres[0][2][0]).subs(beta,sqrt(beta2[0])).evalf())\n",
    "pprint(X1)\n",
    "\n",
    "print(' ')\n",
    "\n",
    "print('X2 = ')\n",
    "X2 = sym.simplify((vec_propres[1][2][0]).subs(beta,sqrt(beta2[1])).evalf())\n",
    "pprint(X2)\n",
    "\n",
    "# Verification modes propres\n",
    "# pprint(Amodif.subs(beta,sqrt(beta2[0])).evalf()*X1)\n",
    "# pprint(Amodif.subs(beta,sqrt(beta2[1])).evalf()*X2)"
   ]
  },
  {
   "cell_type": "code",
   "execution_count": 29,
   "metadata": {},
   "outputs": [
    {
     "data": {
      "image/png": "[encoded data removed]",
      "text/plain": [
       "<Figure size 432x288 with 1 Axes>"
      ]
     },
     "metadata": {
      "needs_background": "light"
     },
     "output_type": "display_data"
    }
   ],
   "source": [
    "# Figure\n",
    "\n",
    "plt.figure()\n",
    "\n",
    "plt.plot(xx, X1[0]*g0 + X1[1]*g1, label='mode 1')\n",
    "plt.plot(xx, X2[0]*g0 + X2[1]*g1, label='mode 2')\n",
    "\n",
    "plt.title(\"fonctions propres $g_0(x)$ et $g_1(x)$\")\n",
    "plt.xlabel(\"x/L\")\n",
    "\n",
    "plt.legend()\n",
    "plt.grid('True')"
   ]
  },
  {
   "cell_type": "markdown",
   "metadata": {},
   "source": [
    "#### La poutre est maintenant encastrée en $x=0$ et l'autre extrémité est liée à un support de masse $m$ et de raideur $k$. En utilisant les mêmes fonctions de déplacement que pour la poutre encastrée-libre et en notant $\\phi_3(t)$ le déplacement de la masse, déterminer les trois premières pulsations propres et les modes correspondants. On étudiera le cas particulier où $k = EI/L^3$ et $m = \\rho SL/7$."
   ]
  },
  {
   "cell_type": "markdown",
   "metadata": {},
   "source": [
    "<img src=\"./figures/Poutre_F1.png\" style=\"height:150px\">"
   ]
  },
  {
   "cell_type": "markdown",
   "metadata": {},
   "source": [
    "L'énergie cinétique $T$ est la somme de l'énergie cinétique $T_{poutre}$ de la poutre et de celle $T_{masse}$ de la masse $m$ avec \n"
   ]
  },
  {
   "cell_type": "markdown",
   "metadata": {},
   "source": [
    "$$\\quad T_{masse} = \\dfrac{1}{2} m \\left(\\dfrac{\\partial v_{masse}}{\\partial t}\\right)^2 = \\dfrac{1}{2} m \\dot{\\phi_3}^2(t)$$"
   ]
  },
  {
   "cell_type": "code",
   "execution_count": null,
   "metadata": {},
   "outputs": [],
   "source": []
  },
  {
   "cell_type": "markdown",
   "metadata": {},
   "source": [
    "Donc l'énergie cinétique $T$ pour $m = \\rho SL/7$ a pour expression :"
   ]
  },
  {
   "cell_type": "code",
   "execution_count": null,
   "metadata": {},
   "outputs": [],
   "source": [
    "T = Tpoutre + Tmasse(rho*S*L/7)\n",
    "\n",
    "print('T =') \n",
    "T"
   ]
  },
  {
   "cell_type": "code",
   "execution_count": 30,
   "metadata": {},
   "outputs": [
    {
     "name": "stdout",
     "output_type": "stream",
     "text": [
      "Matrice masse :\n"
     ]
    },
    {
     "data": {
      "text/latex": [
       "$\\displaystyle \\left[\\begin{matrix}\\frac{L S \\rho}{5} & \\frac{L S \\rho}{6} & 0\\\\\\frac{L S \\rho}{6} & \\frac{L S \\rho}{7} & 0\\\\0 & 0 & 0\\end{matrix}\\right]$"
      ],
      "text/plain": [
       "[L*S*rho  L*S*rho   ]\n",
       "[-------  -------  0]\n",
       "[   5        6      ]\n",
       "[                   ]\n",
       "[L*S*rho  L*S*rho   ]\n",
       "[-------  -------  0]\n",
       "[   6        7      ]\n",
       "[                   ]\n",
       "[   0        0     0]"
      ]
     },
     "execution_count": 30,
     "metadata": {},
     "output_type": "execute_result"
    }
   ],
   "source": [
    "# Construction de la matrice de masse M\n",
    "\n",
    "M = sym.Matrix([[diff(T, vphi1, vphi1), diff(T, vphi1, vphi2), diff(T, vphi1, vphi3)], [diff(T, vphi2, vphi1), diff(T, vphi2, vphi2), diff(T, vphi1, vphi3)], [diff(T, vphi3, vphi1), diff(T, vphi3, vphi2), diff(T, vphi3, vphi3)]])\n",
    "\n",
    "print(\"Matrice masse :\");\n",
    "M"
   ]
  },
  {
   "cell_type": "markdown",
   "metadata": {},
   "source": [
    "L'énergie de déformation $U$ est la somme de l'énergie de déformation de la poutre $U_{poutre}$ et de celle $U_{ressort}$ du ressort de raideur $k$ avec "
   ]
  },
  {
   "cell_type": "markdown",
   "metadata": {},
   "source": [
    "$\\quad U_{ressort} = ...$."
   ]
  },
  {
   "cell_type": "code",
   "execution_count": null,
   "metadata": {},
   "outputs": [],
   "source": [
    "def Uressort(k):\n",
    "    return sym.simplify();\n",
    "\n",
    "print('Uressort =') \n",
    "Uressort(k)"
   ]
  },
  {
   "cell_type": "markdown",
   "metadata": {},
   "source": [
    "Donc l'énergie de déformation $U$ pour $k = EI/L^3$ a pour expression :"
   ]
  },
  {
   "cell_type": "code",
   "execution_count": null,
   "metadata": {},
   "outputs": [],
   "source": [
    "# Construction de la matrice de raideur K\n",
    "U=Upoutre+Uressort(E*Iz/L**3)\n",
    "K = sym.Matrix([[diff(U,phi1,phi1),diff(U,phi1,phi2),diff(U,phi1,phi3)],[diff(U,phi2,phi1),diff(U,phi2,phi2),diff(U,phi1,phi3)],[diff(U,phi3,phi1),diff(U,phi3,phi2),diff(U,phi3,phi3)]])\n",
    "print(\"Matrice raideur :\");\n",
    "K"
   ]
  },
  {
   "cell_type": "markdown",
   "metadata": {},
   "source": [
    "### Les pulsations propres sont les solutions de $det(K-\\omega^2 M)=0$ :\n"
   ]
  },
  {
   "cell_type": "code",
   "execution_count": null,
   "metadata": {},
   "outputs": [],
   "source": [
    "A = K - omg**2 * M\n",
    "print('On calcule le déterminant de la matrice suivante :')\n",
    "A"
   ]
  },
  {
   "cell_type": "code",
   "execution_count": null,
   "metadata": {},
   "outputs": [],
   "source": [
    "Amodif = simplify((K - (E*Iz*beta**2)/(rho*S*L**4)*M))*L**3/E/Iz #omg**2 = (E*Iz*beta**2)/(rho*S*L**4)=> omega=beta*CT/L^2\n",
    "Amodif"
   ]
  },
  {
   "cell_type": "code",
   "execution_count": null,
   "metadata": {},
   "outputs": [],
   "source": [
    "detAmodif = Amodif.det().evalf()\n",
    "detAmodif\n",
    "beta2=sym.solve(detAmodif,beta**2)\n",
    "beta2"
   ]
  },
  {
   "cell_type": "code",
   "execution_count": null,
   "metadata": {},
   "outputs": [],
   "source": [
    "#Recherche des pulsations propres\n",
    "print('omega_1 =',sqrt(abs(beta2[0]))*CT/L**2)\n",
    "print(' ')\n",
    "print('omega_2 =',sqrt(abs(beta2[1]))*CT/L**2) \n",
    "print(' ')\n",
    "print('omega_3 =',sqrt(abs(beta2[2]))*CT/L**2) "
   ]
  }
 ],
 "metadata": {
  "kernelspec": {
   "display_name": "Python 3",
   "language": "python",
   "name": "python3"
  },
  "language_info": {
   "codemirror_mode": {
    "name": "ipython",
    "version": 3
   },
   "file_extension": ".py",
   "mimetype": "text/x-python",
   "name": "python",
   "nbconvert_exporter": "python",
   "pygments_lexer": "ipython3",
   "version": "3.8.3"
  }
 },
 "nbformat": 4,
 "nbformat_minor": 4
}
